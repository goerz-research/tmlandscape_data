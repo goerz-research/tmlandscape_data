{
 "cells": [
  {
   "cell_type": "markdown",
   "metadata": {
    "heading_collapsed": false,
    "level": 1
   },
   "source": [
    "# Liouville Space Propagation of Optimized Universal Set of Gates"
   ]
  },
  {
   "cell_type": "code",
   "execution_count": 1,
   "metadata": {
    "collapsed": false,
    "level": 7
   },
   "outputs": [],
   "source": [
    "import QDYN\n",
    "from select_for_prop import prepare_prop\n",
    "from os.path import join\n",
    "from notebook_utils import get_Liouville_error\n",
    "import pandas as pd\n",
    "from collections import OrderedDict\n",
    "from generate_zeta_universal import write_config\n",
    "from run_oct import propagate\n",
    "from QDYN.pulse import Pulse, pulse_tgrid\n",
    "from mgplottools.io import writetotxt\n",
    "from QDYN.linalg import vectorize"
   ]
  },
  {
   "cell_type": "code",
   "execution_count": 2,
   "metadata": {
    "collapsed": true,
    "level": 7
   },
   "outputs": [],
   "source": [
    "cluster_args = '--cluster-ini=cluster.ini --parallel=38 --jobs=1'"
   ]
  },
  {
   "cell_type": "markdown",
   "metadata": {
    "heading_collapsed": false,
    "level": 2
   },
   "source": [
    "## Propagate optimized pulses in Liouville Space"
   ]
  },
  {
   "cell_type": "code",
   "execution_count": 3,
   "metadata": {
    "collapsed": true,
    "level": 7
   },
   "outputs": [],
   "source": [
    "universal_root = './runs_zeta_detailed/w2_5900MHz_wc_6200MHz'\n",
    "prop_root = './propagate_universal'\n",
    "universal_rf = {\n",
    "  'H_L': (universal_root+'/50ns_w_center_H_left',     prop_root+'/rho/H_L'),\n",
    "  'H_R': (universal_root+'/50ns_w_center_H_right',    prop_root+'/rho/H_R'),\n",
    "  'S_L': (universal_root+'/50ns_w_center_Ph_left',    prop_root+'/rho/S_L'),\n",
    "  'S_R': (universal_root+'/50ns_w_center_Ph_right',   prop_root+'/rho/S_R'),\n",
    "  'PE':  (universal_root+'/PE_LI_BGATE_50ns_cont_SM', prop_root+'/rho/BGATE')\n",
    "}"
   ]
  },
  {
   "cell_type": "code",
   "execution_count": 4,
   "metadata": {
    "collapsed": false,
    "level": 7
   },
   "outputs": [],
   "source": [
    "for name in universal_rf:\n",
    "    oct_folder = universal_rf[name][0]\n",
    "    prop_folder = universal_rf[name][1]\n",
    "    prepare_prop(oct_folder, prop_folder, dry_run=False)"
   ]
  },
  {
   "cell_type": "code",
   "execution_count": 5,
   "metadata": {
    "collapsed": false,
    "level": 7
   },
   "outputs": [],
   "source": [
    "! ./run_prop.py {cluster_args} --rwa --threads --rho --stage-folder='rho' {prop_root}"
   ]
  },
  {
   "cell_type": "markdown",
   "metadata": {
    "level": 7
   },
   "source": [
    "See tabular overview below"
   ]
  },
  {
   "cell_type": "markdown",
   "metadata": {
    "heading_collapsed": false,
    "level": 2
   },
   "source": [
    "## Propagate optimized pulses in Liouville Space, weak dissipation"
   ]
  },
  {
   "cell_type": "code",
   "execution_count": 6,
   "metadata": {
    "collapsed": true,
    "level": 7
   },
   "outputs": [],
   "source": [
    "universal_root = './runs_zeta_detailed/w2_5900MHz_wc_6200MHz'\n",
    "prop_root = './propagate_universal'\n",
    "universal_rf = {\n",
    "  'H_L': (universal_root+'/50ns_w_center_H_left',     prop_root+'/rho_weak/H_L'),\n",
    "  'H_R': (universal_root+'/50ns_w_center_H_right',    prop_root+'/rho_weak/H_R'),\n",
    "  'S_L': (universal_root+'/50ns_w_center_Ph_left',    prop_root+'/rho_weak/S_L'),\n",
    "  'S_R': (universal_root+'/50ns_w_center_Ph_right',   prop_root+'/rho_weak/S_R'),\n",
    "  'PE':  (universal_root+'/PE_LI_BGATE_50ns_cont_SM', prop_root+'/rho_weak/BGATE')\n",
    "}"
   ]
  },
  {
   "cell_type": "code",
   "execution_count": 7,
   "metadata": {
    "collapsed": false,
    "level": 7
   },
   "outputs": [],
   "source": [
    "for name in universal_rf:\n",
    "    oct_folder = universal_rf[name][0]\n",
    "    prop_folder = universal_rf[name][1]\n",
    "    prepare_prop(oct_folder, prop_folder, dry_run=False)"
   ]
  },
  {
   "cell_type": "code",
   "execution_count": 8,
   "metadata": {
    "collapsed": false,
    "level": 7
   },
   "outputs": [],
   "source": [
    "for name in universal_rf:\n",
    "    prop_folder = universal_rf[name][1]\n",
    "    ! perl -p -i -e 's/kappa\\s*=\\s*0.05_MHz/kappa   = 0.005_MHz/' {prop_folder}/config\n",
    "    ! perl -p -i -e 's/gamma_1\\s*=\\s*0.012_MHz/gamma_1 = 0.0012_MHz/' {prop_folder}/config\n",
    "    ! perl -p -i -e 's/gamma_2\\s*=\\s*0.012_MHz/gamma_2 = 0.0012_MHz/' {prop_folder}/config"
   ]
  },
  {
   "cell_type": "code",
   "execution_count": 9,
   "metadata": {
    "collapsed": false,
    "level": 7
   },
   "outputs": [],
   "source": [
    "! ./run_prop.py {cluster_args} --rwa --rho --threads --stage-folder='rho_weak' {prop_root}"
   ]
  },
  {
   "cell_type": "code",
   "execution_count": 10,
   "metadata": {
    "collapsed": false,
    "level": 7
   },
   "outputs": [
    {
     "name": "stdout",
     "output_type": "stream",
     "text": [
      "      normal     weak\n",
      "H_L 4.46e-03 1.01e-03\n",
      "S_R 4.07e-03 7.39e-04\n",
      "H_R 5.03e-03 1.33e-03\n",
      "S_L 4.79e-03 1.29e-03\n",
      "PE  4.70e-03 1.06e-03\n"
     ]
    }
   ],
   "source": [
    "names = []; errs = []; errs_weak = []\n",
    "for name in universal_rf:\n",
    "    names.append(name)\n",
    "    rf_weak = universal_rf[name][1]\n",
    "    rf = rf_weak.replace('_weak', '')\n",
    "    errs.append(get_Liouville_error(join(rf, 'prop.log')))\n",
    "    errs_weak.append(get_Liouville_error(join(rf_weak, 'prop.log')))\n",
    "err_table = pd.DataFrame(OrderedDict(\n",
    "    [('normal', errs), ('weak', errs_weak)]), index=names)\n",
    "print(err_table.to_string(float_format=lambda f:'%.2e'%f));"
   ]
  },
  {
   "cell_type": "markdown",
   "metadata": {
    "heading_collapsed": false,
    "level": 2
   },
   "source": [
    "## Propagate field-free Hamiltonian in Hilbert space, w/o dissipation"
   ]
  },
  {
   "cell_type": "markdown",
   "metadata": {
    "level": 7
   },
   "source": [
    "The gate errors compare to the theoretical limit *at the parameter point*. We can determine this limit by propagating the field-free Hamiltonian in Hilbert space without dissipation. Then, we propagate the field-free Hamiltonian in Liouville space, with dissipation. The error with which the Liouville space propagation implements the unitary gate obtained in Hilbert space is the theoretical limit."
   ]
  },
  {
   "cell_type": "code",
   "execution_count": 11,
   "metadata": {
    "collapsed": true,
    "level": 7
   },
   "outputs": [],
   "source": [
    "wc = 6.2 # GHZ\n",
    "w2 = 5.9 # GHz\n",
    "w1 = 6.00 # GHz"
   ]
  },
  {
   "cell_type": "code",
   "execution_count": 12,
   "metadata": {
    "collapsed": true,
    "level": 7
   },
   "outputs": [],
   "source": [
    "field_free_gates = {}"
   ]
  },
  {
   "cell_type": "code",
   "execution_count": 13,
   "metadata": {
    "collapsed": false,
    "level": 7
   },
   "outputs": [],
   "source": [
    "for T in [10, 20, 50, 100, 200]:\n",
    "    nt = T * 20\n",
    "    rf = './propagate_universal/hilbert_nodiss_ff_%d' % T; QDYN.shutil.mkdir(rf)\n",
    "    write_config(join(rf, 'config'), T, nt, wc, w2, wd=6.0, gate=\"CPHASE\", J_T='SM', prop_guess='T')\n",
    "    pulse = Pulse(tgrid=pulse_tgrid(T, nt), time_unit='ns',ampl_unit='MHz')  # zero amplitude\n",
    "    pulse.write(join(rf, 'pulse.guess'))\n",
    "    pulse.write(join(rf, 'pulse.dat'))\n",
    "    U = propagate(rf, 'pulse.guess', rwa=True, keep=True, force=True, dissipation=False)\n",
    "    writetotxt(join(rf, 'target_gate.dat'), vectorize(U.real), vectorize(U.imag))\n",
    "    field_free_gates[T] = U"
   ]
  },
  {
   "cell_type": "markdown",
   "metadata": {
    "heading_collapsed": false,
    "level": 2
   },
   "source": [
    "## Propagate field-free Hamiltonian in Liouville space"
   ]
  },
  {
   "cell_type": "markdown",
   "metadata": {
    "level": 7
   },
   "source": [
    "The following determins the limit at the specific parameter point"
   ]
  },
  {
   "cell_type": "code",
   "execution_count": 14,
   "metadata": {
    "collapsed": false,
    "level": 7
   },
   "outputs": [],
   "source": [
    "for T in [10, 20, 50, 100, 200]:\n",
    "    nt = T * 20\n",
    "    rf_hilbert = './propagate_universal/hilbert_nodiss_ff_%d' % T\n",
    "    rf = './propagate_universal/liouville_ff/%03d' % T; QDYN.shutil.mkdir(rf)\n",
    "    O = field_free_gates[T]\n",
    "    writetotxt(join(rf, 'target_gate.dat'), vectorize(O.real), vectorize(O.imag))\n",
    "    prepare_prop(rf_hilbert, rf, dry_run=False)\n",
    "    ! perl -p -i -e 's/gate = CPHASE/gate = target_gate.dat/' {rf}/config"
   ]
  },
  {
   "cell_type": "code",
   "execution_count": 15,
   "metadata": {
    "collapsed": false,
    "level": 7
   },
   "outputs": [],
   "source": [
    "! ./run_prop.py {cluster_args} --rwa --rho --threads --stage-folder=liouville_ff propagate_universal"
   ]
  },
  {
   "cell_type": "code",
   "execution_count": 16,
   "metadata": {
    "collapsed": false,
    "level": 7
   },
   "outputs": [],
   "source": [
    "err_0_B = {}\n",
    "for T in [10, 20, 50, 100, 200]:\n",
    "    rf = './propagate_universal/liouville_ff/%03d' % T\n",
    "    err_0_B[T] = get_Liouville_error(join(rf, 'prop.log'))"
   ]
  },
  {
   "cell_type": "code",
   "execution_count": 17,
   "metadata": {
    "collapsed": false,
    "level": 7
   },
   "outputs": [
    {
     "name": "stdout",
     "output_type": "stream",
     "text": [
      " 10 ns: 7.23e-04\n",
      " 20 ns: 1.45e-03\n",
      " 50 ns: 3.61e-03\n",
      "100 ns: 7.20e-03\n",
      "200 ns: 1.43e-02\n"
     ]
    }
   ],
   "source": [
    "for T in [10, 20, 50, 100, 200]:\n",
    "    print \"%3d ns: %.2e\" % (T, err_0_B[T])"
   ]
  },
  {
   "cell_type": "code",
   "execution_count": 18,
   "metadata": {
    "collapsed": false,
    "level": 7
   },
   "outputs": [],
   "source": [
    "for T in [10, 20, 50, 100, 200]:\n",
    "    nt = T * 20\n",
    "    rf_hilbert = './propagate_universal/hilbert_nodiss_ff_%d' % T\n",
    "    rf = './propagate_universal/liouville_weak_ff/%03d' % T; QDYN.shutil.mkdir(rf)\n",
    "    O = field_free_gates[T]\n",
    "    writetotxt(join(rf, 'target_gate.dat'), vectorize(O.real), vectorize(O.imag))\n",
    "    prepare_prop(rf_hilbert, rf, dry_run=False)\n",
    "    ! perl -p -i -e 's/gate = CPHASE/gate = target_gate.dat/' {rf}/config\n",
    "    ! perl -p -i -e 's/kappa\\s*=\\s*0.05_MHz/kappa   = 0.005_MHz/' {rf}/config\n",
    "    ! perl -p -i -e 's/gamma_1\\s*=\\s*0.012_MHz/gamma_1 = 0.0012_MHz/' {rf}/config\n",
    "    ! perl -p -i -e 's/gamma_2\\s*=\\s*0.012_MHz/gamma_2 = 0.0012_MHz/' {rf}/config"
   ]
  },
  {
   "cell_type": "code",
   "execution_count": 19,
   "metadata": {
    "collapsed": false,
    "level": 7
   },
   "outputs": [],
   "source": [
    "! ./run_prop.py {cluster_args} --rwa --rho --threads --stage-folder=liouville_weak_ff propagate_universal"
   ]
  },
  {
   "cell_type": "code",
   "execution_count": 20,
   "metadata": {
    "collapsed": false,
    "level": 7
   },
   "outputs": [],
   "source": [
    "err_0_B_weak = {}\n",
    "for T in [10, 20, 50, 100, 200]:\n",
    "    rf = './propagate_universal/liouville_weak_ff/%03d' % T\n",
    "    err_0_B_weak[T] = get_Liouville_error(join(rf, 'prop.log'))"
   ]
  },
  {
   "cell_type": "code",
   "execution_count": 21,
   "metadata": {
    "collapsed": false,
    "level": 7
   },
   "outputs": [
    {
     "name": "stdout",
     "output_type": "stream",
     "text": [
      " 10 ns: 7.24e-05\n",
      " 20 ns: 1.45e-04\n",
      " 50 ns: 3.62e-04\n",
      "100 ns: 7.23e-04\n",
      "200 ns: 1.45e-03\n"
     ]
    }
   ],
   "source": [
    "for T in [10, 20, 50, 100, 200]:\n",
    "    print \"%3d ns: %.2e\" % (T, err_0_B_weak[T])"
   ]
  }
 ],
 "metadata": {
  "kernelspec": {
   "display_name": "Python 2",
   "language": "python",
   "name": "python2"
  },
  "language_info": {
   "codemirror_mode": {
    "name": "ipython",
    "version": 2
   },
   "file_extension": ".py",
   "mimetype": "text/x-python",
   "name": "python",
   "nbconvert_exporter": "python",
   "pygments_lexer": "ipython2",
   "version": "2.7.11"
  },
  "toc": {
   "toc_cell": false,
   "toc_number_sections": true,
   "toc_section_display": "none",
   "toc_threshold": 6,
   "toc_window_display": true
  }
 },
 "nbformat": 4,
 "nbformat_minor": 0
}
