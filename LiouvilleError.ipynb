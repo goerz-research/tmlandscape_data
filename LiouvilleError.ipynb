{
 "cells": [
  {
   "cell_type": "code",
   "execution_count": 1,
   "metadata": {
    "collapsed": true
   },
   "outputs": [],
   "source": [
    "import sympy\n",
    "from sympy.physics.quantum import TensorProduct as tensor\n",
    "from sympy import pi, I\n",
    "from IPython.display import display, Math, Latex\n",
    "import itertools\n",
    "import numpy as np"
   ]
  },
  {
   "cell_type": "code",
   "execution_count": 2,
   "metadata": {
    "collapsed": true
   },
   "outputs": [],
   "source": [
    "sympy.init_printing()"
   ]
  },
  {
   "cell_type": "code",
   "execution_count": 3,
   "metadata": {
    "collapsed": false
   },
   "outputs": [],
   "source": [
    "ket = {}\n",
    "for i in range(2):\n",
    "    name = str(i)\n",
    "    ket[name] = sympy.zeros(2,1)\n",
    "    ket[name][i] = 1\n",
    "for i in range(2):\n",
    "    for j in range(2):\n",
    "        name = str(i) + str(j)\n",
    "        ket[name] = tensor(ket[str(i)], ket[str(j)])"
   ]
  },
  {
   "cell_type": "code",
   "execution_count": 4,
   "metadata": {
    "collapsed": true
   },
   "outputs": [],
   "source": [
    "def ketbra(i, j):\n",
    "    return ket[i] * ket[j].H"
   ]
  },
  {
   "cell_type": "code",
   "execution_count": 5,
   "metadata": {
    "collapsed": true
   },
   "outputs": [],
   "source": [
    "rho = {}\n",
    "for i in ['00', '01', '10', '11']:\n",
    "    rho[i] = {}\n",
    "    for j in ['00', '01', '10', '11']:\n",
    "        rho[i][j] = ketbra(i, j)"
   ]
  },
  {
   "cell_type": "code",
   "execution_count": 6,
   "metadata": {
    "collapsed": true
   },
   "outputs": [],
   "source": [
    "def evaluate_lindblad(rho):\n",
    "    As = [ketbra('00', '10') + ketbra('01', '11'), ketbra('00', '01') + ketbra('10', '11')]\n",
    "    result = sympy.zeros(4)\n",
    "    for i, A in enumerate(As):\n",
    "        gamma = sympy.symbols('gamma_%d' % (i+1), real=True)\n",
    "        result += gamma * (A*rho*A.H - (A.H*A*rho + rho*A.H*A)/2)\n",
    "    return result"
   ]
  },
  {
   "cell_type": "code",
   "execution_count": 7,
   "metadata": {
    "collapsed": false
   },
   "outputs": [],
   "source": [
    "def construct_superop():\n",
    "    result = []\n",
    "    L = sympy.zeros(16)\n",
    "    for col, (i, j) in enumerate(itertools.product(['00', '01', '10', '11'], ['00', '01', '10', '11'])):\n",
    "        L_rho = evaluate_lindblad(rho[i][j])\n",
    "        L_rho_vec = L_rho.conjugate().reshape(16,1)\n",
    "        for row in range(16):\n",
    "            L[row, col] = L_rho_vec[row]\n",
    "    return L\n",
    "        "
   ]
  },
  {
   "cell_type": "code",
   "execution_count": 8,
   "metadata": {
    "collapsed": false
   },
   "outputs": [],
   "source": [
    "L = construct_superop()"
   ]
  },
  {
   "cell_type": "code",
   "execution_count": 9,
   "metadata": {
    "collapsed": false
   },
   "outputs": [
    {
     "data": {
      "image/png": "[encoded data removed]",
      "text/latex": [
       "$$\\left[\\begin{array}{cccccccccccccccc}0 & 0 & 0 & 0 & 0 & \\gamma_{2} & 0 & 0 & 0 & 0 & \\gamma_{1} & 0 & 0 & 0 & 0 & 0\\\\0 & - \\frac{\\gamma_{2}}{2} & 0 & 0 & 0 & 0 & 0 & 0 & 0 & 0 & 0 & \\gamma_{1} & 0 & 0 & 0 & 0\\\\0 & 0 & - \\frac{\\gamma_{1}}{2} & 0 & 0 & 0 & 0 & \\gamma_{2} & 0 & 0 & 0 & 0 & 0 & 0 & 0 & 0\\\\0 & 0 & 0 & - \\frac{\\gamma_{1}}{2} - \\frac{\\gamma_{2}}{2} & 0 & 0 & 0 & 0 & 0 & 0 & 0 & 0 & 0 & 0 & 0 & 0\\\\0 & 0 & 0 & 0 & - \\frac{\\gamma_{2}}{2} & 0 & 0 & 0 & 0 & 0 & 0 & 0 & 0 & 0 & \\gamma_{1} & 0\\\\0 & 0 & 0 & 0 & 0 & - \\gamma_{2} & 0 & 0 & 0 & 0 & 0 & 0 & 0 & 0 & 0 & \\gamma_{1}\\\\0 & 0 & 0 & 0 & 0 & 0 & - \\frac{\\gamma_{1}}{2} - \\frac{\\gamma_{2}}{2} & 0 & 0 & 0 & 0 & 0 & 0 & 0 & 0 & 0\\\\0 & 0 & 0 & 0 & 0 & 0 & 0 & - \\frac{\\gamma_{1}}{2} - \\gamma_{2} & 0 & 0 & 0 & 0 & 0 & 0 & 0 & 0\\\\0 & 0 & 0 & 0 & 0 & 0 & 0 & 0 & - \\frac{\\gamma_{1}}{2} & 0 & 0 & 0 & 0 & \\gamma_{2} & 0 & 0\\\\0 & 0 & 0 & 0 & 0 & 0 & 0 & 0 & 0 & - \\frac{\\gamma_{1}}{2} - \\frac{\\gamma_{2}}{2} & 0 & 0 & 0 & 0 & 0 & 0\\\\0 & 0 & 0 & 0 & 0 & 0 & 0 & 0 & 0 & 0 & - \\gamma_{1} & 0 & 0 & 0 & 0 & \\gamma_{2}\\\\0 & 0 & 0 & 0 & 0 & 0 & 0 & 0 & 0 & 0 & 0 & - \\gamma_{1} - \\frac{\\gamma_{2}}{2} & 0 & 0 & 0 & 0\\\\0 & 0 & 0 & 0 & 0 & 0 & 0 & 0 & 0 & 0 & 0 & 0 & - \\frac{\\gamma_{1}}{2} - \\frac{\\gamma_{2}}{2} & 0 & 0 & 0\\\\0 & 0 & 0 & 0 & 0 & 0 & 0 & 0 & 0 & 0 & 0 & 0 & 0 & - \\frac{\\gamma_{1}}{2} - \\gamma_{2} & 0 & 0\\\\0 & 0 & 0 & 0 & 0 & 0 & 0 & 0 & 0 & 0 & 0 & 0 & 0 & 0 & - \\gamma_{1} - \\frac{\\gamma_{2}}{2} & 0\\\\0 & 0 & 0 & 0 & 0 & 0 & 0 & 0 & 0 & 0 & 0 & 0 & 0 & 0 & 0 & - \\gamma_{1} - \\gamma_{2}\\end{array}\\right]$$"
      ],
      "text/plain": [
       "⎡0   0     0        0       0    γ₂       0          0       0        0      γ\n",
       "⎢                                                                             \n",
       "⎢   -γ₂                                                                       \n",
       "⎢0  ────   0        0       0     0       0          0       0        0       \n",
       "⎢    2                                                                        \n",
       "⎢                                                                             \n",
       "⎢         -γ₁                                                                 \n",
       "⎢0   0    ────      0       0     0       0         γ₂       0        0       \n",
       "⎢          2                                                                  \n",
       "⎢                                                                             \n",
       "⎢                 γ₁   γ₂                                                     \n",
       "⎢0   0     0    - ── - ──   0     0       0          0       0        0       \n",
       "⎢                 2    2                                                      \n",
       "⎢                                                                             \n",
       "⎢                          -γ₂                                                \n",
       "⎢0   0     0        0      ────   0       0          0       0        0       \n",
       "⎢                           2                                                 \n",
       "⎢                                                                             \n",
       "⎢0   0     0        0       0    -γ₂      0          0       0        0       \n",
       "⎢                                                                             \n",
       "⎢                                       γ₁   γ₂                               \n",
       "⎢0   0     0        0       0     0   - ── - ──      0       0        0       \n",
       "⎢                                       2    2                                \n",
       "⎢                                                                             \n",
       "⎢                                                  γ₁                         \n",
       "⎢0   0     0        0       0     0       0      - ── - γ₂   0        0       \n",
       "⎢                                                  2                          \n",
       "⎢                                                                             \n",
       "⎢                                                           -γ₁               \n",
       "⎢0   0     0        0       0     0       0          0      ────      0       \n",
       "⎢                                                            2                \n",
       "⎢                                                                             \n",
       "⎢                                                                   γ₁   γ₂   \n",
       "⎢0   0     0        0       0     0       0          0       0    - ── - ──   \n",
       "⎢                                                                   2    2    \n",
       "⎢                                                                             \n",
       "⎢0   0     0        0       0     0       0          0       0        0      -\n",
       "⎢                                                                             \n",
       "⎢                                                                             \n",
       "⎢0   0     0        0       0     0       0          0       0        0       \n",
       "⎢                                                                             \n",
       "⎢                                                                             \n",
       "⎢                                                                             \n",
       "⎢0   0     0        0       0     0       0          0       0        0       \n",
       "⎢                                                                             \n",
       "⎢                                                                             \n",
       "⎢                                                                             \n",
       "⎢0   0     0        0       0     0       0          0       0        0       \n",
       "⎢                                                                             \n",
       "⎢                                                                             \n",
       "⎢                                                                             \n",
       "⎢0   0     0        0       0     0       0          0       0        0       \n",
       "⎢                                                                             \n",
       "⎢                                                                             \n",
       "⎣0   0     0        0       0     0       0          0       0        0       \n",
       "\n",
       "₁      0          0          0         0         0    ⎤\n",
       "                                                      ⎥\n",
       "                                                      ⎥\n",
       "0      γ₁         0          0         0         0    ⎥\n",
       "                                                      ⎥\n",
       "                                                      ⎥\n",
       "                                                      ⎥\n",
       "0      0          0          0         0         0    ⎥\n",
       "                                                      ⎥\n",
       "                                                      ⎥\n",
       "                                                      ⎥\n",
       "0      0          0          0         0         0    ⎥\n",
       "                                                      ⎥\n",
       "                                                      ⎥\n",
       "                                                      ⎥\n",
       "0      0          0          0         γ₁        0    ⎥\n",
       "                                                      ⎥\n",
       "                                                      ⎥\n",
       "0      0          0          0         0         γ₁   ⎥\n",
       "                                                      ⎥\n",
       "                                                      ⎥\n",
       "0      0          0          0         0         0    ⎥\n",
       "                                                      ⎥\n",
       "                                                      ⎥\n",
       "                                                      ⎥\n",
       "0      0          0          0         0         0    ⎥\n",
       "                                                      ⎥\n",
       "                                                      ⎥\n",
       "                                                      ⎥\n",
       "0      0          0         γ₂         0         0    ⎥\n",
       "                                                      ⎥\n",
       "                                                      ⎥\n",
       "                                                      ⎥\n",
       "0      0          0          0         0         0    ⎥\n",
       "                                                      ⎥\n",
       "                                                      ⎥\n",
       "γ₁     0          0          0         0         γ₂   ⎥\n",
       "                                                      ⎥\n",
       "          γ₂                                          ⎥\n",
       "0   -γ₁ - ──      0          0         0         0    ⎥\n",
       "          2                                           ⎥\n",
       "                                                      ⎥\n",
       "                γ₁   γ₂                               ⎥\n",
       "0      0      - ── - ──      0         0         0    ⎥\n",
       "                2    2                                ⎥\n",
       "                                                      ⎥\n",
       "                           γ₁                         ⎥\n",
       "0      0          0      - ── - γ₂     0         0    ⎥\n",
       "                           2                          ⎥\n",
       "                                                      ⎥\n",
       "                                          γ₂          ⎥\n",
       "0      0          0          0      -γ₁ - ──     0    ⎥\n",
       "                                          2           ⎥\n",
       "                                                      ⎥\n",
       "0      0          0          0         0      -γ₁ - γ₂⎦"
      ]
     },
     "execution_count": 9,
     "metadata": {},
     "output_type": "execute_result"
    }
   ],
   "source": [
    "L"
   ]
  },
  {
   "cell_type": "code",
   "execution_count": 10,
   "metadata": {
    "collapsed": false
   },
   "outputs": [
    {
     "data": {
      "image/png": "[encoded data removed]",
      "text/latex": [
       "$$\\left[\\begin{array}{cccccccccccccccc}0 & 0 & 0 & 0 & 0 & \\gamma & 0 & 0 & 0 & 0 & \\gamma & 0 & 0 & 0 & 0 & 0\\\\0 & - \\frac{\\gamma}{2} & 0 & 0 & 0 & 0 & 0 & 0 & 0 & 0 & 0 & \\gamma & 0 & 0 & 0 & 0\\\\0 & 0 & - \\frac{\\gamma}{2} & 0 & 0 & 0 & 0 & \\gamma & 0 & 0 & 0 & 0 & 0 & 0 & 0 & 0\\\\0 & 0 & 0 & - \\gamma & 0 & 0 & 0 & 0 & 0 & 0 & 0 & 0 & 0 & 0 & 0 & 0\\\\0 & 0 & 0 & 0 & - \\frac{\\gamma}{2} & 0 & 0 & 0 & 0 & 0 & 0 & 0 & 0 & 0 & \\gamma & 0\\\\0 & 0 & 0 & 0 & 0 & - \\gamma & 0 & 0 & 0 & 0 & 0 & 0 & 0 & 0 & 0 & \\gamma\\\\0 & 0 & 0 & 0 & 0 & 0 & - \\gamma & 0 & 0 & 0 & 0 & 0 & 0 & 0 & 0 & 0\\\\0 & 0 & 0 & 0 & 0 & 0 & 0 & - \\frac{3 \\gamma}{2} & 0 & 0 & 0 & 0 & 0 & 0 & 0 & 0\\\\0 & 0 & 0 & 0 & 0 & 0 & 0 & 0 & - \\frac{\\gamma}{2} & 0 & 0 & 0 & 0 & \\gamma & 0 & 0\\\\0 & 0 & 0 & 0 & 0 & 0 & 0 & 0 & 0 & - \\gamma & 0 & 0 & 0 & 0 & 0 & 0\\\\0 & 0 & 0 & 0 & 0 & 0 & 0 & 0 & 0 & 0 & - \\gamma & 0 & 0 & 0 & 0 & \\gamma\\\\0 & 0 & 0 & 0 & 0 & 0 & 0 & 0 & 0 & 0 & 0 & - \\frac{3 \\gamma}{2} & 0 & 0 & 0 & 0\\\\0 & 0 & 0 & 0 & 0 & 0 & 0 & 0 & 0 & 0 & 0 & 0 & - \\gamma & 0 & 0 & 0\\\\0 & 0 & 0 & 0 & 0 & 0 & 0 & 0 & 0 & 0 & 0 & 0 & 0 & - \\frac{3 \\gamma}{2} & 0 & 0\\\\0 & 0 & 0 & 0 & 0 & 0 & 0 & 0 & 0 & 0 & 0 & 0 & 0 & 0 & - \\frac{3 \\gamma}{2} & 0\\\\0 & 0 & 0 & 0 & 0 & 0 & 0 & 0 & 0 & 0 & 0 & 0 & 0 & 0 & 0 & - 2 \\gamma\\end{array}\\right]$$"
      ],
      "text/plain": [
       "⎡0   0    0   0    0   γ   0     0     0   0   γ     0    0     0      0     0\n",
       "⎢                                                                             \n",
       "⎢   -γ                                                                        \n",
       "⎢0  ───   0   0    0   0   0     0     0   0   0     γ    0     0      0     0\n",
       "⎢    2                                                                        \n",
       "⎢                                                                             \n",
       "⎢        -γ                                                                   \n",
       "⎢0   0   ───  0    0   0   0     γ     0   0   0     0    0     0      0     0\n",
       "⎢         2                                                                   \n",
       "⎢                                                                             \n",
       "⎢0   0    0   -γ   0   0   0     0     0   0   0     0    0     0      0     0\n",
       "⎢                                                                             \n",
       "⎢                 -γ                                                          \n",
       "⎢0   0    0   0   ───  0   0     0     0   0   0     0    0     0      γ     0\n",
       "⎢                  2                                                          \n",
       "⎢                                                                             \n",
       "⎢0   0    0   0    0   -γ  0     0     0   0   0     0    0     0      0     γ\n",
       "⎢                                                                             \n",
       "⎢0   0    0   0    0   0   -γ    0     0   0   0     0    0     0      0     0\n",
       "⎢                                                                             \n",
       "⎢                              -3⋅γ                                           \n",
       "⎢0   0    0   0    0   0   0   ─────   0   0   0     0    0     0      0     0\n",
       "⎢                                2                                            \n",
       "⎢                                                                             \n",
       "⎢                                     -γ                                      \n",
       "⎢0   0    0   0    0   0   0     0    ───  0   0     0    0     γ      0     0\n",
       "⎢                                      2                                      \n",
       "⎢                                                                             \n",
       "⎢0   0    0   0    0   0   0     0     0   -γ  0     0    0     0      0     0\n",
       "⎢                                                                             \n",
       "⎢0   0    0   0    0   0   0     0     0   0   -γ    0    0     0      0     γ\n",
       "⎢                                                                             \n",
       "⎢                                                  -3⋅γ                       \n",
       "⎢0   0    0   0    0   0   0     0     0   0   0   ─────  0     0      0     0\n",
       "⎢                                                    2                        \n",
       "⎢                                                                             \n",
       "⎢0   0    0   0    0   0   0     0     0   0   0     0    -γ    0      0     0\n",
       "⎢                                                                             \n",
       "⎢                                                             -3⋅γ            \n",
       "⎢0   0    0   0    0   0   0     0     0   0   0     0    0   ─────    0     0\n",
       "⎢                                                               2             \n",
       "⎢                                                                             \n",
       "⎢                                                                    -3⋅γ     \n",
       "⎢0   0    0   0    0   0   0     0     0   0   0     0    0     0    ─────   0\n",
       "⎢                                                                      2      \n",
       "⎢                                                                             \n",
       "⎣0   0    0   0    0   0   0     0     0   0   0     0    0     0      0    -2\n",
       "\n",
       "  ⎤\n",
       "  ⎥\n",
       "  ⎥\n",
       "  ⎥\n",
       "  ⎥\n",
       "  ⎥\n",
       "  ⎥\n",
       "  ⎥\n",
       "  ⎥\n",
       "  ⎥\n",
       "  ⎥\n",
       "  ⎥\n",
       "  ⎥\n",
       "  ⎥\n",
       "  ⎥\n",
       "  ⎥\n",
       "  ⎥\n",
       "  ⎥\n",
       "  ⎥\n",
       "  ⎥\n",
       "  ⎥\n",
       "  ⎥\n",
       "  ⎥\n",
       "  ⎥\n",
       "  ⎥\n",
       "  ⎥\n",
       "  ⎥\n",
       "  ⎥\n",
       "  ⎥\n",
       "  ⎥\n",
       "  ⎥\n",
       "  ⎥\n",
       "  ⎥\n",
       "  ⎥\n",
       "  ⎥\n",
       "  ⎥\n",
       "  ⎥\n",
       "  ⎥\n",
       "  ⎥\n",
       "  ⎥\n",
       "  ⎥\n",
       "  ⎥\n",
       "  ⎥\n",
       "  ⎥\n",
       "  ⎥\n",
       "  ⎥\n",
       "⋅γ⎦"
      ]
     },
     "execution_count": 10,
     "metadata": {},
     "output_type": "execute_result"
    }
   ],
   "source": [
    "gamma1 = sympy.symbols('gamma_1', real=True)\n",
    "gamma2 = sympy.symbols('gamma_2', real=True)\n",
    "gamma = sympy.symbols('gamma', real=True)\n",
    "L2 = L.subs({gamma1: gamma, gamma2: gamma})\n",
    "L2"
   ]
  },
  {
   "cell_type": "code",
   "execution_count": 11,
   "metadata": {
    "collapsed": false
   },
   "outputs": [
    {
     "data": {
      "image/png": "[encoded data removed]",
      "text/latex": [
       "$$\\left[\\begin{array}{cccccccccccccccc}1 & 0 & 0 & 0 & 0 & 1 - e^{- \\gamma t} & 0 & 0 & 0 & 0 & 1 - e^{- \\gamma t} & 0 & 0 & 0 & 0 & 1 - 2 e^{- \\gamma t} + e^{- 2 \\gamma t}\\\\0 & e^{- \\frac{\\gamma t}{2}} & 0 & 0 & 0 & 0 & 0 & 0 & 0 & 0 & 0 & e^{- \\frac{\\gamma t}{2}} - e^{- \\frac{3 \\gamma}{2} t} & 0 & 0 & 0 & 0\\\\0 & 0 & e^{- \\frac{\\gamma t}{2}} & 0 & 0 & 0 & 0 & e^{- \\frac{\\gamma t}{2}} - e^{- \\frac{3 \\gamma}{2} t} & 0 & 0 & 0 & 0 & 0 & 0 & 0 & 0\\\\0 & 0 & 0 & e^{- \\gamma t} & 0 & 0 & 0 & 0 & 0 & 0 & 0 & 0 & 0 & 0 & 0 & 0\\\\0 & 0 & 0 & 0 & e^{- \\frac{\\gamma t}{2}} & 0 & 0 & 0 & 0 & 0 & 0 & 0 & 0 & 0 & e^{- \\frac{\\gamma t}{2}} - e^{- \\frac{3 \\gamma}{2} t} & 0\\\\0 & 0 & 0 & 0 & 0 & e^{- \\gamma t} & 0 & 0 & 0 & 0 & 0 & 0 & 0 & 0 & 0 & e^{- \\gamma t} - e^{- 2 \\gamma t}\\\\0 & 0 & 0 & 0 & 0 & 0 & e^{- \\gamma t} & 0 & 0 & 0 & 0 & 0 & 0 & 0 & 0 & 0\\\\0 & 0 & 0 & 0 & 0 & 0 & 0 & e^{- \\frac{3 \\gamma}{2} t} & 0 & 0 & 0 & 0 & 0 & 0 & 0 & 0\\\\0 & 0 & 0 & 0 & 0 & 0 & 0 & 0 & e^{- \\frac{\\gamma t}{2}} & 0 & 0 & 0 & 0 & e^{- \\frac{\\gamma t}{2}} - e^{- \\frac{3 \\gamma}{2} t} & 0 & 0\\\\0 & 0 & 0 & 0 & 0 & 0 & 0 & 0 & 0 & e^{- \\gamma t} & 0 & 0 & 0 & 0 & 0 & 0\\\\0 & 0 & 0 & 0 & 0 & 0 & 0 & 0 & 0 & 0 & e^{- \\gamma t} & 0 & 0 & 0 & 0 & e^{- \\gamma t} - e^{- 2 \\gamma t}\\\\0 & 0 & 0 & 0 & 0 & 0 & 0 & 0 & 0 & 0 & 0 & e^{- \\frac{3 \\gamma}{2} t} & 0 & 0 & 0 & 0\\\\0 & 0 & 0 & 0 & 0 & 0 & 0 & 0 & 0 & 0 & 0 & 0 & e^{- \\gamma t} & 0 & 0 & 0\\\\0 & 0 & 0 & 0 & 0 & 0 & 0 & 0 & 0 & 0 & 0 & 0 & 0 & e^{- \\frac{3 \\gamma}{2} t} & 0 & 0\\\\0 & 0 & 0 & 0 & 0 & 0 & 0 & 0 & 0 & 0 & 0 & 0 & 0 & 0 & e^{- \\frac{3 \\gamma}{2} t} & 0\\\\0 & 0 & 0 & 0 & 0 & 0 & 0 & 0 & 0 & 0 & 0 & 0 & 0 & 0 & 0 & e^{- 2 \\gamma t}\\end{array}\\right]$$"
      ],
      "text/plain": [
       "⎡                                       -γ⋅t                                  \n",
       "⎢1    0       0       0      0     1 - ℯ        0            0            0   \n",
       "⎢                                                                             \n",
       "⎢    -γ⋅t                                                                     \n",
       "⎢    ─────                                                                    \n",
       "⎢      2                                                                      \n",
       "⎢0  ℯ         0       0      0         0        0            0            0   \n",
       "⎢                                                                             \n",
       "⎢            -γ⋅t                                     -γ⋅t     -3⋅γ⋅t         \n",
       "⎢            ─────                                    ─────    ───────        \n",
       "⎢              2                                        2         2           \n",
       "⎢0    0     ℯ         0      0         0        0    ℯ      - ℯ           0   \n",
       "⎢                                                                             \n",
       "⎢                    -γ⋅t                                                     \n",
       "⎢0    0       0     ℯ        0         0        0            0            0   \n",
       "⎢                                                                             \n",
       "⎢                           -γ⋅t                                              \n",
       "⎢                           ─────                                             \n",
       "⎢                             2                                               \n",
       "⎢0    0       0       0    ℯ           0        0            0            0   \n",
       "⎢                                                                             \n",
       "⎢                                     -γ⋅t                                    \n",
       "⎢0    0       0       0      0       ℯ          0            0            0   \n",
       "⎢                                                                             \n",
       "⎢                                              -γ⋅t                           \n",
       "⎢0    0       0       0      0         0      ℯ              0            0   \n",
       "⎢                                                                             \n",
       "⎢                                                         -3⋅γ⋅t              \n",
       "⎢                                                         ───────             \n",
       "⎢                                                            2                \n",
       "⎢0    0       0       0      0         0        0        ℯ                0   \n",
       "⎢                                                                             \n",
       "⎢                                                                        -γ⋅t \n",
       "⎢                                                                        ─────\n",
       "⎢                                                                          2  \n",
       "⎢0    0       0       0      0         0        0            0          ℯ     \n",
       "⎢                                                                             \n",
       "⎢                                                                             \n",
       "⎢0    0       0       0      0         0        0            0            0   \n",
       "⎢                                                                             \n",
       "⎢                                                                             \n",
       "⎢0    0       0       0      0         0        0            0            0   \n",
       "⎢                                                                             \n",
       "⎢                                                                             \n",
       "⎢                                                                             \n",
       "⎢                                                                             \n",
       "⎢0    0       0       0      0         0        0            0            0   \n",
       "⎢                                                                             \n",
       "⎢                                                                             \n",
       "⎢0    0       0       0      0         0        0            0            0   \n",
       "⎢                                                                             \n",
       "⎢                                                                             \n",
       "⎢                                                                             \n",
       "⎢                                                                             \n",
       "⎢0    0       0       0      0         0        0            0            0   \n",
       "⎢                                                                             \n",
       "⎢                                                                             \n",
       "⎢                                                                             \n",
       "⎢                                                                             \n",
       "⎢0    0       0       0      0         0        0            0            0   \n",
       "⎢                                                                             \n",
       "⎢                                                                             \n",
       "⎣0    0       0       0      0         0        0            0            0   \n",
       "\n",
       "              -γ⋅t                                                            \n",
       "    0    1 - ℯ              0            0            0                  0    \n",
       "                                                                              \n",
       "                     -γ⋅t     -3⋅γ⋅t                                          \n",
       "                     ─────    ───────                                         \n",
       "                       2         2                                            \n",
       "    0        0      ℯ      - ℯ           0            0                  0    \n",
       "                                                                              \n",
       "                                                                              \n",
       "                                                                              \n",
       "                                                                              \n",
       "    0        0              0            0            0                  0    \n",
       "                                                                              \n",
       "                                                                              \n",
       "    0        0              0            0            0                  0    \n",
       "                                                                              \n",
       "                                                                  -γ⋅t     -3⋅\n",
       "                                                                  ─────    ───\n",
       "                                                                    2         \n",
       "    0        0              0            0            0          ℯ      - ℯ   \n",
       "                                                                              \n",
       "                                                                              \n",
       "    0        0              0            0            0                  0    \n",
       "                                                                              \n",
       "                                                                              \n",
       "    0        0              0            0            0                  0    \n",
       "                                                                              \n",
       "                                                                              \n",
       "                                                                              \n",
       "                                                                              \n",
       "    0        0              0            0            0                  0    \n",
       "                                                                              \n",
       "                                               -γ⋅t     -3⋅γ⋅t                \n",
       "                                               ─────    ───────               \n",
       "                                                 2         2                  \n",
       "    0        0              0            0    ℯ      - ℯ                 0    \n",
       "                                                                              \n",
       "   -γ⋅t                                                                       \n",
       "  ℯ          0              0            0            0                  0    \n",
       "                                                                              \n",
       "            -γ⋅t                                                              \n",
       "    0      ℯ                0            0            0                  0    \n",
       "                                                                              \n",
       "                         -3⋅γ⋅t                                               \n",
       "                         ───────                                              \n",
       "                            2                                                 \n",
       "    0        0          ℯ                0            0                  0    \n",
       "                                                                              \n",
       "                                        -γ⋅t                                  \n",
       "    0        0              0          ℯ              0                  0    \n",
       "                                                                              \n",
       "                                                   -3⋅γ⋅t                     \n",
       "                                                   ───────                    \n",
       "                                                      2                       \n",
       "    0        0              0            0        ℯ                      0    \n",
       "                                                                              \n",
       "                                                                      -3⋅γ⋅t  \n",
       "                                                                      ─────── \n",
       "                                                                         2    \n",
       "    0        0              0            0            0              ℯ        \n",
       "                                                                              \n",
       "                                                                              \n",
       "    0        0              0            0            0                  0    \n",
       "\n",
       "             -γ⋅t    -2⋅γ⋅t⎤\n",
       "      1 - 2⋅ℯ     + ℯ      ⎥\n",
       "                           ⎥\n",
       "                           ⎥\n",
       "                           ⎥\n",
       "                           ⎥\n",
       "                0          ⎥\n",
       "                           ⎥\n",
       "                           ⎥\n",
       "                           ⎥\n",
       "                           ⎥\n",
       "                0          ⎥\n",
       "                           ⎥\n",
       "                           ⎥\n",
       "                0          ⎥\n",
       "                           ⎥\n",
       "γ⋅t                        ⎥\n",
       "────                       ⎥\n",
       "2                          ⎥\n",
       "                0          ⎥\n",
       "                           ⎥\n",
       "          -γ⋅t    -2⋅γ⋅t   ⎥\n",
       "         ℯ     - ℯ         ⎥\n",
       "                           ⎥\n",
       "                           ⎥\n",
       "                0          ⎥\n",
       "                           ⎥\n",
       "                           ⎥\n",
       "                           ⎥\n",
       "                           ⎥\n",
       "                0          ⎥\n",
       "                           ⎥\n",
       "                           ⎥\n",
       "                           ⎥\n",
       "                           ⎥\n",
       "                0          ⎥\n",
       "                           ⎥\n",
       "                           ⎥\n",
       "                0          ⎥\n",
       "                           ⎥\n",
       "          -γ⋅t    -2⋅γ⋅t   ⎥\n",
       "         ℯ     - ℯ         ⎥\n",
       "                           ⎥\n",
       "                           ⎥\n",
       "                           ⎥\n",
       "                           ⎥\n",
       "                0          ⎥\n",
       "                           ⎥\n",
       "                           ⎥\n",
       "                0          ⎥\n",
       "                           ⎥\n",
       "                           ⎥\n",
       "                           ⎥\n",
       "                           ⎥\n",
       "                0          ⎥\n",
       "                           ⎥\n",
       "                           ⎥\n",
       "                           ⎥\n",
       "                           ⎥\n",
       "                0          ⎥\n",
       "                           ⎥\n",
       "              -2⋅γ⋅t       ⎥\n",
       "             ℯ             ⎦"
      ]
     },
     "execution_count": 11,
     "metadata": {},
     "output_type": "execute_result"
    }
   ],
   "source": [
    "t = sympy.symbols('t', real=True)\n",
    "Epsilon = (L2*t).exp(); # time evolution superoperator\n",
    "Epsilon"
   ]
  },
  {
   "cell_type": "code",
   "execution_count": 12,
   "metadata": {
    "collapsed": true
   },
   "outputs": [],
   "source": [
    "def DynMap(rho):\n",
    "    rho_vec = rho.conjugate().reshape(16,1)\n",
    "    return (Epsilon*rho_vec).reshape(4,4).conjugate()"
   ]
  },
  {
   "cell_type": "code",
   "execution_count": 13,
   "metadata": {
    "collapsed": false
   },
   "outputs": [],
   "source": [
    "def construct_Favg():\n",
    "    result = None\n",
    "    for i in ['00', '01', '10', '11']:\n",
    "        for j in ['00', '01', '10', '11']:\n",
    "            term =   ket[i].H * DynMap(rho[i][j]) * ket[j] \\\n",
    "                   + ket[i].H * DynMap(rho[j][j]) * ket[i]\n",
    "            if result is None:\n",
    "                result = term\n",
    "            else:\n",
    "                result += term\n",
    "    return (result / 20)[0,0]"
   ]
  },
  {
   "cell_type": "code",
   "execution_count": 14,
   "metadata": {
    "collapsed": false
   },
   "outputs": [
    {
     "data": {
      "image/png": "[encoded data removed]",
      "text/latex": [
       "$$\\frac{1}{4} + \\frac{3}{10} e^{- \\gamma t} + \\frac{1}{20} e^{- 2 \\gamma t} + \\frac{1}{5} e^{- \\frac{\\gamma t}{2}} + \\frac{1}{5} e^{- \\frac{3 \\gamma}{2} t}$$"
      ],
      "text/plain": [
       "                         -γ⋅t     -3⋅γ⋅t \n",
       "                         ─────    ───────\n",
       "       -γ⋅t    -2⋅γ⋅t      2         2   \n",
       "1   3⋅ℯ       ℯ         ℯ        ℯ       \n",
       "─ + ─────── + ─────── + ────── + ────────\n",
       "4      10        20       5         5    "
      ]
     },
     "execution_count": 14,
     "metadata": {},
     "output_type": "execute_result"
    }
   ],
   "source": [
    "Favg = construct_Favg();\n",
    "Favg"
   ]
  },
  {
   "cell_type": "code",
   "execution_count": 15,
   "metadata": {
    "collapsed": false
   },
   "outputs": [
    {
     "data": {
      "image/png": "[encoded data removed]",
      "text/latex": [
       "$$\\frac{3}{4} - \\frac{3}{10} e^{- \\gamma t} - \\frac{1}{20} e^{- 2 \\gamma t} - \\frac{1}{5} e^{- \\frac{\\gamma t}{2}} - \\frac{1}{5} e^{- \\frac{3 \\gamma}{2} t}$$"
      ],
      "text/plain": [
       "                         -γ⋅t     -3⋅γ⋅t \n",
       "                         ─────    ───────\n",
       "       -γ⋅t    -2⋅γ⋅t      2         2   \n",
       "3   3⋅ℯ       ℯ         ℯ        ℯ       \n",
       "─ - ─────── - ─────── - ────── - ────────\n",
       "4      10        20       5         5    "
      ]
     },
     "execution_count": 15,
     "metadata": {},
     "output_type": "execute_result"
    }
   ],
   "source": [
    "1-Favg"
   ]
  },
  {
   "cell_type": "code",
   "execution_count": 16,
   "metadata": {
    "collapsed": false
   },
   "outputs": [],
   "source": [
    "def Err(gamma, t):\n",
    "    \"\"\"Evaluate gate error for gamma in MHz and t in ns\"\"\"\n",
    "    gamma_sym, t_sym = sympy.symbols('gamma, t', real=True) \n",
    "    fun = sympy.lambdify((gamma_sym, t_sym), Favg)\n",
    "    return 1-fun(1e-3*2*np.pi*gamma, t)"
   ]
  },
  {
   "cell_type": "code",
   "execution_count": 17,
   "metadata": {
    "collapsed": true
   },
   "outputs": [],
   "source": [
    "import matplotlib.pylab as plt"
   ]
  },
  {
   "cell_type": "code",
   "execution_count": 22,
   "metadata": {
    "collapsed": false
   },
   "outputs": [],
   "source": [
    "%matplotlib inline"
   ]
  },
  {
   "cell_type": "code",
   "execution_count": 23,
   "metadata": {
    "collapsed": false
   },
   "outputs": [
    {
     "data": {
      "image/png": "[encoded data removed]",
      "text/plain": [
       "<matplotlib.figure.Figure at 0x7f52f95a6090>"
      ]
     },
     "metadata": {},
     "output_type": "display_data"
    }
   ],
   "source": [
    "tgrid = np.linspace(0, 200, 100)\n",
    "fig = plt.figure()\n",
    "ax = fig.add_subplot(111)\n",
    "ax.plot(tgrid, [Err(1.2e-2, t) for t in tgrid])\n",
    "ax.set_yscale('log')\n",
    "ax.set_xscale('log')"
   ]
  },
  {
   "cell_type": "code",
   "execution_count": 20,
   "metadata": {
    "collapsed": true
   },
   "outputs": [],
   "source": [
    "import pandas as pd"
   ]
  },
  {
   "cell_type": "code",
   "execution_count": 30,
   "metadata": {
    "collapsed": false
   },
   "outputs": [
    {
     "name": "stdout",
     "output_type": "stream",
     "text": [
      "                    minimum error\n",
      "gate duration [ns]               \n",
      "5                        3.02e-04\n",
      "10                       6.03e-04\n",
      "20                       1.21e-03\n",
      "50                       3.01e-03\n",
      "100                      6.00e-03\n",
      "200                      1.20e-02\n"
     ]
    }
   ],
   "source": [
    "gate_times = [5, 10, 20, 50, 100, 200] # ns\n",
    "df = pd.DataFrame(index=gate_times,\n",
    "     data={'minimum error': [Err(1.2e-2, t=t) for t in gate_times]})\n",
    "df.index.name = \"gate duration [ns]\"\n",
    "print df.to_string(float_format=lambda f:'%.2e'%f)"
   ]
  },
  {
   "cell_type": "code",
   "execution_count": 31,
   "metadata": {
    "collapsed": false
   },
   "outputs": [
    {
     "name": "stdout",
     "output_type": "stream",
     "text": [
      "                    minimum error\n",
      "gate duration [ns]               \n",
      "5                        3.02e-05\n",
      "10                       6.03e-05\n",
      "20                       1.21e-04\n",
      "50                       3.02e-04\n",
      "100                      6.03e-04\n",
      "200                      1.21e-03\n"
     ]
    }
   ],
   "source": [
    "gate_times = [5, 10, 20, 50, 100, 200] # ns\n",
    "df = pd.DataFrame(index=gate_times,\n",
    "     data={'minimum error': [Err(1.2e-3, t=t) for t in gate_times]})\n",
    "df.index.name = \"gate duration [ns]\"\n",
    "print df.to_string(float_format=lambda f:'%.2e'%f)"
   ]
  },
  {
   "cell_type": "code",
   "execution_count": null,
   "metadata": {
    "collapsed": true
   },
   "outputs": [],
   "source": []
  }
 ],
 "metadata": {
  "kernelspec": {
   "display_name": "Python 2",
   "language": "python",
   "name": "python2"
  },
  "language_info": {
   "codemirror_mode": {
    "name": "ipython",
    "version": 2
   },
   "file_extension": ".py",
   "mimetype": "text/x-python",
   "name": "python",
   "nbconvert_exporter": "python",
   "pygments_lexer": "ipython2",
   "version": "2.7.11"
  },
  "toc": {
   "toc_cell": false,
   "toc_number_sections": true,
   "toc_threshold": 6,
   "toc_window_display": true
  }
 },
 "nbformat": 4,
 "nbformat_minor": 0
}
