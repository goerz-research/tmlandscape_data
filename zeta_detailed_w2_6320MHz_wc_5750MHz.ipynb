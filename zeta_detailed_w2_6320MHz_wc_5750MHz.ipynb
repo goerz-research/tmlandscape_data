{
 "cells": [
  {
   "cell_type": "markdown",
   "metadata": {
    "heading_collapsed": false,
    "level": 1
   },
   "source": [
    "# Detailed Exploration of Universal Gate Set for Intermediate Zeta"
   ]
  },
  {
   "cell_type": "markdown",
   "metadata": {
    "heading_collapsed": false,
    "level": 2
   },
   "source": [
    "## Header"
   ]
  },
  {
   "cell_type": "code",
   "execution_count": 2,
   "metadata": {
    "collapsed": false,
    "level": 7
   },
   "outputs": [],
   "source": [
    "import numpy as np\n",
    "import QDYN\n",
    "from QDYN.shutil import mkdir\n",
    "from QDYN.pulse import Pulse, pulse_tgrid\n",
    "from QDYN.gate2q import Gate2Q\n",
    "from QDYN.linalg import norm, vectorize\n",
    "from os.path import join\n",
    "from notebook_utils import (\n",
    "    get_zeta_table, plot_zeta_data, filter_table, get_logical_energies_table,\n",
    "    get_stage4_table, bare_decomposition, get_transition_table, J_target,\n",
    "    get_w_d_from_config)\n",
    "from mgplottools.io import writetotxt\n",
    "from select_for_stage4 import GATE_RE, GATE_IM, GATE\n",
    "from generate_zeta_universal import write_config\n",
    "from analytical_pulses import AnalyticalPulse\n",
    "from run_oct import propagate\n",
    "from collections import OrderedDict\n",
    "from zeta_systematic_variation import systematic_variation\n",
    "import pandas as pd\n",
    "import QDYNTransmonLib\n",
    "from mgplottools.io import writetotxt"
   ]
  },
  {
   "cell_type": "code",
   "execution_count": 3,
   "metadata": {
    "collapsed": false,
    "level": 7
   },
   "outputs": [],
   "source": [
    "H_left = GATE['H_left']\n",
    "H_right = GATE['H_right']\n",
    "S_left = GATE['Ph_left']\n",
    "S_right = GATE['Ph_right']\n",
    "def write_target_gate_dat(rf, gate):\n",
    "    writetotxt(join(rf, 'target_gate.dat'), GATE_RE[gate], GATE_IM[gate])"
   ]
  },
  {
   "cell_type": "code",
   "execution_count": 4,
   "metadata": {
    "collapsed": true,
    "level": 7
   },
   "outputs": [],
   "source": [
    "def J_PE(U):\n",
    "    if U is None:\n",
    "        return None\n",
    "    else:\n",
    "        C = U.closest_unitary().concurrence()\n",
    "        max_loss = np.max(1.0 - U.logical_pops())\n",
    "        return J_target('PE', C, max_loss)\n",
    "\n",
    "def F_avg_H_left(U):\n",
    "    if U is None:\n",
    "        return None\n",
    "    else:\n",
    "        return U.F_avg(H_left)\n",
    "    \n",
    "def F_avg_H_right(U):\n",
    "    if U is None:\n",
    "        return None\n",
    "    else:\n",
    "        return U.F_avg(H_right)\n",
    "\n",
    "def F_avg_S_left(U):\n",
    "    if U is None:\n",
    "        return None\n",
    "    else:\n",
    "        return U.F_avg(S_left)\n",
    "    \n",
    "def F_avg_S_right(U):\n",
    "    if U is None:\n",
    "        return None\n",
    "    else:\n",
    "        return U.F_avg(S_right)"
   ]
  },
  {
   "cell_type": "code",
   "execution_count": 5,
   "metadata": {
    "collapsed": true,
    "level": 7
   },
   "outputs": [],
   "source": [
    "from multiprocessing import Process\n",
    "import os\n",
    "def system(cmd):\n",
    "    p = Process(target=os.system, args=(cmd,))\n",
    "    p.start()\n",
    "    return p"
   ]
  },
  {
   "cell_type": "code",
   "execution_count": 6,
   "metadata": {
    "collapsed": true,
    "level": 7
   },
   "outputs": [],
   "source": [
    "%matplotlib inline\n",
    "%reload_ext autoreload\n",
    "%autoreload 2"
   ]
  },
  {
   "cell_type": "code",
   "execution_count": 7,
   "metadata": {
    "collapsed": true,
    "level": 7
   },
   "outputs": [],
   "source": [
    "get_zeta_table = QDYN.memoize.memoize(get_zeta_table)\n",
    "get_zeta_table.load('zeta_table.cache')"
   ]
  },
  {
   "cell_type": "code",
   "execution_count": 8,
   "metadata": {
    "collapsed": false,
    "level": 7
   },
   "outputs": [],
   "source": [
    "zeta_table = get_zeta_table('./runs_050_RWA', T=50)"
   ]
  },
  {
   "cell_type": "code",
   "execution_count": 9,
   "metadata": {
    "collapsed": false,
    "level": 7
   },
   "outputs": [],
   "source": [
    "w_max = 1.0 # minimum frequency in the rotating frame to be resolved. (for calculation of nt)"
   ]
  },
  {
   "cell_type": "code",
   "execution_count": 10,
   "metadata": {
    "collapsed": true,
    "level": 7
   },
   "outputs": [],
   "source": [
    "n_qubit = 5; n_cavity = 6"
   ]
  },
  {
   "cell_type": "code",
   "execution_count": 11,
   "metadata": {
    "collapsed": true,
    "level": 7
   },
   "outputs": [],
   "source": [
    "def mark_freqs(rf, transition_table):\n",
    "    \"\"\"Return the frequencies that should be highlighted in the spectrum plot\"\"\"\n",
    "    w_d = get_w_d_from_config(join(rf, 'config'))\n",
    "    w1_dressed0 = transition_table['E10 - E00 [MHz]'][0] / 1000.0 # GHz\n",
    "    w1_dressed1 = transition_table['E11 - E01 [MHz]'][0] / 1000.0 # GHz\n",
    "    w2_dressed0 = transition_table['E01 - E00 [MHz]'][0] / 1000.0 # GHz\n",
    "    w2_dressed1 = transition_table['E11 - E10 [MHz]'][0] / 1000.0 # GHz\n",
    "    wc = 5.75 # GHZ\n",
    "    w2 = 6.32 # GHz\n",
    "    w1 = 6.00 # GHz\n",
    "    return [(w1_dressed0-w_d, {'color':'black', 'ls':'--'}),\n",
    "            (w1_dressed1-w_d, {'color':'black', 'ls':'--'}),\n",
    "            (w2_dressed0-w_d, {'color':'gray', 'ls':'--'}),\n",
    "            (w2_dressed1-w_d, {'color':'gray', 'ls':'--'}),\n",
    "            (wc-wd,           {'color':'gray', 'ls':'dotted'}),\n",
    "            (w2-wd,           {'color':'gray', 'ls':'-.'}),\n",
    "            (w1-wd,           {'color':'black', 'ls':'-.'})]"
   ]
  },
  {
   "cell_type": "markdown",
   "metadata": {
    "heading_collapsed": false,
    "level": 2
   },
   "source": [
    "## Properties of the Hamiltonian"
   ]
  },
  {
   "cell_type": "code",
   "execution_count": 12,
   "metadata": {
    "collapsed": true,
    "level": 7
   },
   "outputs": [],
   "source": [
    "w1 = 6.00 # GHz\n",
    "w2 = 6.32 # GHz\n",
    "wc = 5.75 # GHZ\n",
    "root = './runs_zeta_detailed/w2_%dMHz_wc_%dMHz' % (w2*1000, wc*1000)\n",
    "mkdir(root)"
   ]
  },
  {
   "cell_type": "markdown",
   "metadata": {
    "level": 7
   },
   "source": [
    "* what is the the entangling energy?"
   ]
  },
  {
   "cell_type": "code",
   "execution_count": 13,
   "metadata": {
    "collapsed": false,
    "level": 7
   },
   "outputs": [
    {
     "data": {
      "text/plain": [
       "-16.716000000000008"
      ]
     },
     "execution_count": 13,
     "metadata": {},
     "output_type": "execute_result"
    }
   ],
   "source": [
    "zeta = float(filter_table(zeta_table, [(w2, wc),])['zeta [MHz]']); zeta"
   ]
  },
  {
   "cell_type": "code",
   "execution_count": 14,
   "metadata": {
    "collapsed": false,
    "level": 7
   },
   "outputs": [
    {
     "data": {
      "text/plain": [
       "29.911462072266076"
      ]
     },
     "execution_count": 14,
     "metadata": {},
     "output_type": "execute_result"
    }
   ],
   "source": [
    "T_entangling = 500.0 / abs(zeta); T_entangling # ns"
   ]
  },
  {
   "cell_type": "markdown",
   "metadata": {
    "heading_collapsed": false,
    "level": 3
   },
   "source": [
    "###  PE"
   ]
  },
  {
   "cell_type": "markdown",
   "metadata": {
    "level": 7
   },
   "source": [
    "* Verify the PE. What do the logical eigenstates look like? What are the dressed qubit levels? What required spectral resolution do we anticipate?"
   ]
  },
  {
   "cell_type": "code",
   "execution_count": 15,
   "metadata": {
    "collapsed": false,
    "level": 7
   },
   "outputs": [
    {
     "name": "stdout",
     "output_type": "stream",
     "text": [
      "concurrence: 1.00000\n"
     ]
    }
   ],
   "source": [
    "T = T_entangling\n",
    "rf = join(root, 'verify_PE'); mkdir(rf)\n",
    "nt = int(max(2000, 100 * w_max * T))\n",
    "write_config(join(rf, 'config'), T, nt, wc, w2, wd=6.0, gate=\"CPHASE\", J_T='SM', prop_guess='T')\n",
    "pulse = Pulse(tgrid=pulse_tgrid(T, nt), time_unit='ns',ampl_unit='MHz')  # zero amplitude\n",
    "pulse.write(join(rf, 'pulse.guess'))\n",
    "U = propagate(rf, 'pulse.guess', rwa=True, keep=True, force=True)\n",
    "print \"concurrence: %.5f\" % U.concurrence()"
   ]
  },
  {
   "cell_type": "code",
   "execution_count": 16,
   "metadata": {
    "collapsed": false,
    "level": 7
   },
   "outputs": [
    {
     "name": "stdout",
     "output_type": "stream",
     "text": [
      "00 = 100.0% {000}\n",
      "01 = 1.5% {001} + 98.4% {010}\n",
      "10 = 5.7% {001} + 0.3% {010} + 94.0% {100}\n",
      "11 = 33.1% {020} + 1.1% {101} + 65.8% {110}\n"
     ]
    }
   ],
   "source": [
    "psi = {}; psi['00'], psi['01'], psi['10'], psi['11'] \\\n",
    "= np.genfromtxt(join(rf, 'logical_states.dat'), unpack=True, usecols=range(4))\n",
    "for label in ['00', '01', '10', '11']:\n",
    "    print(\"%s = %s\" % (label, bare_decomposition(psi[label], n_qubit, n_cavity)))"
   ]
  },
  {
   "cell_type": "code",
   "execution_count": 17,
   "metadata": {
    "collapsed": false,
    "level": 7
   },
   "outputs": [
    {
     "data": {
      "text/html": [
       "<div>\n",
       "<table border=\"1\" class=\"dataframe\">\n",
       "  <thead>\n",
       "    <tr style=\"text-align: right;\">\n",
       "      <th></th>\n",
       "      <th>E01 - E00 [MHz]</th>\n",
       "      <th>E10 - E00 [MHz]</th>\n",
       "      <th>E11 - E10 [MHz]</th>\n",
       "      <th>E11 - E01 [MHz]</th>\n",
       "      <th>bare w2 [MHz]</th>\n",
       "      <th>bare w1 [MHz]</th>\n",
       "    </tr>\n",
       "  </thead>\n",
       "  <tbody>\n",
       "    <tr>\n",
       "      <th>0</th>\n",
       "      <td>6328.69</td>\n",
       "      <td>6017.286</td>\n",
       "      <td>6311.974</td>\n",
       "      <td>6000.57</td>\n",
       "      <td>6320</td>\n",
       "      <td>6000</td>\n",
       "    </tr>\n",
       "  </tbody>\n",
       "</table>\n",
       "</div>"
      ],
      "text/plain": [
       "   E01 - E00 [MHz]  E10 - E00 [MHz]  E11 - E10 [MHz]  E11 - E01 [MHz]  \\\n",
       "0          6328.69         6017.286         6311.974          6000.57   \n",
       "\n",
       "   bare w2 [MHz]  bare w1 [MHz]  \n",
       "0           6320           6000  "
      ]
     },
     "execution_count": 17,
     "metadata": {},
     "output_type": "execute_result"
    }
   ],
   "source": [
    "transition_table = get_transition_table(filter_table(zeta_table, [(w2, wc),]))\n",
    "transition_table.reset_index(drop=True)"
   ]
  },
  {
   "cell_type": "code",
   "execution_count": 18,
   "metadata": {
    "collapsed": true,
    "level": 7
   },
   "outputs": [],
   "source": [
    "w1_dressed0 = transition_table['E10 - E00 [MHz]'][0] / 1000.0 # GHz\n",
    "w1_dressed1 = transition_table['E11 - E01 [MHz]'][0] / 1000.0 # GHz\n",
    "w2_dressed0 = transition_table['E01 - E00 [MHz]'][0] / 1000.0 # GHz\n",
    "w2_dressed1 = transition_table['E11 - E10 [MHz]'][0] / 1000.0 # GHz"
   ]
  },
  {
   "cell_type": "code",
   "execution_count": 19,
   "metadata": {
    "collapsed": false,
    "level": 7
   },
   "outputs": [
    {
     "name": "stdout",
     "output_type": "stream",
     "text": [
      "Separation of dressed frequencies, left qubit: 16.716 MHz\n",
      "Separation of dressed frequencies, right qubit: 16.716 MHz\n"
     ]
    }
   ],
   "source": [
    "print(\"Separation of dressed frequencies, left qubit: %.3f MHz\"\n",
    "      % abs(float(transition_table['E11 - E01 [MHz]']) - float(transition_table['E10 - E00 [MHz]'])))\n",
    "print(\"Separation of dressed frequencies, right qubit: %.3f MHz\"\n",
    "      % abs(float(transition_table['E11 - E10 [MHz]']) - float(transition_table['E01 - E00 [MHz]'])))"
   ]
  },
  {
   "cell_type": "code",
   "execution_count": 20,
   "metadata": {
    "collapsed": false,
    "level": 7
   },
   "outputs": [
    {
     "name": "stdout",
     "output_type": "stream",
     "text": [
      "Spectral resolution of pulse: 33.4 MHz\n"
     ]
    }
   ],
   "source": [
    "print \"Spectral resolution of pulse: %.1f MHz\" % pulse.dw(freq_unit='MHz')"
   ]
  },
  {
   "cell_type": "markdown",
   "metadata": {
    "heading_collapsed": false,
    "level": 3
   },
   "source": [
    "###  SQ"
   ]
  },
  {
   "cell_type": "markdown",
   "metadata": {
    "level": 7
   },
   "source": [
    "* Verify the local gate"
   ]
  },
  {
   "cell_type": "code",
   "execution_count": 21,
   "metadata": {
    "collapsed": false,
    "level": 7
   },
   "outputs": [
    {
     "name": "stdout",
     "output_type": "stream",
     "text": [
      "Spectral resolution of pulse: 16.7 MHz\n",
      "concurrence: 0.00007\n"
     ]
    }
   ],
   "source": [
    "T = 2*T_entangling\n",
    "rf = join(root, 'verify_SQ'); mkdir(rf)\n",
    "nt = int(max(2000, 100 * w_max * T))\n",
    "write_config(join(rf, 'config'), T, nt, wc, w2, wd=6.0, gate=\"CPHASE\", J_T='SM', prop_guess='T')\n",
    "pulse = Pulse(tgrid=pulse_tgrid(T, nt), time_unit='ns',ampl_unit='MHz')  # zero amplitude\n",
    "pulse.write(join(rf, 'pulse.guess'))\n",
    "print \"Spectral resolution of pulse: %.1f MHz\" % pulse.dw(freq_unit='MHz')\n",
    "U = propagate(rf, 'pulse.guess', rwa=True, keep=True, force=True)\n",
    "print \"concurrence: %.5f\" % U.concurrence()"
   ]
  },
  {
   "cell_type": "code",
   "execution_count": 22,
   "metadata": {
    "collapsed": false,
    "level": 7
   },
   "outputs": [
    {
     "name": "stdout",
     "output_type": "stream",
     "text": [
      "Spectral resolution of pulse: 8.4 MHz\n",
      "concurrence: 0.00014\n"
     ]
    }
   ],
   "source": [
    "T = 4*T_entangling\n",
    "rf = join(root, 'verify_SQ_2cycles'); mkdir(rf)\n",
    "nt = int(max(2000, 100 * w_max * T))\n",
    "write_config(join(rf, 'config'), T, nt, wc, w2, wd=6.0, gate=\"CPHASE\", J_T='SM', prop_guess='T')\n",
    "pulse = Pulse(tgrid=pulse_tgrid(T, nt), time_unit='ns',ampl_unit='MHz')  # zero amplitude\n",
    "pulse.write(join(rf, 'pulse.guess'))\n",
    "print \"Spectral resolution of pulse: %.1f MHz\" % pulse.dw(freq_unit='MHz')\n",
    "U = propagate(rf, 'pulse.guess', rwa=True, keep=True, force=True)\n",
    "print \"concurrence: %.5f\" % U.concurrence()"
   ]
  },
  {
   "cell_type": "markdown",
   "metadata": {
    "heading_collapsed": false,
    "level": 2
   },
   "source": [
    "## Improving the PE"
   ]
  },
  {
   "cell_type": "markdown",
   "metadata": {
    "collapsed": true,
    "level": 7
   },
   "source": [
    "* Can we compress the PE by adding a pulse and OCT?"
   ]
  },
  {
   "cell_type": "code",
   "execution_count": 24,
   "metadata": {
    "collapsed": false,
    "level": 7
   },
   "outputs": [],
   "source": [
    "compression = 0.7\n",
    "wd = 0.5*(w1+w2)\n",
    "rf = join(root, 'compress_PE_%.1f' % compression); mkdir(rf)"
   ]
  },
  {
   "cell_type": "code",
   "execution_count": 25,
   "metadata": {
    "collapsed": false,
    "level": 7
   },
   "outputs": [
    {
     "data": {
      "text/plain": [
       "'./runs_zeta_detailed/w2_6320MHz_wc_5750MHz/compress_PE_0.7'"
      ]
     },
     "execution_count": 25,
     "metadata": {},
     "output_type": "execute_result"
    }
   ],
   "source": [
    "rf"
   ]
  },
  {
   "cell_type": "code",
   "execution_count": 26,
   "metadata": {
    "collapsed": false,
    "level": 7
   },
   "outputs": [],
   "source": [
    "# write runfolder\n",
    "T = compression*T_entangling\n",
    "nt = int(max(2000, 100 * w_max * T))\n",
    "write_config(join(rf, 'config'), T, nt, wc, w2, wd=wd, gate=\"CPHASE\", J_T='PE', prop_guess='F')"
   ]
  },
  {
   "cell_type": "code",
   "execution_count": 27,
   "metadata": {
    "collapsed": false,
    "level": 7,
    "scrolled": false
   },
   "outputs": [
    {
     "data": {
      "text/html": [
       "<div>\n",
       "<table border=\"1\" class=\"dataframe\">\n",
       "  <thead>\n",
       "    <tr style=\"text-align: right;\">\n",
       "      <th></th>\n",
       "      <th>E0</th>\n",
       "      <th>w_L</th>\n",
       "      <th>fig_of_merit</th>\n",
       "    </tr>\n",
       "  </thead>\n",
       "  <tbody>\n",
       "    <tr>\n",
       "      <th>20</th>\n",
       "      <td>200</td>\n",
       "      <td>6.160000</td>\n",
       "      <td>0.065954</td>\n",
       "    </tr>\n",
       "    <tr>\n",
       "      <th>11</th>\n",
       "      <td>50</td>\n",
       "      <td>6.160000</td>\n",
       "      <td>0.108181</td>\n",
       "    </tr>\n",
       "    <tr>\n",
       "      <th>0</th>\n",
       "      <td>0</td>\n",
       "      <td>6.000000</td>\n",
       "      <td>0.111862</td>\n",
       "    </tr>\n",
       "    <tr>\n",
       "      <th>1</th>\n",
       "      <td>0</td>\n",
       "      <td>6.320000</td>\n",
       "      <td>0.111862</td>\n",
       "    </tr>\n",
       "    <tr>\n",
       "      <th>2</th>\n",
       "      <td>0</td>\n",
       "      <td>6.160000</td>\n",
       "      <td>0.111862</td>\n",
       "    </tr>\n",
       "    <tr>\n",
       "      <th>3</th>\n",
       "      <td>0</td>\n",
       "      <td>6.017286</td>\n",
       "      <td>0.111862</td>\n",
       "    </tr>\n",
       "    <tr>\n",
       "      <th>4</th>\n",
       "      <td>0</td>\n",
       "      <td>6.000570</td>\n",
       "      <td>0.111862</td>\n",
       "    </tr>\n",
       "    <tr>\n",
       "      <th>5</th>\n",
       "      <td>0</td>\n",
       "      <td>6.008928</td>\n",
       "      <td>0.111862</td>\n",
       "    </tr>\n",
       "    <tr>\n",
       "      <th>6</th>\n",
       "      <td>0</td>\n",
       "      <td>6.328690</td>\n",
       "      <td>0.111862</td>\n",
       "    </tr>\n",
       "    <tr>\n",
       "      <th>7</th>\n",
       "      <td>0</td>\n",
       "      <td>6.311974</td>\n",
       "      <td>0.111862</td>\n",
       "    </tr>\n",
       "    <tr>\n",
       "      <th>8</th>\n",
       "      <td>0</td>\n",
       "      <td>6.320332</td>\n",
       "      <td>0.111862</td>\n",
       "    </tr>\n",
       "    <tr>\n",
       "      <th>16</th>\n",
       "      <td>50</td>\n",
       "      <td>6.311974</td>\n",
       "      <td>0.116798</td>\n",
       "    </tr>\n",
       "    <tr>\n",
       "      <th>10</th>\n",
       "      <td>50</td>\n",
       "      <td>6.320000</td>\n",
       "      <td>0.118050</td>\n",
       "    </tr>\n",
       "    <tr>\n",
       "      <th>17</th>\n",
       "      <td>50</td>\n",
       "      <td>6.320332</td>\n",
       "      <td>0.118100</td>\n",
       "    </tr>\n",
       "    <tr>\n",
       "      <th>15</th>\n",
       "      <td>50</td>\n",
       "      <td>6.328690</td>\n",
       "      <td>0.119280</td>\n",
       "    </tr>\n",
       "    <tr>\n",
       "      <th>29</th>\n",
       "      <td>500</td>\n",
       "      <td>6.160000</td>\n",
       "      <td>0.138850</td>\n",
       "    </tr>\n",
       "    <tr>\n",
       "      <th>9</th>\n",
       "      <td>50</td>\n",
       "      <td>6.000000</td>\n",
       "      <td>0.183503</td>\n",
       "    </tr>\n",
       "    <tr>\n",
       "      <th>13</th>\n",
       "      <td>50</td>\n",
       "      <td>6.000570</td>\n",
       "      <td>0.185548</td>\n",
       "    </tr>\n",
       "    <tr>\n",
       "      <th>25</th>\n",
       "      <td>200</td>\n",
       "      <td>6.311974</td>\n",
       "      <td>0.203097</td>\n",
       "    </tr>\n",
       "    <tr>\n",
       "      <th>14</th>\n",
       "      <td>50</td>\n",
       "      <td>6.008928</td>\n",
       "      <td>0.217856</td>\n",
       "    </tr>\n",
       "    <tr>\n",
       "      <th>19</th>\n",
       "      <td>200</td>\n",
       "      <td>6.320000</td>\n",
       "      <td>0.223252</td>\n",
       "    </tr>\n",
       "    <tr>\n",
       "      <th>26</th>\n",
       "      <td>200</td>\n",
       "      <td>6.320332</td>\n",
       "      <td>0.224047</td>\n",
       "    </tr>\n",
       "    <tr>\n",
       "      <th>24</th>\n",
       "      <td>200</td>\n",
       "      <td>6.328690</td>\n",
       "      <td>0.242494</td>\n",
       "    </tr>\n",
       "    <tr>\n",
       "      <th>12</th>\n",
       "      <td>50</td>\n",
       "      <td>6.017286</td>\n",
       "      <td>0.252330</td>\n",
       "    </tr>\n",
       "    <tr>\n",
       "      <th>34</th>\n",
       "      <td>500</td>\n",
       "      <td>6.311974</td>\n",
       "      <td>0.448109</td>\n",
       "    </tr>\n",
       "    <tr>\n",
       "      <th>18</th>\n",
       "      <td>200</td>\n",
       "      <td>6.000000</td>\n",
       "      <td>0.482971</td>\n",
       "    </tr>\n",
       "    <tr>\n",
       "      <th>22</th>\n",
       "      <td>200</td>\n",
       "      <td>6.000570</td>\n",
       "      <td>0.490244</td>\n",
       "    </tr>\n",
       "    <tr>\n",
       "      <th>28</th>\n",
       "      <td>500</td>\n",
       "      <td>6.320000</td>\n",
       "      <td>0.533424</td>\n",
       "    </tr>\n",
       "    <tr>\n",
       "      <th>35</th>\n",
       "      <td>500</td>\n",
       "      <td>6.320332</td>\n",
       "      <td>0.538337</td>\n",
       "    </tr>\n",
       "    <tr>\n",
       "      <th>23</th>\n",
       "      <td>200</td>\n",
       "      <td>6.008928</td>\n",
       "      <td>0.623443</td>\n",
       "    </tr>\n",
       "    <tr>\n",
       "      <th>33</th>\n",
       "      <td>500</td>\n",
       "      <td>6.328690</td>\n",
       "      <td>0.659126</td>\n",
       "    </tr>\n",
       "    <tr>\n",
       "      <th>21</th>\n",
       "      <td>200</td>\n",
       "      <td>6.017286</td>\n",
       "      <td>0.770133</td>\n",
       "    </tr>\n",
       "    <tr>\n",
       "      <th>30</th>\n",
       "      <td>500</td>\n",
       "      <td>6.017286</td>\n",
       "      <td>0.821292</td>\n",
       "    </tr>\n",
       "    <tr>\n",
       "      <th>32</th>\n",
       "      <td>500</td>\n",
       "      <td>6.008928</td>\n",
       "      <td>0.902567</td>\n",
       "    </tr>\n",
       "    <tr>\n",
       "      <th>31</th>\n",
       "      <td>500</td>\n",
       "      <td>6.000570</td>\n",
       "      <td>0.968119</td>\n",
       "    </tr>\n",
       "    <tr>\n",
       "      <th>27</th>\n",
       "      <td>500</td>\n",
       "      <td>6.000000</td>\n",
       "      <td>0.973175</td>\n",
       "    </tr>\n",
       "  </tbody>\n",
       "</table>\n",
       "</div>"
      ],
      "text/plain": [
       "     E0       w_L  fig_of_merit\n",
       "20  200  6.160000      0.065954\n",
       "11   50  6.160000      0.108181\n",
       "0     0  6.000000      0.111862\n",
       "1     0  6.320000      0.111862\n",
       "2     0  6.160000      0.111862\n",
       "3     0  6.017286      0.111862\n",
       "4     0  6.000570      0.111862\n",
       "5     0  6.008928      0.111862\n",
       "6     0  6.328690      0.111862\n",
       "7     0  6.311974      0.111862\n",
       "8     0  6.320332      0.111862\n",
       "16   50  6.311974      0.116798\n",
       "10   50  6.320000      0.118050\n",
       "17   50  6.320332      0.118100\n",
       "15   50  6.328690      0.119280\n",
       "29  500  6.160000      0.138850\n",
       "9    50  6.000000      0.183503\n",
       "13   50  6.000570      0.185548\n",
       "25  200  6.311974      0.203097\n",
       "14   50  6.008928      0.217856\n",
       "19  200  6.320000      0.223252\n",
       "26  200  6.320332      0.224047\n",
       "24  200  6.328690      0.242494\n",
       "12   50  6.017286      0.252330\n",
       "34  500  6.311974      0.448109\n",
       "18  200  6.000000      0.482971\n",
       "22  200  6.000570      0.490244\n",
       "28  500  6.320000      0.533424\n",
       "35  500  6.320332      0.538337\n",
       "23  200  6.008928      0.623443\n",
       "33  500  6.328690      0.659126\n",
       "21  200  6.017286      0.770133\n",
       "30  500  6.017286      0.821292\n",
       "32  500  6.008928      0.902567\n",
       "31  500  6.000570      0.968119\n",
       "27  500  6.000000      0.973175"
      ]
     },
     "execution_count": 27,
     "metadata": {},
     "output_type": "execute_result"
    }
   ],
   "source": [
    "pulse = AnalyticalPulse('1freq_rwa', T, nt,\n",
    "            parameters={'E0': 0.0, 'T': T, 'w_L': wd, 'w_d': wd},\n",
    "            t0=0.0, time_unit='ns', ampl_unit='MHz', freq_unit='MHz', mode=\"complex\")\n",
    "systematic_variation(rf, pulse, vary=OrderedDict([\n",
    "            ('E0', [0.0, 50, 200, 500]), \n",
    "            ('w_L', [w1, w2, 0.5*(w1+w2),  \n",
    "                     w1_dressed0, w1_dressed1, 0.5*(w1_dressed0+w1_dressed1),\n",
    "                     w2_dressed0, w2_dressed1, 0.5*(w2_dressed0+w2_dressed1)])]),\n",
    "            fig_of_merit=J_PE, n_procs=40)"
   ]
  },
  {
   "cell_type": "code",
   "execution_count": 28,
   "metadata": {
    "collapsed": false,
    "level": 7
   },
   "outputs": [],
   "source": [
    "pulse = AnalyticalPulse('1freq_rwa', T, nt,\n",
    "            parameters={'E0': 200.0, 'T': T, 'w_L': 6.16, 'w_d': 6.16},\n",
    "            t0=0.0, time_unit='ns', ampl_unit='MHz', freq_unit='MHz', mode=\"complex\")\n",
    "pulse.write(join(rf, 'pulse_guess.json'))"
   ]
  },
  {
   "cell_type": "code",
   "execution_count": 29,
   "metadata": {
    "collapsed": false,
    "level": 7
   },
   "outputs": [
    {
     "name": "stdout",
     "output_type": "stream",
     "text": [
      "Concurrence: 0.944892\n",
      "Loss: 0.005964\n"
     ]
    }
   ],
   "source": [
    "U_guess = propagate(rf, 'pulse_guess.json', rwa=True, force=True, keep=None)\n",
    "print(\"Concurrence: %f\" % U_guess.closest_unitary().concurrence())\n",
    "print(\"Loss: %f\" % U_guess.pop_loss())"
   ]
  },
  {
   "cell_type": "code",
   "execution_count": 37,
   "metadata": {
    "collapsed": true,
    "level": 7
   },
   "outputs": [],
   "source": [
    "U_guess_closest_PE = U_guess.closest_PE()"
   ]
  },
  {
   "cell_type": "code",
   "execution_count": 39,
   "metadata": {
    "collapsed": false,
    "level": 7
   },
   "outputs": [
    {
     "data": {
      "text/plain": [
       "0.98304954708932146"
      ]
     },
     "execution_count": 39,
     "metadata": {},
     "output_type": "execute_result"
    }
   ],
   "source": [
    "U_guess.F_avg(U_guess_closest_PE)"
   ]
  },
  {
   "cell_type": "code",
   "execution_count": 30,
   "metadata": {
    "collapsed": false,
    "level": 7
   },
   "outputs": [],
   "source": [
    "proc = system(\"./run_oct.py --target=PE --continue --rwa --pre-simplex='pulse_guess.json' {rf}\".format(rf=rf))"
   ]
  },
  {
   "cell_type": "code",
   "execution_count": 32,
   "metadata": {
    "collapsed": false,
    "level": 7
   },
   "outputs": [
    {
     "name": "stdout",
     "output_type": "stream",
     "text": [
      "  878  2.441503128017E-03  1.021673162694E-07  0.000000000000E+00  2.44160529533\r\n",
      "  879  2.441275218414E-03  1.019170565411E-07  0.000000000000E+00  2.44137713547\r\n",
      "  880  2.441047888456E-03  1.016675715323E-07  0.000000000000E+00  2.44114955602\r\n",
      "  881  2.440821136252E-03  1.014188581838E-07  0.000000000000E+00  2.44092255511\r\n",
      "  882  2.440594960006E-03  1.011709134452E-07  0.000000000000E+00  2.44069613091\r\n",
      "  883  2.440369357867E-03  1.009237342714E-07  0.000000000000E+00  2.44047028160\r\n",
      "  884  2.440144328032E-03  1.006773176279E-07  0.000000000000E+00  2.44024500535\r\n",
      "  885  2.439919868680E-03  1.004316604860E-07  0.000000000000E+00  2.44002030034\r\n",
      "  886  2.439695978011E-03  1.001867598248E-07  0.000000000000E+00  2.43979616477\r\n",
      "  887  2.439472654232E-03  9.994261263395E-08  0.000000000000E+00  2.43957259684\r\n"
     ]
    }
   ],
   "source": [
    "proc.join(); U = propagate(rf, 'pulse.dat', rwa=True, force=True);\n",
    "! tail {rf}/oct_iters.dat | cut -b 1-80"
   ]
  },
  {
   "cell_type": "code",
   "execution_count": 38,
   "metadata": {
    "collapsed": false,
    "level": 7
   },
   "outputs": [
    {
     "name": "stdout",
     "output_type": "stream",
     "text": [
      "Concurrence: 0.955904\n",
      "Loss: 0.002136\n"
     ]
    }
   ],
   "source": [
    "print(\"Concurrence: %f\" % U.closest_unitary().concurrence())\n",
    "print(\"Loss: %f\" % U.pop_loss())"
   ]
  },
  {
   "cell_type": "code",
   "execution_count": 35,
   "metadata": {
    "collapsed": false,
    "level": 7
   },
   "outputs": [],
   "source": [
    "U_closest_PE = U.closest_PE()"
   ]
  },
  {
   "cell_type": "code",
   "execution_count": 36,
   "metadata": {
    "collapsed": false,
    "level": 7
   },
   "outputs": [
    {
     "data": {
      "text/plain": [
       "0.98903817483804313"
      ]
     },
     "execution_count": 36,
     "metadata": {},
     "output_type": "execute_result"
    }
   ],
   "source": [
    "U.F_avg(U_closest_PE)"
   ]
  },
  {
   "cell_type": "code",
   "execution_count": 40,
   "metadata": {
    "collapsed": false,
    "level": 7
   },
   "outputs": [
    {
     "data": {
      "text/plain": [
       "0.010961825161956873"
      ]
     },
     "execution_count": 40,
     "metadata": {},
     "output_type": "execute_result"
    }
   ],
   "source": [
    "1 - U.F_avg(U_closest_PE)"
   ]
  },
  {
   "cell_type": "markdown",
   "metadata": {
    "heading_collapsed": false,
    "level": 2
   },
   "source": [
    "## Implementation of Single-Qubit Gate"
   ]
  },
  {
   "cell_type": "markdown",
   "metadata": {
    "collapsed": true,
    "heading_collapsed": false,
    "level": 3
   },
   "source": [
    "### $H_L$ at $T = 2 T_\\pi$ ####"
   ]
  },
  {
   "cell_type": "code",
   "execution_count": 189,
   "metadata": {
    "collapsed": true,
    "level": 7
   },
   "outputs": [],
   "source": [
    "rf = join(root, '1cycle_H_left'); mkdir(rf)\n",
    "wd = 0.5*(w1+w2)"
   ]
  },
  {
   "cell_type": "code",
   "execution_count": 190,
   "metadata": {
    "collapsed": false,
    "level": 7
   },
   "outputs": [
    {
     "data": {
      "text/plain": [
       "'./runs_zeta_detailed/w2_6320MHz_wc_5750MHz/1cycle_H_left'"
      ]
     },
     "execution_count": 190,
     "metadata": {},
     "output_type": "execute_result"
    }
   ],
   "source": [
    "rf"
   ]
  },
  {
   "cell_type": "code",
   "execution_count": 191,
   "metadata": {
    "collapsed": false,
    "level": 7
   },
   "outputs": [],
   "source": [
    "T = 2*T_entangling\n",
    "nt = int(max(2000, 100 * w_max * T))\n",
    "write_target_gate_dat(rf, 'H_left')\n",
    "write_config(join(rf, 'config'), T, nt, wc, w2, wd=wd, gate=\"target_gate.dat\", J_T='SM', prop_guess='F')"
   ]
  },
  {
   "cell_type": "code",
   "execution_count": 192,
   "metadata": {
    "collapsed": false,
    "level": 7
   },
   "outputs": [
    {
     "data": {
      "text/plain": [
       "59.82292414453215"
      ]
     },
     "execution_count": 192,
     "metadata": {},
     "output_type": "execute_result"
    }
   ],
   "source": [
    "T"
   ]
  },
  {
   "cell_type": "code",
   "execution_count": 193,
   "metadata": {
    "collapsed": false,
    "level": 7,
    "scrolled": false
   },
   "outputs": [
    {
     "data": {
      "text/html": [
       "<div>\n",
       "<table border=\"1\" class=\"dataframe\">\n",
       "  <thead>\n",
       "    <tr style=\"text-align: right;\">\n",
       "      <th></th>\n",
       "      <th>E0</th>\n",
       "      <th>w_L</th>\n",
       "      <th>fig_of_merit</th>\n",
       "    </tr>\n",
       "  </thead>\n",
       "  <tbody>\n",
       "    <tr>\n",
       "      <th>27</th>\n",
       "      <td>150</td>\n",
       "      <td>6.000000</td>\n",
       "      <td>0.193467</td>\n",
       "    </tr>\n",
       "    <tr>\n",
       "      <th>31</th>\n",
       "      <td>150</td>\n",
       "      <td>6.000570</td>\n",
       "      <td>0.195021</td>\n",
       "    </tr>\n",
       "    <tr>\n",
       "      <th>15</th>\n",
       "      <td>50</td>\n",
       "      <td>6.328690</td>\n",
       "      <td>0.199310</td>\n",
       "    </tr>\n",
       "    <tr>\n",
       "      <th>4</th>\n",
       "      <td>0</td>\n",
       "      <td>6.000570</td>\n",
       "      <td>0.199350</td>\n",
       "    </tr>\n",
       "    <tr>\n",
       "      <th>0</th>\n",
       "      <td>0</td>\n",
       "      <td>6.000000</td>\n",
       "      <td>0.199350</td>\n",
       "    </tr>\n",
       "    <tr>\n",
       "      <th>1</th>\n",
       "      <td>0</td>\n",
       "      <td>6.320000</td>\n",
       "      <td>0.199350</td>\n",
       "    </tr>\n",
       "    <tr>\n",
       "      <th>2</th>\n",
       "      <td>0</td>\n",
       "      <td>6.160000</td>\n",
       "      <td>0.199350</td>\n",
       "    </tr>\n",
       "    <tr>\n",
       "      <th>3</th>\n",
       "      <td>0</td>\n",
       "      <td>6.017286</td>\n",
       "      <td>0.199350</td>\n",
       "    </tr>\n",
       "    <tr>\n",
       "      <th>5</th>\n",
       "      <td>0</td>\n",
       "      <td>6.008928</td>\n",
       "      <td>0.199350</td>\n",
       "    </tr>\n",
       "    <tr>\n",
       "      <th>6</th>\n",
       "      <td>0</td>\n",
       "      <td>6.328690</td>\n",
       "      <td>0.199350</td>\n",
       "    </tr>\n",
       "    <tr>\n",
       "      <th>7</th>\n",
       "      <td>0</td>\n",
       "      <td>6.311974</td>\n",
       "      <td>0.199350</td>\n",
       "    </tr>\n",
       "    <tr>\n",
       "      <th>8</th>\n",
       "      <td>0</td>\n",
       "      <td>6.320332</td>\n",
       "      <td>0.199350</td>\n",
       "    </tr>\n",
       "    <tr>\n",
       "      <th>11</th>\n",
       "      <td>50</td>\n",
       "      <td>6.160000</td>\n",
       "      <td>0.199529</td>\n",
       "    </tr>\n",
       "    <tr>\n",
       "      <th>24</th>\n",
       "      <td>100</td>\n",
       "      <td>6.328690</td>\n",
       "      <td>0.199557</td>\n",
       "    </tr>\n",
       "    <tr>\n",
       "      <th>17</th>\n",
       "      <td>50</td>\n",
       "      <td>6.320332</td>\n",
       "      <td>0.200026</td>\n",
       "    </tr>\n",
       "    <tr>\n",
       "      <th>10</th>\n",
       "      <td>50</td>\n",
       "      <td>6.320000</td>\n",
       "      <td>0.200051</td>\n",
       "    </tr>\n",
       "    <tr>\n",
       "      <th>16</th>\n",
       "      <td>50</td>\n",
       "      <td>6.311974</td>\n",
       "      <td>0.200056</td>\n",
       "    </tr>\n",
       "    <tr>\n",
       "      <th>20</th>\n",
       "      <td>100</td>\n",
       "      <td>6.160000</td>\n",
       "      <td>0.200578</td>\n",
       "    </tr>\n",
       "    <tr>\n",
       "      <th>33</th>\n",
       "      <td>150</td>\n",
       "      <td>6.328690</td>\n",
       "      <td>0.201111</td>\n",
       "    </tr>\n",
       "    <tr>\n",
       "      <th>14</th>\n",
       "      <td>50</td>\n",
       "      <td>6.008928</td>\n",
       "      <td>0.201331</td>\n",
       "    </tr>\n",
       "    <tr>\n",
       "      <th>23</th>\n",
       "      <td>100</td>\n",
       "      <td>6.008928</td>\n",
       "      <td>0.202308</td>\n",
       "    </tr>\n",
       "    <tr>\n",
       "      <th>29</th>\n",
       "      <td>150</td>\n",
       "      <td>6.160000</td>\n",
       "      <td>0.204535</td>\n",
       "    </tr>\n",
       "    <tr>\n",
       "      <th>25</th>\n",
       "      <td>100</td>\n",
       "      <td>6.311974</td>\n",
       "      <td>0.208194</td>\n",
       "    </tr>\n",
       "    <tr>\n",
       "      <th>26</th>\n",
       "      <td>100</td>\n",
       "      <td>6.320332</td>\n",
       "      <td>0.208555</td>\n",
       "    </tr>\n",
       "    <tr>\n",
       "      <th>19</th>\n",
       "      <td>100</td>\n",
       "      <td>6.320000</td>\n",
       "      <td>0.208863</td>\n",
       "    </tr>\n",
       "    <tr>\n",
       "      <th>32</th>\n",
       "      <td>150</td>\n",
       "      <td>6.008928</td>\n",
       "      <td>0.209195</td>\n",
       "    </tr>\n",
       "    <tr>\n",
       "      <th>34</th>\n",
       "      <td>150</td>\n",
       "      <td>6.311974</td>\n",
       "      <td>0.232655</td>\n",
       "    </tr>\n",
       "    <tr>\n",
       "      <th>35</th>\n",
       "      <td>150</td>\n",
       "      <td>6.320332</td>\n",
       "      <td>0.235788</td>\n",
       "    </tr>\n",
       "    <tr>\n",
       "      <th>28</th>\n",
       "      <td>150</td>\n",
       "      <td>6.320000</td>\n",
       "      <td>0.236916</td>\n",
       "    </tr>\n",
       "    <tr>\n",
       "      <th>9</th>\n",
       "      <td>50</td>\n",
       "      <td>6.000000</td>\n",
       "      <td>0.236979</td>\n",
       "    </tr>\n",
       "    <tr>\n",
       "      <th>13</th>\n",
       "      <td>50</td>\n",
       "      <td>6.000570</td>\n",
       "      <td>0.240412</td>\n",
       "    </tr>\n",
       "    <tr>\n",
       "      <th>18</th>\n",
       "      <td>100</td>\n",
       "      <td>6.000000</td>\n",
       "      <td>0.258382</td>\n",
       "    </tr>\n",
       "    <tr>\n",
       "      <th>22</th>\n",
       "      <td>100</td>\n",
       "      <td>6.000570</td>\n",
       "      <td>0.264464</td>\n",
       "    </tr>\n",
       "    <tr>\n",
       "      <th>12</th>\n",
       "      <td>50</td>\n",
       "      <td>6.017286</td>\n",
       "      <td>0.295853</td>\n",
       "    </tr>\n",
       "    <tr>\n",
       "      <th>30</th>\n",
       "      <td>150</td>\n",
       "      <td>6.017286</td>\n",
       "      <td>0.378381</td>\n",
       "    </tr>\n",
       "    <tr>\n",
       "      <th>21</th>\n",
       "      <td>100</td>\n",
       "      <td>6.017286</td>\n",
       "      <td>0.483832</td>\n",
       "    </tr>\n",
       "  </tbody>\n",
       "</table>\n",
       "</div>"
      ],
      "text/plain": [
       "     E0       w_L  fig_of_merit\n",
       "27  150  6.000000      0.193467\n",
       "31  150  6.000570      0.195021\n",
       "15   50  6.328690      0.199310\n",
       "4     0  6.000570      0.199350\n",
       "0     0  6.000000      0.199350\n",
       "1     0  6.320000      0.199350\n",
       "2     0  6.160000      0.199350\n",
       "3     0  6.017286      0.199350\n",
       "5     0  6.008928      0.199350\n",
       "6     0  6.328690      0.199350\n",
       "7     0  6.311974      0.199350\n",
       "8     0  6.320332      0.199350\n",
       "11   50  6.160000      0.199529\n",
       "24  100  6.328690      0.199557\n",
       "17   50  6.320332      0.200026\n",
       "10   50  6.320000      0.200051\n",
       "16   50  6.311974      0.200056\n",
       "20  100  6.160000      0.200578\n",
       "33  150  6.328690      0.201111\n",
       "14   50  6.008928      0.201331\n",
       "23  100  6.008928      0.202308\n",
       "29  150  6.160000      0.204535\n",
       "25  100  6.311974      0.208194\n",
       "26  100  6.320332      0.208555\n",
       "19  100  6.320000      0.208863\n",
       "32  150  6.008928      0.209195\n",
       "34  150  6.311974      0.232655\n",
       "35  150  6.320332      0.235788\n",
       "28  150  6.320000      0.236916\n",
       "9    50  6.000000      0.236979\n",
       "13   50  6.000570      0.240412\n",
       "18  100  6.000000      0.258382\n",
       "22  100  6.000570      0.264464\n",
       "12   50  6.017286      0.295853\n",
       "30  150  6.017286      0.378381\n",
       "21  100  6.017286      0.483832"
      ]
     },
     "execution_count": 193,
     "metadata": {},
     "output_type": "execute_result"
    }
   ],
   "source": [
    "pulse = AnalyticalPulse('1freq_rwa', T, nt,\n",
    "            parameters={'E0': 0.0, 'T': T, 'w_L': wd, 'w_d': wd},\n",
    "            t0=0.0, time_unit='ns', ampl_unit='MHz', freq_unit='MHz', mode=\"complex\")\n",
    "systematic_variation(rf, pulse, vary=OrderedDict([\n",
    "            ('E0', [0.0, 50, 100, 150]), \n",
    "            ('w_L', [w1, w2, 0.5*(w1+w2),  \n",
    "                     w1_dressed0, w1_dressed1, 0.5*(w1_dressed0+w1_dressed1),\n",
    "                     w2_dressed0, w2_dressed1, 0.5*(w2_dressed0+w2_dressed1)])]),\n",
    "            fig_of_merit=F_avg_H_left, n_procs=40)"
   ]
  },
  {
   "cell_type": "code",
   "execution_count": 194,
   "metadata": {
    "collapsed": true,
    "level": 7
   },
   "outputs": [],
   "source": [
    "pulse_ff = AnalyticalPulse('1freq_rwa', T, nt,\n",
    "            parameters={'E0': 0.0, 'T': T, 'w_L': wd, 'w_d': wd},\n",
    "            t0=0.0, time_unit='ns', ampl_unit='MHz', freq_unit='MHz', mode=\"complex\")\n",
    "pulse_ff.write(join(rf, 'pulse_ff.json'))\n",
    "U_ff = propagate(rf, 'pulse_ff.json', rwa=True, force=True, keep=None);"
   ]
  },
  {
   "cell_type": "code",
   "execution_count": 195,
   "metadata": {
    "collapsed": false,
    "level": 7
   },
   "outputs": [
    {
     "data": {
      "text/plain": [
       "0.0047916360641748756"
      ]
     },
     "execution_count": 195,
     "metadata": {},
     "output_type": "execute_result"
    }
   ],
   "source": [
    "U_ff.pop_loss()"
   ]
  },
  {
   "cell_type": "code",
   "execution_count": 196,
   "metadata": {
    "collapsed": false,
    "level": 7
   },
   "outputs": [
    {
     "data": {
      "text/plain": [
       "6.8423887941836993e-05"
      ]
     },
     "execution_count": 196,
     "metadata": {},
     "output_type": "execute_result"
    }
   ],
   "source": [
    "U_ff.concurrence()"
   ]
  },
  {
   "cell_type": "code",
   "execution_count": 198,
   "metadata": {
    "collapsed": true,
    "level": 7
   },
   "outputs": [],
   "source": [
    "pulse = AnalyticalPulse('1freq_rwa', T, nt,\n",
    "            parameters={'E0': 100.0, 'T': T, 'w_L': 6.017286, 'w_d': 6.017286},\n",
    "            t0=0.0, time_unit='ns', ampl_unit='MHz', freq_unit='MHz', mode=\"complex\")\n",
    "pulse.write(join(rf, 'pulse_guess.json'))"
   ]
  },
  {
   "cell_type": "code",
   "execution_count": 199,
   "metadata": {
    "collapsed": false,
    "level": 7
   },
   "outputs": [
    {
     "name": "stdout",
     "output_type": "stream",
     "text": [
      "Concurrence: 0.939675\n",
      "Loss: 0.028905\n"
     ]
    }
   ],
   "source": [
    "U_guess = propagate(rf, 'pulse_guess.json', rwa=True, force=True)\n",
    "print(\"Concurrence: %f\" % U_guess.closest_unitary().concurrence())\n",
    "print(\"Loss: %f\" % U_guess.pop_loss())"
   ]
  },
  {
   "cell_type": "markdown",
   "metadata": {
    "level": 7
   },
   "source": [
    "Note the high concurrence -- this is because the guess pulse implements the Hadamard in population, but not in phases"
   ]
  },
  {
   "cell_type": "code",
   "execution_count": 201,
   "metadata": {
    "collapsed": false,
    "level": 7
   },
   "outputs": [
    {
     "data": {
      "text/plain": [
       "0.48383223068241632"
      ]
     },
     "execution_count": 201,
     "metadata": {},
     "output_type": "execute_result"
    }
   ],
   "source": [
    "U_guess.F_avg(H_left)"
   ]
  },
  {
   "cell_type": "code",
   "execution_count": 203,
   "metadata": {
    "collapsed": false,
    "level": 7
   },
   "outputs": [
    {
     "data": {
      "image/png": "[encoded data removed]",
      "text/plain": [
       "<matplotlib.figure.Figure at 0x7f89dd226a90>"
      ]
     },
     "metadata": {},
     "output_type": "display_data"
    }
   ],
   "source": [
    "U_guess.arrow_plot()"
   ]
  },
  {
   "cell_type": "code",
   "execution_count": 204,
   "metadata": {
    "collapsed": false,
    "level": 7
   },
   "outputs": [
    {
     "data": {
      "image/png": "[encoded data removed]",
      "text/plain": [
       "<matplotlib.figure.Figure at 0x7f89dd198e10>"
      ]
     },
     "metadata": {},
     "output_type": "display_data"
    }
   ],
   "source": [
    "H_left.arrow_plot()"
   ]
  },
  {
   "cell_type": "code",
   "execution_count": 48,
   "metadata": {
    "collapsed": false,
    "level": 7
   },
   "outputs": [],
   "source": [
    "proc2 = system(\"./run_oct.py --continue --threads --rwa --pre-simplex='pulse_guess.json' {rf}\".format(rf=rf))"
   ]
  },
  {
   "cell_type": "code",
   "execution_count": 52,
   "metadata": {
    "collapsed": true,
    "level": 7
   },
   "outputs": [],
   "source": [
    "proc2.join()"
   ]
  },
  {
   "cell_type": "code",
   "execution_count": 50,
   "metadata": {
    "collapsed": false,
    "level": 7
   },
   "outputs": [
    {
     "data": {
      "text/plain": [
       "'./runs_zeta_detailed/w2_6320MHz_wc_5750MHz/1cycle_H_left'"
      ]
     },
     "execution_count": 50,
     "metadata": {},
     "output_type": "execute_result"
    }
   ],
   "source": [
    "rf"
   ]
  },
  {
   "cell_type": "code",
   "execution_count": 58,
   "metadata": {
    "collapsed": false,
    "level": 7
   },
   "outputs": [
    {
     "name": "stdout",
     "output_type": "stream",
     "text": [
      " 2380  1.027234049713E-02  1.014422339535E-07  0.000000000000E+00  1.02724419393\r\n",
      " 2381  1.027212597375E-02  1.012737457218E-07  0.000000000000E+00  1.02722272474\r\n",
      " 2382  1.027191180872E-02  1.011055950323E-07  0.000000000000E+00  1.02720129143\r\n",
      " 2383  1.027169800128E-02  1.009377816437E-07  0.000000000000E+00  1.02717989390\r\n",
      " 2384  1.027148455073E-02  1.007703053068E-07  0.000000000000E+00  1.02715853210\r\n",
      " 2385  1.027127145633E-02  1.006031657705E-07  0.000000000000E+00  1.02713720594\r\n",
      " 2386  1.027105871730E-02  1.004363627747E-07  0.000000000000E+00  1.02711591536\r\n",
      " 2387  1.027084633293E-02  1.002698960581E-07  0.000000000000E+00  1.02709466028\r\n",
      " 2388  1.027063430250E-02  1.001037653547E-07  0.000000000000E+00  1.02707344062\r\n",
      " 2389  1.027042262523E-02  9.993797039167E-08  0.000000000000E+00  1.02705225632\r\n"
     ]
    }
   ],
   "source": [
    "U = propagate(rf, 'pulse.dat', rwa=True, force=True, keep=True);\n",
    "! tail {rf}/oct_iters.dat | cut -b 1-80"
   ]
  },
  {
   "cell_type": "code",
   "execution_count": 59,
   "metadata": {
    "collapsed": false,
    "level": 7
   },
   "outputs": [
    {
     "data": {
      "text/plain": [
       "0.0055463905609073232"
      ]
     },
     "execution_count": 59,
     "metadata": {},
     "output_type": "execute_result"
    }
   ],
   "source": [
    "U.concurrence()"
   ]
  },
  {
   "cell_type": "code",
   "execution_count": 60,
   "metadata": {
    "collapsed": false,
    "level": 7
   },
   "outputs": [
    {
     "data": {
      "text/plain": [
       "0.010249457290468555"
      ]
     },
     "execution_count": 60,
     "metadata": {},
     "output_type": "execute_result"
    }
   ],
   "source": [
    "U.pop_loss()"
   ]
  },
  {
   "cell_type": "code",
   "execution_count": 61,
   "metadata": {
    "collapsed": false,
    "level": 7
   },
   "outputs": [
    {
     "data": {
      "text/plain": [
       "0.01026622966796964"
      ]
     },
     "execution_count": 61,
     "metadata": {},
     "output_type": "execute_result"
    }
   ],
   "source": [
    "1-U.F_avg(H_left)"
   ]
  },
  {
   "cell_type": "code",
   "execution_count": 67,
   "metadata": {
    "collapsed": false,
    "level": 7
   },
   "outputs": [
    {
     "data": {
      "image/png": "[encoded data removed]",
      "text/plain": [
       "<matplotlib.figure.Figure at 0x7f89ede81e90>"
      ]
     },
     "metadata": {},
     "output_type": "display_data"
    }
   ],
   "source": [
    "QDYN.pulse.Pulse(join(rf, 'pulse.dat')).show(\n",
    "    mark_freqs=mark_freqs(rf, transition_table),\n",
    "    mark_freq_points='o', wmin=-0.2, wmax=0.5)"
   ]
  },
  {
   "cell_type": "code",
   "execution_count": 70,
   "metadata": {
    "collapsed": false,
    "level": 7
   },
   "outputs": [
    {
     "name": "stderr",
     "output_type": "stream",
     "text": [
      "/data/goerz/jobs/ConstrainedTransmon/venv/lib/python2.7/site-packages/matplotlib/collections.py:590: FutureWarning: elementwise comparison failed; returning scalar instead, but in the future will perform elementwise comparison\n",
      "  if self._edgecolors == str('face'):\n"
     ]
    },
    {
     "data": {
      "image/png": "[encoded data removed]",
      "text/plain": [
       "<matplotlib.figure.Figure at 0x7f89f077f290>"
      ]
     },
     "metadata": {},
     "output_type": "display_data"
    }
   ],
   "source": [
    "QDYNTransmonLib.popdyn.PopPlot(rf).show()"
   ]
  },
  {
   "cell_type": "markdown",
   "metadata": {
    "collapsed": true,
    "heading_collapsed": false,
    "level": 3
   },
   "source": [
    "### $H_R$ at $T = 2 T_\\pi$ ####"
   ]
  },
  {
   "cell_type": "code",
   "execution_count": 215,
   "metadata": {
    "collapsed": true,
    "level": 7
   },
   "outputs": [],
   "source": [
    "rf = join(root, '1cycle_H_right'); mkdir(rf)\n",
    "wd = 0.5*(w1+w2)"
   ]
  },
  {
   "cell_type": "code",
   "execution_count": 216,
   "metadata": {
    "collapsed": false,
    "level": 7
   },
   "outputs": [
    {
     "data": {
      "text/plain": [
       "'./runs_zeta_detailed/w2_6320MHz_wc_5750MHz/1cycle_H_right'"
      ]
     },
     "execution_count": 216,
     "metadata": {},
     "output_type": "execute_result"
    }
   ],
   "source": [
    "rf"
   ]
  },
  {
   "cell_type": "code",
   "execution_count": 170,
   "metadata": {
    "collapsed": false,
    "level": 7
   },
   "outputs": [],
   "source": [
    "T = 2*T_entangling\n",
    "nt = int(max(2000, 100 * w_max * T))\n",
    "write_target_gate_dat(rf, 'H_right')\n",
    "write_config(join(rf, 'config'), T, nt, wc, w2, wd=wd, gate=\"target_gate.dat\", J_T='SM', prop_guess='F')"
   ]
  },
  {
   "cell_type": "code",
   "execution_count": 173,
   "metadata": {
    "collapsed": false,
    "level": 7,
    "scrolled": false
   },
   "outputs": [
    {
     "data": {
      "text/html": [
       "<div>\n",
       "<table border=\"1\" class=\"dataframe\">\n",
       "  <thead>\n",
       "    <tr style=\"text-align: right;\">\n",
       "      <th></th>\n",
       "      <th>E0</th>\n",
       "      <th>w_L</th>\n",
       "      <th>fig_of_merit</th>\n",
       "    </tr>\n",
       "  </thead>\n",
       "  <tbody>\n",
       "    <tr>\n",
       "      <th>31</th>\n",
       "      <td>150</td>\n",
       "      <td>6.000570</td>\n",
       "      <td>0.192937</td>\n",
       "    </tr>\n",
       "    <tr>\n",
       "      <th>27</th>\n",
       "      <td>150</td>\n",
       "      <td>6.000000</td>\n",
       "      <td>0.193279</td>\n",
       "    </tr>\n",
       "    <tr>\n",
       "      <th>21</th>\n",
       "      <td>100</td>\n",
       "      <td>6.017286</td>\n",
       "      <td>0.207752</td>\n",
       "    </tr>\n",
       "    <tr>\n",
       "      <th>32</th>\n",
       "      <td>150</td>\n",
       "      <td>6.008928</td>\n",
       "      <td>0.209284</td>\n",
       "    </tr>\n",
       "    <tr>\n",
       "      <th>35</th>\n",
       "      <td>150</td>\n",
       "      <td>6.320332</td>\n",
       "      <td>0.250141</td>\n",
       "    </tr>\n",
       "    <tr>\n",
       "      <th>28</th>\n",
       "      <td>150</td>\n",
       "      <td>6.320000</td>\n",
       "      <td>0.252204</td>\n",
       "    </tr>\n",
       "    <tr>\n",
       "      <th>23</th>\n",
       "      <td>100</td>\n",
       "      <td>6.008928</td>\n",
       "      <td>0.262510</td>\n",
       "    </tr>\n",
       "    <tr>\n",
       "      <th>34</th>\n",
       "      <td>150</td>\n",
       "      <td>6.311974</td>\n",
       "      <td>0.272210</td>\n",
       "    </tr>\n",
       "    <tr>\n",
       "      <th>30</th>\n",
       "      <td>150</td>\n",
       "      <td>6.017286</td>\n",
       "      <td>0.275249</td>\n",
       "    </tr>\n",
       "    <tr>\n",
       "      <th>33</th>\n",
       "      <td>150</td>\n",
       "      <td>6.328690</td>\n",
       "      <td>0.303442</td>\n",
       "    </tr>\n",
       "    <tr>\n",
       "      <th>26</th>\n",
       "      <td>100</td>\n",
       "      <td>6.320332</td>\n",
       "      <td>0.352612</td>\n",
       "    </tr>\n",
       "    <tr>\n",
       "      <th>19</th>\n",
       "      <td>100</td>\n",
       "      <td>6.320000</td>\n",
       "      <td>0.355470</td>\n",
       "    </tr>\n",
       "    <tr>\n",
       "      <th>22</th>\n",
       "      <td>100</td>\n",
       "      <td>6.000570</td>\n",
       "      <td>0.366941</td>\n",
       "    </tr>\n",
       "    <tr>\n",
       "      <th>18</th>\n",
       "      <td>100</td>\n",
       "      <td>6.000000</td>\n",
       "      <td>0.373893</td>\n",
       "    </tr>\n",
       "    <tr>\n",
       "      <th>25</th>\n",
       "      <td>100</td>\n",
       "      <td>6.311974</td>\n",
       "      <td>0.398684</td>\n",
       "    </tr>\n",
       "    <tr>\n",
       "      <th>12</th>\n",
       "      <td>50</td>\n",
       "      <td>6.017286</td>\n",
       "      <td>0.425958</td>\n",
       "    </tr>\n",
       "    <tr>\n",
       "      <th>24</th>\n",
       "      <td>100</td>\n",
       "      <td>6.328690</td>\n",
       "      <td>0.430931</td>\n",
       "    </tr>\n",
       "    <tr>\n",
       "      <th>14</th>\n",
       "      <td>50</td>\n",
       "      <td>6.008928</td>\n",
       "      <td>0.466849</td>\n",
       "    </tr>\n",
       "    <tr>\n",
       "      <th>29</th>\n",
       "      <td>150</td>\n",
       "      <td>6.160000</td>\n",
       "      <td>0.468181</td>\n",
       "    </tr>\n",
       "    <tr>\n",
       "      <th>17</th>\n",
       "      <td>50</td>\n",
       "      <td>6.320332</td>\n",
       "      <td>0.480463</td>\n",
       "    </tr>\n",
       "    <tr>\n",
       "      <th>10</th>\n",
       "      <td>50</td>\n",
       "      <td>6.320000</td>\n",
       "      <td>0.482556</td>\n",
       "    </tr>\n",
       "    <tr>\n",
       "      <th>16</th>\n",
       "      <td>50</td>\n",
       "      <td>6.311974</td>\n",
       "      <td>0.516299</td>\n",
       "    </tr>\n",
       "    <tr>\n",
       "      <th>20</th>\n",
       "      <td>100</td>\n",
       "      <td>6.160000</td>\n",
       "      <td>0.521255</td>\n",
       "    </tr>\n",
       "    <tr>\n",
       "      <th>13</th>\n",
       "      <td>50</td>\n",
       "      <td>6.000570</td>\n",
       "      <td>0.522434</td>\n",
       "    </tr>\n",
       "    <tr>\n",
       "      <th>9</th>\n",
       "      <td>50</td>\n",
       "      <td>6.000000</td>\n",
       "      <td>0.525741</td>\n",
       "    </tr>\n",
       "    <tr>\n",
       "      <th>15</th>\n",
       "      <td>50</td>\n",
       "      <td>6.328690</td>\n",
       "      <td>0.534448</td>\n",
       "    </tr>\n",
       "    <tr>\n",
       "      <th>11</th>\n",
       "      <td>50</td>\n",
       "      <td>6.160000</td>\n",
       "      <td>0.547908</td>\n",
       "    </tr>\n",
       "    <tr>\n",
       "      <th>7</th>\n",
       "      <td>0</td>\n",
       "      <td>6.311974</td>\n",
       "      <td>0.555654</td>\n",
       "    </tr>\n",
       "    <tr>\n",
       "      <th>1</th>\n",
       "      <td>0</td>\n",
       "      <td>6.320000</td>\n",
       "      <td>0.555654</td>\n",
       "    </tr>\n",
       "    <tr>\n",
       "      <th>8</th>\n",
       "      <td>0</td>\n",
       "      <td>6.320332</td>\n",
       "      <td>0.555654</td>\n",
       "    </tr>\n",
       "    <tr>\n",
       "      <th>5</th>\n",
       "      <td>0</td>\n",
       "      <td>6.008928</td>\n",
       "      <td>0.555654</td>\n",
       "    </tr>\n",
       "    <tr>\n",
       "      <th>4</th>\n",
       "      <td>0</td>\n",
       "      <td>6.000570</td>\n",
       "      <td>0.555654</td>\n",
       "    </tr>\n",
       "    <tr>\n",
       "      <th>3</th>\n",
       "      <td>0</td>\n",
       "      <td>6.017286</td>\n",
       "      <td>0.555654</td>\n",
       "    </tr>\n",
       "    <tr>\n",
       "      <th>2</th>\n",
       "      <td>0</td>\n",
       "      <td>6.160000</td>\n",
       "      <td>0.555654</td>\n",
       "    </tr>\n",
       "    <tr>\n",
       "      <th>0</th>\n",
       "      <td>0</td>\n",
       "      <td>6.000000</td>\n",
       "      <td>0.555654</td>\n",
       "    </tr>\n",
       "    <tr>\n",
       "      <th>6</th>\n",
       "      <td>0</td>\n",
       "      <td>6.328690</td>\n",
       "      <td>0.555654</td>\n",
       "    </tr>\n",
       "  </tbody>\n",
       "</table>\n",
       "</div>"
      ],
      "text/plain": [
       "     E0       w_L  fig_of_merit\n",
       "31  150  6.000570      0.192937\n",
       "27  150  6.000000      0.193279\n",
       "21  100  6.017286      0.207752\n",
       "32  150  6.008928      0.209284\n",
       "35  150  6.320332      0.250141\n",
       "28  150  6.320000      0.252204\n",
       "23  100  6.008928      0.262510\n",
       "34  150  6.311974      0.272210\n",
       "30  150  6.017286      0.275249\n",
       "33  150  6.328690      0.303442\n",
       "26  100  6.320332      0.352612\n",
       "19  100  6.320000      0.355470\n",
       "22  100  6.000570      0.366941\n",
       "18  100  6.000000      0.373893\n",
       "25  100  6.311974      0.398684\n",
       "12   50  6.017286      0.425958\n",
       "24  100  6.328690      0.430931\n",
       "14   50  6.008928      0.466849\n",
       "29  150  6.160000      0.468181\n",
       "17   50  6.320332      0.480463\n",
       "10   50  6.320000      0.482556\n",
       "16   50  6.311974      0.516299\n",
       "20  100  6.160000      0.521255\n",
       "13   50  6.000570      0.522434\n",
       "9    50  6.000000      0.525741\n",
       "15   50  6.328690      0.534448\n",
       "11   50  6.160000      0.547908\n",
       "7     0  6.311974      0.555654\n",
       "1     0  6.320000      0.555654\n",
       "8     0  6.320332      0.555654\n",
       "5     0  6.008928      0.555654\n",
       "4     0  6.000570      0.555654\n",
       "3     0  6.017286      0.555654\n",
       "2     0  6.160000      0.555654\n",
       "0     0  6.000000      0.555654\n",
       "6     0  6.328690      0.555654"
      ]
     },
     "execution_count": 173,
     "metadata": {},
     "output_type": "execute_result"
    }
   ],
   "source": [
    "pulse = AnalyticalPulse('1freq_rwa', T, nt,\n",
    "            parameters={'E0': 0.0, 'T': T, 'w_L': wd, 'w_d': wd},\n",
    "            t0=0.0, time_unit='ns', ampl_unit='MHz', freq_unit='MHz', mode=\"complex\")\n",
    "systematic_variation(rf, pulse, vary=OrderedDict([\n",
    "            ('E0', [0.0, 50, 100, 150]), \n",
    "            ('w_L', [w1, w2, 0.5*(w1+w2),  \n",
    "                     w1_dressed0, w1_dressed1, 0.5*(w1_dressed0+w1_dressed1),\n",
    "                     w2_dressed0, w2_dressed1, 0.5*(w2_dressed0+w2_dressed1)])]),\n",
    "            fig_of_merit=F_avg_H_right, n_procs=40)"
   ]
  },
  {
   "cell_type": "code",
   "execution_count": 207,
   "metadata": {
    "collapsed": true,
    "level": 7
   },
   "outputs": [],
   "source": [
    "pulse = AnalyticalPulse('1freq_rwa', T, nt,\n",
    "            parameters={'E0': 50.0, 'T': T, 'w_L': 6.328690, 'w_d': 6.328690},\n",
    "            t0=0.0, time_unit='ns', ampl_unit='MHz', freq_unit='MHz', mode=\"complex\")\n",
    "pulse.write(join(rf, 'pulse_guess.json'))"
   ]
  },
  {
   "cell_type": "code",
   "execution_count": 208,
   "metadata": {
    "collapsed": false,
    "level": 7
   },
   "outputs": [
    {
     "name": "stdout",
     "output_type": "stream",
     "text": [
      "Concurrence: 0.665320\n",
      "Loss: 0.004953\n"
     ]
    }
   ],
   "source": [
    "U_guess = propagate(rf, 'pulse_guess.json', rwa=True, force=True, keep=None)\n",
    "print(\"Concurrence: %f\" % U_guess.closest_unitary().concurrence())\n",
    "print(\"Loss: %f\" % U_guess.pop_loss())"
   ]
  },
  {
   "cell_type": "code",
   "execution_count": 209,
   "metadata": {
    "collapsed": false,
    "level": 7
   },
   "outputs": [
    {
     "data": {
      "image/png": "[encoded data removed]",
      "text/plain": [
       "<matplotlib.figure.Figure at 0x7f89dd18b390>"
      ]
     },
     "metadata": {},
     "output_type": "display_data"
    }
   ],
   "source": [
    "U_guess.arrow_plot()"
   ]
  },
  {
   "cell_type": "code",
   "execution_count": 210,
   "metadata": {
    "collapsed": false,
    "level": 7
   },
   "outputs": [
    {
     "data": {
      "text/plain": [
       "0.53444823643626727"
      ]
     },
     "execution_count": 210,
     "metadata": {},
     "output_type": "execute_result"
    }
   ],
   "source": [
    "U_guess.F_avg(H_right)"
   ]
  },
  {
   "cell_type": "code",
   "execution_count": 217,
   "metadata": {
    "collapsed": false,
    "level": 7
   },
   "outputs": [],
   "source": [
    "proc = system(\"./run_oct.py --threads --continue --rwa --pre-simplex='pulse_guess.json' {rf}\".format(rf=rf))"
   ]
  },
  {
   "cell_type": "code",
   "execution_count": null,
   "metadata": {
    "collapsed": true,
    "level": 7
   },
   "outputs": [],
   "source": [
    "proc.join()"
   ]
  },
  {
   "cell_type": "code",
   "execution_count": null,
   "metadata": {
    "collapsed": false,
    "level": 7
   },
   "outputs": [],
   "source": [
    "U = propagate(rf, 'pulse.dat', rwa=True, force=True, keep=True);\n",
    "! tail {rf}/oct_iters.dat | cut -b 1-80"
   ]
  },
  {
   "cell_type": "code",
   "execution_count": null,
   "metadata": {
    "collapsed": false,
    "level": 7
   },
   "outputs": [],
   "source": [
    "U.concurrence()"
   ]
  },
  {
   "cell_type": "code",
   "execution_count": null,
   "metadata": {
    "collapsed": false,
    "level": 7
   },
   "outputs": [],
   "source": [
    "U.pop_loss()"
   ]
  },
  {
   "cell_type": "code",
   "execution_count": null,
   "metadata": {
    "collapsed": false,
    "level": 7
   },
   "outputs": [],
   "source": [
    "1-U.F_avg(H_right)"
   ]
  },
  {
   "cell_type": "code",
   "execution_count": null,
   "metadata": {
    "collapsed": false,
    "level": 7
   },
   "outputs": [],
   "source": [
    "QDYN.pulse.Pulse(join(rf, 'pulse.dat')).show(\n",
    "    mark_freqs=mark_freqs(rf, transition_table),\n",
    "    mark_freq_points='o', wmin=-0.2, wmax=0.5)"
   ]
  },
  {
   "cell_type": "code",
   "execution_count": null,
   "metadata": {
    "collapsed": false,
    "level": 7
   },
   "outputs": [],
   "source": [
    "QDYNTransmonLib.popdyn.PopPlot(rf).show()"
   ]
  },
  {
   "cell_type": "markdown",
   "metadata": {
    "collapsed": true,
    "heading_collapsed": false,
    "level": 3
   },
   "source": [
    "### $S_L$ at $T = 2 T_\\pi$ ####"
   ]
  },
  {
   "cell_type": "code",
   "execution_count": 51,
   "metadata": {
    "collapsed": true,
    "level": 7
   },
   "outputs": [],
   "source": [
    "rf = join(root, '1cycle_Ph_left'); mkdir(rf)\n",
    "wd = 0.5*(w1+w2)"
   ]
  },
  {
   "cell_type": "code",
   "execution_count": 52,
   "metadata": {
    "collapsed": false,
    "level": 7
   },
   "outputs": [
    {
     "data": {
      "text/plain": [
       "'./runs_zeta_detailed/w2_6320MHz_wc_5750MHz/1cycle_Ph_left'"
      ]
     },
     "execution_count": 52,
     "metadata": {},
     "output_type": "execute_result"
    }
   ],
   "source": [
    "rf"
   ]
  },
  {
   "cell_type": "code",
   "execution_count": 53,
   "metadata": {
    "collapsed": false,
    "level": 7
   },
   "outputs": [],
   "source": [
    "T = 2*T_entangling\n",
    "nt = int(max(2000, 100 * w_max * T))\n",
    "write_target_gate_dat(rf, 'Ph_left')\n",
    "write_config(join(rf, 'config'), T, nt, wc, w2, wd=wd, gate=\"target_gate.dat\", J_T='SM', prop_guess='F')"
   ]
  },
  {
   "cell_type": "code",
   "execution_count": 54,
   "metadata": {
    "collapsed": false,
    "level": 7,
    "scrolled": false
   },
   "outputs": [
    {
     "data": {
      "text/html": [
       "<div>\n",
       "<table border=\"1\" class=\"dataframe\">\n",
       "  <thead>\n",
       "    <tr style=\"text-align: right;\">\n",
       "      <th></th>\n",
       "      <th>E0</th>\n",
       "      <th>w_L</th>\n",
       "      <th>fig_of_merit</th>\n",
       "    </tr>\n",
       "  </thead>\n",
       "  <tbody>\n",
       "    <tr>\n",
       "      <th>33</th>\n",
       "      <td>150</td>\n",
       "      <td>6.328690</td>\n",
       "      <td>0.199904</td>\n",
       "    </tr>\n",
       "    <tr>\n",
       "      <th>27</th>\n",
       "      <td>150</td>\n",
       "      <td>6.000000</td>\n",
       "      <td>0.206196</td>\n",
       "    </tr>\n",
       "    <tr>\n",
       "      <th>31</th>\n",
       "      <td>150</td>\n",
       "      <td>6.000570</td>\n",
       "      <td>0.208967</td>\n",
       "    </tr>\n",
       "    <tr>\n",
       "      <th>18</th>\n",
       "      <td>100</td>\n",
       "      <td>6.000000</td>\n",
       "      <td>0.209566</td>\n",
       "    </tr>\n",
       "    <tr>\n",
       "      <th>22</th>\n",
       "      <td>100</td>\n",
       "      <td>6.000570</td>\n",
       "      <td>0.211014</td>\n",
       "    </tr>\n",
       "    <tr>\n",
       "      <th>24</th>\n",
       "      <td>100</td>\n",
       "      <td>6.328690</td>\n",
       "      <td>0.215806</td>\n",
       "    </tr>\n",
       "    <tr>\n",
       "      <th>14</th>\n",
       "      <td>50</td>\n",
       "      <td>6.008928</td>\n",
       "      <td>0.240203</td>\n",
       "    </tr>\n",
       "    <tr>\n",
       "      <th>13</th>\n",
       "      <td>50</td>\n",
       "      <td>6.000570</td>\n",
       "      <td>0.241513</td>\n",
       "    </tr>\n",
       "    <tr>\n",
       "      <th>9</th>\n",
       "      <td>50</td>\n",
       "      <td>6.000000</td>\n",
       "      <td>0.241946</td>\n",
       "    </tr>\n",
       "    <tr>\n",
       "      <th>15</th>\n",
       "      <td>50</td>\n",
       "      <td>6.328690</td>\n",
       "      <td>0.245410</td>\n",
       "    </tr>\n",
       "    <tr>\n",
       "      <th>12</th>\n",
       "      <td>50</td>\n",
       "      <td>6.017286</td>\n",
       "      <td>0.245666</td>\n",
       "    </tr>\n",
       "    <tr>\n",
       "      <th>35</th>\n",
       "      <td>150</td>\n",
       "      <td>6.320332</td>\n",
       "      <td>0.247744</td>\n",
       "    </tr>\n",
       "    <tr>\n",
       "      <th>26</th>\n",
       "      <td>100</td>\n",
       "      <td>6.320332</td>\n",
       "      <td>0.250063</td>\n",
       "    </tr>\n",
       "    <tr>\n",
       "      <th>28</th>\n",
       "      <td>150</td>\n",
       "      <td>6.320000</td>\n",
       "      <td>0.250967</td>\n",
       "    </tr>\n",
       "    <tr>\n",
       "      <th>19</th>\n",
       "      <td>100</td>\n",
       "      <td>6.320000</td>\n",
       "      <td>0.251870</td>\n",
       "    </tr>\n",
       "    <tr>\n",
       "      <th>17</th>\n",
       "      <td>50</td>\n",
       "      <td>6.320332</td>\n",
       "      <td>0.256508</td>\n",
       "    </tr>\n",
       "    <tr>\n",
       "      <th>10</th>\n",
       "      <td>50</td>\n",
       "      <td>6.320000</td>\n",
       "      <td>0.257015</td>\n",
       "    </tr>\n",
       "    <tr>\n",
       "      <th>0</th>\n",
       "      <td>0</td>\n",
       "      <td>6.000000</td>\n",
       "      <td>0.259682</td>\n",
       "    </tr>\n",
       "    <tr>\n",
       "      <th>1</th>\n",
       "      <td>0</td>\n",
       "      <td>6.320000</td>\n",
       "      <td>0.259682</td>\n",
       "    </tr>\n",
       "    <tr>\n",
       "      <th>8</th>\n",
       "      <td>0</td>\n",
       "      <td>6.320332</td>\n",
       "      <td>0.259682</td>\n",
       "    </tr>\n",
       "    <tr>\n",
       "      <th>2</th>\n",
       "      <td>0</td>\n",
       "      <td>6.160000</td>\n",
       "      <td>0.259682</td>\n",
       "    </tr>\n",
       "    <tr>\n",
       "      <th>3</th>\n",
       "      <td>0</td>\n",
       "      <td>6.017286</td>\n",
       "      <td>0.259682</td>\n",
       "    </tr>\n",
       "    <tr>\n",
       "      <th>7</th>\n",
       "      <td>0</td>\n",
       "      <td>6.311974</td>\n",
       "      <td>0.259682</td>\n",
       "    </tr>\n",
       "    <tr>\n",
       "      <th>4</th>\n",
       "      <td>0</td>\n",
       "      <td>6.000570</td>\n",
       "      <td>0.259682</td>\n",
       "    </tr>\n",
       "    <tr>\n",
       "      <th>6</th>\n",
       "      <td>0</td>\n",
       "      <td>6.328690</td>\n",
       "      <td>0.259682</td>\n",
       "    </tr>\n",
       "    <tr>\n",
       "      <th>5</th>\n",
       "      <td>0</td>\n",
       "      <td>6.008928</td>\n",
       "      <td>0.259682</td>\n",
       "    </tr>\n",
       "    <tr>\n",
       "      <th>16</th>\n",
       "      <td>50</td>\n",
       "      <td>6.311974</td>\n",
       "      <td>0.268705</td>\n",
       "    </tr>\n",
       "    <tr>\n",
       "      <th>11</th>\n",
       "      <td>50</td>\n",
       "      <td>6.160000</td>\n",
       "      <td>0.269390</td>\n",
       "    </tr>\n",
       "    <tr>\n",
       "      <th>32</th>\n",
       "      <td>150</td>\n",
       "      <td>6.008928</td>\n",
       "      <td>0.275250</td>\n",
       "    </tr>\n",
       "    <tr>\n",
       "      <th>23</th>\n",
       "      <td>100</td>\n",
       "      <td>6.008928</td>\n",
       "      <td>0.287688</td>\n",
       "    </tr>\n",
       "    <tr>\n",
       "      <th>25</th>\n",
       "      <td>100</td>\n",
       "      <td>6.311974</td>\n",
       "      <td>0.297002</td>\n",
       "    </tr>\n",
       "    <tr>\n",
       "      <th>20</th>\n",
       "      <td>100</td>\n",
       "      <td>6.160000</td>\n",
       "      <td>0.300529</td>\n",
       "    </tr>\n",
       "    <tr>\n",
       "      <th>34</th>\n",
       "      <td>150</td>\n",
       "      <td>6.311974</td>\n",
       "      <td>0.340651</td>\n",
       "    </tr>\n",
       "    <tr>\n",
       "      <th>29</th>\n",
       "      <td>150</td>\n",
       "      <td>6.160000</td>\n",
       "      <td>0.354564</td>\n",
       "    </tr>\n",
       "    <tr>\n",
       "      <th>30</th>\n",
       "      <td>150</td>\n",
       "      <td>6.017286</td>\n",
       "      <td>0.411102</td>\n",
       "    </tr>\n",
       "    <tr>\n",
       "      <th>21</th>\n",
       "      <td>100</td>\n",
       "      <td>6.017286</td>\n",
       "      <td>0.428466</td>\n",
       "    </tr>\n",
       "  </tbody>\n",
       "</table>\n",
       "</div>"
      ],
      "text/plain": [
       "     E0       w_L  fig_of_merit\n",
       "33  150  6.328690      0.199904\n",
       "27  150  6.000000      0.206196\n",
       "31  150  6.000570      0.208967\n",
       "18  100  6.000000      0.209566\n",
       "22  100  6.000570      0.211014\n",
       "24  100  6.328690      0.215806\n",
       "14   50  6.008928      0.240203\n",
       "13   50  6.000570      0.241513\n",
       "9    50  6.000000      0.241946\n",
       "15   50  6.328690      0.245410\n",
       "12   50  6.017286      0.245666\n",
       "35  150  6.320332      0.247744\n",
       "26  100  6.320332      0.250063\n",
       "28  150  6.320000      0.250967\n",
       "19  100  6.320000      0.251870\n",
       "17   50  6.320332      0.256508\n",
       "10   50  6.320000      0.257015\n",
       "0     0  6.000000      0.259682\n",
       "1     0  6.320000      0.259682\n",
       "8     0  6.320332      0.259682\n",
       "2     0  6.160000      0.259682\n",
       "3     0  6.017286      0.259682\n",
       "7     0  6.311974      0.259682\n",
       "4     0  6.000570      0.259682\n",
       "6     0  6.328690      0.259682\n",
       "5     0  6.008928      0.259682\n",
       "16   50  6.311974      0.268705\n",
       "11   50  6.160000      0.269390\n",
       "32  150  6.008928      0.275250\n",
       "23  100  6.008928      0.287688\n",
       "25  100  6.311974      0.297002\n",
       "20  100  6.160000      0.300529\n",
       "34  150  6.311974      0.340651\n",
       "29  150  6.160000      0.354564\n",
       "30  150  6.017286      0.411102\n",
       "21  100  6.017286      0.428466"
      ]
     },
     "execution_count": 54,
     "metadata": {},
     "output_type": "execute_result"
    }
   ],
   "source": [
    "pulse = AnalyticalPulse('1freq_rwa', T, nt,\n",
    "            parameters={'E0': 0.0, 'T': T, 'w_L': wd, 'w_d': wd},\n",
    "            t0=0.0, time_unit='ns', ampl_unit='MHz', freq_unit='MHz', mode=\"complex\")\n",
    "systematic_variation(rf, pulse, vary=OrderedDict([\n",
    "            ('E0', [0.0, 50, 100, 150]), \n",
    "            ('w_L', [w1, w2, 0.5*(w1+w2),  \n",
    "                     w1_dressed0, w1_dressed1, 0.5*(w1_dressed0+w1_dressed1),\n",
    "                     w2_dressed0, w2_dressed1, 0.5*(w2_dressed0+w2_dressed1)])]),\n",
    "            fig_of_merit=F_avg_S_left, n_procs=40)"
   ]
  },
  {
   "cell_type": "code",
   "execution_count": 55,
   "metadata": {
    "collapsed": true,
    "level": 7
   },
   "outputs": [],
   "source": [
    "pulse = AnalyticalPulse('1freq_rwa', T, nt,\n",
    "            parameters={'E0': 100.0, 'T': T, 'w_L': 6.017286, 'w_d': 6.017286},\n",
    "            t0=0.0, time_unit='ns', ampl_unit='MHz', freq_unit='MHz', mode=\"complex\")\n",
    "pulse.write(join(rf, 'pulse_guess.json'))"
   ]
  },
  {
   "cell_type": "code",
   "execution_count": 56,
   "metadata": {
    "collapsed": false,
    "level": 7
   },
   "outputs": [
    {
     "name": "stdout",
     "output_type": "stream",
     "text": [
      "Concurrence: 0.939675\n",
      "Loss: 0.028905\n"
     ]
    }
   ],
   "source": [
    "U_guess = propagate(rf, 'pulse_guess.json', rwa=True, force=True)\n",
    "print(\"Concurrence: %f\" % U_guess.closest_unitary().concurrence())\n",
    "print(\"Loss: %f\" % U_guess.pop_loss())"
   ]
  },
  {
   "cell_type": "code",
   "execution_count": 57,
   "metadata": {
    "collapsed": false,
    "level": 7
   },
   "outputs": [
    {
     "data": {
      "text/plain": [
       "0.4284662931429214"
      ]
     },
     "execution_count": 57,
     "metadata": {},
     "output_type": "execute_result"
    }
   ],
   "source": [
    "U_guess.F_avg(S_left)"
   ]
  },
  {
   "cell_type": "code",
   "execution_count": 58,
   "metadata": {
    "collapsed": false,
    "level": 7
   },
   "outputs": [],
   "source": [
    "proc2 = system(\"./run_oct.py --continue --threads --rwa --pre-simplex='pulse_guess.json' {rf}\".format(rf=rf))"
   ]
  },
  {
   "cell_type": "code",
   "execution_count": 60,
   "metadata": {
    "collapsed": false,
    "level": 7
   },
   "outputs": [
    {
     "data": {
      "text/plain": [
       "<Process(Process-91, started)>"
      ]
     },
     "execution_count": 60,
     "metadata": {},
     "output_type": "execute_result"
    }
   ],
   "source": [
    "proc2"
   ]
  },
  {
   "cell_type": "code",
   "execution_count": null,
   "metadata": {
    "collapsed": true,
    "level": 7
   },
   "outputs": [],
   "source": []
  },
  {
   "cell_type": "code",
   "execution_count": null,
   "metadata": {
    "collapsed": true,
    "level": 7
   },
   "outputs": [],
   "source": [
    "proc2.join()"
   ]
  },
  {
   "cell_type": "code",
   "execution_count": 47,
   "metadata": {
    "collapsed": false,
    "level": 7
   },
   "outputs": [
    {
     "name": "stdout",
     "output_type": "stream",
     "text": [
      " 8222  1.062208875782E-01  2.848030113350E-04  0.000000000000E+00  1.06505690589\r\n",
      " 8223  1.056680033271E-01  2.770644809240E-04  0.000000000000E+00  1.05945067808\r\n",
      " 8224  1.051299823406E-01  2.696141624899E-04  0.000000000000E+00  1.05399596503\r\n",
      " 8225  1.046062535382E-01  2.624499953856E-04  0.000000000000E+00  1.04868703533\r\n",
      " 8226  1.040962543225E-01  2.555677772878E-04  0.000000000000E+00  1.04351822099\r\n",
      " 8227  1.035994343095E-01  2.489614178659E-04  0.000000000000E+00  1.03848395727\r\n",
      " 8228  1.031152581999E-01  2.426233695069E-04  0.000000000000E+00  1.03357881569\r\n",
      " 8229  1.026432078445E-01  2.365450343329E-04  0.000000000000E+00  1.02879752878\r\n",
      " 8230  1.021827836679E-01  2.307170887924E-04  0.000000000000E+00  1.02413500756\r\n",
      " 8231  1.017335056380E-01  2.251297151594E-04  0.000000000000E+00  1.01958635353\r\n"
     ]
    }
   ],
   "source": [
    "U = propagate(rf, 'pulse.dat', rwa=True, force=True, keep=True);\n",
    "! tail {rf}/oct_iters.dat | cut -b 1-80"
   ]
  },
  {
   "cell_type": "code",
   "execution_count": 48,
   "metadata": {
    "collapsed": false,
    "level": 7
   },
   "outputs": [
    {
     "data": {
      "text/plain": [
       "0.18041820149045484"
      ]
     },
     "execution_count": 48,
     "metadata": {},
     "output_type": "execute_result"
    }
   ],
   "source": [
    "U.concurrence()"
   ]
  },
  {
   "cell_type": "code",
   "execution_count": 49,
   "metadata": {
    "collapsed": false,
    "level": 7
   },
   "outputs": [
    {
     "data": {
      "text/plain": [
       "0.094886973698971255"
      ]
     },
     "execution_count": 49,
     "metadata": {},
     "output_type": "execute_result"
    }
   ],
   "source": [
    "U.pop_loss()"
   ]
  },
  {
   "cell_type": "code",
   "execution_count": 50,
   "metadata": {
    "collapsed": false,
    "level": 7
   },
   "outputs": [
    {
     "data": {
      "text/plain": [
       "0.10036419923521278"
      ]
     },
     "execution_count": 50,
     "metadata": {},
     "output_type": "execute_result"
    }
   ],
   "source": [
    "1-U.F_avg(S_left)"
   ]
  },
  {
   "cell_type": "code",
   "execution_count": null,
   "metadata": {
    "collapsed": false,
    "level": 7
   },
   "outputs": [],
   "source": [
    "QDYN.pulse.Pulse(join(rf, 'pulse.dat')).show(\n",
    "    mark_freqs=mark_freqs(rf, transition_table),\n",
    "    mark_freq_points='o', wmin=-0.2, wmax=0.5)"
   ]
  },
  {
   "cell_type": "code",
   "execution_count": null,
   "metadata": {
    "collapsed": false,
    "level": 7
   },
   "outputs": [],
   "source": [
    "QDYNTransmonLib.popdyn.PopPlot(rf).show()"
   ]
  },
  {
   "cell_type": "markdown",
   "metadata": {
    "collapsed": true,
    "heading_collapsed": false,
    "level": 3
   },
   "source": [
    "### $S_R$ at $T = 2 T_\\pi$ ####"
   ]
  },
  {
   "cell_type": "code",
   "execution_count": 61,
   "metadata": {
    "collapsed": true,
    "level": 7
   },
   "outputs": [],
   "source": [
    "rf = join(root, '1cycle_Ph_right'); mkdir(rf)\n",
    "wd = 0.5*(w1+w2)"
   ]
  },
  {
   "cell_type": "code",
   "execution_count": 62,
   "metadata": {
    "collapsed": false,
    "level": 7
   },
   "outputs": [
    {
     "data": {
      "text/plain": [
       "'./runs_zeta_detailed/w2_6320MHz_wc_5750MHz/1cycle_Ph_right'"
      ]
     },
     "execution_count": 62,
     "metadata": {},
     "output_type": "execute_result"
    }
   ],
   "source": [
    "rf"
   ]
  },
  {
   "cell_type": "code",
   "execution_count": 63,
   "metadata": {
    "collapsed": false,
    "level": 7
   },
   "outputs": [],
   "source": [
    "T = 2*T_entangling\n",
    "nt = int(max(2000, 100 * w_max * T))\n",
    "write_target_gate_dat(rf, 'Ph_right')\n",
    "write_config(join(rf, 'config'), T, nt, wc, w2, wd=wd, gate=\"target_gate.dat\", J_T='SM', prop_guess='F')"
   ]
  },
  {
   "cell_type": "code",
   "execution_count": 64,
   "metadata": {
    "collapsed": false,
    "level": 7,
    "scrolled": false
   },
   "outputs": [
    {
     "data": {
      "text/html": [
       "<div>\n",
       "<table border=\"1\" class=\"dataframe\">\n",
       "  <thead>\n",
       "    <tr style=\"text-align: right;\">\n",
       "      <th></th>\n",
       "      <th>E0</th>\n",
       "      <th>w_L</th>\n",
       "      <th>fig_of_merit</th>\n",
       "    </tr>\n",
       "  </thead>\n",
       "  <tbody>\n",
       "    <tr>\n",
       "      <th>26</th>\n",
       "      <td>100</td>\n",
       "      <td>6.320332</td>\n",
       "      <td>0.199353</td>\n",
       "    </tr>\n",
       "    <tr>\n",
       "      <th>19</th>\n",
       "      <td>100</td>\n",
       "      <td>6.320000</td>\n",
       "      <td>0.199412</td>\n",
       "    </tr>\n",
       "    <tr>\n",
       "      <th>16</th>\n",
       "      <td>50</td>\n",
       "      <td>6.311974</td>\n",
       "      <td>0.199643</td>\n",
       "    </tr>\n",
       "    <tr>\n",
       "      <th>20</th>\n",
       "      <td>100</td>\n",
       "      <td>6.160000</td>\n",
       "      <td>0.200019</td>\n",
       "    </tr>\n",
       "    <tr>\n",
       "      <th>11</th>\n",
       "      <td>50</td>\n",
       "      <td>6.160000</td>\n",
       "      <td>0.200850</td>\n",
       "    </tr>\n",
       "    <tr>\n",
       "      <th>10</th>\n",
       "      <td>50</td>\n",
       "      <td>6.320000</td>\n",
       "      <td>0.201223</td>\n",
       "    </tr>\n",
       "    <tr>\n",
       "      <th>17</th>\n",
       "      <td>50</td>\n",
       "      <td>6.320332</td>\n",
       "      <td>0.201328</td>\n",
       "    </tr>\n",
       "    <tr>\n",
       "      <th>8</th>\n",
       "      <td>0</td>\n",
       "      <td>6.320332</td>\n",
       "      <td>0.203590</td>\n",
       "    </tr>\n",
       "    <tr>\n",
       "      <th>0</th>\n",
       "      <td>0</td>\n",
       "      <td>6.000000</td>\n",
       "      <td>0.203590</td>\n",
       "    </tr>\n",
       "    <tr>\n",
       "      <th>6</th>\n",
       "      <td>0</td>\n",
       "      <td>6.328690</td>\n",
       "      <td>0.203590</td>\n",
       "    </tr>\n",
       "    <tr>\n",
       "      <th>5</th>\n",
       "      <td>0</td>\n",
       "      <td>6.008928</td>\n",
       "      <td>0.203590</td>\n",
       "    </tr>\n",
       "    <tr>\n",
       "      <th>4</th>\n",
       "      <td>0</td>\n",
       "      <td>6.000570</td>\n",
       "      <td>0.203590</td>\n",
       "    </tr>\n",
       "    <tr>\n",
       "      <th>1</th>\n",
       "      <td>0</td>\n",
       "      <td>6.320000</td>\n",
       "      <td>0.203590</td>\n",
       "    </tr>\n",
       "    <tr>\n",
       "      <th>3</th>\n",
       "      <td>0</td>\n",
       "      <td>6.017286</td>\n",
       "      <td>0.203590</td>\n",
       "    </tr>\n",
       "    <tr>\n",
       "      <th>2</th>\n",
       "      <td>0</td>\n",
       "      <td>6.160000</td>\n",
       "      <td>0.203590</td>\n",
       "    </tr>\n",
       "    <tr>\n",
       "      <th>7</th>\n",
       "      <td>0</td>\n",
       "      <td>6.311974</td>\n",
       "      <td>0.203590</td>\n",
       "    </tr>\n",
       "    <tr>\n",
       "      <th>15</th>\n",
       "      <td>50</td>\n",
       "      <td>6.328690</td>\n",
       "      <td>0.204968</td>\n",
       "    </tr>\n",
       "    <tr>\n",
       "      <th>35</th>\n",
       "      <td>150</td>\n",
       "      <td>6.320332</td>\n",
       "      <td>0.205572</td>\n",
       "    </tr>\n",
       "    <tr>\n",
       "      <th>28</th>\n",
       "      <td>150</td>\n",
       "      <td>6.320000</td>\n",
       "      <td>0.206831</td>\n",
       "    </tr>\n",
       "    <tr>\n",
       "      <th>25</th>\n",
       "      <td>100</td>\n",
       "      <td>6.311974</td>\n",
       "      <td>0.207779</td>\n",
       "    </tr>\n",
       "    <tr>\n",
       "      <th>27</th>\n",
       "      <td>150</td>\n",
       "      <td>6.000000</td>\n",
       "      <td>0.209571</td>\n",
       "    </tr>\n",
       "    <tr>\n",
       "      <th>24</th>\n",
       "      <td>100</td>\n",
       "      <td>6.328690</td>\n",
       "      <td>0.210017</td>\n",
       "    </tr>\n",
       "    <tr>\n",
       "      <th>31</th>\n",
       "      <td>150</td>\n",
       "      <td>6.000570</td>\n",
       "      <td>0.211653</td>\n",
       "    </tr>\n",
       "    <tr>\n",
       "      <th>9</th>\n",
       "      <td>50</td>\n",
       "      <td>6.000000</td>\n",
       "      <td>0.215110</td>\n",
       "    </tr>\n",
       "    <tr>\n",
       "      <th>13</th>\n",
       "      <td>50</td>\n",
       "      <td>6.000570</td>\n",
       "      <td>0.215583</td>\n",
       "    </tr>\n",
       "    <tr>\n",
       "      <th>33</th>\n",
       "      <td>150</td>\n",
       "      <td>6.328690</td>\n",
       "      <td>0.220962</td>\n",
       "    </tr>\n",
       "    <tr>\n",
       "      <th>29</th>\n",
       "      <td>150</td>\n",
       "      <td>6.160000</td>\n",
       "      <td>0.221797</td>\n",
       "    </tr>\n",
       "    <tr>\n",
       "      <th>14</th>\n",
       "      <td>50</td>\n",
       "      <td>6.008928</td>\n",
       "      <td>0.229261</td>\n",
       "    </tr>\n",
       "    <tr>\n",
       "      <th>12</th>\n",
       "      <td>50</td>\n",
       "      <td>6.017286</td>\n",
       "      <td>0.238461</td>\n",
       "    </tr>\n",
       "    <tr>\n",
       "      <th>18</th>\n",
       "      <td>100</td>\n",
       "      <td>6.000000</td>\n",
       "      <td>0.249952</td>\n",
       "    </tr>\n",
       "    <tr>\n",
       "      <th>22</th>\n",
       "      <td>100</td>\n",
       "      <td>6.000570</td>\n",
       "      <td>0.252207</td>\n",
       "    </tr>\n",
       "    <tr>\n",
       "      <th>34</th>\n",
       "      <td>150</td>\n",
       "      <td>6.311974</td>\n",
       "      <td>0.262143</td>\n",
       "    </tr>\n",
       "    <tr>\n",
       "      <th>32</th>\n",
       "      <td>150</td>\n",
       "      <td>6.008928</td>\n",
       "      <td>0.271627</td>\n",
       "    </tr>\n",
       "    <tr>\n",
       "      <th>23</th>\n",
       "      <td>100</td>\n",
       "      <td>6.008928</td>\n",
       "      <td>0.317050</td>\n",
       "    </tr>\n",
       "    <tr>\n",
       "      <th>21</th>\n",
       "      <td>100</td>\n",
       "      <td>6.017286</td>\n",
       "      <td>0.346168</td>\n",
       "    </tr>\n",
       "    <tr>\n",
       "      <th>30</th>\n",
       "      <td>150</td>\n",
       "      <td>6.017286</td>\n",
       "      <td>0.371806</td>\n",
       "    </tr>\n",
       "  </tbody>\n",
       "</table>\n",
       "</div>"
      ],
      "text/plain": [
       "     E0       w_L  fig_of_merit\n",
       "26  100  6.320332      0.199353\n",
       "19  100  6.320000      0.199412\n",
       "16   50  6.311974      0.199643\n",
       "20  100  6.160000      0.200019\n",
       "11   50  6.160000      0.200850\n",
       "10   50  6.320000      0.201223\n",
       "17   50  6.320332      0.201328\n",
       "8     0  6.320332      0.203590\n",
       "0     0  6.000000      0.203590\n",
       "6     0  6.328690      0.203590\n",
       "5     0  6.008928      0.203590\n",
       "4     0  6.000570      0.203590\n",
       "1     0  6.320000      0.203590\n",
       "3     0  6.017286      0.203590\n",
       "2     0  6.160000      0.203590\n",
       "7     0  6.311974      0.203590\n",
       "15   50  6.328690      0.204968\n",
       "35  150  6.320332      0.205572\n",
       "28  150  6.320000      0.206831\n",
       "25  100  6.311974      0.207779\n",
       "27  150  6.000000      0.209571\n",
       "24  100  6.328690      0.210017\n",
       "31  150  6.000570      0.211653\n",
       "9    50  6.000000      0.215110\n",
       "13   50  6.000570      0.215583\n",
       "33  150  6.328690      0.220962\n",
       "29  150  6.160000      0.221797\n",
       "14   50  6.008928      0.229261\n",
       "12   50  6.017286      0.238461\n",
       "18  100  6.000000      0.249952\n",
       "22  100  6.000570      0.252207\n",
       "34  150  6.311974      0.262143\n",
       "32  150  6.008928      0.271627\n",
       "23  100  6.008928      0.317050\n",
       "21  100  6.017286      0.346168\n",
       "30  150  6.017286      0.371806"
      ]
     },
     "execution_count": 64,
     "metadata": {},
     "output_type": "execute_result"
    }
   ],
   "source": [
    "pulse = AnalyticalPulse('1freq_rwa', T, nt,\n",
    "            parameters={'E0': 0.0, 'T': T, 'w_L': wd, 'w_d': wd},\n",
    "            t0=0.0, time_unit='ns', ampl_unit='MHz', freq_unit='MHz', mode=\"complex\")\n",
    "systematic_variation(rf, pulse, vary=OrderedDict([\n",
    "            ('E0', [0.0, 50, 100, 150]), \n",
    "            ('w_L', [w1, w2, 0.5*(w1+w2),  \n",
    "                     w1_dressed0, w1_dressed1, 0.5*(w1_dressed0+w1_dressed1),\n",
    "                     w2_dressed0, w2_dressed1, 0.5*(w2_dressed0+w2_dressed1)])]),\n",
    "            fig_of_merit=F_avg_S_right, n_procs=40)"
   ]
  },
  {
   "cell_type": "code",
   "execution_count": 65,
   "metadata": {
    "collapsed": true,
    "level": 7
   },
   "outputs": [],
   "source": [
    "pulse = AnalyticalPulse('1freq_rwa', T, nt,\n",
    "            parameters={'E0': 150.0, 'T': T, 'w_L': 6.328690, 'w_d': 6.328690},\n",
    "            t0=0.0, time_unit='ns', ampl_unit='MHz', freq_unit='MHz', mode=\"complex\")\n",
    "pulse.write(join(rf, 'pulse_guess.json'))"
   ]
  },
  {
   "cell_type": "code",
   "execution_count": 66,
   "metadata": {
    "collapsed": false,
    "level": 7
   },
   "outputs": [
    {
     "name": "stdout",
     "output_type": "stream",
     "text": [
      "Concurrence: 0.864953\n",
      "Loss: 0.006815\n"
     ]
    }
   ],
   "source": [
    "U_guess = propagate(rf, 'pulse_guess.json', rwa=True, force=True)\n",
    "print(\"Concurrence: %f\" % U_guess.closest_unitary().concurrence())\n",
    "print(\"Loss: %f\" % U_guess.pop_loss())"
   ]
  },
  {
   "cell_type": "code",
   "execution_count": 67,
   "metadata": {
    "collapsed": false,
    "level": 7
   },
   "outputs": [
    {
     "data": {
      "text/plain": [
       "0.22096234888594521"
      ]
     },
     "execution_count": 67,
     "metadata": {},
     "output_type": "execute_result"
    }
   ],
   "source": [
    "U_guess.F_avg(S_right)"
   ]
  },
  {
   "cell_type": "code",
   "execution_count": 68,
   "metadata": {
    "collapsed": false,
    "level": 7
   },
   "outputs": [],
   "source": [
    "proc3 = system(\"./run_oct.py --continue --threads --rwa --pre-simplex='pulse_guess.json' {rf}\".format(rf=rf))"
   ]
  },
  {
   "cell_type": "code",
   "execution_count": null,
   "metadata": {
    "collapsed": true,
    "level": 7
   },
   "outputs": [],
   "source": [
    "proc3.join()"
   ]
  },
  {
   "cell_type": "code",
   "execution_count": null,
   "metadata": {
    "collapsed": false,
    "level": 7
   },
   "outputs": [],
   "source": [
    "U = propagate(rf, 'pulse.dat', rwa=True, force=True, keep=True);\n",
    "! tail {rf}/oct_iters.dat | cut -b 1-80"
   ]
  },
  {
   "cell_type": "code",
   "execution_count": null,
   "metadata": {
    "collapsed": false,
    "level": 7
   },
   "outputs": [],
   "source": [
    "U.concurrence()"
   ]
  },
  {
   "cell_type": "code",
   "execution_count": null,
   "metadata": {
    "collapsed": false,
    "level": 7
   },
   "outputs": [],
   "source": [
    "U.pop_loss()"
   ]
  },
  {
   "cell_type": "code",
   "execution_count": null,
   "metadata": {
    "collapsed": false,
    "level": 7
   },
   "outputs": [],
   "source": [
    "1-U.F_avg(S_right)"
   ]
  },
  {
   "cell_type": "code",
   "execution_count": null,
   "metadata": {
    "collapsed": false,
    "level": 7
   },
   "outputs": [],
   "source": [
    "QDYN.pulse.Pulse(join(rf, 'pulse.dat')).show(\n",
    "    mark_freqs=mark_freqs(rf, transition_table),\n",
    "    mark_freq_points='o', wmin=-0.2, wmax=0.5)"
   ]
  },
  {
   "cell_type": "code",
   "execution_count": null,
   "metadata": {
    "collapsed": false,
    "level": 7
   },
   "outputs": [],
   "source": [
    "QDYNTransmonLib.popdyn.PopPlot(rf).show()"
   ]
  },
  {
   "cell_type": "markdown",
   "metadata": {
    "collapsed": true,
    "heading_collapsed": false,
    "level": 3
   },
   "source": [
    "### All Single-Qubit gates at $T = 2T_\\pi$, no pre-simplex ####"
   ]
  },
  {
   "cell_type": "code",
   "execution_count": 23,
   "metadata": {
    "collapsed": true,
    "level": 7
   },
   "outputs": [],
   "source": [
    "T = 2*T_entangling\n",
    "nt = int(max(2000, 100 * w_max * T))\n",
    "rf_HL = join(root, 'no_simplex_H_left'); mkdir(rf_HL)\n",
    "rf_HR = join(root, 'no_simplex_H_right'); mkdir(rf_HR)\n",
    "rf_SL = join(root, 'no_simplex_Ph_left'); mkdir(rf_SL)\n",
    "rf_SR = join(root, 'no_simplex_Ph_right'); mkdir(rf_SR)\n",
    "write_target_gate_dat(rf_HL, 'H_left')\n",
    "write_target_gate_dat(rf_HR, 'H_right')\n",
    "write_target_gate_dat(rf_SL, 'Ph_left')\n",
    "write_target_gate_dat(rf_SR, 'Ph_right')\n",
    "for rf in [rf_HL, rf_SL]:\n",
    "    write_config(join(rf, 'config'), T, nt, wc, w2, wd=w1_dressed0,\n",
    "                 gate=\"target_gate.dat\", J_T='SM', prop_guess='F')\n",
    "    pulse = AnalyticalPulse('1freq_rwa', T, nt,\n",
    "                parameters={'E0': 100.0, 'T': T, 'w_L': w1_dressed0, 'w_d': w1_dressed0},\n",
    "                t0=0.0, time_unit='ns', ampl_unit='MHz', freq_unit='MHz', mode=\"complex\")\n",
    "    pulse.pulse().write(join(rf, 'pulse.guess'))\n",
    "for rf in [rf_HR, rf_SR]:\n",
    "    write_config(join(rf, 'config'), T, nt, wc, w2, wd=w2_dressed0,\n",
    "                 gate=\"target_gate.dat\", J_T='SM', prop_guess='F')\n",
    "    pulse = AnalyticalPulse('1freq_rwa', T, nt,\n",
    "                parameters={'E0': 100.0, 'T': T, 'w_L': w2_dressed0, 'w_d': w2_dressed0},\n",
    "                t0=0.0, time_unit='ns', ampl_unit='MHz', freq_unit='MHz', mode=\"complex\")\n",
    "    pulse.pulse().write(join(rf, 'pulse.guess'))"
   ]
  },
  {
   "cell_type": "code",
   "execution_count": 70,
   "metadata": {
    "collapsed": false
   },
   "outputs": [
    {
     "data": {
      "text/plain": [
       "'./runs_zeta_detailed/w2_6320MHz_wc_5750MHz/no_simplex_40_H_left'"
      ]
     },
     "execution_count": 70,
     "metadata": {},
     "output_type": "execute_result"
    }
   ],
   "source": [
    "rf_HL"
   ]
  },
  {
   "cell_type": "code",
   "execution_count": 24,
   "metadata": {
    "collapsed": false,
    "level": 7
   },
   "outputs": [],
   "source": [
    "proc_ns1 = system(\"./run_oct.py --rwa --threads --continue {rf}\".format(rf=rf_HL))"
   ]
  },
  {
   "cell_type": "code",
   "execution_count": 28,
   "metadata": {
    "collapsed": false,
    "level": 7
   },
   "outputs": [
    {
     "data": {
      "text/plain": [
       "<Process(Process-3, started)>"
      ]
     },
     "execution_count": 28,
     "metadata": {},
     "output_type": "execute_result"
    }
   ],
   "source": [
    "proc_ns3"
   ]
  },
  {
   "cell_type": "code",
   "execution_count": 26,
   "metadata": {
    "collapsed": false,
    "level": 7
   },
   "outputs": [],
   "source": [
    "proc_ns2 = system(\"./run_oct.py --rwa --threads --continue {rf}\".format(rf=rf_HR))\n",
    "proc_ns3 = system(\"./run_oct.py --rwa --threads --continue {rf}\".format(rf=rf_SL))\n",
    "proc_ns4 = system(\"./run_oct.py --rwa --threads --continue {rf}\".format(rf=rf_SR))"
   ]
  },
  {
   "cell_type": "markdown",
   "metadata": {
    "level": 7
   },
   "source": [
    "See handwritten notes for analysis"
   ]
  },
  {
   "cell_type": "markdown",
   "metadata": {
    "collapsed": true,
    "heading_collapsed": false,
    "level": 3
   },
   "source": [
    "### All Single-Qubit gates at $T = 40$ ns, no pre-simplex ####"
   ]
  },
  {
   "cell_type": "code",
   "execution_count": 29,
   "metadata": {
    "collapsed": true,
    "level": 7
   },
   "outputs": [],
   "source": [
    "T = 40\n",
    "nt = int(max(2000, 100 * w_max * T))\n",
    "rf_HL = join(root, 'no_simplex_40_H_left'); mkdir(rf_HL)\n",
    "rf_HR = join(root, 'no_simplex_40_H_right'); mkdir(rf_HR)\n",
    "rf_SL = join(root, 'no_simplex_40_Ph_left'); mkdir(rf_SL)\n",
    "rf_SR = join(root, 'no_simplex_40_Ph_right'); mkdir(rf_SR)\n",
    "write_target_gate_dat(rf_HL, 'H_left')\n",
    "write_target_gate_dat(rf_HR, 'H_right')\n",
    "write_target_gate_dat(rf_SL, 'Ph_left')\n",
    "write_target_gate_dat(rf_SR, 'Ph_right')\n",
    "for rf in [rf_HL, rf_SL]:\n",
    "    write_config(join(rf, 'config'), T, nt, wc, w2, wd=w1_dressed0,\n",
    "                 gate=\"target_gate.dat\", J_T='SM', prop_guess='F')\n",
    "    pulse = AnalyticalPulse('1freq_rwa', T, nt,\n",
    "                parameters={'E0': 100.0, 'T': T, 'w_L': w1_dressed0, 'w_d': w1_dressed0},\n",
    "                t0=0.0, time_unit='ns', ampl_unit='MHz', freq_unit='MHz', mode=\"complex\")\n",
    "    pulse.pulse().write(join(rf, 'pulse.guess'))\n",
    "for rf in [rf_HR, rf_SR]:\n",
    "    write_config(join(rf, 'config'), T, nt, wc, w2, wd=w2_dressed0,\n",
    "                 gate=\"target_gate.dat\", J_T='SM', prop_guess='F')\n",
    "    pulse = AnalyticalPulse('1freq_rwa', T, nt,\n",
    "                parameters={'E0': 100.0, 'T': T, 'w_L': w2_dressed0, 'w_d': w2_dressed0},\n",
    "                t0=0.0, time_unit='ns', ampl_unit='MHz', freq_unit='MHz', mode=\"complex\")\n",
    "    pulse.pulse().write(join(rf, 'pulse.guess'))"
   ]
  },
  {
   "cell_type": "code",
   "execution_count": 30,
   "metadata": {
    "collapsed": false,
    "level": 7
   },
   "outputs": [],
   "source": [
    "proc_40_ns1 = system(\"./run_oct.py --rwa --threads --continue {rf}\".format(rf=rf_HL))\n",
    "proc_40_ns2 = system(\"./run_oct.py --rwa --threads --continue {rf}\".format(rf=rf_HR))\n",
    "proc_40_ns3 = system(\"./run_oct.py --rwa --threads --continue {rf}\".format(rf=rf_SL))\n",
    "proc_40_ns4 = system(\"./run_oct.py --rwa --threads --continue {rf}\".format(rf=rf_SR))"
   ]
  },
  {
   "cell_type": "markdown",
   "metadata": {
    "level": 7
   },
   "source": [
    "See handwritten notes for analysis"
   ]
  },
  {
   "cell_type": "markdown",
   "metadata": {
    "collapsed": true,
    "heading_collapsed": false,
    "level": 3
   },
   "source": [
    "###  $H_L$ at $T = 40$ ns"
   ]
  },
  {
   "cell_type": "code",
   "execution_count": 73,
   "metadata": {
    "collapsed": true,
    "level": 7
   },
   "outputs": [],
   "source": [
    "rf = join(root, '40ns_H_left'); mkdir(rf)\n",
    "wd = 0.5*(w1+w2)"
   ]
  },
  {
   "cell_type": "code",
   "execution_count": 74,
   "metadata": {
    "collapsed": false,
    "level": 7
   },
   "outputs": [
    {
     "data": {
      "text/plain": [
       "'./runs_zeta_detailed/w2_6320MHz_wc_5750MHz/40ns_H_left'"
      ]
     },
     "execution_count": 74,
     "metadata": {},
     "output_type": "execute_result"
    }
   ],
   "source": [
    "rf"
   ]
  },
  {
   "cell_type": "code",
   "execution_count": 75,
   "metadata": {
    "collapsed": false,
    "level": 7
   },
   "outputs": [],
   "source": [
    "T = 40\n",
    "nt = int(max(2000, 100 * w_max * T))\n",
    "write_target_gate_dat(rf, 'H_left')\n",
    "write_config(join(rf, 'config'), T, nt, wc, w2, wd=wd, gate=\"target_gate.dat\", J_T='SM', prop_guess='F')"
   ]
  },
  {
   "cell_type": "code",
   "execution_count": 76,
   "metadata": {
    "collapsed": false,
    "level": 7,
    "scrolled": false
   },
   "outputs": [
    {
     "data": {
      "text/html": [
       "<div>\n",
       "<table border=\"1\" class=\"dataframe\">\n",
       "  <thead>\n",
       "    <tr style=\"text-align: right;\">\n",
       "      <th></th>\n",
       "      <th>E0</th>\n",
       "      <th>w_L</th>\n",
       "      <th>fig_of_merit</th>\n",
       "    </tr>\n",
       "  </thead>\n",
       "  <tbody>\n",
       "    <tr>\n",
       "      <th>35</th>\n",
       "      <td>200</td>\n",
       "      <td>6.320332</td>\n",
       "      <td>0.199895</td>\n",
       "    </tr>\n",
       "    <tr>\n",
       "      <th>28</th>\n",
       "      <td>200</td>\n",
       "      <td>6.320000</td>\n",
       "      <td>0.199941</td>\n",
       "    </tr>\n",
       "    <tr>\n",
       "      <th>33</th>\n",
       "      <td>200</td>\n",
       "      <td>6.328690</td>\n",
       "      <td>0.200095</td>\n",
       "    </tr>\n",
       "    <tr>\n",
       "      <th>13</th>\n",
       "      <td>50</td>\n",
       "      <td>6.000570</td>\n",
       "      <td>0.205955</td>\n",
       "    </tr>\n",
       "    <tr>\n",
       "      <th>9</th>\n",
       "      <td>50</td>\n",
       "      <td>6.000000</td>\n",
       "      <td>0.206426</td>\n",
       "    </tr>\n",
       "    <tr>\n",
       "      <th>34</th>\n",
       "      <td>200</td>\n",
       "      <td>6.311974</td>\n",
       "      <td>0.207215</td>\n",
       "    </tr>\n",
       "    <tr>\n",
       "      <th>24</th>\n",
       "      <td>150</td>\n",
       "      <td>6.328690</td>\n",
       "      <td>0.213598</td>\n",
       "    </tr>\n",
       "    <tr>\n",
       "      <th>26</th>\n",
       "      <td>150</td>\n",
       "      <td>6.320332</td>\n",
       "      <td>0.214984</td>\n",
       "    </tr>\n",
       "    <tr>\n",
       "      <th>19</th>\n",
       "      <td>150</td>\n",
       "      <td>6.320000</td>\n",
       "      <td>0.215212</td>\n",
       "    </tr>\n",
       "    <tr>\n",
       "      <th>14</th>\n",
       "      <td>50</td>\n",
       "      <td>6.008928</td>\n",
       "      <td>0.218037</td>\n",
       "    </tr>\n",
       "    <tr>\n",
       "      <th>25</th>\n",
       "      <td>150</td>\n",
       "      <td>6.311974</td>\n",
       "      <td>0.225746</td>\n",
       "    </tr>\n",
       "    <tr>\n",
       "      <th>29</th>\n",
       "      <td>200</td>\n",
       "      <td>6.160000</td>\n",
       "      <td>0.256478</td>\n",
       "    </tr>\n",
       "    <tr>\n",
       "      <th>15</th>\n",
       "      <td>50</td>\n",
       "      <td>6.328690</td>\n",
       "      <td>0.262883</td>\n",
       "    </tr>\n",
       "    <tr>\n",
       "      <th>17</th>\n",
       "      <td>50</td>\n",
       "      <td>6.320332</td>\n",
       "      <td>0.263297</td>\n",
       "    </tr>\n",
       "    <tr>\n",
       "      <th>10</th>\n",
       "      <td>50</td>\n",
       "      <td>6.320000</td>\n",
       "      <td>0.263358</td>\n",
       "    </tr>\n",
       "    <tr>\n",
       "      <th>16</th>\n",
       "      <td>50</td>\n",
       "      <td>6.311974</td>\n",
       "      <td>0.265673</td>\n",
       "    </tr>\n",
       "    <tr>\n",
       "      <th>20</th>\n",
       "      <td>150</td>\n",
       "      <td>6.160000</td>\n",
       "      <td>0.266469</td>\n",
       "    </tr>\n",
       "    <tr>\n",
       "      <th>11</th>\n",
       "      <td>50</td>\n",
       "      <td>6.160000</td>\n",
       "      <td>0.272233</td>\n",
       "    </tr>\n",
       "    <tr>\n",
       "      <th>4</th>\n",
       "      <td>0</td>\n",
       "      <td>6.000570</td>\n",
       "      <td>0.272415</td>\n",
       "    </tr>\n",
       "    <tr>\n",
       "      <th>1</th>\n",
       "      <td>0</td>\n",
       "      <td>6.320000</td>\n",
       "      <td>0.272415</td>\n",
       "    </tr>\n",
       "    <tr>\n",
       "      <th>2</th>\n",
       "      <td>0</td>\n",
       "      <td>6.160000</td>\n",
       "      <td>0.272415</td>\n",
       "    </tr>\n",
       "    <tr>\n",
       "      <th>3</th>\n",
       "      <td>0</td>\n",
       "      <td>6.017286</td>\n",
       "      <td>0.272415</td>\n",
       "    </tr>\n",
       "    <tr>\n",
       "      <th>5</th>\n",
       "      <td>0</td>\n",
       "      <td>6.008928</td>\n",
       "      <td>0.272415</td>\n",
       "    </tr>\n",
       "    <tr>\n",
       "      <th>6</th>\n",
       "      <td>0</td>\n",
       "      <td>6.328690</td>\n",
       "      <td>0.272415</td>\n",
       "    </tr>\n",
       "    <tr>\n",
       "      <th>7</th>\n",
       "      <td>0</td>\n",
       "      <td>6.311974</td>\n",
       "      <td>0.272415</td>\n",
       "    </tr>\n",
       "    <tr>\n",
       "      <th>8</th>\n",
       "      <td>0</td>\n",
       "      <td>6.320332</td>\n",
       "      <td>0.272415</td>\n",
       "    </tr>\n",
       "    <tr>\n",
       "      <th>0</th>\n",
       "      <td>0</td>\n",
       "      <td>6.000000</td>\n",
       "      <td>0.272415</td>\n",
       "    </tr>\n",
       "    <tr>\n",
       "      <th>21</th>\n",
       "      <td>150</td>\n",
       "      <td>6.017286</td>\n",
       "      <td>0.278770</td>\n",
       "    </tr>\n",
       "    <tr>\n",
       "      <th>12</th>\n",
       "      <td>50</td>\n",
       "      <td>6.017286</td>\n",
       "      <td>0.297912</td>\n",
       "    </tr>\n",
       "    <tr>\n",
       "      <th>18</th>\n",
       "      <td>150</td>\n",
       "      <td>6.000000</td>\n",
       "      <td>0.322707</td>\n",
       "    </tr>\n",
       "    <tr>\n",
       "      <th>27</th>\n",
       "      <td>200</td>\n",
       "      <td>6.000000</td>\n",
       "      <td>0.329174</td>\n",
       "    </tr>\n",
       "    <tr>\n",
       "      <th>22</th>\n",
       "      <td>150</td>\n",
       "      <td>6.000570</td>\n",
       "      <td>0.330025</td>\n",
       "    </tr>\n",
       "    <tr>\n",
       "      <th>31</th>\n",
       "      <td>200</td>\n",
       "      <td>6.000570</td>\n",
       "      <td>0.337402</td>\n",
       "    </tr>\n",
       "    <tr>\n",
       "      <th>23</th>\n",
       "      <td>150</td>\n",
       "      <td>6.008928</td>\n",
       "      <td>0.358649</td>\n",
       "    </tr>\n",
       "    <tr>\n",
       "      <th>30</th>\n",
       "      <td>200</td>\n",
       "      <td>6.017286</td>\n",
       "      <td>0.410138</td>\n",
       "    </tr>\n",
       "    <tr>\n",
       "      <th>32</th>\n",
       "      <td>200</td>\n",
       "      <td>6.008928</td>\n",
       "      <td>0.436023</td>\n",
       "    </tr>\n",
       "  </tbody>\n",
       "</table>\n",
       "</div>"
      ],
      "text/plain": [
       "     E0       w_L  fig_of_merit\n",
       "35  200  6.320332      0.199895\n",
       "28  200  6.320000      0.199941\n",
       "33  200  6.328690      0.200095\n",
       "13   50  6.000570      0.205955\n",
       "9    50  6.000000      0.206426\n",
       "34  200  6.311974      0.207215\n",
       "24  150  6.328690      0.213598\n",
       "26  150  6.320332      0.214984\n",
       "19  150  6.320000      0.215212\n",
       "14   50  6.008928      0.218037\n",
       "25  150  6.311974      0.225746\n",
       "29  200  6.160000      0.256478\n",
       "15   50  6.328690      0.262883\n",
       "17   50  6.320332      0.263297\n",
       "10   50  6.320000      0.263358\n",
       "16   50  6.311974      0.265673\n",
       "20  150  6.160000      0.266469\n",
       "11   50  6.160000      0.272233\n",
       "4     0  6.000570      0.272415\n",
       "1     0  6.320000      0.272415\n",
       "2     0  6.160000      0.272415\n",
       "3     0  6.017286      0.272415\n",
       "5     0  6.008928      0.272415\n",
       "6     0  6.328690      0.272415\n",
       "7     0  6.311974      0.272415\n",
       "8     0  6.320332      0.272415\n",
       "0     0  6.000000      0.272415\n",
       "21  150  6.017286      0.278770\n",
       "12   50  6.017286      0.297912\n",
       "18  150  6.000000      0.322707\n",
       "27  200  6.000000      0.329174\n",
       "22  150  6.000570      0.330025\n",
       "31  200  6.000570      0.337402\n",
       "23  150  6.008928      0.358649\n",
       "30  200  6.017286      0.410138\n",
       "32  200  6.008928      0.436023"
      ]
     },
     "execution_count": 76,
     "metadata": {},
     "output_type": "execute_result"
    }
   ],
   "source": [
    "pulse = AnalyticalPulse('1freq_rwa', T, nt,\n",
    "            parameters={'E0': 0.0, 'T': T, 'w_L': wd, 'w_d': wd},\n",
    "            t0=0.0, time_unit='ns', ampl_unit='MHz', freq_unit='MHz', mode=\"complex\")\n",
    "systematic_variation(rf, pulse, vary=OrderedDict([\n",
    "            ('E0', [0.0, 50, 150, 200]), \n",
    "            ('w_L', [w1, w2, 0.5*(w1+w2),  \n",
    "                     w1_dressed0, w1_dressed1, 0.5*(w1_dressed0+w1_dressed1),\n",
    "                     w2_dressed0, w2_dressed1, 0.5*(w2_dressed0+w2_dressed1)])]),\n",
    "            fig_of_merit=F_avg_H_left, n_procs=40)"
   ]
  },
  {
   "cell_type": "code",
   "execution_count": 77,
   "metadata": {
    "collapsed": true,
    "level": 7
   },
   "outputs": [],
   "source": [
    "pulse_ff = AnalyticalPulse('1freq_rwa', T, nt,\n",
    "            parameters={'E0': 0.0, 'T': T, 'w_L': wd, 'w_d': wd},\n",
    "            t0=0.0, time_unit='ns', ampl_unit='MHz', freq_unit='MHz', mode=\"complex\")\n",
    "pulse_ff.write(join(rf, 'pulse_ff.json'))\n",
    "U_ff = propagate(rf, 'pulse_ff.json', rwa=True, force=True, keep=None);"
   ]
  },
  {
   "cell_type": "code",
   "execution_count": 78,
   "metadata": {
    "collapsed": false,
    "level": 7
   },
   "outputs": [
    {
     "data": {
      "text/plain": [
       "0.0032076018309659116"
      ]
     },
     "execution_count": 78,
     "metadata": {},
     "output_type": "execute_result"
    }
   ],
   "source": [
    "U_ff.pop_loss()"
   ]
  },
  {
   "cell_type": "code",
   "execution_count": 79,
   "metadata": {
    "collapsed": true,
    "level": 7
   },
   "outputs": [],
   "source": [
    "pulse = AnalyticalPulse('1freq_rwa', T, nt,\n",
    "            parameters={'E0': 200.0, 'T': T, 'w_L': 6.008928, 'w_d': 6.008928},\n",
    "            t0=0.0, time_unit='ns', ampl_unit='MHz', freq_unit='MHz', mode=\"complex\")\n",
    "pulse.write(join(rf, 'pulse_guess.json'))"
   ]
  },
  {
   "cell_type": "code",
   "execution_count": 80,
   "metadata": {
    "collapsed": false,
    "level": 7
   },
   "outputs": [
    {
     "name": "stdout",
     "output_type": "stream",
     "text": [
      "Concurrence: 0.701812\n",
      "Loss: 0.090381\n"
     ]
    }
   ],
   "source": [
    "U_guess = propagate(rf, 'pulse_guess.json', rwa=True, force=True)\n",
    "print(\"Concurrence: %f\" % U_guess.closest_unitary().concurrence())\n",
    "print(\"Loss: %f\" % U_guess.pop_loss())"
   ]
  },
  {
   "cell_type": "code",
   "execution_count": 81,
   "metadata": {
    "collapsed": false,
    "level": 7
   },
   "outputs": [],
   "source": [
    "proc3 = system(\"./run_oct.py --rwa --continue --pre-simplex='pulse_guess.json' {rf}\".format(rf=rf))"
   ]
  },
  {
   "cell_type": "code",
   "execution_count": 83,
   "metadata": {
    "collapsed": true,
    "level": 7
   },
   "outputs": [],
   "source": [
    "proc3.join();"
   ]
  },
  {
   "cell_type": "code",
   "execution_count": 85,
   "metadata": {
    "collapsed": false,
    "level": 7
   },
   "outputs": [
    {
     "name": "stdout",
     "output_type": "stream",
     "text": [
      " 9991  3.824610226788E-02  3.147617961048E-07  0.000000000000E+00  3.82464170296\r\n",
      " 9992  3.824537824777E-02  3.147097166128E-07  0.000000000000E+00  3.82456929574\r\n",
      " 9993  3.824465434773E-02  3.146576450282E-07  0.000000000000E+00  3.82449690053\r\n",
      " 9994  3.824393056769E-02  3.146055813531E-07  0.000000000000E+00  3.82442451732\r\n",
      " 9995  3.824320690765E-02  3.145535255883E-07  0.000000000000E+00  3.82435214611\r\n",
      " 9996  3.824248336759E-02  3.145014777354E-07  0.000000000000E+00  3.82427978690\r\n",
      " 9997  3.824175994751E-02  3.144494377947E-07  0.000000000000E+00  3.82420743969\r\n",
      " 9998  3.824103664737E-02  3.143974057691E-07  0.000000000000E+00  3.82413510447\r\n",
      " 9999  3.824031346713E-02  3.143453816579E-07  0.000000000000E+00  3.82406278125\r\n",
      "10000  3.823959040682E-02  3.142933654637E-07  0.000000000000E+00  3.82399047001\r\n"
     ]
    }
   ],
   "source": [
    "U = propagate(rf, 'pulse.dat', rwa=True, force=True, keep=True);\n",
    "! tail {rf}/oct_iters.dat | cut -b 1-80"
   ]
  },
  {
   "cell_type": "code",
   "execution_count": 86,
   "metadata": {
    "collapsed": false,
    "level": 7
   },
   "outputs": [
    {
     "data": {
      "text/plain": [
       "0.12392795224994915"
      ]
     },
     "execution_count": 86,
     "metadata": {},
     "output_type": "execute_result"
    }
   ],
   "source": [
    "U.concurrence()"
   ]
  },
  {
   "cell_type": "code",
   "execution_count": 87,
   "metadata": {
    "collapsed": false,
    "level": 7
   },
   "outputs": [
    {
     "data": {
      "text/plain": [
       "0.034937870393300985"
      ]
     },
     "execution_count": 87,
     "metadata": {},
     "output_type": "execute_result"
    }
   ],
   "source": [
    "U.pop_loss()"
   ]
  },
  {
   "cell_type": "code",
   "execution_count": 88,
   "metadata": {
    "collapsed": false,
    "level": 7
   },
   "outputs": [
    {
     "data": {
      "text/plain": [
       "0.037579246125521215"
      ]
     },
     "execution_count": 88,
     "metadata": {},
     "output_type": "execute_result"
    }
   ],
   "source": [
    "1-U.F_avg(H_left)"
   ]
  },
  {
   "cell_type": "code",
   "execution_count": 91,
   "metadata": {
    "collapsed": false,
    "level": 7
   },
   "outputs": [
    {
     "data": {
      "image/png": "[encoded data removed]",
      "text/plain": [
       "<matplotlib.figure.Figure at 0x7f89dd12dfd0>"
      ]
     },
     "metadata": {},
     "output_type": "display_data"
    }
   ],
   "source": [
    "QDYN.pulse.Pulse(join(rf, 'pulse.dat')).show(\n",
    "    mark_freqs=mark_freqs(rf, transition_table),\n",
    "    mark_freq_points='o', wmin=-0.2, wmax=1.0)"
   ]
  },
  {
   "cell_type": "code",
   "execution_count": 92,
   "metadata": {
    "collapsed": false,
    "level": 7
   },
   "outputs": [
    {
     "data": {
      "image/png": "[encoded data removed]",
      "text/plain": [
       "<matplotlib.figure.Figure at 0x7f89f0889b90>"
      ]
     },
     "metadata": {},
     "output_type": "display_data"
    }
   ],
   "source": [
    "QDYNTransmonLib.popdyn.PopPlot(rf).show()"
   ]
  },
  {
   "cell_type": "code",
   "execution_count": null,
   "metadata": {
    "collapsed": true,
    "level": 7
   },
   "outputs": [],
   "source": []
  },
  {
   "cell_type": "markdown",
   "metadata": {
    "collapsed": true,
    "heading_collapsed": false,
    "level": 3
   },
   "source": [
    "###  $H_R$ at $T = 40$ ns"
   ]
  },
  {
   "cell_type": "code",
   "execution_count": 93,
   "metadata": {
    "collapsed": true,
    "level": 7
   },
   "outputs": [],
   "source": [
    "rf = join(root, '40ns_H_right'); mkdir(rf)\n",
    "wd = 0.5*(w1+w2)"
   ]
  },
  {
   "cell_type": "code",
   "execution_count": 94,
   "metadata": {
    "collapsed": false,
    "level": 7
   },
   "outputs": [
    {
     "data": {
      "text/plain": [
       "'./runs_zeta_detailed/w2_6320MHz_wc_5750MHz/40ns_H_right'"
      ]
     },
     "execution_count": 94,
     "metadata": {},
     "output_type": "execute_result"
    }
   ],
   "source": [
    "rf"
   ]
  },
  {
   "cell_type": "code",
   "execution_count": 95,
   "metadata": {
    "collapsed": false,
    "level": 7
   },
   "outputs": [],
   "source": [
    "T = 40\n",
    "nt = int(max(2000, 100 * w_max * T))\n",
    "write_target_gate_dat(rf, 'H_right')\n",
    "write_config(join(rf, 'config'), T, nt, wc, w2, wd=wd, gate=\"target_gate.dat\", J_T='SM', prop_guess='F')"
   ]
  },
  {
   "cell_type": "code",
   "execution_count": 96,
   "metadata": {
    "collapsed": false,
    "level": 7,
    "scrolled": false
   },
   "outputs": [
    {
     "data": {
      "text/html": [
       "<div>\n",
       "<table border=\"1\" class=\"dataframe\">\n",
       "  <thead>\n",
       "    <tr style=\"text-align: right;\">\n",
       "      <th></th>\n",
       "      <th>E0</th>\n",
       "      <th>w_L</th>\n",
       "      <th>fig_of_merit</th>\n",
       "    </tr>\n",
       "  </thead>\n",
       "  <tbody>\n",
       "    <tr>\n",
       "      <th>32</th>\n",
       "      <td>200</td>\n",
       "      <td>6.008928</td>\n",
       "      <td>0.191867</td>\n",
       "    </tr>\n",
       "    <tr>\n",
       "      <th>21</th>\n",
       "      <td>150</td>\n",
       "      <td>6.017286</td>\n",
       "      <td>0.193300</td>\n",
       "    </tr>\n",
       "    <tr>\n",
       "      <th>30</th>\n",
       "      <td>200</td>\n",
       "      <td>6.017286</td>\n",
       "      <td>0.193921</td>\n",
       "    </tr>\n",
       "    <tr>\n",
       "      <th>23</th>\n",
       "      <td>150</td>\n",
       "      <td>6.008928</td>\n",
       "      <td>0.215380</td>\n",
       "    </tr>\n",
       "    <tr>\n",
       "      <th>31</th>\n",
       "      <td>200</td>\n",
       "      <td>6.000570</td>\n",
       "      <td>0.223952</td>\n",
       "    </tr>\n",
       "    <tr>\n",
       "      <th>27</th>\n",
       "      <td>200</td>\n",
       "      <td>6.000000</td>\n",
       "      <td>0.226871</td>\n",
       "    </tr>\n",
       "    <tr>\n",
       "      <th>22</th>\n",
       "      <td>150</td>\n",
       "      <td>6.000570</td>\n",
       "      <td>0.255674</td>\n",
       "    </tr>\n",
       "    <tr>\n",
       "      <th>18</th>\n",
       "      <td>150</td>\n",
       "      <td>6.000000</td>\n",
       "      <td>0.258497</td>\n",
       "    </tr>\n",
       "    <tr>\n",
       "      <th>34</th>\n",
       "      <td>200</td>\n",
       "      <td>6.311974</td>\n",
       "      <td>0.295725</td>\n",
       "    </tr>\n",
       "    <tr>\n",
       "      <th>33</th>\n",
       "      <td>200</td>\n",
       "      <td>6.328690</td>\n",
       "      <td>0.310385</td>\n",
       "    </tr>\n",
       "    <tr>\n",
       "      <th>28</th>\n",
       "      <td>200</td>\n",
       "      <td>6.320000</td>\n",
       "      <td>0.311891</td>\n",
       "    </tr>\n",
       "    <tr>\n",
       "      <th>35</th>\n",
       "      <td>200</td>\n",
       "      <td>6.320332</td>\n",
       "      <td>0.313606</td>\n",
       "    </tr>\n",
       "    <tr>\n",
       "      <th>24</th>\n",
       "      <td>150</td>\n",
       "      <td>6.328690</td>\n",
       "      <td>0.319525</td>\n",
       "    </tr>\n",
       "    <tr>\n",
       "      <th>25</th>\n",
       "      <td>150</td>\n",
       "      <td>6.311974</td>\n",
       "      <td>0.323724</td>\n",
       "    </tr>\n",
       "    <tr>\n",
       "      <th>12</th>\n",
       "      <td>50</td>\n",
       "      <td>6.017286</td>\n",
       "      <td>0.325131</td>\n",
       "    </tr>\n",
       "    <tr>\n",
       "      <th>19</th>\n",
       "      <td>150</td>\n",
       "      <td>6.320000</td>\n",
       "      <td>0.337129</td>\n",
       "    </tr>\n",
       "    <tr>\n",
       "      <th>26</th>\n",
       "      <td>150</td>\n",
       "      <td>6.320332</td>\n",
       "      <td>0.337804</td>\n",
       "    </tr>\n",
       "    <tr>\n",
       "      <th>14</th>\n",
       "      <td>50</td>\n",
       "      <td>6.008928</td>\n",
       "      <td>0.348099</td>\n",
       "    </tr>\n",
       "    <tr>\n",
       "      <th>15</th>\n",
       "      <td>50</td>\n",
       "      <td>6.328690</td>\n",
       "      <td>0.356740</td>\n",
       "    </tr>\n",
       "    <tr>\n",
       "      <th>16</th>\n",
       "      <td>50</td>\n",
       "      <td>6.311974</td>\n",
       "      <td>0.366802</td>\n",
       "    </tr>\n",
       "    <tr>\n",
       "      <th>13</th>\n",
       "      <td>50</td>\n",
       "      <td>6.000570</td>\n",
       "      <td>0.366812</td>\n",
       "    </tr>\n",
       "    <tr>\n",
       "      <th>9</th>\n",
       "      <td>50</td>\n",
       "      <td>6.000000</td>\n",
       "      <td>0.367809</td>\n",
       "    </tr>\n",
       "    <tr>\n",
       "      <th>17</th>\n",
       "      <td>50</td>\n",
       "      <td>6.320332</td>\n",
       "      <td>0.369473</td>\n",
       "    </tr>\n",
       "    <tr>\n",
       "      <th>10</th>\n",
       "      <td>50</td>\n",
       "      <td>6.320000</td>\n",
       "      <td>0.369748</td>\n",
       "    </tr>\n",
       "    <tr>\n",
       "      <th>7</th>\n",
       "      <td>0</td>\n",
       "      <td>6.311974</td>\n",
       "      <td>0.373799</td>\n",
       "    </tr>\n",
       "    <tr>\n",
       "      <th>1</th>\n",
       "      <td>0</td>\n",
       "      <td>6.320000</td>\n",
       "      <td>0.373799</td>\n",
       "    </tr>\n",
       "    <tr>\n",
       "      <th>8</th>\n",
       "      <td>0</td>\n",
       "      <td>6.320332</td>\n",
       "      <td>0.373799</td>\n",
       "    </tr>\n",
       "    <tr>\n",
       "      <th>5</th>\n",
       "      <td>0</td>\n",
       "      <td>6.008928</td>\n",
       "      <td>0.373799</td>\n",
       "    </tr>\n",
       "    <tr>\n",
       "      <th>4</th>\n",
       "      <td>0</td>\n",
       "      <td>6.000570</td>\n",
       "      <td>0.373799</td>\n",
       "    </tr>\n",
       "    <tr>\n",
       "      <th>3</th>\n",
       "      <td>0</td>\n",
       "      <td>6.017286</td>\n",
       "      <td>0.373799</td>\n",
       "    </tr>\n",
       "    <tr>\n",
       "      <th>2</th>\n",
       "      <td>0</td>\n",
       "      <td>6.160000</td>\n",
       "      <td>0.373799</td>\n",
       "    </tr>\n",
       "    <tr>\n",
       "      <th>0</th>\n",
       "      <td>0</td>\n",
       "      <td>6.000000</td>\n",
       "      <td>0.373799</td>\n",
       "    </tr>\n",
       "    <tr>\n",
       "      <th>6</th>\n",
       "      <td>0</td>\n",
       "      <td>6.328690</td>\n",
       "      <td>0.373799</td>\n",
       "    </tr>\n",
       "    <tr>\n",
       "      <th>11</th>\n",
       "      <td>50</td>\n",
       "      <td>6.160000</td>\n",
       "      <td>0.377012</td>\n",
       "    </tr>\n",
       "    <tr>\n",
       "      <th>20</th>\n",
       "      <td>150</td>\n",
       "      <td>6.160000</td>\n",
       "      <td>0.395673</td>\n",
       "    </tr>\n",
       "    <tr>\n",
       "      <th>29</th>\n",
       "      <td>200</td>\n",
       "      <td>6.160000</td>\n",
       "      <td>0.401031</td>\n",
       "    </tr>\n",
       "  </tbody>\n",
       "</table>\n",
       "</div>"
      ],
      "text/plain": [
       "     E0       w_L  fig_of_merit\n",
       "32  200  6.008928      0.191867\n",
       "21  150  6.017286      0.193300\n",
       "30  200  6.017286      0.193921\n",
       "23  150  6.008928      0.215380\n",
       "31  200  6.000570      0.223952\n",
       "27  200  6.000000      0.226871\n",
       "22  150  6.000570      0.255674\n",
       "18  150  6.000000      0.258497\n",
       "34  200  6.311974      0.295725\n",
       "33  200  6.328690      0.310385\n",
       "28  200  6.320000      0.311891\n",
       "35  200  6.320332      0.313606\n",
       "24  150  6.328690      0.319525\n",
       "25  150  6.311974      0.323724\n",
       "12   50  6.017286      0.325131\n",
       "19  150  6.320000      0.337129\n",
       "26  150  6.320332      0.337804\n",
       "14   50  6.008928      0.348099\n",
       "15   50  6.328690      0.356740\n",
       "16   50  6.311974      0.366802\n",
       "13   50  6.000570      0.366812\n",
       "9    50  6.000000      0.367809\n",
       "17   50  6.320332      0.369473\n",
       "10   50  6.320000      0.369748\n",
       "7     0  6.311974      0.373799\n",
       "1     0  6.320000      0.373799\n",
       "8     0  6.320332      0.373799\n",
       "5     0  6.008928      0.373799\n",
       "4     0  6.000570      0.373799\n",
       "3     0  6.017286      0.373799\n",
       "2     0  6.160000      0.373799\n",
       "0     0  6.000000      0.373799\n",
       "6     0  6.328690      0.373799\n",
       "11   50  6.160000      0.377012\n",
       "20  150  6.160000      0.395673\n",
       "29  200  6.160000      0.401031"
      ]
     },
     "execution_count": 96,
     "metadata": {},
     "output_type": "execute_result"
    }
   ],
   "source": [
    "pulse = AnalyticalPulse('1freq_rwa', T, nt,\n",
    "            parameters={'E0': 0.0, 'T': T, 'w_L': wd, 'w_d': wd},\n",
    "            t0=0.0, time_unit='ns', ampl_unit='MHz', freq_unit='MHz', mode=\"complex\")\n",
    "systematic_variation(rf, pulse, vary=OrderedDict([\n",
    "            ('E0', [0.0, 50, 150, 200]), \n",
    "            ('w_L', [w1, w2, 0.5*(w1+w2),  \n",
    "                     w1_dressed0, w1_dressed1, 0.5*(w1_dressed0+w1_dressed1),\n",
    "                     w2_dressed0, w2_dressed1, 0.5*(w2_dressed0+w2_dressed1)])]),\n",
    "            fig_of_merit=F_avg_H_right, n_procs=40)"
   ]
  },
  {
   "cell_type": "code",
   "execution_count": 97,
   "metadata": {
    "collapsed": true,
    "level": 7
   },
   "outputs": [],
   "source": [
    "pulse = AnalyticalPulse('1freq_rwa', T, nt,\n",
    "            parameters={'E0': 200.0, 'T': T, 'w_L': 6.160000, 'w_d': 6.160000},\n",
    "            t0=0.0, time_unit='ns', ampl_unit='MHz', freq_unit='MHz', mode=\"complex\")\n",
    "pulse.write(join(rf, 'pulse_guess.json'))"
   ]
  },
  {
   "cell_type": "code",
   "execution_count": 98,
   "metadata": {
    "collapsed": false,
    "level": 7
   },
   "outputs": [
    {
     "name": "stdout",
     "output_type": "stream",
     "text": [
      "Concurrence: 0.855990\n",
      "Loss: 0.005123\n"
     ]
    }
   ],
   "source": [
    "U_guess = propagate(rf, 'pulse_guess.json', rwa=True, force=True)\n",
    "print(\"Concurrence: %f\" % U_guess.closest_unitary().concurrence())\n",
    "print(\"Loss: %f\" % U_guess.pop_loss())"
   ]
  },
  {
   "cell_type": "code",
   "execution_count": 99,
   "metadata": {
    "collapsed": false,
    "level": 7
   },
   "outputs": [
    {
     "data": {
      "text/plain": [
       "0.40103092217036956"
      ]
     },
     "execution_count": 99,
     "metadata": {},
     "output_type": "execute_result"
    }
   ],
   "source": [
    "U_guess.F_avg(H_right)"
   ]
  },
  {
   "cell_type": "code",
   "execution_count": 110,
   "metadata": {
    "collapsed": false,
    "level": 7
   },
   "outputs": [],
   "source": [
    "proc4 = system(\"./run_oct.py --rwa --continue --keep --pre-simplex='pulse_guess.json' {rf}\".format(rf=rf))"
   ]
  },
  {
   "cell_type": "code",
   "execution_count": 111,
   "metadata": {
    "collapsed": true,
    "level": 7
   },
   "outputs": [],
   "source": [
    "proc4.join();"
   ]
  },
  {
   "cell_type": "code",
   "execution_count": 118,
   "metadata": {
    "collapsed": false,
    "level": 7
   },
   "outputs": [
    {
     "name": "stdout",
     "output_type": "stream",
     "text": [
      " 6026  5.173541671816E-02  1.003383509265E-07  0.000000000000E+00  5.17355170565\r\n",
      " 6027  5.173519841492E-02  1.002987347934E-07  0.000000000000E+00  5.17352987136\r\n",
      " 6028  5.173498019571E-02  1.002591436872E-07  0.000000000000E+00  5.17350804548\r\n",
      " 6029  5.173476206044E-02  1.002195775896E-07  0.000000000000E+00  5.17348622800\r\n",
      " 6030  5.173454400914E-02  1.001800364811E-07  0.000000000000E+00  5.17346441891\r\n",
      " 6031  5.173432604168E-02  1.001405203424E-07  0.000000000000E+00  5.17344261822\r\n",
      " 6032  5.173410815804E-02  1.001010291548E-07  0.000000000000E+00  5.17342082590\r\n",
      " 6033  5.173389035817E-02  1.000615628985E-07  0.000000000000E+00  5.17339904197\r\n",
      " 6034  5.173367264201E-02  1.000221215554E-07  0.000000000000E+00  5.17337726641\r\n",
      " 6035  5.173345500951E-02  9.998270510614E-08  0.000000000000E+00  5.17335549922\r\n"
     ]
    }
   ],
   "source": [
    "U = propagate(rf, 'pulse.dat', rwa=True, force=True, keep=True);\n",
    "! tail {rf}/oct_iters.dat | cut -b 1-80"
   ]
  },
  {
   "cell_type": "code",
   "execution_count": 119,
   "metadata": {
    "collapsed": false,
    "level": 7
   },
   "outputs": [
    {
     "data": {
      "text/plain": [
       "0.03251355404955826"
      ]
     },
     "execution_count": 119,
     "metadata": {},
     "output_type": "execute_result"
    }
   ],
   "source": [
    "U.concurrence()"
   ]
  },
  {
   "cell_type": "code",
   "execution_count": 120,
   "metadata": {
    "collapsed": false,
    "level": 7
   },
   "outputs": [
    {
     "data": {
      "text/plain": [
       "0.050680294523667735"
      ]
     },
     "execution_count": 120,
     "metadata": {},
     "output_type": "execute_result"
    }
   ],
   "source": [
    "U.pop_loss()"
   ]
  },
  {
   "cell_type": "code",
   "execution_count": 121,
   "metadata": {
    "collapsed": false,
    "level": 7
   },
   "outputs": [
    {
     "data": {
      "text/plain": [
       "0.051522823173379195"
      ]
     },
     "execution_count": 121,
     "metadata": {},
     "output_type": "execute_result"
    }
   ],
   "source": [
    "1-U.F_avg(H_right)"
   ]
  },
  {
   "cell_type": "code",
   "execution_count": 122,
   "metadata": {
    "collapsed": false,
    "level": 7
   },
   "outputs": [
    {
     "data": {
      "image/png": "[encoded data removed]",
      "text/plain": [
       "<matplotlib.figure.Figure at 0x7f89edef8050>"
      ]
     },
     "metadata": {},
     "output_type": "display_data"
    }
   ],
   "source": [
    "QDYN.pulse.Pulse(join(rf, 'pulse.dat')).show(\n",
    "    mark_freqs=mark_freqs(rf, transition_table),\n",
    "    mark_freq_points='o', wmin=-0.2, wmax=1.0)"
   ]
  },
  {
   "cell_type": "code",
   "execution_count": 123,
   "metadata": {
    "collapsed": false,
    "level": 7
   },
   "outputs": [
    {
     "data": {
      "image/png": "[encoded data removed]",
      "text/plain": [
       "<matplotlib.figure.Figure at 0x7f89dd46f950>"
      ]
     },
     "metadata": {},
     "output_type": "display_data"
    }
   ],
   "source": [
    "QDYNTransmonLib.popdyn.PopPlot(rf).show()"
   ]
  },
  {
   "cell_type": "code",
   "execution_count": null,
   "metadata": {
    "collapsed": true,
    "level": 7
   },
   "outputs": [],
   "source": []
  },
  {
   "cell_type": "markdown",
   "metadata": {
    "collapsed": true,
    "heading_collapsed": false,
    "level": 3
   },
   "source": [
    "###  $H_L$ at $T = 40$ ns, two-tone"
   ]
  },
  {
   "cell_type": "code",
   "execution_count": 156,
   "metadata": {
    "collapsed": true,
    "level": 7
   },
   "outputs": [],
   "source": [
    "rf = join(root, '40ns_H_left_two_tone'); mkdir(rf)\n",
    "wd = 0.25*(w1_dressed0+w1_dressed1+w2_dressed1+w2_dressed1)"
   ]
  },
  {
   "cell_type": "code",
   "execution_count": 157,
   "metadata": {
    "collapsed": false,
    "level": 7
   },
   "outputs": [
    {
     "data": {
      "text/plain": [
       "'./runs_zeta_detailed/w2_6320MHz_wc_5750MHz/40ns_H_left_two_tone'"
      ]
     },
     "execution_count": 157,
     "metadata": {},
     "output_type": "execute_result"
    }
   ],
   "source": [
    "rf"
   ]
  },
  {
   "cell_type": "code",
   "execution_count": 140,
   "metadata": {
    "collapsed": false,
    "level": 7
   },
   "outputs": [],
   "source": [
    "T = 40\n",
    "nt = 4000\n",
    "write_target_gate_dat(rf, 'H_left')\n",
    "write_config(join(rf, 'config'), T, nt, wc, w2, wd=wd, gate=\"target_gate.dat\",\n",
    "             J_T='SM', prop_guess='F')"
   ]
  },
  {
   "cell_type": "code",
   "execution_count": 141,
   "metadata": {
    "collapsed": false,
    "level": 7
   },
   "outputs": [
    {
     "data": {
      "text/html": [
       "<div>\n",
       "<table border=\"1\" class=\"dataframe\">\n",
       "  <thead>\n",
       "    <tr style=\"text-align: right;\">\n",
       "      <th></th>\n",
       "      <th>E0</th>\n",
       "      <th>fig_of_merit</th>\n",
       "    </tr>\n",
       "  </thead>\n",
       "  <tbody>\n",
       "    <tr>\n",
       "      <th>6</th>\n",
       "      <td>200</td>\n",
       "      <td>0.197370</td>\n",
       "    </tr>\n",
       "    <tr>\n",
       "      <th>5</th>\n",
       "      <td>150</td>\n",
       "      <td>0.226808</td>\n",
       "    </tr>\n",
       "    <tr>\n",
       "      <th>4</th>\n",
       "      <td>70</td>\n",
       "      <td>0.330921</td>\n",
       "    </tr>\n",
       "    <tr>\n",
       "      <th>3</th>\n",
       "      <td>50</td>\n",
       "      <td>0.352684</td>\n",
       "    </tr>\n",
       "    <tr>\n",
       "      <th>2</th>\n",
       "      <td>20</td>\n",
       "      <td>0.370634</td>\n",
       "    </tr>\n",
       "    <tr>\n",
       "      <th>1</th>\n",
       "      <td>10</td>\n",
       "      <td>0.373010</td>\n",
       "    </tr>\n",
       "    <tr>\n",
       "      <th>0</th>\n",
       "      <td>0</td>\n",
       "      <td>0.373799</td>\n",
       "    </tr>\n",
       "  </tbody>\n",
       "</table>\n",
       "</div>"
      ],
      "text/plain": [
       "    E0  fig_of_merit\n",
       "6  200      0.197370\n",
       "5  150      0.226808\n",
       "4   70      0.330921\n",
       "3   50      0.352684\n",
       "2   20      0.370634\n",
       "1   10      0.373010\n",
       "0    0      0.373799"
      ]
     },
     "execution_count": 141,
     "metadata": {},
     "output_type": "execute_result"
    }
   ],
   "source": [
    "pulse = AnalyticalPulse('2freq_rwa', T, nt,\n",
    "            parameters={'E0': 0.0, 'T': T, \n",
    "                        'freq_1': 0.5*(w1_dressed0+w1_dressed1),\n",
    "                        'freq_2': 0.5*(w2_dressed1+w2_dressed1),\n",
    "                        'a_1': 1.0, 'a_2': 0.1, 'phi':0,\n",
    "                        'w_d': wd},\n",
    "            t0=0.0, time_unit='ns', ampl_unit='MHz', freq_unit='MHz', mode=\"complex\")\n",
    "systematic_variation(rf, pulse, vary=OrderedDict([\n",
    "            ('E0', [0.0, 10, 20, 50, 70, 150, 200]), ]),\n",
    "            fig_of_merit=F_avg_H_right, n_procs=40)"
   ]
  },
  {
   "cell_type": "code",
   "execution_count": 142,
   "metadata": {
    "collapsed": false,
    "level": 7,
    "scrolled": false
   },
   "outputs": [],
   "source": [
    "pulse = AnalyticalPulse('2freq_rwa', T, nt,\n",
    "            parameters={'E0': 50.0, 'T': T, \n",
    "                        'freq_1': 0.5*(w1_dressed0+w1_dressed1),\n",
    "                        'freq_2': 0.5*(w2_dressed1+w2_dressed1),\n",
    "                        'a_1': 1.0, 'a_2': 0.1, 'phi':0,\n",
    "                        'w_d': 0.25*(w1_dressed0+w1_dressed1+w2_dressed1+w2_dressed1)},\n",
    "            t0=0.0, time_unit='ns', ampl_unit='MHz', freq_unit='MHz', mode=\"complex\")\n",
    "pulse.write(join(rf, 'pulse_guess.json'))\n"
   ]
  },
  {
   "cell_type": "code",
   "execution_count": 145,
   "metadata": {
    "collapsed": false,
    "level": 7
   },
   "outputs": [
    {
     "data": {
      "image/png": "[encoded data removed]",
      "text/plain": [
       "<matplotlib.figure.Figure at 0x7f89cc754250>"
      ]
     },
     "metadata": {},
     "output_type": "display_data"
    }
   ],
   "source": [
    "pulse.pulse().show(mark_freqs=mark_freqs(rf, transition_table),\n",
    "    mark_freq_points='o', freq_unit='GHz')"
   ]
  },
  {
   "cell_type": "code",
   "execution_count": 146,
   "metadata": {
    "collapsed": false,
    "level": 7
   },
   "outputs": [
    {
     "name": "stdout",
     "output_type": "stream",
     "text": [
      "Concurrence: 0.923122\n",
      "Loss: 0.015143\n"
     ]
    }
   ],
   "source": [
    "U_guess = propagate(rf, 'pulse_guess.json', rwa=True, force=True)\n",
    "print(\"Concurrence: %f\" % U_guess.closest_unitary().concurrence())\n",
    "print(\"Loss: %f\" % U_guess.pop_loss())"
   ]
  },
  {
   "cell_type": "code",
   "execution_count": 154,
   "metadata": {
    "collapsed": false,
    "level": 7
   },
   "outputs": [],
   "source": [
    "proc5 = system(\"./run_oct.py --rwa --continue --nt-min=6000 --pre-simplex='pulse_guess.json' {rf}\".format(rf=rf))"
   ]
  },
  {
   "cell_type": "code",
   "execution_count": 158,
   "metadata": {
    "collapsed": false
   },
   "outputs": [
    {
     "data": {
      "text/plain": [
       "<Process(Process-289, stopped)>"
      ]
     },
     "execution_count": 158,
     "metadata": {},
     "output_type": "execute_result"
    }
   ],
   "source": [
    "proc5"
   ]
  },
  {
   "cell_type": "code",
   "execution_count": 159,
   "metadata": {
    "collapsed": true,
    "level": 7
   },
   "outputs": [],
   "source": [
    "proc5.join();"
   ]
  },
  {
   "cell_type": "code",
   "execution_count": 160,
   "metadata": {
    "collapsed": false,
    "level": 7
   },
   "outputs": [
    {
     "name": "stdout",
     "output_type": "stream",
     "text": [
      " 5165  1.552174872520E-01  1.468536375479E-06  0.000000000000E+00  1.55218955788\r\n",
      " 5166  1.552138035281E-01  1.467925753484E-06  0.000000000000E+00  1.55215271453\r\n",
      " 5167  1.552101208112E-01  1.467315457246E-06  0.000000000000E+00  1.55211588126\r\n",
      " 5168  1.552064391008E-01  1.466705487297E-06  0.000000000000E+00  1.55207905806\r\n",
      " 5169  1.552027583964E-01  1.466095844162E-06  0.000000000000E+00  1.55204224492\r\n",
      " 5170  1.551990786973E-01  1.465486528366E-06  0.000000000000E+00  1.55200544183\r\n",
      " 5171  1.551954000031E-01  1.464877540434E-06  0.000000000000E+00  1.55196864880\r\n",
      " 5172  1.551917223132E-01  1.464268880890E-06  0.000000000000E+00  1.55193186582\r\n",
      " 5173  1.551880456269E-01  1.463660550255E-06  0.000000000000E+00  1.55189509287\r\n",
      " 5174  1.551843699439E-01  1.463052549047E-06  0.000000000000E+00  1.55185832996\r\n"
     ]
    }
   ],
   "source": [
    "U = propagate(rf, 'pulse.dat', rwa=True, force=True, keep=True);\n",
    "! tail {rf}/oct_iters.dat | cut -b 1-80"
   ]
  },
  {
   "cell_type": "code",
   "execution_count": 161,
   "metadata": {
    "collapsed": false,
    "level": 7
   },
   "outputs": [
    {
     "data": {
      "text/plain": [
       "0.28540658077863768"
      ]
     },
     "execution_count": 161,
     "metadata": {},
     "output_type": "execute_result"
    }
   ],
   "source": [
    "U.concurrence()"
   ]
  },
  {
   "cell_type": "code",
   "execution_count": 162,
   "metadata": {
    "collapsed": false,
    "level": 7
   },
   "outputs": [
    {
     "data": {
      "text/plain": [
       "0.1251303477604595"
      ]
     },
     "execution_count": 162,
     "metadata": {},
     "output_type": "execute_result"
    }
   ],
   "source": [
    "U.pop_loss()"
   ]
  },
  {
   "cell_type": "code",
   "execution_count": 163,
   "metadata": {
    "collapsed": false,
    "level": 7
   },
   "outputs": [
    {
     "data": {
      "text/plain": [
       "0.14917356529389658"
      ]
     },
     "execution_count": 163,
     "metadata": {},
     "output_type": "execute_result"
    }
   ],
   "source": [
    "1-U.F_avg(H_left)"
   ]
  },
  {
   "cell_type": "code",
   "execution_count": 164,
   "metadata": {
    "collapsed": false,
    "level": 7
   },
   "outputs": [
    {
     "data": {
      "image/png": "[encoded data removed]",
      "text/plain": [
       "<matplotlib.figure.Figure at 0x7f89cc689c90>"
      ]
     },
     "metadata": {},
     "output_type": "display_data"
    }
   ],
   "source": [
    "QDYN.pulse.Pulse(join(rf, 'pulse.dat')).show(\n",
    "    mark_freqs=mark_freqs(rf, transition_table),\n",
    "    mark_freq_points='o', wmin=-0.2, wmax=1.0)"
   ]
  },
  {
   "cell_type": "code",
   "execution_count": 165,
   "metadata": {
    "collapsed": false,
    "level": 7
   },
   "outputs": [
    {
     "data": {
      "image/png": "[encoded data removed]",
      "text/plain": [
       "<matplotlib.figure.Figure at 0x7f89de170250>"
      ]
     },
     "metadata": {},
     "output_type": "display_data"
    }
   ],
   "source": [
    "QDYNTransmonLib.popdyn.PopPlot(rf).show()"
   ]
  },
  {
   "cell_type": "code",
   "execution_count": null,
   "metadata": {
    "collapsed": true,
    "level": 7
   },
   "outputs": [],
   "source": []
  }
 ],
 "metadata": {
  "kernelspec": {
   "display_name": "Python 2",
   "language": "python",
   "name": "python2"
  },
  "language_info": {
   "codemirror_mode": {
    "name": "ipython",
    "version": 2
   },
   "file_extension": ".py",
   "mimetype": "text/x-python",
   "name": "python",
   "nbconvert_exporter": "python",
   "pygments_lexer": "ipython2",
   "version": "2.7.11"
  },
  "toc": {
   "toc_cell": false,
   "toc_number_sections": true,
   "toc_threshold": 6,
   "toc_window_display": true
  },
  "toc_position": {
   "left": "951.047px",
   "right": "20px",
   "top": "46px",
   "width": "277px"
  }
 },
 "nbformat": 4,
 "nbformat_minor": 0
}
