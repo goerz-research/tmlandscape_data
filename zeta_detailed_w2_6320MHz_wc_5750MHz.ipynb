{
 "cells": [
  {
   "cell_type": "markdown",
   "metadata": {
    "heading_collapsed": false,
    "level": 1
   },
   "source": [
    "# Detailed Exploration of Universal Gate Set for Intermediate Zeta"
   ]
  },
  {
   "cell_type": "markdown",
   "metadata": {
    "heading_collapsed": false,
    "level": 2
   },
   "source": [
    "## Header"
   ]
  },
  {
   "cell_type": "code",
   "execution_count": 1,
   "metadata": {
    "collapsed": false
   },
   "outputs": [],
   "source": [
    "import numpy as np\n",
    "import QDYN\n",
    "from QDYN.shutil import mkdir\n",
    "from QDYN.pulse import Pulse, pulse_tgrid\n",
    "from QDYN.gate2q import Gate2Q\n",
    "from QDYN.linalg import norm, vectorize\n",
    "from os.path import join\n",
    "from notebook_utils import (\n",
    "    get_zeta_table, plot_zeta_data, filter_table, get_logical_energies_table,\n",
    "    get_stage4_table, bare_decomposition, get_transition_table, J_target)\n",
    "from mgplottools.io import writetotxt\n",
    "from select_for_stage4 import GATE_RE, GATE_IM, GATE\n",
    "from generate_zeta_universal import write_config\n",
    "from analytical_pulses import AnalyticalPulse\n",
    "from run_oct import propagate\n",
    "from collections import OrderedDict\n",
    "from zeta_systematic_variation import systematic_variation\n",
    "import pandas as pd"
   ]
  },
  {
   "cell_type": "code",
   "execution_count": 2,
   "metadata": {
    "collapsed": true
   },
   "outputs": [],
   "source": [
    "H_left = GATE['H_left']\n",
    "def write_target_gate_dat(rf, gate):\n",
    "    writetotxt(join(rf, 'target_gate.dat'), GATE_RE[gate], GATE_IM[gate])"
   ]
  },
  {
   "cell_type": "code",
   "execution_count": 3,
   "metadata": {
    "collapsed": true
   },
   "outputs": [],
   "source": [
    "def J_PE(U):\n",
    "    if U is None:\n",
    "        return None\n",
    "    else:\n",
    "        C = U.closest_unitary().concurrence()\n",
    "        max_loss = np.max(1.0 - U.logical_pops())\n",
    "        return J_target('PE', C, max_loss)\n",
    "\n",
    "def F_avg_H_left(U):\n",
    "    if U is None:\n",
    "        return None\n",
    "    else:\n",
    "        return U.F_avg(H_left)"
   ]
  },
  {
   "cell_type": "code",
   "execution_count": 4,
   "metadata": {
    "collapsed": true
   },
   "outputs": [],
   "source": [
    "from multiprocessing import Process\n",
    "import os\n",
    "def system(cmd):\n",
    "    p = Process(target=os.system, args=(cmd,))\n",
    "    p.start()\n",
    "    return p"
   ]
  },
  {
   "cell_type": "code",
   "execution_count": 5,
   "metadata": {
    "collapsed": true
   },
   "outputs": [],
   "source": [
    "%matplotlib inline\n",
    "%reload_ext autoreload\n",
    "%autoreload 2"
   ]
  },
  {
   "cell_type": "code",
   "execution_count": 6,
   "metadata": {
    "collapsed": true
   },
   "outputs": [],
   "source": [
    "get_zeta_table = QDYN.memoize.memoize(get_zeta_table)\n",
    "get_zeta_table.load('zeta_table.cache')"
   ]
  },
  {
   "cell_type": "code",
   "execution_count": 7,
   "metadata": {
    "collapsed": false
   },
   "outputs": [],
   "source": [
    "zeta_table = get_zeta_table('./runs_050_RWA', T=50)"
   ]
  },
  {
   "cell_type": "code",
   "execution_count": 8,
   "metadata": {
    "collapsed": false
   },
   "outputs": [],
   "source": [
    "w_max = 1.0 # minimum frequency in the rotating frame to be resolved. (for calculation of nt)"
   ]
  },
  {
   "cell_type": "code",
   "execution_count": 9,
   "metadata": {
    "collapsed": true
   },
   "outputs": [],
   "source": [
    "n_qubit = 5; n_cavity = 6"
   ]
  },
  {
   "cell_type": "markdown",
   "metadata": {
    "heading_collapsed": false,
    "level": 2
   },
   "source": [
    "## Analysis"
   ]
  },
  {
   "cell_type": "code",
   "execution_count": 14,
   "metadata": {
    "collapsed": true
   },
   "outputs": [],
   "source": [
    "w1 = 6.00 # GHz\n",
    "w2 = 6.32 # GHz\n",
    "wc = 5.75 # GHZ\n",
    "root = './runs_zeta_detailed/w2_%dMHz_wc_%dMHz' % (w2*1000, wc*1000)\n",
    "mkdir(root)"
   ]
  },
  {
   "cell_type": "markdown",
   "metadata": {},
   "source": [
    "* what is the the entangling energy?"
   ]
  },
  {
   "cell_type": "code",
   "execution_count": 16,
   "metadata": {
    "collapsed": false
   },
   "outputs": [
    {
     "data": {
      "text/plain": [
       "-16.716000000000008"
      ]
     },
     "execution_count": 16,
     "metadata": {},
     "output_type": "execute_result"
    }
   ],
   "source": [
    "zeta = float(filter_table(zeta_table, [(w2, wc),])['zeta [MHz]']); zeta"
   ]
  },
  {
   "cell_type": "code",
   "execution_count": 17,
   "metadata": {
    "collapsed": false
   },
   "outputs": [
    {
     "data": {
      "text/plain": [
       "29.911462072266076"
      ]
     },
     "execution_count": 17,
     "metadata": {},
     "output_type": "execute_result"
    }
   ],
   "source": [
    "T_entangling = 500.0 / abs(zeta); T_entangling # ns"
   ]
  },
  {
   "cell_type": "markdown",
   "metadata": {},
   "source": [
    "* Verify the PE. What do the logical eigenstates look like? What are the dressed qubit levels? What required spectral resolution do we anticipate?"
   ]
  },
  {
   "cell_type": "code",
   "execution_count": 18,
   "metadata": {
    "collapsed": false
   },
   "outputs": [
    {
     "name": "stdout",
     "output_type": "stream",
     "text": [
      "concurrence: 1.00000\n"
     ]
    }
   ],
   "source": [
    "T = T_entangling\n",
    "rf = join(root, 'verify_PE'); mkdir(rf)\n",
    "nt = int(max(2000, 100 * w_max * T))\n",
    "write_config(join(rf, 'config'), T, nt, wc, w2, wd=6.0, gate=\"CPHASE\", J_T='SM', prop_guess='T')\n",
    "pulse = Pulse(tgrid=pulse_tgrid(T, nt), time_unit='ns',ampl_unit='MHz')  # zero amplitude\n",
    "pulse.write(join(rf, 'pulse.guess'))\n",
    "U = propagate(rf, 'pulse.guess', rwa=True, keep=True, force=True)\n",
    "print \"concurrence: %.5f\" % U.concurrence()"
   ]
  },
  {
   "cell_type": "code",
   "execution_count": 19,
   "metadata": {
    "collapsed": false
   },
   "outputs": [
    {
     "name": "stdout",
     "output_type": "stream",
     "text": [
      "00 = 100.0% {000}\n",
      "01 = 1.5% {001} + 98.4% {010}\n",
      "10 = 5.7% {001} + 0.3% {010} + 94.0% {100}\n",
      "11 = 33.1% {020} + 1.1% {101} + 65.8% {110}\n"
     ]
    }
   ],
   "source": [
    "psi = {}; psi['00'], psi['01'], psi['10'], psi['11'] \\\n",
    "= np.genfromtxt(join(rf, 'logical_states.dat'), unpack=True, usecols=range(4))\n",
    "for label in ['00', '01', '10', '11']:\n",
    "    print(\"%s = %s\" % (label, bare_decomposition(psi[label], n_qubit, n_cavity)))"
   ]
  },
  {
   "cell_type": "code",
   "execution_count": 20,
   "metadata": {
    "collapsed": false
   },
   "outputs": [
    {
     "data": {
      "text/html": [
       "<div>\n",
       "<table border=\"1\" class=\"dataframe\">\n",
       "  <thead>\n",
       "    <tr style=\"text-align: right;\">\n",
       "      <th></th>\n",
       "      <th>E01 - E00 [MHz]</th>\n",
       "      <th>E10 - E00 [MHz]</th>\n",
       "      <th>E11 - E10 [MHz]</th>\n",
       "      <th>E11 - E01 [MHz]</th>\n",
       "      <th>bare w2 [MHz]</th>\n",
       "      <th>bare w1 [MHz]</th>\n",
       "    </tr>\n",
       "  </thead>\n",
       "  <tbody>\n",
       "    <tr>\n",
       "      <th>0</th>\n",
       "      <td>6328.69</td>\n",
       "      <td>6017.286</td>\n",
       "      <td>6311.974</td>\n",
       "      <td>6000.57</td>\n",
       "      <td>6320</td>\n",
       "      <td>6000</td>\n",
       "    </tr>\n",
       "  </tbody>\n",
       "</table>\n",
       "</div>"
      ],
      "text/plain": [
       "   E01 - E00 [MHz]  E10 - E00 [MHz]  E11 - E10 [MHz]  E11 - E01 [MHz]  \\\n",
       "0          6328.69         6017.286         6311.974          6000.57   \n",
       "\n",
       "   bare w2 [MHz]  bare w1 [MHz]  \n",
       "0           6320           6000  "
      ]
     },
     "execution_count": 20,
     "metadata": {},
     "output_type": "execute_result"
    }
   ],
   "source": [
    "transition_table = get_transition_table(filter_table(zeta_table, [(w2, wc),]))\n",
    "transition_table.reset_index(drop=True)"
   ]
  },
  {
   "cell_type": "code",
   "execution_count": 21,
   "metadata": {
    "collapsed": true
   },
   "outputs": [],
   "source": [
    "w1_dressed0 = transition_table['E10 - E00 [MHz]'][0] / 1000.0 # GHz\n",
    "w1_dressed1 = transition_table['E11 - E01 [MHz]'][0] / 1000.0 # GHz\n",
    "w2_dressed0 = transition_table['E01 - E00 [MHz]'][0] / 1000.0 # GHz\n",
    "w2_dressed1 = transition_table['E11 - E10 [MHz]'][0] / 1000.0 # GHz"
   ]
  },
  {
   "cell_type": "code",
   "execution_count": 22,
   "metadata": {
    "collapsed": false
   },
   "outputs": [
    {
     "name": "stdout",
     "output_type": "stream",
     "text": [
      "Separation of dressed frequencies, left qubit: 16.716 MHz\n",
      "Separation of dressed frequencies, right qubit: 16.716 MHz\n"
     ]
    }
   ],
   "source": [
    "print(\"Separation of dressed frequencies, left qubit: %.3f MHz\"\n",
    "      % abs(float(transition_table['E11 - E01 [MHz]']) - float(transition_table['E10 - E00 [MHz]'])))\n",
    "print(\"Separation of dressed frequencies, right qubit: %.3f MHz\"\n",
    "      % abs(float(transition_table['E11 - E10 [MHz]']) - float(transition_table['E01 - E00 [MHz]'])))"
   ]
  },
  {
   "cell_type": "code",
   "execution_count": 23,
   "metadata": {
    "collapsed": false
   },
   "outputs": [
    {
     "name": "stdout",
     "output_type": "stream",
     "text": [
      "Spectral resolution of pulse: 33.4 MHz\n"
     ]
    }
   ],
   "source": [
    "print \"Spectral resolution of pulse: %.1f MHz\" % pulse.dw(freq_unit='MHz')"
   ]
  },
  {
   "cell_type": "markdown",
   "metadata": {},
   "source": [
    "* Verify the local gate"
   ]
  },
  {
   "cell_type": "code",
   "execution_count": 24,
   "metadata": {
    "collapsed": false
   },
   "outputs": [
    {
     "name": "stdout",
     "output_type": "stream",
     "text": [
      "Spectral resolution of pulse: 16.7 MHz\n",
      "concurrence: 0.00007\n"
     ]
    }
   ],
   "source": [
    "T = 2*T_entangling\n",
    "rf = join(root, 'verify_SQ'); mkdir(rf)\n",
    "nt = int(max(2000, 100 * w_max * T))\n",
    "write_config(join(rf, 'config'), T, nt, wc, w2, wd=6.0, gate=\"CPHASE\", J_T='SM', prop_guess='T')\n",
    "pulse = Pulse(tgrid=pulse_tgrid(T, nt), time_unit='ns',ampl_unit='MHz')  # zero amplitude\n",
    "pulse.write(join(rf, 'pulse.guess'))\n",
    "print \"Spectral resolution of pulse: %.1f MHz\" % pulse.dw(freq_unit='MHz')\n",
    "U = propagate(rf, 'pulse.guess', rwa=True, keep=True, force=True)\n",
    "print \"concurrence: %.5f\" % U.concurrence()"
   ]
  },
  {
   "cell_type": "code",
   "execution_count": 25,
   "metadata": {
    "collapsed": false
   },
   "outputs": [
    {
     "name": "stdout",
     "output_type": "stream",
     "text": [
      "Spectral resolution of pulse: 8.4 MHz\n",
      "concurrence: 0.00014\n"
     ]
    }
   ],
   "source": [
    "T = 4*T_entangling\n",
    "rf = join(root, 'verify_SQ_2cycles'); mkdir(rf)\n",
    "nt = int(max(2000, 100 * w_max * T))\n",
    "write_config(join(rf, 'config'), T, nt, wc, w2, wd=6.0, gate=\"CPHASE\", J_T='SM', prop_guess='T')\n",
    "pulse = Pulse(tgrid=pulse_tgrid(T, nt), time_unit='ns',ampl_unit='MHz')  # zero amplitude\n",
    "pulse.write(join(rf, 'pulse.guess'))\n",
    "print \"Spectral resolution of pulse: %.1f MHz\" % pulse.dw(freq_unit='MHz')\n",
    "U = propagate(rf, 'pulse.guess', rwa=True, keep=True, force=True)\n",
    "print \"concurrence: %.5f\" % U.concurrence()"
   ]
  },
  {
   "cell_type": "markdown",
   "metadata": {
    "collapsed": true
   },
   "source": [
    "* Can we compress the PE by adding a pulse and OCT?"
   ]
  },
  {
   "cell_type": "code",
   "execution_count": null,
   "metadata": {
    "collapsed": false
   },
   "outputs": [],
   "source": [
    "compression = 0.9\n",
    "wd = 0.5*(w1+w2)\n",
    "rf = join(root, 'compress_PE_%.1f' % compression); mkdir(rf)"
   ]
  },
  {
   "cell_type": "code",
   "execution_count": null,
   "metadata": {
    "collapsed": false
   },
   "outputs": [],
   "source": [
    "rf"
   ]
  },
  {
   "cell_type": "code",
   "execution_count": null,
   "metadata": {
    "collapsed": false
   },
   "outputs": [],
   "source": [
    "# write runfolder\n",
    "T = compression*T_entangling\n",
    "nt = int(max(2000, 100 * w_max * T))\n",
    "write_config(join(rf, 'config'), T, nt, wc, w2, wd=wd, gate=\"CPHASE\", J_T='PE', prop_guess='F')"
   ]
  },
  {
   "cell_type": "code",
   "execution_count": null,
   "metadata": {
    "collapsed": false,
    "scrolled": false
   },
   "outputs": [],
   "source": [
    "pulse = AnalyticalPulse('1freq_rwa', T, nt,\n",
    "            parameters={'E0': 0.0, 'T': T, 'w_L': wd, 'w_d': wd},\n",
    "            t0=0.0, time_unit='ns', ampl_unit='MHz', freq_unit='MHz', mode=\"complex\")\n",
    "systematic_variation(rf, pulse, vary=OrderedDict([\n",
    "            ('E0', [0.0, 50, 200, 500]), \n",
    "            ('w_L', [w1, w2, 0.5*(w1+w2),  \n",
    "                     w1_dressed0, w1_dressed1, 0.5*(w1_dressed0+w1_dressed1),\n",
    "                     w2_dressed0, w2_dressed1, 0.5*(w2_dressed0+w2_dressed1)])]),\n",
    "            fig_of_merit=J_PE, n_procs=40)"
   ]
  },
  {
   "cell_type": "code",
   "execution_count": null,
   "metadata": {
    "collapsed": false
   },
   "outputs": [],
   "source": [
    "pulse = AnalyticalPulse('1freq_rwa', T, nt,\n",
    "            parameters={'E0': 0.0, 'T': T, 'w_L': wd, 'w_d': wd},\n",
    "            t0=0.0, time_unit='ns', ampl_unit='MHz', freq_unit='MHz', mode=\"complex\")\n",
    "pulse.write(join(rf, 'pulse_guess.json'))"
   ]
  },
  {
   "cell_type": "code",
   "execution_count": null,
   "metadata": {
    "collapsed": false
   },
   "outputs": [],
   "source": [
    "U_guess = propagate(rf, 'pulse_guess.json', rwa=True, force=True, keep=None)\n",
    "print(\"Concurrence: %f\" % U_guess.closest_unitary().concurrence())\n",
    "print(\"Loss: %f\" % U_guess.pop_loss())"
   ]
  },
  {
   "cell_type": "code",
   "execution_count": null,
   "metadata": {
    "collapsed": false
   },
   "outputs": [],
   "source": [
    "proc = system(\"./run_oct.py --target=PE --rwa --pre-simplex='pulse_guess.json' {rf}\".format(rf=rf))"
   ]
  },
  {
   "cell_type": "code",
   "execution_count": null,
   "metadata": {
    "collapsed": false
   },
   "outputs": [],
   "source": [
    "proc.join(); U = propagate(rf, 'pulse.dat', rwa=True, force=True);\n",
    "! tail {rf}/oct_iters.dat | cut -b 1-80"
   ]
  },
  {
   "cell_type": "code",
   "execution_count": null,
   "metadata": {
    "collapsed": false
   },
   "outputs": [],
   "source": [
    "U.concurrence() - U_guess.concurrence()"
   ]
  },
  {
   "cell_type": "markdown",
   "metadata": {},
   "source": [
    "Note: 0.7 and 1.2 also don't work"
   ]
  },
  {
   "cell_type": "markdown",
   "metadata": {
    "collapsed": true
   },
   "source": [
    "* Can we implement $H_L$ at $T = 2 T_\\pi$ starting from field-free pulse?"
   ]
  },
  {
   "cell_type": "code",
   "execution_count": 26,
   "metadata": {
    "collapsed": true
   },
   "outputs": [],
   "source": [
    "rf = join(root, '1cycle_H_left'); mkdir(rf)\n",
    "wd = 0.5*(w1+w2)"
   ]
  },
  {
   "cell_type": "code",
   "execution_count": 27,
   "metadata": {
    "collapsed": false
   },
   "outputs": [
    {
     "data": {
      "text/plain": [
       "'./runs_zeta_detailed/w2_6320MHz_wc_5750MHz/1cycle_H_left'"
      ]
     },
     "execution_count": 27,
     "metadata": {},
     "output_type": "execute_result"
    }
   ],
   "source": [
    "rf"
   ]
  },
  {
   "cell_type": "code",
   "execution_count": 28,
   "metadata": {
    "collapsed": false
   },
   "outputs": [],
   "source": [
    "T = 2*T_entangling\n",
    "nt = int(max(2000, 100 * w_max * T))\n",
    "write_target_gate_dat(rf, 'H_left')\n",
    "write_config(join(rf, 'config'), T, nt, wc, w2, wd=wd, gate=\"target_gate.dat\", J_T='SM', prop_guess='F')"
   ]
  },
  {
   "cell_type": "code",
   "execution_count": 32,
   "metadata": {
    "collapsed": false,
    "scrolled": false
   },
   "outputs": [
    {
     "data": {
      "text/html": [
       "<div>\n",
       "<table border=\"1\" class=\"dataframe\">\n",
       "  <thead>\n",
       "    <tr style=\"text-align: right;\">\n",
       "      <th></th>\n",
       "      <th>E0</th>\n",
       "      <th>w_L</th>\n",
       "      <th>fig_of_merit</th>\n",
       "    </tr>\n",
       "  </thead>\n",
       "  <tbody>\n",
       "    <tr>\n",
       "      <th>27</th>\n",
       "      <td>150</td>\n",
       "      <td>6.000000</td>\n",
       "      <td>0.193467</td>\n",
       "    </tr>\n",
       "    <tr>\n",
       "      <th>31</th>\n",
       "      <td>150</td>\n",
       "      <td>6.000570</td>\n",
       "      <td>0.195021</td>\n",
       "    </tr>\n",
       "    <tr>\n",
       "      <th>15</th>\n",
       "      <td>50</td>\n",
       "      <td>6.328690</td>\n",
       "      <td>0.199310</td>\n",
       "    </tr>\n",
       "    <tr>\n",
       "      <th>0</th>\n",
       "      <td>0</td>\n",
       "      <td>6.000000</td>\n",
       "      <td>0.199350</td>\n",
       "    </tr>\n",
       "    <tr>\n",
       "      <th>1</th>\n",
       "      <td>0</td>\n",
       "      <td>6.320000</td>\n",
       "      <td>0.199350</td>\n",
       "    </tr>\n",
       "    <tr>\n",
       "      <th>2</th>\n",
       "      <td>0</td>\n",
       "      <td>6.160000</td>\n",
       "      <td>0.199350</td>\n",
       "    </tr>\n",
       "    <tr>\n",
       "      <th>3</th>\n",
       "      <td>0</td>\n",
       "      <td>6.017286</td>\n",
       "      <td>0.199350</td>\n",
       "    </tr>\n",
       "    <tr>\n",
       "      <th>4</th>\n",
       "      <td>0</td>\n",
       "      <td>6.000570</td>\n",
       "      <td>0.199350</td>\n",
       "    </tr>\n",
       "    <tr>\n",
       "      <th>5</th>\n",
       "      <td>0</td>\n",
       "      <td>6.008928</td>\n",
       "      <td>0.199350</td>\n",
       "    </tr>\n",
       "    <tr>\n",
       "      <th>6</th>\n",
       "      <td>0</td>\n",
       "      <td>6.328690</td>\n",
       "      <td>0.199350</td>\n",
       "    </tr>\n",
       "    <tr>\n",
       "      <th>7</th>\n",
       "      <td>0</td>\n",
       "      <td>6.311974</td>\n",
       "      <td>0.199350</td>\n",
       "    </tr>\n",
       "    <tr>\n",
       "      <th>8</th>\n",
       "      <td>0</td>\n",
       "      <td>6.320332</td>\n",
       "      <td>0.199350</td>\n",
       "    </tr>\n",
       "    <tr>\n",
       "      <th>11</th>\n",
       "      <td>50</td>\n",
       "      <td>6.160000</td>\n",
       "      <td>0.199529</td>\n",
       "    </tr>\n",
       "    <tr>\n",
       "      <th>24</th>\n",
       "      <td>100</td>\n",
       "      <td>6.328690</td>\n",
       "      <td>0.199557</td>\n",
       "    </tr>\n",
       "    <tr>\n",
       "      <th>17</th>\n",
       "      <td>50</td>\n",
       "      <td>6.320332</td>\n",
       "      <td>0.200026</td>\n",
       "    </tr>\n",
       "    <tr>\n",
       "      <th>10</th>\n",
       "      <td>50</td>\n",
       "      <td>6.320000</td>\n",
       "      <td>0.200051</td>\n",
       "    </tr>\n",
       "    <tr>\n",
       "      <th>16</th>\n",
       "      <td>50</td>\n",
       "      <td>6.311974</td>\n",
       "      <td>0.200056</td>\n",
       "    </tr>\n",
       "    <tr>\n",
       "      <th>20</th>\n",
       "      <td>100</td>\n",
       "      <td>6.160000</td>\n",
       "      <td>0.200578</td>\n",
       "    </tr>\n",
       "    <tr>\n",
       "      <th>33</th>\n",
       "      <td>150</td>\n",
       "      <td>6.328690</td>\n",
       "      <td>0.201111</td>\n",
       "    </tr>\n",
       "    <tr>\n",
       "      <th>14</th>\n",
       "      <td>50</td>\n",
       "      <td>6.008928</td>\n",
       "      <td>0.201331</td>\n",
       "    </tr>\n",
       "    <tr>\n",
       "      <th>23</th>\n",
       "      <td>100</td>\n",
       "      <td>6.008928</td>\n",
       "      <td>0.202308</td>\n",
       "    </tr>\n",
       "    <tr>\n",
       "      <th>29</th>\n",
       "      <td>150</td>\n",
       "      <td>6.160000</td>\n",
       "      <td>0.204535</td>\n",
       "    </tr>\n",
       "    <tr>\n",
       "      <th>25</th>\n",
       "      <td>100</td>\n",
       "      <td>6.311974</td>\n",
       "      <td>0.208194</td>\n",
       "    </tr>\n",
       "    <tr>\n",
       "      <th>26</th>\n",
       "      <td>100</td>\n",
       "      <td>6.320332</td>\n",
       "      <td>0.208555</td>\n",
       "    </tr>\n",
       "    <tr>\n",
       "      <th>19</th>\n",
       "      <td>100</td>\n",
       "      <td>6.320000</td>\n",
       "      <td>0.208863</td>\n",
       "    </tr>\n",
       "    <tr>\n",
       "      <th>32</th>\n",
       "      <td>150</td>\n",
       "      <td>6.008928</td>\n",
       "      <td>0.209195</td>\n",
       "    </tr>\n",
       "    <tr>\n",
       "      <th>34</th>\n",
       "      <td>150</td>\n",
       "      <td>6.311974</td>\n",
       "      <td>0.232655</td>\n",
       "    </tr>\n",
       "    <tr>\n",
       "      <th>35</th>\n",
       "      <td>150</td>\n",
       "      <td>6.320332</td>\n",
       "      <td>0.235788</td>\n",
       "    </tr>\n",
       "    <tr>\n",
       "      <th>28</th>\n",
       "      <td>150</td>\n",
       "      <td>6.320000</td>\n",
       "      <td>0.236916</td>\n",
       "    </tr>\n",
       "    <tr>\n",
       "      <th>9</th>\n",
       "      <td>50</td>\n",
       "      <td>6.000000</td>\n",
       "      <td>0.236979</td>\n",
       "    </tr>\n",
       "    <tr>\n",
       "      <th>13</th>\n",
       "      <td>50</td>\n",
       "      <td>6.000570</td>\n",
       "      <td>0.240412</td>\n",
       "    </tr>\n",
       "    <tr>\n",
       "      <th>18</th>\n",
       "      <td>100</td>\n",
       "      <td>6.000000</td>\n",
       "      <td>0.258382</td>\n",
       "    </tr>\n",
       "    <tr>\n",
       "      <th>22</th>\n",
       "      <td>100</td>\n",
       "      <td>6.000570</td>\n",
       "      <td>0.264464</td>\n",
       "    </tr>\n",
       "    <tr>\n",
       "      <th>12</th>\n",
       "      <td>50</td>\n",
       "      <td>6.017286</td>\n",
       "      <td>0.295853</td>\n",
       "    </tr>\n",
       "    <tr>\n",
       "      <th>30</th>\n",
       "      <td>150</td>\n",
       "      <td>6.017286</td>\n",
       "      <td>0.378381</td>\n",
       "    </tr>\n",
       "    <tr>\n",
       "      <th>21</th>\n",
       "      <td>100</td>\n",
       "      <td>6.017286</td>\n",
       "      <td>0.483832</td>\n",
       "    </tr>\n",
       "  </tbody>\n",
       "</table>\n",
       "</div>"
      ],
      "text/plain": [
       "     E0       w_L  fig_of_merit\n",
       "27  150  6.000000      0.193467\n",
       "31  150  6.000570      0.195021\n",
       "15   50  6.328690      0.199310\n",
       "0     0  6.000000      0.199350\n",
       "1     0  6.320000      0.199350\n",
       "2     0  6.160000      0.199350\n",
       "3     0  6.017286      0.199350\n",
       "4     0  6.000570      0.199350\n",
       "5     0  6.008928      0.199350\n",
       "6     0  6.328690      0.199350\n",
       "7     0  6.311974      0.199350\n",
       "8     0  6.320332      0.199350\n",
       "11   50  6.160000      0.199529\n",
       "24  100  6.328690      0.199557\n",
       "17   50  6.320332      0.200026\n",
       "10   50  6.320000      0.200051\n",
       "16   50  6.311974      0.200056\n",
       "20  100  6.160000      0.200578\n",
       "33  150  6.328690      0.201111\n",
       "14   50  6.008928      0.201331\n",
       "23  100  6.008928      0.202308\n",
       "29  150  6.160000      0.204535\n",
       "25  100  6.311974      0.208194\n",
       "26  100  6.320332      0.208555\n",
       "19  100  6.320000      0.208863\n",
       "32  150  6.008928      0.209195\n",
       "34  150  6.311974      0.232655\n",
       "35  150  6.320332      0.235788\n",
       "28  150  6.320000      0.236916\n",
       "9    50  6.000000      0.236979\n",
       "13   50  6.000570      0.240412\n",
       "18  100  6.000000      0.258382\n",
       "22  100  6.000570      0.264464\n",
       "12   50  6.017286      0.295853\n",
       "30  150  6.017286      0.378381\n",
       "21  100  6.017286      0.483832"
      ]
     },
     "execution_count": 32,
     "metadata": {},
     "output_type": "execute_result"
    }
   ],
   "source": [
    "pulse = AnalyticalPulse('1freq_rwa', T, nt,\n",
    "            parameters={'E0': 0.0, 'T': T, 'w_L': wd, 'w_d': wd},\n",
    "            t0=0.0, time_unit='ns', ampl_unit='MHz', freq_unit='MHz', mode=\"complex\")\n",
    "systematic_variation(rf, pulse, vary=OrderedDict([\n",
    "            ('E0', [0.0, 50, 100, 150]), \n",
    "            ('w_L', [w1, w2, 0.5*(w1+w2),  \n",
    "                     w1_dressed0, w1_dressed1, 0.5*(w1_dressed0+w1_dressed1),\n",
    "                     w2_dressed0, w2_dressed1, 0.5*(w2_dressed0+w2_dressed1)])]),\n",
    "            fig_of_merit=F_avg_H_left, n_procs=40)"
   ]
  },
  {
   "cell_type": "code",
   "execution_count": 33,
   "metadata": {
    "collapsed": true
   },
   "outputs": [],
   "source": [
    "pulse = AnalyticalPulse('1freq_rwa', T, nt,\n",
    "            parameters={'E0': 150.0, 'T': T, 'w_L': 6.000000, 'w_d': 6.000000},\n",
    "            t0=0.0, time_unit='ns', ampl_unit='MHz', freq_unit='MHz', mode=\"complex\")\n",
    "pulse.write(join(rf, 'pulse_guess.json'))"
   ]
  },
  {
   "cell_type": "code",
   "execution_count": 34,
   "metadata": {
    "collapsed": false
   },
   "outputs": [
    {
     "name": "stdout",
     "output_type": "stream",
     "text": [
      "Concurrence: 0.350875\n",
      "Loss: 0.053989\n"
     ]
    }
   ],
   "source": [
    "U_guess = propagate(rf, 'pulse_guess.json', rwa=True, force=True)\n",
    "print(\"Concurrence: %f\" % U_guess.closest_unitary().concurrence())\n",
    "print(\"Loss: %f\" % U_guess.pop_loss())"
   ]
  },
  {
   "cell_type": "code",
   "execution_count": 46,
   "metadata": {
    "collapsed": false
   },
   "outputs": [],
   "source": [
    "proc = system(\"./run_oct.py --rwa --pre-simplex='pulse_guess.json' {rf}\".format(rf=rf))"
   ]
  },
  {
   "cell_type": "code",
   "execution_count": 47,
   "metadata": {
    "collapsed": false
   },
   "outputs": [
    {
     "name": "stdout",
     "output_type": "stream",
     "text": [
      " 9356  2.208135483561E-01  1.002229345243E-07  0.000000000000E+00  2.20813648579\r\n",
      " 9357  2.208133505027E-01  1.001959723938E-07  0.000000000000E+00  2.20813450698\r\n",
      " 9358  2.208131527031E-01  1.001690247013E-07  0.000000000000E+00  2.20813252872\r\n",
      " 9359  2.208129549572E-01  1.001420914360E-07  0.000000000000E+00  2.20813055099\r\n",
      " 9360  2.208127572650E-01  1.001151725875E-07  0.000000000000E+00  2.20812857380\r\n",
      " 9361  2.208125596265E-01  1.000882681448E-07  0.000000000000E+00  2.20812659714\r\n",
      " 9362  2.208123620416E-01  1.000613780976E-07  0.000000000000E+00  2.20812462103\r\n",
      " 9363  2.208121645104E-01  1.000345024349E-07  0.000000000000E+00  2.20812264544\r\n",
      " 9364  2.208119670327E-01  1.000076411462E-07  0.000000000000E+00  2.20812067040\r\n",
      " 9365  2.208117696086E-01  9.998079422073E-08  0.000000000000E+00  2.20811869589\r\n"
     ]
    }
   ],
   "source": [
    "proc.join(); U = propagate(rf, 'pulse.dat', rwa=True, force=True);\n",
    "! tail {rf}/oct_iters.dat | cut -b 1-80"
   ]
  },
  {
   "cell_type": "code",
   "execution_count": 48,
   "metadata": {
    "collapsed": false
   },
   "outputs": [
    {
     "data": {
      "text/plain": [
       "-0.51605610399905855"
      ]
     },
     "execution_count": 48,
     "metadata": {},
     "output_type": "execute_result"
    }
   ],
   "source": [
    "U.concurrence() - U_guess.concurrence()"
   ]
  },
  {
   "cell_type": "code",
   "execution_count": null,
   "metadata": {
    "collapsed": true
   },
   "outputs": [],
   "source": []
  },
  {
   "cell_type": "markdown",
   "metadata": {
    "collapsed": true
   },
   "source": [
    "* Can we implement $H_L$ at $T = T_\\pi$ starting from field-free pulse?"
   ]
  },
  {
   "cell_type": "code",
   "execution_count": 52,
   "metadata": {
    "collapsed": true
   },
   "outputs": [],
   "source": [
    "rf = join(root, 'half_cycle_H_left'); mkdir(rf)\n",
    "wd = 0.5*(w1+w2)"
   ]
  },
  {
   "cell_type": "code",
   "execution_count": 53,
   "metadata": {
    "collapsed": false
   },
   "outputs": [
    {
     "data": {
      "text/plain": [
       "'./runs_zeta_detailed/w2_6320MHz_wc_5750MHz/half_cycle_H_left'"
      ]
     },
     "execution_count": 53,
     "metadata": {},
     "output_type": "execute_result"
    }
   ],
   "source": [
    "rf"
   ]
  },
  {
   "cell_type": "code",
   "execution_count": 38,
   "metadata": {
    "collapsed": false
   },
   "outputs": [],
   "source": [
    "T = T_entangling\n",
    "nt = int(max(2000, 100 * w_max * T))\n",
    "write_target_gate_dat(rf, 'H_left')\n",
    "write_config(join(rf, 'config'), T, nt, wc, w2, wd=wd, gate=\"target_gate.dat\", J_T='SM', prop_guess='F')"
   ]
  },
  {
   "cell_type": "code",
   "execution_count": 42,
   "metadata": {
    "collapsed": false,
    "scrolled": false
   },
   "outputs": [
    {
     "data": {
      "text/html": [
       "<div>\n",
       "<table border=\"1\" class=\"dataframe\">\n",
       "  <thead>\n",
       "    <tr style=\"text-align: right;\">\n",
       "      <th></th>\n",
       "      <th>E0</th>\n",
       "      <th>w_L</th>\n",
       "      <th>fig_of_merit</th>\n",
       "    </tr>\n",
       "  </thead>\n",
       "  <tbody>\n",
       "    <tr>\n",
       "      <th>18</th>\n",
       "      <td>150</td>\n",
       "      <td>6.000000</td>\n",
       "      <td>0.188577</td>\n",
       "    </tr>\n",
       "    <tr>\n",
       "      <th>22</th>\n",
       "      <td>150</td>\n",
       "      <td>6.000570</td>\n",
       "      <td>0.189322</td>\n",
       "    </tr>\n",
       "    <tr>\n",
       "      <th>31</th>\n",
       "      <td>200</td>\n",
       "      <td>6.000570</td>\n",
       "      <td>0.197611</td>\n",
       "    </tr>\n",
       "    <tr>\n",
       "      <th>27</th>\n",
       "      <td>200</td>\n",
       "      <td>6.000000</td>\n",
       "      <td>0.201381</td>\n",
       "    </tr>\n",
       "    <tr>\n",
       "      <th>32</th>\n",
       "      <td>200</td>\n",
       "      <td>6.008928</td>\n",
       "      <td>0.206737</td>\n",
       "    </tr>\n",
       "    <tr>\n",
       "      <th>35</th>\n",
       "      <td>200</td>\n",
       "      <td>6.320332</td>\n",
       "      <td>0.236371</td>\n",
       "    </tr>\n",
       "    <tr>\n",
       "      <th>28</th>\n",
       "      <td>200</td>\n",
       "      <td>6.320000</td>\n",
       "      <td>0.236377</td>\n",
       "    </tr>\n",
       "    <tr>\n",
       "      <th>34</th>\n",
       "      <td>200</td>\n",
       "      <td>6.311974</td>\n",
       "      <td>0.239808</td>\n",
       "    </tr>\n",
       "    <tr>\n",
       "      <th>33</th>\n",
       "      <td>200</td>\n",
       "      <td>6.328690</td>\n",
       "      <td>0.240044</td>\n",
       "    </tr>\n",
       "    <tr>\n",
       "      <th>19</th>\n",
       "      <td>150</td>\n",
       "      <td>6.320000</td>\n",
       "      <td>0.261705</td>\n",
       "    </tr>\n",
       "    <tr>\n",
       "      <th>26</th>\n",
       "      <td>150</td>\n",
       "      <td>6.320332</td>\n",
       "      <td>0.261734</td>\n",
       "    </tr>\n",
       "    <tr>\n",
       "      <th>25</th>\n",
       "      <td>150</td>\n",
       "      <td>6.311974</td>\n",
       "      <td>0.263519</td>\n",
       "    </tr>\n",
       "    <tr>\n",
       "      <th>24</th>\n",
       "      <td>150</td>\n",
       "      <td>6.328690</td>\n",
       "      <td>0.265178</td>\n",
       "    </tr>\n",
       "    <tr>\n",
       "      <th>23</th>\n",
       "      <td>150</td>\n",
       "      <td>6.008928</td>\n",
       "      <td>0.273109</td>\n",
       "    </tr>\n",
       "    <tr>\n",
       "      <th>9</th>\n",
       "      <td>50</td>\n",
       "      <td>6.000000</td>\n",
       "      <td>0.278994</td>\n",
       "    </tr>\n",
       "    <tr>\n",
       "      <th>13</th>\n",
       "      <td>50</td>\n",
       "      <td>6.000570</td>\n",
       "      <td>0.282907</td>\n",
       "    </tr>\n",
       "    <tr>\n",
       "      <th>30</th>\n",
       "      <td>200</td>\n",
       "      <td>6.017286</td>\n",
       "      <td>0.296413</td>\n",
       "    </tr>\n",
       "    <tr>\n",
       "      <th>10</th>\n",
       "      <td>50</td>\n",
       "      <td>6.320000</td>\n",
       "      <td>0.301654</td>\n",
       "    </tr>\n",
       "    <tr>\n",
       "      <th>17</th>\n",
       "      <td>50</td>\n",
       "      <td>6.320332</td>\n",
       "      <td>0.301661</td>\n",
       "    </tr>\n",
       "    <tr>\n",
       "      <th>16</th>\n",
       "      <td>50</td>\n",
       "      <td>6.311974</td>\n",
       "      <td>0.301837</td>\n",
       "    </tr>\n",
       "    <tr>\n",
       "      <th>15</th>\n",
       "      <td>50</td>\n",
       "      <td>6.328690</td>\n",
       "      <td>0.302245</td>\n",
       "    </tr>\n",
       "    <tr>\n",
       "      <th>7</th>\n",
       "      <td>0</td>\n",
       "      <td>6.311974</td>\n",
       "      <td>0.307573</td>\n",
       "    </tr>\n",
       "    <tr>\n",
       "      <th>1</th>\n",
       "      <td>0</td>\n",
       "      <td>6.320000</td>\n",
       "      <td>0.307573</td>\n",
       "    </tr>\n",
       "    <tr>\n",
       "      <th>2</th>\n",
       "      <td>0</td>\n",
       "      <td>6.160000</td>\n",
       "      <td>0.307573</td>\n",
       "    </tr>\n",
       "    <tr>\n",
       "      <th>3</th>\n",
       "      <td>0</td>\n",
       "      <td>6.017286</td>\n",
       "      <td>0.307573</td>\n",
       "    </tr>\n",
       "    <tr>\n",
       "      <th>4</th>\n",
       "      <td>0</td>\n",
       "      <td>6.000570</td>\n",
       "      <td>0.307573</td>\n",
       "    </tr>\n",
       "    <tr>\n",
       "      <th>5</th>\n",
       "      <td>0</td>\n",
       "      <td>6.008928</td>\n",
       "      <td>0.307573</td>\n",
       "    </tr>\n",
       "    <tr>\n",
       "      <th>6</th>\n",
       "      <td>0</td>\n",
       "      <td>6.328690</td>\n",
       "      <td>0.307573</td>\n",
       "    </tr>\n",
       "    <tr>\n",
       "      <th>8</th>\n",
       "      <td>0</td>\n",
       "      <td>6.320332</td>\n",
       "      <td>0.307573</td>\n",
       "    </tr>\n",
       "    <tr>\n",
       "      <th>0</th>\n",
       "      <td>0</td>\n",
       "      <td>6.000000</td>\n",
       "      <td>0.307573</td>\n",
       "    </tr>\n",
       "    <tr>\n",
       "      <th>11</th>\n",
       "      <td>50</td>\n",
       "      <td>6.160000</td>\n",
       "      <td>0.308145</td>\n",
       "    </tr>\n",
       "    <tr>\n",
       "      <th>29</th>\n",
       "      <td>200</td>\n",
       "      <td>6.160000</td>\n",
       "      <td>0.310105</td>\n",
       "    </tr>\n",
       "    <tr>\n",
       "      <th>20</th>\n",
       "      <td>150</td>\n",
       "      <td>6.160000</td>\n",
       "      <td>0.310958</td>\n",
       "    </tr>\n",
       "    <tr>\n",
       "      <th>14</th>\n",
       "      <td>50</td>\n",
       "      <td>6.008928</td>\n",
       "      <td>0.354101</td>\n",
       "    </tr>\n",
       "    <tr>\n",
       "      <th>21</th>\n",
       "      <td>150</td>\n",
       "      <td>6.017286</td>\n",
       "      <td>0.391533</td>\n",
       "    </tr>\n",
       "    <tr>\n",
       "      <th>12</th>\n",
       "      <td>50</td>\n",
       "      <td>6.017286</td>\n",
       "      <td>0.397197</td>\n",
       "    </tr>\n",
       "  </tbody>\n",
       "</table>\n",
       "</div>"
      ],
      "text/plain": [
       "     E0       w_L  fig_of_merit\n",
       "18  150  6.000000      0.188577\n",
       "22  150  6.000570      0.189322\n",
       "31  200  6.000570      0.197611\n",
       "27  200  6.000000      0.201381\n",
       "32  200  6.008928      0.206737\n",
       "35  200  6.320332      0.236371\n",
       "28  200  6.320000      0.236377\n",
       "34  200  6.311974      0.239808\n",
       "33  200  6.328690      0.240044\n",
       "19  150  6.320000      0.261705\n",
       "26  150  6.320332      0.261734\n",
       "25  150  6.311974      0.263519\n",
       "24  150  6.328690      0.265178\n",
       "23  150  6.008928      0.273109\n",
       "9    50  6.000000      0.278994\n",
       "13   50  6.000570      0.282907\n",
       "30  200  6.017286      0.296413\n",
       "10   50  6.320000      0.301654\n",
       "17   50  6.320332      0.301661\n",
       "16   50  6.311974      0.301837\n",
       "15   50  6.328690      0.302245\n",
       "7     0  6.311974      0.307573\n",
       "1     0  6.320000      0.307573\n",
       "2     0  6.160000      0.307573\n",
       "3     0  6.017286      0.307573\n",
       "4     0  6.000570      0.307573\n",
       "5     0  6.008928      0.307573\n",
       "6     0  6.328690      0.307573\n",
       "8     0  6.320332      0.307573\n",
       "0     0  6.000000      0.307573\n",
       "11   50  6.160000      0.308145\n",
       "29  200  6.160000      0.310105\n",
       "20  150  6.160000      0.310958\n",
       "14   50  6.008928      0.354101\n",
       "21  150  6.017286      0.391533\n",
       "12   50  6.017286      0.397197"
      ]
     },
     "execution_count": 42,
     "metadata": {},
     "output_type": "execute_result"
    }
   ],
   "source": [
    "pulse = AnalyticalPulse('1freq_rwa', T, nt,\n",
    "            parameters={'E0': 0.0, 'T': T, 'w_L': wd, 'w_d': wd},\n",
    "            t0=0.0, time_unit='ns', ampl_unit='MHz', freq_unit='MHz', mode=\"complex\")\n",
    "systematic_variation(rf, pulse, vary=OrderedDict([\n",
    "            ('E0', [0.0, 50, 150, 200]), \n",
    "            ('w_L', [w1, w2, 0.5*(w1+w2),  \n",
    "                     w1_dressed0, w1_dressed1, 0.5*(w1_dressed0+w1_dressed1),\n",
    "                     w2_dressed0, w2_dressed1, 0.5*(w2_dressed0+w2_dressed1)])]),\n",
    "            fig_of_merit=F_avg_H_left, n_procs=40)"
   ]
  },
  {
   "cell_type": "code",
   "execution_count": 43,
   "metadata": {
    "collapsed": true
   },
   "outputs": [],
   "source": [
    "pulse = AnalyticalPulse('1freq_rwa', T, nt,\n",
    "            parameters={'E0': 150.0, 'T': T, 'w_L': 6.000000, 'w_d': 6.000000},\n",
    "            t0=0.0, time_unit='ns', ampl_unit='MHz', freq_unit='MHz', mode=\"complex\")\n",
    "pulse.write(join(rf, 'pulse_guess.json'))"
   ]
  },
  {
   "cell_type": "code",
   "execution_count": 44,
   "metadata": {
    "collapsed": false
   },
   "outputs": [
    {
     "name": "stdout",
     "output_type": "stream",
     "text": [
      "Concurrence: 0.999956\n",
      "Loss: 0.064700\n"
     ]
    }
   ],
   "source": [
    "U_guess = propagate(rf, 'pulse_guess.json', rwa=True, force=True)\n",
    "print(\"Concurrence: %f\" % U_guess.closest_unitary().concurrence())\n",
    "print(\"Loss: %f\" % U_guess.pop_loss())"
   ]
  },
  {
   "cell_type": "code",
   "execution_count": 54,
   "metadata": {
    "collapsed": false
   },
   "outputs": [],
   "source": [
    "proc = system(\"./run_oct.py --rwa --pre-simplex='pulse_guess.json' {rf}\".format(rf=rf))"
   ]
  },
  {
   "cell_type": "code",
   "execution_count": 55,
   "metadata": {
    "collapsed": false
   },
   "outputs": [
    {
     "name": "stdout",
     "output_type": "stream",
     "text": [
      " 9356  2.208135483561E-01  1.002229345243E-07  0.000000000000E+00  2.20813648579\r\n",
      " 9357  2.208133505027E-01  1.001959723938E-07  0.000000000000E+00  2.20813450698\r\n",
      " 9358  2.208131527031E-01  1.001690247013E-07  0.000000000000E+00  2.20813252872\r\n",
      " 9359  2.208129549572E-01  1.001420914360E-07  0.000000000000E+00  2.20813055099\r\n",
      " 9360  2.208127572650E-01  1.001151725875E-07  0.000000000000E+00  2.20812857380\r\n",
      " 9361  2.208125596265E-01  1.000882681448E-07  0.000000000000E+00  2.20812659714\r\n",
      " 9362  2.208123620416E-01  1.000613780976E-07  0.000000000000E+00  2.20812462103\r\n",
      " 9363  2.208121645104E-01  1.000345024349E-07  0.000000000000E+00  2.20812264544\r\n",
      " 9364  2.208119670327E-01  1.000076411462E-07  0.000000000000E+00  2.20812067040\r\n",
      " 9365  2.208117696086E-01  9.998079422073E-08  0.000000000000E+00  2.20811869589\r\n"
     ]
    }
   ],
   "source": [
    "proc.join(); U = propagate(rf, 'pulse.dat', rwa=True, force=True);\n",
    "! tail {rf}/oct_iters.dat | cut -b 1-80"
   ]
  },
  {
   "cell_type": "code",
   "execution_count": 56,
   "metadata": {
    "collapsed": false
   },
   "outputs": [
    {
     "data": {
      "text/plain": [
       "-0.51605610399905855"
      ]
     },
     "execution_count": 56,
     "metadata": {},
     "output_type": "execute_result"
    }
   ],
   "source": [
    "U.concurrence() - U_guess.concurrence()"
   ]
  },
  {
   "cell_type": "code",
   "execution_count": null,
   "metadata": {
    "collapsed": true
   },
   "outputs": [],
   "source": []
  }
 ],
 "metadata": {
  "kernelspec": {
   "display_name": "Python 2",
   "language": "python",
   "name": "python2"
  },
  "language_info": {
   "codemirror_mode": {
    "name": "ipython",
    "version": 2
   },
   "file_extension": ".py",
   "mimetype": "text/x-python",
   "name": "python",
   "nbconvert_exporter": "python",
   "pygments_lexer": "ipython2",
   "version": "2.7.11"
  },
  "toc": {
   "toc_cell": false,
   "toc_number_sections": true,
   "toc_threshold": 6,
   "toc_window_display": true
  }
 },
 "nbformat": 4,
 "nbformat_minor": 0
}
