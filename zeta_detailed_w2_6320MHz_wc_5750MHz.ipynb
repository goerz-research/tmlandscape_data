{
 "cells": [
  {
   "cell_type": "markdown",
   "metadata": {
    "heading_collapsed": false,
    "level": 1
   },
   "source": [
    "# Detailed Exploration of Universal Gate Set for Intermediate Zeta"
   ]
  },
  {
   "cell_type": "markdown",
   "metadata": {
    "heading_collapsed": false,
    "level": 2
   },
   "source": [
    "## Header"
   ]
  },
  {
   "cell_type": "code",
   "execution_count": null,
   "metadata": {
    "collapsed": false,
    "level": 7
   },
   "outputs": [],
   "source": [
    "import numpy as np\n",
    "import QDYN\n",
    "from QDYN.shutil import mkdir\n",
    "from QDYN.pulse import Pulse, pulse_tgrid\n",
    "from QDYN.gate2q import Gate2Q\n",
    "from QDYN.linalg import norm, vectorize\n",
    "from os.path import join\n",
    "from notebook_utils import (\n",
    "    get_zeta_table, plot_zeta_data, filter_table, get_logical_energies_table,\n",
    "    get_stage4_table, bare_decomposition, get_transition_table, J_target)\n",
    "from mgplottools.io import writetotxt\n",
    "from select_for_stage4 import GATE_RE, GATE_IM, GATE\n",
    "from generate_zeta_universal import write_config\n",
    "from analytical_pulses import AnalyticalPulse\n",
    "from run_oct import propagate\n",
    "from collections import OrderedDict\n",
    "from zeta_systematic_variation import systematic_variation\n",
    "import pandas as pd"
   ]
  },
  {
   "cell_type": "code",
   "execution_count": 111,
   "metadata": {
    "collapsed": true,
    "level": 7
   },
   "outputs": [],
   "source": [
    "H_left = GATE['H_left']\n",
    "H_right = GATE['H_right']\n",
    "def write_target_gate_dat(rf, gate):\n",
    "    writetotxt(join(rf, 'target_gate.dat'), GATE_RE[gate], GATE_IM[gate])"
   ]
  },
  {
   "cell_type": "code",
   "execution_count": 112,
   "metadata": {
    "collapsed": true,
    "level": 7
   },
   "outputs": [],
   "source": [
    "def J_PE(U):\n",
    "    if U is None:\n",
    "        return None\n",
    "    else:\n",
    "        C = U.closest_unitary().concurrence()\n",
    "        max_loss = np.max(1.0 - U.logical_pops())\n",
    "        return J_target('PE', C, max_loss)\n",
    "\n",
    "def F_avg_H_left(U):\n",
    "    if U is None:\n",
    "        return None\n",
    "    else:\n",
    "        return U.F_avg(H_left)\n",
    "    \n",
    "def F_avg_H_right(U):\n",
    "    if U is None:\n",
    "        return None\n",
    "    else:\n",
    "        return U.F_avg(H_right)"
   ]
  },
  {
   "cell_type": "code",
   "execution_count": null,
   "metadata": {
    "collapsed": true,
    "level": 7
   },
   "outputs": [],
   "source": [
    "from multiprocessing import Process\n",
    "import os\n",
    "def system(cmd):\n",
    "    p = Process(target=os.system, args=(cmd,))\n",
    "    p.start()\n",
    "    return p"
   ]
  },
  {
   "cell_type": "code",
   "execution_count": null,
   "metadata": {
    "collapsed": true,
    "level": 7
   },
   "outputs": [],
   "source": [
    "%matplotlib inline\n",
    "%reload_ext autoreload\n",
    "%autoreload 2"
   ]
  },
  {
   "cell_type": "code",
   "execution_count": null,
   "metadata": {
    "collapsed": true,
    "level": 7
   },
   "outputs": [],
   "source": [
    "get_zeta_table = QDYN.memoize.memoize(get_zeta_table)\n",
    "get_zeta_table.load('zeta_table.cache')"
   ]
  },
  {
   "cell_type": "code",
   "execution_count": null,
   "metadata": {
    "collapsed": false,
    "level": 7
   },
   "outputs": [],
   "source": [
    "zeta_table = get_zeta_table('./runs_050_RWA', T=50)"
   ]
  },
  {
   "cell_type": "code",
   "execution_count": null,
   "metadata": {
    "collapsed": false,
    "level": 7
   },
   "outputs": [],
   "source": [
    "w_max = 1.0 # minimum frequency in the rotating frame to be resolved. (for calculation of nt)"
   ]
  },
  {
   "cell_type": "code",
   "execution_count": null,
   "metadata": {
    "collapsed": true,
    "level": 7
   },
   "outputs": [],
   "source": [
    "n_qubit = 5; n_cavity = 6"
   ]
  },
  {
   "cell_type": "markdown",
   "metadata": {
    "heading_collapsed": false,
    "level": 2
   },
   "source": [
    "## Analysis"
   ]
  },
  {
   "cell_type": "markdown",
   "metadata": {
    "heading_collapsed": false,
    "level": 3
   },
   "source": [
    "### Properties of the Hamiltonian"
   ]
  },
  {
   "cell_type": "code",
   "execution_count": 113,
   "metadata": {
    "collapsed": true,
    "level": 7
   },
   "outputs": [],
   "source": [
    "w1 = 6.00 # GHz\n",
    "w2 = 6.32 # GHz\n",
    "wc = 5.75 # GHZ\n",
    "root = './runs_zeta_detailed/w2_%dMHz_wc_%dMHz' % (w2*1000, wc*1000)\n",
    "mkdir(root)"
   ]
  },
  {
   "cell_type": "markdown",
   "metadata": {
    "level": 7
   },
   "source": [
    "* what is the the entangling energy?"
   ]
  },
  {
   "cell_type": "code",
   "execution_count": 114,
   "metadata": {
    "collapsed": false,
    "level": 7
   },
   "outputs": [
    {
     "data": {
      "text/plain": [
       "-16.716000000000008"
      ]
     },
     "execution_count": 114,
     "metadata": {},
     "output_type": "execute_result"
    }
   ],
   "source": [
    "zeta = float(filter_table(zeta_table, [(w2, wc),])['zeta [MHz]']); zeta"
   ]
  },
  {
   "cell_type": "code",
   "execution_count": 115,
   "metadata": {
    "collapsed": false,
    "level": 7
   },
   "outputs": [
    {
     "data": {
      "text/plain": [
       "29.911462072266076"
      ]
     },
     "execution_count": 115,
     "metadata": {},
     "output_type": "execute_result"
    }
   ],
   "source": [
    "T_entangling = 500.0 / abs(zeta); T_entangling # ns"
   ]
  },
  {
   "cell_type": "markdown",
   "metadata": {
    "heading_collapsed": false,
    "level": 4
   },
   "source": [
    "####  PE"
   ]
  },
  {
   "cell_type": "markdown",
   "metadata": {
    "level": 7
   },
   "source": [
    "* Verify the PE. What do the logical eigenstates look like? What are the dressed qubit levels? What required spectral resolution do we anticipate?"
   ]
  },
  {
   "cell_type": "code",
   "execution_count": 116,
   "metadata": {
    "collapsed": false,
    "level": 7
   },
   "outputs": [
    {
     "name": "stdout",
     "output_type": "stream",
     "text": [
      "concurrence: 1.00000\n"
     ]
    }
   ],
   "source": [
    "T = T_entangling\n",
    "rf = join(root, 'verify_PE'); mkdir(rf)\n",
    "nt = int(max(2000, 100 * w_max * T))\n",
    "write_config(join(rf, 'config'), T, nt, wc, w2, wd=6.0, gate=\"CPHASE\", J_T='SM', prop_guess='T')\n",
    "pulse = Pulse(tgrid=pulse_tgrid(T, nt), time_unit='ns',ampl_unit='MHz')  # zero amplitude\n",
    "pulse.write(join(rf, 'pulse.guess'))\n",
    "U = propagate(rf, 'pulse.guess', rwa=True, keep=True, force=True)\n",
    "print \"concurrence: %.5f\" % U.concurrence()"
   ]
  },
  {
   "cell_type": "code",
   "execution_count": 117,
   "metadata": {
    "collapsed": false,
    "level": 7
   },
   "outputs": [
    {
     "name": "stdout",
     "output_type": "stream",
     "text": [
      "00 = 100.0% {000}\n",
      "01 = 1.5% {001} + 98.4% {010}\n",
      "10 = 5.7% {001} + 0.3% {010} + 94.0% {100}\n",
      "11 = 33.1% {020} + 1.1% {101} + 65.8% {110}\n"
     ]
    }
   ],
   "source": [
    "psi = {}; psi['00'], psi['01'], psi['10'], psi['11'] \\\n",
    "= np.genfromtxt(join(rf, 'logical_states.dat'), unpack=True, usecols=range(4))\n",
    "for label in ['00', '01', '10', '11']:\n",
    "    print(\"%s = %s\" % (label, bare_decomposition(psi[label], n_qubit, n_cavity)))"
   ]
  },
  {
   "cell_type": "code",
   "execution_count": 118,
   "metadata": {
    "collapsed": false,
    "level": 7
   },
   "outputs": [
    {
     "data": {
      "text/html": [
       "<div>\n",
       "<table border=\"1\" class=\"dataframe\">\n",
       "  <thead>\n",
       "    <tr style=\"text-align: right;\">\n",
       "      <th></th>\n",
       "      <th>E01 - E00 [MHz]</th>\n",
       "      <th>E10 - E00 [MHz]</th>\n",
       "      <th>E11 - E10 [MHz]</th>\n",
       "      <th>E11 - E01 [MHz]</th>\n",
       "      <th>bare w2 [MHz]</th>\n",
       "      <th>bare w1 [MHz]</th>\n",
       "    </tr>\n",
       "  </thead>\n",
       "  <tbody>\n",
       "    <tr>\n",
       "      <th>0</th>\n",
       "      <td>6328.69</td>\n",
       "      <td>6017.286</td>\n",
       "      <td>6311.974</td>\n",
       "      <td>6000.57</td>\n",
       "      <td>6320</td>\n",
       "      <td>6000</td>\n",
       "    </tr>\n",
       "  </tbody>\n",
       "</table>\n",
       "</div>"
      ],
      "text/plain": [
       "   E01 - E00 [MHz]  E10 - E00 [MHz]  E11 - E10 [MHz]  E11 - E01 [MHz]  \\\n",
       "0          6328.69         6017.286         6311.974          6000.57   \n",
       "\n",
       "   bare w2 [MHz]  bare w1 [MHz]  \n",
       "0           6320           6000  "
      ]
     },
     "execution_count": 118,
     "metadata": {},
     "output_type": "execute_result"
    }
   ],
   "source": [
    "transition_table = get_transition_table(filter_table(zeta_table, [(w2, wc),]))\n",
    "transition_table.reset_index(drop=True)"
   ]
  },
  {
   "cell_type": "code",
   "execution_count": 119,
   "metadata": {
    "collapsed": true,
    "level": 7
   },
   "outputs": [],
   "source": [
    "w1_dressed0 = transition_table['E10 - E00 [MHz]'][0] / 1000.0 # GHz\n",
    "w1_dressed1 = transition_table['E11 - E01 [MHz]'][0] / 1000.0 # GHz\n",
    "w2_dressed0 = transition_table['E01 - E00 [MHz]'][0] / 1000.0 # GHz\n",
    "w2_dressed1 = transition_table['E11 - E10 [MHz]'][0] / 1000.0 # GHz"
   ]
  },
  {
   "cell_type": "code",
   "execution_count": 120,
   "metadata": {
    "collapsed": false,
    "level": 7
   },
   "outputs": [
    {
     "name": "stdout",
     "output_type": "stream",
     "text": [
      "Separation of dressed frequencies, left qubit: 16.716 MHz\n",
      "Separation of dressed frequencies, right qubit: 16.716 MHz\n"
     ]
    }
   ],
   "source": [
    "print(\"Separation of dressed frequencies, left qubit: %.3f MHz\"\n",
    "      % abs(float(transition_table['E11 - E01 [MHz]']) - float(transition_table['E10 - E00 [MHz]'])))\n",
    "print(\"Separation of dressed frequencies, right qubit: %.3f MHz\"\n",
    "      % abs(float(transition_table['E11 - E10 [MHz]']) - float(transition_table['E01 - E00 [MHz]'])))"
   ]
  },
  {
   "cell_type": "code",
   "execution_count": 121,
   "metadata": {
    "collapsed": false,
    "level": 7
   },
   "outputs": [
    {
     "name": "stdout",
     "output_type": "stream",
     "text": [
      "Spectral resolution of pulse: 33.4 MHz\n"
     ]
    }
   ],
   "source": [
    "print \"Spectral resolution of pulse: %.1f MHz\" % pulse.dw(freq_unit='MHz')"
   ]
  },
  {
   "cell_type": "markdown",
   "metadata": {
    "heading_collapsed": false,
    "level": 4
   },
   "source": [
    "####  SQ"
   ]
  },
  {
   "cell_type": "markdown",
   "metadata": {
    "level": 7
   },
   "source": [
    "* Verify the local gate"
   ]
  },
  {
   "cell_type": "code",
   "execution_count": 122,
   "metadata": {
    "collapsed": false,
    "level": 7
   },
   "outputs": [
    {
     "name": "stdout",
     "output_type": "stream",
     "text": [
      "Spectral resolution of pulse: 16.7 MHz\n",
      "concurrence: 0.00007\n"
     ]
    }
   ],
   "source": [
    "T = 2*T_entangling\n",
    "rf = join(root, 'verify_SQ'); mkdir(rf)\n",
    "nt = int(max(2000, 100 * w_max * T))\n",
    "write_config(join(rf, 'config'), T, nt, wc, w2, wd=6.0, gate=\"CPHASE\", J_T='SM', prop_guess='T')\n",
    "pulse = Pulse(tgrid=pulse_tgrid(T, nt), time_unit='ns',ampl_unit='MHz')  # zero amplitude\n",
    "pulse.write(join(rf, 'pulse.guess'))\n",
    "print \"Spectral resolution of pulse: %.1f MHz\" % pulse.dw(freq_unit='MHz')\n",
    "U = propagate(rf, 'pulse.guess', rwa=True, keep=True, force=True)\n",
    "print \"concurrence: %.5f\" % U.concurrence()"
   ]
  },
  {
   "cell_type": "code",
   "execution_count": 123,
   "metadata": {
    "collapsed": false,
    "level": 7
   },
   "outputs": [
    {
     "name": "stdout",
     "output_type": "stream",
     "text": [
      "Spectral resolution of pulse: 8.4 MHz\n",
      "concurrence: 0.00014\n"
     ]
    }
   ],
   "source": [
    "T = 4*T_entangling\n",
    "rf = join(root, 'verify_SQ_2cycles'); mkdir(rf)\n",
    "nt = int(max(2000, 100 * w_max * T))\n",
    "write_config(join(rf, 'config'), T, nt, wc, w2, wd=6.0, gate=\"CPHASE\", J_T='SM', prop_guess='T')\n",
    "pulse = Pulse(tgrid=pulse_tgrid(T, nt), time_unit='ns',ampl_unit='MHz')  # zero amplitude\n",
    "pulse.write(join(rf, 'pulse.guess'))\n",
    "print \"Spectral resolution of pulse: %.1f MHz\" % pulse.dw(freq_unit='MHz')\n",
    "U = propagate(rf, 'pulse.guess', rwa=True, keep=True, force=True)\n",
    "print \"concurrence: %.5f\" % U.concurrence()"
   ]
  },
  {
   "cell_type": "markdown",
   "metadata": {
    "heading_collapsed": false,
    "level": 3
   },
   "source": [
    "### Improving the PE"
   ]
  },
  {
   "cell_type": "markdown",
   "metadata": {
    "collapsed": true,
    "level": 7
   },
   "source": [
    "* Can we compress the PE by adding a pulse and OCT?"
   ]
  },
  {
   "cell_type": "code",
   "execution_count": 124,
   "metadata": {
    "collapsed": false,
    "level": 7
   },
   "outputs": [],
   "source": [
    "compression = 0.7\n",
    "wd = 0.5*(w1+w2)\n",
    "rf = join(root, 'compress_PE_%.1f' % compression); mkdir(rf)"
   ]
  },
  {
   "cell_type": "code",
   "execution_count": 125,
   "metadata": {
    "collapsed": false,
    "level": 7
   },
   "outputs": [
    {
     "data": {
      "text/plain": [
       "'./runs_zeta_detailed/w2_6320MHz_wc_5750MHz/compress_PE_0.7'"
      ]
     },
     "execution_count": 125,
     "metadata": {},
     "output_type": "execute_result"
    }
   ],
   "source": [
    "rf"
   ]
  },
  {
   "cell_type": "code",
   "execution_count": 126,
   "metadata": {
    "collapsed": false,
    "level": 7
   },
   "outputs": [],
   "source": [
    "# write runfolder\n",
    "T = compression*T_entangling\n",
    "nt = int(max(2000, 100 * w_max * T))\n",
    "write_config(join(rf, 'config'), T, nt, wc, w2, wd=wd, gate=\"CPHASE\", J_T='PE', prop_guess='F')"
   ]
  },
  {
   "cell_type": "code",
   "execution_count": 127,
   "metadata": {
    "collapsed": false,
    "level": 7,
    "scrolled": false
   },
   "outputs": [
    {
     "data": {
      "text/html": [
       "<div>\n",
       "<table border=\"1\" class=\"dataframe\">\n",
       "  <thead>\n",
       "    <tr style=\"text-align: right;\">\n",
       "      <th></th>\n",
       "      <th>E0</th>\n",
       "      <th>w_L</th>\n",
       "      <th>fig_of_merit</th>\n",
       "    </tr>\n",
       "  </thead>\n",
       "  <tbody>\n",
       "    <tr>\n",
       "      <th>20</th>\n",
       "      <td>200</td>\n",
       "      <td>6.160000</td>\n",
       "      <td>0.065954</td>\n",
       "    </tr>\n",
       "    <tr>\n",
       "      <th>11</th>\n",
       "      <td>50</td>\n",
       "      <td>6.160000</td>\n",
       "      <td>0.108181</td>\n",
       "    </tr>\n",
       "    <tr>\n",
       "      <th>0</th>\n",
       "      <td>0</td>\n",
       "      <td>6.000000</td>\n",
       "      <td>0.111862</td>\n",
       "    </tr>\n",
       "    <tr>\n",
       "      <th>1</th>\n",
       "      <td>0</td>\n",
       "      <td>6.320000</td>\n",
       "      <td>0.111862</td>\n",
       "    </tr>\n",
       "    <tr>\n",
       "      <th>2</th>\n",
       "      <td>0</td>\n",
       "      <td>6.160000</td>\n",
       "      <td>0.111862</td>\n",
       "    </tr>\n",
       "    <tr>\n",
       "      <th>3</th>\n",
       "      <td>0</td>\n",
       "      <td>6.017286</td>\n",
       "      <td>0.111862</td>\n",
       "    </tr>\n",
       "    <tr>\n",
       "      <th>4</th>\n",
       "      <td>0</td>\n",
       "      <td>6.000570</td>\n",
       "      <td>0.111862</td>\n",
       "    </tr>\n",
       "    <tr>\n",
       "      <th>5</th>\n",
       "      <td>0</td>\n",
       "      <td>6.008928</td>\n",
       "      <td>0.111862</td>\n",
       "    </tr>\n",
       "    <tr>\n",
       "      <th>6</th>\n",
       "      <td>0</td>\n",
       "      <td>6.328690</td>\n",
       "      <td>0.111862</td>\n",
       "    </tr>\n",
       "    <tr>\n",
       "      <th>7</th>\n",
       "      <td>0</td>\n",
       "      <td>6.311974</td>\n",
       "      <td>0.111862</td>\n",
       "    </tr>\n",
       "    <tr>\n",
       "      <th>8</th>\n",
       "      <td>0</td>\n",
       "      <td>6.320332</td>\n",
       "      <td>0.111862</td>\n",
       "    </tr>\n",
       "    <tr>\n",
       "      <th>16</th>\n",
       "      <td>50</td>\n",
       "      <td>6.311974</td>\n",
       "      <td>0.116798</td>\n",
       "    </tr>\n",
       "    <tr>\n",
       "      <th>10</th>\n",
       "      <td>50</td>\n",
       "      <td>6.320000</td>\n",
       "      <td>0.118050</td>\n",
       "    </tr>\n",
       "    <tr>\n",
       "      <th>17</th>\n",
       "      <td>50</td>\n",
       "      <td>6.320332</td>\n",
       "      <td>0.118100</td>\n",
       "    </tr>\n",
       "    <tr>\n",
       "      <th>15</th>\n",
       "      <td>50</td>\n",
       "      <td>6.328690</td>\n",
       "      <td>0.119280</td>\n",
       "    </tr>\n",
       "    <tr>\n",
       "      <th>29</th>\n",
       "      <td>500</td>\n",
       "      <td>6.160000</td>\n",
       "      <td>0.138850</td>\n",
       "    </tr>\n",
       "    <tr>\n",
       "      <th>9</th>\n",
       "      <td>50</td>\n",
       "      <td>6.000000</td>\n",
       "      <td>0.183503</td>\n",
       "    </tr>\n",
       "    <tr>\n",
       "      <th>13</th>\n",
       "      <td>50</td>\n",
       "      <td>6.000570</td>\n",
       "      <td>0.185548</td>\n",
       "    </tr>\n",
       "    <tr>\n",
       "      <th>25</th>\n",
       "      <td>200</td>\n",
       "      <td>6.311974</td>\n",
       "      <td>0.203097</td>\n",
       "    </tr>\n",
       "    <tr>\n",
       "      <th>14</th>\n",
       "      <td>50</td>\n",
       "      <td>6.008928</td>\n",
       "      <td>0.217856</td>\n",
       "    </tr>\n",
       "    <tr>\n",
       "      <th>19</th>\n",
       "      <td>200</td>\n",
       "      <td>6.320000</td>\n",
       "      <td>0.223252</td>\n",
       "    </tr>\n",
       "    <tr>\n",
       "      <th>26</th>\n",
       "      <td>200</td>\n",
       "      <td>6.320332</td>\n",
       "      <td>0.224047</td>\n",
       "    </tr>\n",
       "    <tr>\n",
       "      <th>24</th>\n",
       "      <td>200</td>\n",
       "      <td>6.328690</td>\n",
       "      <td>0.242494</td>\n",
       "    </tr>\n",
       "    <tr>\n",
       "      <th>12</th>\n",
       "      <td>50</td>\n",
       "      <td>6.017286</td>\n",
       "      <td>0.252330</td>\n",
       "    </tr>\n",
       "    <tr>\n",
       "      <th>34</th>\n",
       "      <td>500</td>\n",
       "      <td>6.311974</td>\n",
       "      <td>0.448109</td>\n",
       "    </tr>\n",
       "    <tr>\n",
       "      <th>18</th>\n",
       "      <td>200</td>\n",
       "      <td>6.000000</td>\n",
       "      <td>0.482971</td>\n",
       "    </tr>\n",
       "    <tr>\n",
       "      <th>22</th>\n",
       "      <td>200</td>\n",
       "      <td>6.000570</td>\n",
       "      <td>0.490244</td>\n",
       "    </tr>\n",
       "    <tr>\n",
       "      <th>28</th>\n",
       "      <td>500</td>\n",
       "      <td>6.320000</td>\n",
       "      <td>0.533424</td>\n",
       "    </tr>\n",
       "    <tr>\n",
       "      <th>35</th>\n",
       "      <td>500</td>\n",
       "      <td>6.320332</td>\n",
       "      <td>0.538337</td>\n",
       "    </tr>\n",
       "    <tr>\n",
       "      <th>23</th>\n",
       "      <td>200</td>\n",
       "      <td>6.008928</td>\n",
       "      <td>0.623443</td>\n",
       "    </tr>\n",
       "    <tr>\n",
       "      <th>33</th>\n",
       "      <td>500</td>\n",
       "      <td>6.328690</td>\n",
       "      <td>0.659126</td>\n",
       "    </tr>\n",
       "    <tr>\n",
       "      <th>21</th>\n",
       "      <td>200</td>\n",
       "      <td>6.017286</td>\n",
       "      <td>0.770133</td>\n",
       "    </tr>\n",
       "    <tr>\n",
       "      <th>30</th>\n",
       "      <td>500</td>\n",
       "      <td>6.017286</td>\n",
       "      <td>0.821292</td>\n",
       "    </tr>\n",
       "    <tr>\n",
       "      <th>32</th>\n",
       "      <td>500</td>\n",
       "      <td>6.008928</td>\n",
       "      <td>0.902567</td>\n",
       "    </tr>\n",
       "    <tr>\n",
       "      <th>31</th>\n",
       "      <td>500</td>\n",
       "      <td>6.000570</td>\n",
       "      <td>0.968119</td>\n",
       "    </tr>\n",
       "    <tr>\n",
       "      <th>27</th>\n",
       "      <td>500</td>\n",
       "      <td>6.000000</td>\n",
       "      <td>0.973175</td>\n",
       "    </tr>\n",
       "  </tbody>\n",
       "</table>\n",
       "</div>"
      ],
      "text/plain": [
       "     E0       w_L  fig_of_merit\n",
       "20  200  6.160000      0.065954\n",
       "11   50  6.160000      0.108181\n",
       "0     0  6.000000      0.111862\n",
       "1     0  6.320000      0.111862\n",
       "2     0  6.160000      0.111862\n",
       "3     0  6.017286      0.111862\n",
       "4     0  6.000570      0.111862\n",
       "5     0  6.008928      0.111862\n",
       "6     0  6.328690      0.111862\n",
       "7     0  6.311974      0.111862\n",
       "8     0  6.320332      0.111862\n",
       "16   50  6.311974      0.116798\n",
       "10   50  6.320000      0.118050\n",
       "17   50  6.320332      0.118100\n",
       "15   50  6.328690      0.119280\n",
       "29  500  6.160000      0.138850\n",
       "9    50  6.000000      0.183503\n",
       "13   50  6.000570      0.185548\n",
       "25  200  6.311974      0.203097\n",
       "14   50  6.008928      0.217856\n",
       "19  200  6.320000      0.223252\n",
       "26  200  6.320332      0.224047\n",
       "24  200  6.328690      0.242494\n",
       "12   50  6.017286      0.252330\n",
       "34  500  6.311974      0.448109\n",
       "18  200  6.000000      0.482971\n",
       "22  200  6.000570      0.490244\n",
       "28  500  6.320000      0.533424\n",
       "35  500  6.320332      0.538337\n",
       "23  200  6.008928      0.623443\n",
       "33  500  6.328690      0.659126\n",
       "21  200  6.017286      0.770133\n",
       "30  500  6.017286      0.821292\n",
       "32  500  6.008928      0.902567\n",
       "31  500  6.000570      0.968119\n",
       "27  500  6.000000      0.973175"
      ]
     },
     "execution_count": 127,
     "metadata": {},
     "output_type": "execute_result"
    }
   ],
   "source": [
    "pulse = AnalyticalPulse('1freq_rwa', T, nt,\n",
    "            parameters={'E0': 0.0, 'T': T, 'w_L': wd, 'w_d': wd},\n",
    "            t0=0.0, time_unit='ns', ampl_unit='MHz', freq_unit='MHz', mode=\"complex\")\n",
    "systematic_variation(rf, pulse, vary=OrderedDict([\n",
    "            ('E0', [0.0, 50, 200, 500]), \n",
    "            ('w_L', [w1, w2, 0.5*(w1+w2),  \n",
    "                     w1_dressed0, w1_dressed1, 0.5*(w1_dressed0+w1_dressed1),\n",
    "                     w2_dressed0, w2_dressed1, 0.5*(w2_dressed0+w2_dressed1)])]),\n",
    "            fig_of_merit=J_PE, n_procs=40)"
   ]
  },
  {
   "cell_type": "code",
   "execution_count": 128,
   "metadata": {
    "collapsed": false,
    "level": 7
   },
   "outputs": [],
   "source": [
    "pulse = AnalyticalPulse('1freq_rwa', T, nt,\n",
    "            parameters={'E0': 200.0, 'T': T, 'w_L': 6.16, 'w_d': 6.16},\n",
    "            t0=0.0, time_unit='ns', ampl_unit='MHz', freq_unit='MHz', mode=\"complex\")\n",
    "pulse.write(join(rf, 'pulse_guess.json'))"
   ]
  },
  {
   "cell_type": "code",
   "execution_count": 129,
   "metadata": {
    "collapsed": false,
    "level": 7
   },
   "outputs": [
    {
     "name": "stdout",
     "output_type": "stream",
     "text": [
      "Concurrence: 0.944892\n",
      "Loss: 0.005964\n"
     ]
    }
   ],
   "source": [
    "U_guess = propagate(rf, 'pulse_guess.json', rwa=True, force=True, keep=None)\n",
    "print(\"Concurrence: %f\" % U_guess.closest_unitary().concurrence())\n",
    "print(\"Loss: %f\" % U_guess.pop_loss())"
   ]
  },
  {
   "cell_type": "code",
   "execution_count": 130,
   "metadata": {
    "collapsed": false,
    "level": 7
   },
   "outputs": [],
   "source": [
    "proc = system(\"./run_oct.py --target=PE --rwa --pre-simplex='pulse_guess.json' {rf}\".format(rf=rf))"
   ]
  },
  {
   "cell_type": "code",
   "execution_count": 135,
   "metadata": {
    "collapsed": false,
    "level": 7
   },
   "outputs": [
    {
     "name": "stdout",
     "output_type": "stream",
     "text": [
      "  878  2.441503128017E-03  1.021673162694E-07  0.000000000000E+00  2.44160529533\r\n",
      "  879  2.441275218414E-03  1.019170565411E-07  0.000000000000E+00  2.44137713547\r\n",
      "  880  2.441047888456E-03  1.016675715323E-07  0.000000000000E+00  2.44114955602\r\n",
      "  881  2.440821136252E-03  1.014188581838E-07  0.000000000000E+00  2.44092255511\r\n",
      "  882  2.440594960006E-03  1.011709134452E-07  0.000000000000E+00  2.44069613091\r\n",
      "  883  2.440369357867E-03  1.009237342714E-07  0.000000000000E+00  2.44047028160\r\n",
      "  884  2.440144328032E-03  1.006773176279E-07  0.000000000000E+00  2.44024500535\r\n",
      "  885  2.439919868680E-03  1.004316604860E-07  0.000000000000E+00  2.44002030034\r\n",
      "  886  2.439695978011E-03  1.001867598248E-07  0.000000000000E+00  2.43979616477\r\n",
      "  887  2.439472654232E-03  9.994261263395E-08  0.000000000000E+00  2.43957259684\r\n"
     ]
    }
   ],
   "source": [
    "proc.join(); U = propagate(rf, 'pulse.dat', rwa=True, force=True);\n",
    "! tail {rf}/oct_iters.dat | cut -b 1-80"
   ]
  },
  {
   "cell_type": "code",
   "execution_count": 136,
   "metadata": {
    "collapsed": false,
    "level": 7
   },
   "outputs": [
    {
     "data": {
      "text/plain": [
       "0.011012108861070957"
      ]
     },
     "execution_count": 136,
     "metadata": {},
     "output_type": "execute_result"
    }
   ],
   "source": [
    "U.concurrence() - U_guess.concurrence()"
   ]
  },
  {
   "cell_type": "code",
   "execution_count": 137,
   "metadata": {
    "collapsed": false,
    "level": 7
   },
   "outputs": [],
   "source": [
    "U_closest_PE = U.closest_PE()"
   ]
  },
  {
   "cell_type": "code",
   "execution_count": 138,
   "metadata": {
    "collapsed": false
   },
   "outputs": [
    {
     "data": {
      "text/plain": [
       "0.9890368481758246"
      ]
     },
     "execution_count": 138,
     "metadata": {},
     "output_type": "execute_result"
    }
   ],
   "source": [
    "U.F_avg(U_closest_PE)"
   ]
  },
  {
   "cell_type": "markdown",
   "metadata": {
    "heading_collapsed": false,
    "level": 3
   },
   "source": [
    "### Implementation of Single-Qubit Gate"
   ]
  },
  {
   "cell_type": "markdown",
   "metadata": {
    "collapsed": true,
    "heading_collapsed": false,
    "level": 4
   },
   "source": [
    "#### $H_L$ at $T = 2 T_\\pi$ ####"
   ]
  },
  {
   "cell_type": "code",
   "execution_count": 139,
   "metadata": {
    "collapsed": true,
    "level": 7
   },
   "outputs": [],
   "source": [
    "rf = join(root, '1cycle_H_left'); mkdir(rf)\n",
    "wd = 0.5*(w1+w2)"
   ]
  },
  {
   "cell_type": "code",
   "execution_count": 140,
   "metadata": {
    "collapsed": false,
    "level": 7
   },
   "outputs": [
    {
     "data": {
      "text/plain": [
       "'./runs_zeta_detailed/w2_6320MHz_wc_5750MHz/1cycle_H_left'"
      ]
     },
     "execution_count": 140,
     "metadata": {},
     "output_type": "execute_result"
    }
   ],
   "source": [
    "rf"
   ]
  },
  {
   "cell_type": "code",
   "execution_count": 92,
   "metadata": {
    "collapsed": false,
    "level": 7
   },
   "outputs": [],
   "source": [
    "T = 2*T_entangling\n",
    "nt = int(max(2000, 100 * w_max * T))\n",
    "write_target_gate_dat(rf, 'H_left')\n",
    "write_config(join(rf, 'config'), T, nt, wc, w2, wd=wd, gate=\"target_gate.dat\", J_T='SM', prop_guess='F')"
   ]
  },
  {
   "cell_type": "code",
   "execution_count": 93,
   "metadata": {
    "collapsed": false,
    "level": 7,
    "scrolled": false
   },
   "outputs": [
    {
     "data": {
      "text/html": [
       "<div>\n",
       "<table border=\"1\" class=\"dataframe\">\n",
       "  <thead>\n",
       "    <tr style=\"text-align: right;\">\n",
       "      <th></th>\n",
       "      <th>E0</th>\n",
       "      <th>w_L</th>\n",
       "      <th>fig_of_merit</th>\n",
       "    </tr>\n",
       "  </thead>\n",
       "  <tbody>\n",
       "    <tr>\n",
       "      <th>27</th>\n",
       "      <td>150</td>\n",
       "      <td>6.000000</td>\n",
       "      <td>0.193467</td>\n",
       "    </tr>\n",
       "    <tr>\n",
       "      <th>31</th>\n",
       "      <td>150</td>\n",
       "      <td>6.000570</td>\n",
       "      <td>0.195021</td>\n",
       "    </tr>\n",
       "    <tr>\n",
       "      <th>15</th>\n",
       "      <td>50</td>\n",
       "      <td>6.328690</td>\n",
       "      <td>0.199310</td>\n",
       "    </tr>\n",
       "    <tr>\n",
       "      <th>4</th>\n",
       "      <td>0</td>\n",
       "      <td>6.000570</td>\n",
       "      <td>0.199350</td>\n",
       "    </tr>\n",
       "    <tr>\n",
       "      <th>0</th>\n",
       "      <td>0</td>\n",
       "      <td>6.000000</td>\n",
       "      <td>0.199350</td>\n",
       "    </tr>\n",
       "    <tr>\n",
       "      <th>1</th>\n",
       "      <td>0</td>\n",
       "      <td>6.320000</td>\n",
       "      <td>0.199350</td>\n",
       "    </tr>\n",
       "    <tr>\n",
       "      <th>2</th>\n",
       "      <td>0</td>\n",
       "      <td>6.160000</td>\n",
       "      <td>0.199350</td>\n",
       "    </tr>\n",
       "    <tr>\n",
       "      <th>3</th>\n",
       "      <td>0</td>\n",
       "      <td>6.017286</td>\n",
       "      <td>0.199350</td>\n",
       "    </tr>\n",
       "    <tr>\n",
       "      <th>5</th>\n",
       "      <td>0</td>\n",
       "      <td>6.008928</td>\n",
       "      <td>0.199350</td>\n",
       "    </tr>\n",
       "    <tr>\n",
       "      <th>6</th>\n",
       "      <td>0</td>\n",
       "      <td>6.328690</td>\n",
       "      <td>0.199350</td>\n",
       "    </tr>\n",
       "    <tr>\n",
       "      <th>7</th>\n",
       "      <td>0</td>\n",
       "      <td>6.311974</td>\n",
       "      <td>0.199350</td>\n",
       "    </tr>\n",
       "    <tr>\n",
       "      <th>8</th>\n",
       "      <td>0</td>\n",
       "      <td>6.320332</td>\n",
       "      <td>0.199350</td>\n",
       "    </tr>\n",
       "    <tr>\n",
       "      <th>11</th>\n",
       "      <td>50</td>\n",
       "      <td>6.160000</td>\n",
       "      <td>0.199529</td>\n",
       "    </tr>\n",
       "    <tr>\n",
       "      <th>24</th>\n",
       "      <td>100</td>\n",
       "      <td>6.328690</td>\n",
       "      <td>0.199557</td>\n",
       "    </tr>\n",
       "    <tr>\n",
       "      <th>17</th>\n",
       "      <td>50</td>\n",
       "      <td>6.320332</td>\n",
       "      <td>0.200026</td>\n",
       "    </tr>\n",
       "    <tr>\n",
       "      <th>10</th>\n",
       "      <td>50</td>\n",
       "      <td>6.320000</td>\n",
       "      <td>0.200051</td>\n",
       "    </tr>\n",
       "    <tr>\n",
       "      <th>16</th>\n",
       "      <td>50</td>\n",
       "      <td>6.311974</td>\n",
       "      <td>0.200056</td>\n",
       "    </tr>\n",
       "    <tr>\n",
       "      <th>20</th>\n",
       "      <td>100</td>\n",
       "      <td>6.160000</td>\n",
       "      <td>0.200578</td>\n",
       "    </tr>\n",
       "    <tr>\n",
       "      <th>33</th>\n",
       "      <td>150</td>\n",
       "      <td>6.328690</td>\n",
       "      <td>0.201111</td>\n",
       "    </tr>\n",
       "    <tr>\n",
       "      <th>14</th>\n",
       "      <td>50</td>\n",
       "      <td>6.008928</td>\n",
       "      <td>0.201331</td>\n",
       "    </tr>\n",
       "    <tr>\n",
       "      <th>23</th>\n",
       "      <td>100</td>\n",
       "      <td>6.008928</td>\n",
       "      <td>0.202308</td>\n",
       "    </tr>\n",
       "    <tr>\n",
       "      <th>29</th>\n",
       "      <td>150</td>\n",
       "      <td>6.160000</td>\n",
       "      <td>0.204535</td>\n",
       "    </tr>\n",
       "    <tr>\n",
       "      <th>25</th>\n",
       "      <td>100</td>\n",
       "      <td>6.311974</td>\n",
       "      <td>0.208194</td>\n",
       "    </tr>\n",
       "    <tr>\n",
       "      <th>26</th>\n",
       "      <td>100</td>\n",
       "      <td>6.320332</td>\n",
       "      <td>0.208555</td>\n",
       "    </tr>\n",
       "    <tr>\n",
       "      <th>19</th>\n",
       "      <td>100</td>\n",
       "      <td>6.320000</td>\n",
       "      <td>0.208863</td>\n",
       "    </tr>\n",
       "    <tr>\n",
       "      <th>32</th>\n",
       "      <td>150</td>\n",
       "      <td>6.008928</td>\n",
       "      <td>0.209195</td>\n",
       "    </tr>\n",
       "    <tr>\n",
       "      <th>34</th>\n",
       "      <td>150</td>\n",
       "      <td>6.311974</td>\n",
       "      <td>0.232655</td>\n",
       "    </tr>\n",
       "    <tr>\n",
       "      <th>35</th>\n",
       "      <td>150</td>\n",
       "      <td>6.320332</td>\n",
       "      <td>0.235788</td>\n",
       "    </tr>\n",
       "    <tr>\n",
       "      <th>28</th>\n",
       "      <td>150</td>\n",
       "      <td>6.320000</td>\n",
       "      <td>0.236916</td>\n",
       "    </tr>\n",
       "    <tr>\n",
       "      <th>9</th>\n",
       "      <td>50</td>\n",
       "      <td>6.000000</td>\n",
       "      <td>0.236979</td>\n",
       "    </tr>\n",
       "    <tr>\n",
       "      <th>13</th>\n",
       "      <td>50</td>\n",
       "      <td>6.000570</td>\n",
       "      <td>0.240412</td>\n",
       "    </tr>\n",
       "    <tr>\n",
       "      <th>18</th>\n",
       "      <td>100</td>\n",
       "      <td>6.000000</td>\n",
       "      <td>0.258382</td>\n",
       "    </tr>\n",
       "    <tr>\n",
       "      <th>22</th>\n",
       "      <td>100</td>\n",
       "      <td>6.000570</td>\n",
       "      <td>0.264464</td>\n",
       "    </tr>\n",
       "    <tr>\n",
       "      <th>12</th>\n",
       "      <td>50</td>\n",
       "      <td>6.017286</td>\n",
       "      <td>0.295853</td>\n",
       "    </tr>\n",
       "    <tr>\n",
       "      <th>30</th>\n",
       "      <td>150</td>\n",
       "      <td>6.017286</td>\n",
       "      <td>0.378381</td>\n",
       "    </tr>\n",
       "    <tr>\n",
       "      <th>21</th>\n",
       "      <td>100</td>\n",
       "      <td>6.017286</td>\n",
       "      <td>0.483832</td>\n",
       "    </tr>\n",
       "  </tbody>\n",
       "</table>\n",
       "</div>"
      ],
      "text/plain": [
       "     E0       w_L  fig_of_merit\n",
       "27  150  6.000000      0.193467\n",
       "31  150  6.000570      0.195021\n",
       "15   50  6.328690      0.199310\n",
       "4     0  6.000570      0.199350\n",
       "0     0  6.000000      0.199350\n",
       "1     0  6.320000      0.199350\n",
       "2     0  6.160000      0.199350\n",
       "3     0  6.017286      0.199350\n",
       "5     0  6.008928      0.199350\n",
       "6     0  6.328690      0.199350\n",
       "7     0  6.311974      0.199350\n",
       "8     0  6.320332      0.199350\n",
       "11   50  6.160000      0.199529\n",
       "24  100  6.328690      0.199557\n",
       "17   50  6.320332      0.200026\n",
       "10   50  6.320000      0.200051\n",
       "16   50  6.311974      0.200056\n",
       "20  100  6.160000      0.200578\n",
       "33  150  6.328690      0.201111\n",
       "14   50  6.008928      0.201331\n",
       "23  100  6.008928      0.202308\n",
       "29  150  6.160000      0.204535\n",
       "25  100  6.311974      0.208194\n",
       "26  100  6.320332      0.208555\n",
       "19  100  6.320000      0.208863\n",
       "32  150  6.008928      0.209195\n",
       "34  150  6.311974      0.232655\n",
       "35  150  6.320332      0.235788\n",
       "28  150  6.320000      0.236916\n",
       "9    50  6.000000      0.236979\n",
       "13   50  6.000570      0.240412\n",
       "18  100  6.000000      0.258382\n",
       "22  100  6.000570      0.264464\n",
       "12   50  6.017286      0.295853\n",
       "30  150  6.017286      0.378381\n",
       "21  100  6.017286      0.483832"
      ]
     },
     "execution_count": 93,
     "metadata": {},
     "output_type": "execute_result"
    }
   ],
   "source": [
    "pulse = AnalyticalPulse('1freq_rwa', T, nt,\n",
    "            parameters={'E0': 0.0, 'T': T, 'w_L': wd, 'w_d': wd},\n",
    "            t0=0.0, time_unit='ns', ampl_unit='MHz', freq_unit='MHz', mode=\"complex\")\n",
    "systematic_variation(rf, pulse, vary=OrderedDict([\n",
    "            ('E0', [0.0, 50, 100, 150]), \n",
    "            ('w_L', [w1, w2, 0.5*(w1+w2),  \n",
    "                     w1_dressed0, w1_dressed1, 0.5*(w1_dressed0+w1_dressed1),\n",
    "                     w2_dressed0, w2_dressed1, 0.5*(w2_dressed0+w2_dressed1)])]),\n",
    "            fig_of_merit=F_avg_H_left, n_procs=40)"
   ]
  },
  {
   "cell_type": "code",
   "execution_count": 94,
   "metadata": {
    "collapsed": true,
    "level": 7
   },
   "outputs": [],
   "source": [
    "pulse = AnalyticalPulse('1freq_rwa', T, nt,\n",
    "            parameters={'E0': 100.0, 'T': T, 'w_L': 6.017286, 'w_d': 6.017286},\n",
    "            t0=0.0, time_unit='ns', ampl_unit='MHz', freq_unit='MHz', mode=\"complex\")\n",
    "pulse.write(join(rf, 'pulse_guess.json'))"
   ]
  },
  {
   "cell_type": "code",
   "execution_count": 95,
   "metadata": {
    "collapsed": false,
    "level": 7
   },
   "outputs": [
    {
     "name": "stdout",
     "output_type": "stream",
     "text": [
      "Concurrence: 0.939675\n",
      "Loss: 0.028905\n"
     ]
    }
   ],
   "source": [
    "U_guess = propagate(rf, 'pulse_guess.json', rwa=True, force=True)\n",
    "print(\"Concurrence: %f\" % U_guess.closest_unitary().concurrence())\n",
    "print(\"Loss: %f\" % U_guess.pop_loss())"
   ]
  },
  {
   "cell_type": "code",
   "execution_count": 96,
   "metadata": {
    "collapsed": false,
    "level": 7
   },
   "outputs": [
    {
     "data": {
      "text/plain": [
       "0.48383223068241632"
      ]
     },
     "execution_count": 96,
     "metadata": {},
     "output_type": "execute_result"
    }
   ],
   "source": [
    "U_guess.F_avg(H_left)"
   ]
  },
  {
   "cell_type": "code",
   "execution_count": null,
   "metadata": {
    "collapsed": false,
    "level": 7
   },
   "outputs": [],
   "source": [
    "proc2 = system(\"./run_oct.py --rwa --pre-simplex='pulse_guess.json' {rf}\".format(rf=rf))"
   ]
  },
  {
   "cell_type": "code",
   "execution_count": null,
   "metadata": {
    "collapsed": true
   },
   "outputs": [],
   "source": [
    "proc2.join()"
   ]
  },
  {
   "cell_type": "code",
   "execution_count": 98,
   "metadata": {
    "collapsed": false
   },
   "outputs": [
    {
     "data": {
      "text/plain": [
       "'./runs_zeta_detailed/w2_6320MHz_wc_5750MHz/1cycle_H_left'"
      ]
     },
     "execution_count": 98,
     "metadata": {},
     "output_type": "execute_result"
    }
   ],
   "source": [
    "rf"
   ]
  },
  {
   "cell_type": "code",
   "execution_count": 100,
   "metadata": {
    "collapsed": false
   },
   "outputs": [
    {
     "name": "stdout",
     "output_type": "stream",
     "text": [
      " 2380  1.027234049713E-02  1.014422339535E-07  0.000000000000E+00  1.02724419393\r\n",
      " 2381  1.027212597375E-02  1.012737457218E-07  0.000000000000E+00  1.02722272474\r\n",
      " 2382  1.027191180872E-02  1.011055950323E-07  0.000000000000E+00  1.02720129143\r\n",
      " 2383  1.027169800128E-02  1.009377816437E-07  0.000000000000E+00  1.02717989390\r\n",
      " 2384  1.027148455073E-02  1.007703053068E-07  0.000000000000E+00  1.02715853210\r\n",
      " 2385  1.027127145633E-02  1.006031657705E-07  0.000000000000E+00  1.02713720594\r\n",
      " 2386  1.027105871730E-02  1.004363627747E-07  0.000000000000E+00  1.02711591536\r\n",
      " 2387  1.027084633293E-02  1.002698960581E-07  0.000000000000E+00  1.02709466028\r\n",
      " 2388  1.027063430250E-02  1.001037653547E-07  0.000000000000E+00  1.02707344062\r\n",
      " 2389  1.027042262523E-02  9.993797039167E-08  0.000000000000E+00  1.02705225632\r\n"
     ]
    }
   ],
   "source": [
    "U = propagate(rf, 'pulse.dat', rwa=True, force=True);\n",
    "! tail {rf}/oct_iters.dat | cut -b 1-80"
   ]
  },
  {
   "cell_type": "code",
   "execution_count": 101,
   "metadata": {
    "collapsed": false
   },
   "outputs": [
    {
     "data": {
      "text/plain": [
       "-0.93411181081219918"
      ]
     },
     "execution_count": 101,
     "metadata": {},
     "output_type": "execute_result"
    }
   ],
   "source": [
    "U.concurrence() - U_guess.concurrence()"
   ]
  },
  {
   "cell_type": "code",
   "execution_count": 102,
   "metadata": {
    "collapsed": false
   },
   "outputs": [
    {
     "data": {
      "text/plain": [
       "0.98973377033203036"
      ]
     },
     "execution_count": 102,
     "metadata": {},
     "output_type": "execute_result"
    }
   ],
   "source": [
    "U.F_avg(H_left)"
   ]
  },
  {
   "cell_type": "markdown",
   "metadata": {
    "collapsed": true,
    "heading_collapsed": false,
    "level": 4
   },
   "source": [
    "####  $H_L$ at $T = 40$ ns"
   ]
  },
  {
   "cell_type": "code",
   "execution_count": 104,
   "metadata": {
    "collapsed": true
   },
   "outputs": [],
   "source": [
    "rf = join(root, '40ns_H_left'); mkdir(rf)\n",
    "wd = 0.5*(w1+w2)"
   ]
  },
  {
   "cell_type": "code",
   "execution_count": 105,
   "metadata": {
    "collapsed": false
   },
   "outputs": [
    {
     "data": {
      "text/plain": [
       "'./runs_zeta_detailed/w2_6320MHz_wc_5750MHz/40ns_H_left'"
      ]
     },
     "execution_count": 105,
     "metadata": {},
     "output_type": "execute_result"
    }
   ],
   "source": [
    "rf"
   ]
  },
  {
   "cell_type": "code",
   "execution_count": 107,
   "metadata": {
    "collapsed": false
   },
   "outputs": [],
   "source": [
    "T = 40\n",
    "nt = int(max(2000, 100 * w_max * T))\n",
    "write_target_gate_dat(rf, 'H_left')\n",
    "write_config(join(rf, 'config'), T, nt, wc, w2, wd=wd, gate=\"target_gate.dat\", J_T='SM', prop_guess='F')"
   ]
  },
  {
   "cell_type": "code",
   "execution_count": 108,
   "metadata": {
    "collapsed": false,
    "scrolled": false
   },
   "outputs": [
    {
     "data": {
      "text/html": [
       "<div>\n",
       "<table border=\"1\" class=\"dataframe\">\n",
       "  <thead>\n",
       "    <tr style=\"text-align: right;\">\n",
       "      <th></th>\n",
       "      <th>E0</th>\n",
       "      <th>w_L</th>\n",
       "      <th>fig_of_merit</th>\n",
       "    </tr>\n",
       "  </thead>\n",
       "  <tbody>\n",
       "    <tr>\n",
       "      <th>35</th>\n",
       "      <td>200</td>\n",
       "      <td>6.320332</td>\n",
       "      <td>0.199895</td>\n",
       "    </tr>\n",
       "    <tr>\n",
       "      <th>28</th>\n",
       "      <td>200</td>\n",
       "      <td>6.320000</td>\n",
       "      <td>0.199941</td>\n",
       "    </tr>\n",
       "    <tr>\n",
       "      <th>33</th>\n",
       "      <td>200</td>\n",
       "      <td>6.328690</td>\n",
       "      <td>0.200095</td>\n",
       "    </tr>\n",
       "    <tr>\n",
       "      <th>13</th>\n",
       "      <td>50</td>\n",
       "      <td>6.000570</td>\n",
       "      <td>0.205955</td>\n",
       "    </tr>\n",
       "    <tr>\n",
       "      <th>9</th>\n",
       "      <td>50</td>\n",
       "      <td>6.000000</td>\n",
       "      <td>0.206426</td>\n",
       "    </tr>\n",
       "    <tr>\n",
       "      <th>34</th>\n",
       "      <td>200</td>\n",
       "      <td>6.311974</td>\n",
       "      <td>0.207215</td>\n",
       "    </tr>\n",
       "    <tr>\n",
       "      <th>24</th>\n",
       "      <td>150</td>\n",
       "      <td>6.328690</td>\n",
       "      <td>0.213598</td>\n",
       "    </tr>\n",
       "    <tr>\n",
       "      <th>26</th>\n",
       "      <td>150</td>\n",
       "      <td>6.320332</td>\n",
       "      <td>0.214984</td>\n",
       "    </tr>\n",
       "    <tr>\n",
       "      <th>19</th>\n",
       "      <td>150</td>\n",
       "      <td>6.320000</td>\n",
       "      <td>0.215212</td>\n",
       "    </tr>\n",
       "    <tr>\n",
       "      <th>14</th>\n",
       "      <td>50</td>\n",
       "      <td>6.008928</td>\n",
       "      <td>0.218037</td>\n",
       "    </tr>\n",
       "    <tr>\n",
       "      <th>25</th>\n",
       "      <td>150</td>\n",
       "      <td>6.311974</td>\n",
       "      <td>0.225746</td>\n",
       "    </tr>\n",
       "    <tr>\n",
       "      <th>29</th>\n",
       "      <td>200</td>\n",
       "      <td>6.160000</td>\n",
       "      <td>0.256478</td>\n",
       "    </tr>\n",
       "    <tr>\n",
       "      <th>15</th>\n",
       "      <td>50</td>\n",
       "      <td>6.328690</td>\n",
       "      <td>0.262883</td>\n",
       "    </tr>\n",
       "    <tr>\n",
       "      <th>17</th>\n",
       "      <td>50</td>\n",
       "      <td>6.320332</td>\n",
       "      <td>0.263297</td>\n",
       "    </tr>\n",
       "    <tr>\n",
       "      <th>10</th>\n",
       "      <td>50</td>\n",
       "      <td>6.320000</td>\n",
       "      <td>0.263358</td>\n",
       "    </tr>\n",
       "    <tr>\n",
       "      <th>16</th>\n",
       "      <td>50</td>\n",
       "      <td>6.311974</td>\n",
       "      <td>0.265673</td>\n",
       "    </tr>\n",
       "    <tr>\n",
       "      <th>20</th>\n",
       "      <td>150</td>\n",
       "      <td>6.160000</td>\n",
       "      <td>0.266469</td>\n",
       "    </tr>\n",
       "    <tr>\n",
       "      <th>11</th>\n",
       "      <td>50</td>\n",
       "      <td>6.160000</td>\n",
       "      <td>0.272233</td>\n",
       "    </tr>\n",
       "    <tr>\n",
       "      <th>4</th>\n",
       "      <td>0</td>\n",
       "      <td>6.000570</td>\n",
       "      <td>0.272415</td>\n",
       "    </tr>\n",
       "    <tr>\n",
       "      <th>1</th>\n",
       "      <td>0</td>\n",
       "      <td>6.320000</td>\n",
       "      <td>0.272415</td>\n",
       "    </tr>\n",
       "    <tr>\n",
       "      <th>2</th>\n",
       "      <td>0</td>\n",
       "      <td>6.160000</td>\n",
       "      <td>0.272415</td>\n",
       "    </tr>\n",
       "    <tr>\n",
       "      <th>3</th>\n",
       "      <td>0</td>\n",
       "      <td>6.017286</td>\n",
       "      <td>0.272415</td>\n",
       "    </tr>\n",
       "    <tr>\n",
       "      <th>5</th>\n",
       "      <td>0</td>\n",
       "      <td>6.008928</td>\n",
       "      <td>0.272415</td>\n",
       "    </tr>\n",
       "    <tr>\n",
       "      <th>6</th>\n",
       "      <td>0</td>\n",
       "      <td>6.328690</td>\n",
       "      <td>0.272415</td>\n",
       "    </tr>\n",
       "    <tr>\n",
       "      <th>7</th>\n",
       "      <td>0</td>\n",
       "      <td>6.311974</td>\n",
       "      <td>0.272415</td>\n",
       "    </tr>\n",
       "    <tr>\n",
       "      <th>8</th>\n",
       "      <td>0</td>\n",
       "      <td>6.320332</td>\n",
       "      <td>0.272415</td>\n",
       "    </tr>\n",
       "    <tr>\n",
       "      <th>0</th>\n",
       "      <td>0</td>\n",
       "      <td>6.000000</td>\n",
       "      <td>0.272415</td>\n",
       "    </tr>\n",
       "    <tr>\n",
       "      <th>21</th>\n",
       "      <td>150</td>\n",
       "      <td>6.017286</td>\n",
       "      <td>0.278770</td>\n",
       "    </tr>\n",
       "    <tr>\n",
       "      <th>12</th>\n",
       "      <td>50</td>\n",
       "      <td>6.017286</td>\n",
       "      <td>0.297912</td>\n",
       "    </tr>\n",
       "    <tr>\n",
       "      <th>18</th>\n",
       "      <td>150</td>\n",
       "      <td>6.000000</td>\n",
       "      <td>0.322707</td>\n",
       "    </tr>\n",
       "    <tr>\n",
       "      <th>27</th>\n",
       "      <td>200</td>\n",
       "      <td>6.000000</td>\n",
       "      <td>0.329174</td>\n",
       "    </tr>\n",
       "    <tr>\n",
       "      <th>22</th>\n",
       "      <td>150</td>\n",
       "      <td>6.000570</td>\n",
       "      <td>0.330025</td>\n",
       "    </tr>\n",
       "    <tr>\n",
       "      <th>31</th>\n",
       "      <td>200</td>\n",
       "      <td>6.000570</td>\n",
       "      <td>0.337402</td>\n",
       "    </tr>\n",
       "    <tr>\n",
       "      <th>23</th>\n",
       "      <td>150</td>\n",
       "      <td>6.008928</td>\n",
       "      <td>0.358649</td>\n",
       "    </tr>\n",
       "    <tr>\n",
       "      <th>30</th>\n",
       "      <td>200</td>\n",
       "      <td>6.017286</td>\n",
       "      <td>0.410138</td>\n",
       "    </tr>\n",
       "    <tr>\n",
       "      <th>32</th>\n",
       "      <td>200</td>\n",
       "      <td>6.008928</td>\n",
       "      <td>0.436023</td>\n",
       "    </tr>\n",
       "  </tbody>\n",
       "</table>\n",
       "</div>"
      ],
      "text/plain": [
       "     E0       w_L  fig_of_merit\n",
       "35  200  6.320332      0.199895\n",
       "28  200  6.320000      0.199941\n",
       "33  200  6.328690      0.200095\n",
       "13   50  6.000570      0.205955\n",
       "9    50  6.000000      0.206426\n",
       "34  200  6.311974      0.207215\n",
       "24  150  6.328690      0.213598\n",
       "26  150  6.320332      0.214984\n",
       "19  150  6.320000      0.215212\n",
       "14   50  6.008928      0.218037\n",
       "25  150  6.311974      0.225746\n",
       "29  200  6.160000      0.256478\n",
       "15   50  6.328690      0.262883\n",
       "17   50  6.320332      0.263297\n",
       "10   50  6.320000      0.263358\n",
       "16   50  6.311974      0.265673\n",
       "20  150  6.160000      0.266469\n",
       "11   50  6.160000      0.272233\n",
       "4     0  6.000570      0.272415\n",
       "1     0  6.320000      0.272415\n",
       "2     0  6.160000      0.272415\n",
       "3     0  6.017286      0.272415\n",
       "5     0  6.008928      0.272415\n",
       "6     0  6.328690      0.272415\n",
       "7     0  6.311974      0.272415\n",
       "8     0  6.320332      0.272415\n",
       "0     0  6.000000      0.272415\n",
       "21  150  6.017286      0.278770\n",
       "12   50  6.017286      0.297912\n",
       "18  150  6.000000      0.322707\n",
       "27  200  6.000000      0.329174\n",
       "22  150  6.000570      0.330025\n",
       "31  200  6.000570      0.337402\n",
       "23  150  6.008928      0.358649\n",
       "30  200  6.017286      0.410138\n",
       "32  200  6.008928      0.436023"
      ]
     },
     "execution_count": 108,
     "metadata": {},
     "output_type": "execute_result"
    }
   ],
   "source": [
    "pulse = AnalyticalPulse('1freq_rwa', T, nt,\n",
    "            parameters={'E0': 0.0, 'T': T, 'w_L': wd, 'w_d': wd},\n",
    "            t0=0.0, time_unit='ns', ampl_unit='MHz', freq_unit='MHz', mode=\"complex\")\n",
    "systematic_variation(rf, pulse, vary=OrderedDict([\n",
    "            ('E0', [0.0, 50, 150, 200]), \n",
    "            ('w_L', [w1, w2, 0.5*(w1+w2),  \n",
    "                     w1_dressed0, w1_dressed1, 0.5*(w1_dressed0+w1_dressed1),\n",
    "                     w2_dressed0, w2_dressed1, 0.5*(w2_dressed0+w2_dressed1)])]),\n",
    "            fig_of_merit=F_avg_H_left, n_procs=40)"
   ]
  },
  {
   "cell_type": "code",
   "execution_count": null,
   "metadata": {
    "collapsed": true
   },
   "outputs": [],
   "source": [
    "pulse = AnalyticalPulse('1freq_rwa', T, nt,\n",
    "            parameters={'E0': 200.0, 'T': T, 'w_L': 6.008928, 'w_d': 6.008928},\n",
    "            t0=0.0, time_unit='ns', ampl_unit='MHz', freq_unit='MHz', mode=\"complex\")\n",
    "pulse.write(join(rf, 'pulse_guess.json'))"
   ]
  },
  {
   "cell_type": "code",
   "execution_count": null,
   "metadata": {
    "collapsed": false
   },
   "outputs": [],
   "source": [
    "U_guess = propagate(rf, 'pulse_guess.json', rwa=True, force=True)\n",
    "print(\"Concurrence: %f\" % U_guess.closest_unitary().concurrence())\n",
    "print(\"Loss: %f\" % U_guess.pop_loss())"
   ]
  },
  {
   "cell_type": "code",
   "execution_count": null,
   "metadata": {
    "collapsed": false
   },
   "outputs": [],
   "source": [
    "proc3 = system(\"./run_oct.py --rwa --pre-simplex='pulse_guess.json' {rf}\".format(rf=rf))"
   ]
  },
  {
   "cell_type": "code",
   "execution_count": 103,
   "metadata": {
    "collapsed": false
   },
   "outputs": [
    {
     "data": {
      "text/plain": [
       "<Process(Process-285, started)>"
      ]
     },
     "execution_count": 103,
     "metadata": {},
     "output_type": "execute_result"
    }
   ],
   "source": [
    "proc3"
   ]
  },
  {
   "cell_type": "code",
   "execution_count": null,
   "metadata": {
    "collapsed": true
   },
   "outputs": [],
   "source": [
    "proc3.join();"
   ]
  },
  {
   "cell_type": "code",
   "execution_count": null,
   "metadata": {
    "collapsed": false
   },
   "outputs": [],
   "source": [
    "U = propagate(rf, 'pulse.dat', rwa=True, force=True);\n",
    "! tail {rf}/oct_iters.dat | cut -b 1-80"
   ]
  },
  {
   "cell_type": "code",
   "execution_count": null,
   "metadata": {
    "collapsed": false
   },
   "outputs": [],
   "source": [
    "U.concurrence() - U_guess.concurrence()"
   ]
  },
  {
   "cell_type": "code",
   "execution_count": null,
   "metadata": {
    "collapsed": true
   },
   "outputs": [],
   "source": []
  },
  {
   "cell_type": "markdown",
   "metadata": {
    "collapsed": true,
    "heading_collapsed": false,
    "level": 4
   },
   "source": [
    "####  $H_R$ at $T = 40$ ns"
   ]
  },
  {
   "cell_type": "code",
   "execution_count": 141,
   "metadata": {
    "collapsed": true
   },
   "outputs": [],
   "source": [
    "rf = join(root, '40ns_H_right'); mkdir(rf)\n",
    "wd = 0.5*(w1+w2)"
   ]
  },
  {
   "cell_type": "code",
   "execution_count": 142,
   "metadata": {
    "collapsed": false
   },
   "outputs": [
    {
     "data": {
      "text/plain": [
       "'./runs_zeta_detailed/w2_6320MHz_wc_5750MHz/40ns_H_right'"
      ]
     },
     "execution_count": 142,
     "metadata": {},
     "output_type": "execute_result"
    }
   ],
   "source": [
    "rf"
   ]
  },
  {
   "cell_type": "code",
   "execution_count": 143,
   "metadata": {
    "collapsed": false
   },
   "outputs": [],
   "source": [
    "T = 40\n",
    "nt = int(max(2000, 100 * w_max * T))\n",
    "write_target_gate_dat(rf, 'H_right')\n",
    "write_config(join(rf, 'config'), T, nt, wc, w2, wd=wd, gate=\"target_gate.dat\", J_T='SM', prop_guess='F')"
   ]
  },
  {
   "cell_type": "code",
   "execution_count": 144,
   "metadata": {
    "collapsed": false,
    "scrolled": false
   },
   "outputs": [
    {
     "data": {
      "text/html": [
       "<div>\n",
       "<table border=\"1\" class=\"dataframe\">\n",
       "  <thead>\n",
       "    <tr style=\"text-align: right;\">\n",
       "      <th></th>\n",
       "      <th>E0</th>\n",
       "      <th>w_L</th>\n",
       "      <th>fig_of_merit</th>\n",
       "    </tr>\n",
       "  </thead>\n",
       "  <tbody>\n",
       "    <tr>\n",
       "      <th>32</th>\n",
       "      <td>200</td>\n",
       "      <td>6.008928</td>\n",
       "      <td>0.191867</td>\n",
       "    </tr>\n",
       "    <tr>\n",
       "      <th>21</th>\n",
       "      <td>150</td>\n",
       "      <td>6.017286</td>\n",
       "      <td>0.193300</td>\n",
       "    </tr>\n",
       "    <tr>\n",
       "      <th>30</th>\n",
       "      <td>200</td>\n",
       "      <td>6.017286</td>\n",
       "      <td>0.193921</td>\n",
       "    </tr>\n",
       "    <tr>\n",
       "      <th>23</th>\n",
       "      <td>150</td>\n",
       "      <td>6.008928</td>\n",
       "      <td>0.215380</td>\n",
       "    </tr>\n",
       "    <tr>\n",
       "      <th>31</th>\n",
       "      <td>200</td>\n",
       "      <td>6.000570</td>\n",
       "      <td>0.223952</td>\n",
       "    </tr>\n",
       "    <tr>\n",
       "      <th>27</th>\n",
       "      <td>200</td>\n",
       "      <td>6.000000</td>\n",
       "      <td>0.226871</td>\n",
       "    </tr>\n",
       "    <tr>\n",
       "      <th>22</th>\n",
       "      <td>150</td>\n",
       "      <td>6.000570</td>\n",
       "      <td>0.255674</td>\n",
       "    </tr>\n",
       "    <tr>\n",
       "      <th>18</th>\n",
       "      <td>150</td>\n",
       "      <td>6.000000</td>\n",
       "      <td>0.258497</td>\n",
       "    </tr>\n",
       "    <tr>\n",
       "      <th>34</th>\n",
       "      <td>200</td>\n",
       "      <td>6.311974</td>\n",
       "      <td>0.295725</td>\n",
       "    </tr>\n",
       "    <tr>\n",
       "      <th>33</th>\n",
       "      <td>200</td>\n",
       "      <td>6.328690</td>\n",
       "      <td>0.310385</td>\n",
       "    </tr>\n",
       "    <tr>\n",
       "      <th>28</th>\n",
       "      <td>200</td>\n",
       "      <td>6.320000</td>\n",
       "      <td>0.311891</td>\n",
       "    </tr>\n",
       "    <tr>\n",
       "      <th>35</th>\n",
       "      <td>200</td>\n",
       "      <td>6.320332</td>\n",
       "      <td>0.313606</td>\n",
       "    </tr>\n",
       "    <tr>\n",
       "      <th>24</th>\n",
       "      <td>150</td>\n",
       "      <td>6.328690</td>\n",
       "      <td>0.319525</td>\n",
       "    </tr>\n",
       "    <tr>\n",
       "      <th>25</th>\n",
       "      <td>150</td>\n",
       "      <td>6.311974</td>\n",
       "      <td>0.323724</td>\n",
       "    </tr>\n",
       "    <tr>\n",
       "      <th>12</th>\n",
       "      <td>50</td>\n",
       "      <td>6.017286</td>\n",
       "      <td>0.325131</td>\n",
       "    </tr>\n",
       "    <tr>\n",
       "      <th>19</th>\n",
       "      <td>150</td>\n",
       "      <td>6.320000</td>\n",
       "      <td>0.337129</td>\n",
       "    </tr>\n",
       "    <tr>\n",
       "      <th>26</th>\n",
       "      <td>150</td>\n",
       "      <td>6.320332</td>\n",
       "      <td>0.337804</td>\n",
       "    </tr>\n",
       "    <tr>\n",
       "      <th>14</th>\n",
       "      <td>50</td>\n",
       "      <td>6.008928</td>\n",
       "      <td>0.348099</td>\n",
       "    </tr>\n",
       "    <tr>\n",
       "      <th>15</th>\n",
       "      <td>50</td>\n",
       "      <td>6.328690</td>\n",
       "      <td>0.356740</td>\n",
       "    </tr>\n",
       "    <tr>\n",
       "      <th>16</th>\n",
       "      <td>50</td>\n",
       "      <td>6.311974</td>\n",
       "      <td>0.366802</td>\n",
       "    </tr>\n",
       "    <tr>\n",
       "      <th>13</th>\n",
       "      <td>50</td>\n",
       "      <td>6.000570</td>\n",
       "      <td>0.366812</td>\n",
       "    </tr>\n",
       "    <tr>\n",
       "      <th>9</th>\n",
       "      <td>50</td>\n",
       "      <td>6.000000</td>\n",
       "      <td>0.367809</td>\n",
       "    </tr>\n",
       "    <tr>\n",
       "      <th>17</th>\n",
       "      <td>50</td>\n",
       "      <td>6.320332</td>\n",
       "      <td>0.369473</td>\n",
       "    </tr>\n",
       "    <tr>\n",
       "      <th>10</th>\n",
       "      <td>50</td>\n",
       "      <td>6.320000</td>\n",
       "      <td>0.369748</td>\n",
       "    </tr>\n",
       "    <tr>\n",
       "      <th>7</th>\n",
       "      <td>0</td>\n",
       "      <td>6.311974</td>\n",
       "      <td>0.373799</td>\n",
       "    </tr>\n",
       "    <tr>\n",
       "      <th>1</th>\n",
       "      <td>0</td>\n",
       "      <td>6.320000</td>\n",
       "      <td>0.373799</td>\n",
       "    </tr>\n",
       "    <tr>\n",
       "      <th>8</th>\n",
       "      <td>0</td>\n",
       "      <td>6.320332</td>\n",
       "      <td>0.373799</td>\n",
       "    </tr>\n",
       "    <tr>\n",
       "      <th>5</th>\n",
       "      <td>0</td>\n",
       "      <td>6.008928</td>\n",
       "      <td>0.373799</td>\n",
       "    </tr>\n",
       "    <tr>\n",
       "      <th>4</th>\n",
       "      <td>0</td>\n",
       "      <td>6.000570</td>\n",
       "      <td>0.373799</td>\n",
       "    </tr>\n",
       "    <tr>\n",
       "      <th>3</th>\n",
       "      <td>0</td>\n",
       "      <td>6.017286</td>\n",
       "      <td>0.373799</td>\n",
       "    </tr>\n",
       "    <tr>\n",
       "      <th>2</th>\n",
       "      <td>0</td>\n",
       "      <td>6.160000</td>\n",
       "      <td>0.373799</td>\n",
       "    </tr>\n",
       "    <tr>\n",
       "      <th>0</th>\n",
       "      <td>0</td>\n",
       "      <td>6.000000</td>\n",
       "      <td>0.373799</td>\n",
       "    </tr>\n",
       "    <tr>\n",
       "      <th>6</th>\n",
       "      <td>0</td>\n",
       "      <td>6.328690</td>\n",
       "      <td>0.373799</td>\n",
       "    </tr>\n",
       "    <tr>\n",
       "      <th>11</th>\n",
       "      <td>50</td>\n",
       "      <td>6.160000</td>\n",
       "      <td>0.377012</td>\n",
       "    </tr>\n",
       "    <tr>\n",
       "      <th>20</th>\n",
       "      <td>150</td>\n",
       "      <td>6.160000</td>\n",
       "      <td>0.395673</td>\n",
       "    </tr>\n",
       "    <tr>\n",
       "      <th>29</th>\n",
       "      <td>200</td>\n",
       "      <td>6.160000</td>\n",
       "      <td>0.401031</td>\n",
       "    </tr>\n",
       "  </tbody>\n",
       "</table>\n",
       "</div>"
      ],
      "text/plain": [
       "     E0       w_L  fig_of_merit\n",
       "32  200  6.008928      0.191867\n",
       "21  150  6.017286      0.193300\n",
       "30  200  6.017286      0.193921\n",
       "23  150  6.008928      0.215380\n",
       "31  200  6.000570      0.223952\n",
       "27  200  6.000000      0.226871\n",
       "22  150  6.000570      0.255674\n",
       "18  150  6.000000      0.258497\n",
       "34  200  6.311974      0.295725\n",
       "33  200  6.328690      0.310385\n",
       "28  200  6.320000      0.311891\n",
       "35  200  6.320332      0.313606\n",
       "24  150  6.328690      0.319525\n",
       "25  150  6.311974      0.323724\n",
       "12   50  6.017286      0.325131\n",
       "19  150  6.320000      0.337129\n",
       "26  150  6.320332      0.337804\n",
       "14   50  6.008928      0.348099\n",
       "15   50  6.328690      0.356740\n",
       "16   50  6.311974      0.366802\n",
       "13   50  6.000570      0.366812\n",
       "9    50  6.000000      0.367809\n",
       "17   50  6.320332      0.369473\n",
       "10   50  6.320000      0.369748\n",
       "7     0  6.311974      0.373799\n",
       "1     0  6.320000      0.373799\n",
       "8     0  6.320332      0.373799\n",
       "5     0  6.008928      0.373799\n",
       "4     0  6.000570      0.373799\n",
       "3     0  6.017286      0.373799\n",
       "2     0  6.160000      0.373799\n",
       "0     0  6.000000      0.373799\n",
       "6     0  6.328690      0.373799\n",
       "11   50  6.160000      0.377012\n",
       "20  150  6.160000      0.395673\n",
       "29  200  6.160000      0.401031"
      ]
     },
     "execution_count": 144,
     "metadata": {},
     "output_type": "execute_result"
    }
   ],
   "source": [
    "pulse = AnalyticalPulse('1freq_rwa', T, nt,\n",
    "            parameters={'E0': 0.0, 'T': T, 'w_L': wd, 'w_d': wd},\n",
    "            t0=0.0, time_unit='ns', ampl_unit='MHz', freq_unit='MHz', mode=\"complex\")\n",
    "systematic_variation(rf, pulse, vary=OrderedDict([\n",
    "            ('E0', [0.0, 50, 150, 200]), \n",
    "            ('w_L', [w1, w2, 0.5*(w1+w2),  \n",
    "                     w1_dressed0, w1_dressed1, 0.5*(w1_dressed0+w1_dressed1),\n",
    "                     w2_dressed0, w2_dressed1, 0.5*(w2_dressed0+w2_dressed1)])]),\n",
    "            fig_of_merit=F_avg_H_right, n_procs=40)"
   ]
  },
  {
   "cell_type": "code",
   "execution_count": 145,
   "metadata": {
    "collapsed": true
   },
   "outputs": [],
   "source": [
    "pulse = AnalyticalPulse('1freq_rwa', T, nt,\n",
    "            parameters={'E0': 200.0, 'T': T, 'w_L': 6.160000, 'w_d': 6.160000},\n",
    "            t0=0.0, time_unit='ns', ampl_unit='MHz', freq_unit='MHz', mode=\"complex\")\n",
    "pulse.write(join(rf, 'pulse_guess.json'))"
   ]
  },
  {
   "cell_type": "code",
   "execution_count": 146,
   "metadata": {
    "collapsed": false
   },
   "outputs": [
    {
     "name": "stdout",
     "output_type": "stream",
     "text": [
      "Concurrence: 0.855990\n",
      "Loss: 0.005123\n"
     ]
    }
   ],
   "source": [
    "U_guess = propagate(rf, 'pulse_guess.json', rwa=True, force=True)\n",
    "print(\"Concurrence: %f\" % U_guess.closest_unitary().concurrence())\n",
    "print(\"Loss: %f\" % U_guess.pop_loss())"
   ]
  },
  {
   "cell_type": "code",
   "execution_count": 147,
   "metadata": {
    "collapsed": false
   },
   "outputs": [
    {
     "data": {
      "text/plain": [
       "0.40103092217036956"
      ]
     },
     "execution_count": 147,
     "metadata": {},
     "output_type": "execute_result"
    }
   ],
   "source": [
    "U_guess.F_avg(H_right)"
   ]
  },
  {
   "cell_type": "code",
   "execution_count": 148,
   "metadata": {
    "collapsed": false
   },
   "outputs": [],
   "source": [
    "proc4 = system(\"./run_oct.py --rwa --pre-simplex='pulse_guess.json' {rf}\".format(rf=rf))"
   ]
  },
  {
   "cell_type": "code",
   "execution_count": 149,
   "metadata": {
    "collapsed": false
   },
   "outputs": [
    {
     "data": {
      "text/plain": [
       "<Process(Process-567, started)>"
      ]
     },
     "execution_count": 149,
     "metadata": {},
     "output_type": "execute_result"
    }
   ],
   "source": [
    "proc4"
   ]
  },
  {
   "cell_type": "code",
   "execution_count": null,
   "metadata": {
    "collapsed": true
   },
   "outputs": [],
   "source": [
    "proc4.join();"
   ]
  },
  {
   "cell_type": "code",
   "execution_count": null,
   "metadata": {
    "collapsed": false
   },
   "outputs": [],
   "source": [
    "U = propagate(rf, 'pulse.dat', rwa=True, force=True);\n",
    "! tail {rf}/oct_iters.dat | cut -b 1-80"
   ]
  },
  {
   "cell_type": "code",
   "execution_count": null,
   "metadata": {
    "collapsed": false
   },
   "outputs": [],
   "source": [
    "U.concurrence() - U_guess.concurrence()"
   ]
  },
  {
   "cell_type": "code",
   "execution_count": null,
   "metadata": {
    "collapsed": true
   },
   "outputs": [],
   "source": [
    "U.F_avg(H_right)"
   ]
  }
 ],
 "metadata": {
  "kernelspec": {
   "display_name": "Python 2",
   "language": "python",
   "name": "python2"
  },
  "language_info": {
   "codemirror_mode": {
    "name": "ipython",
    "version": 2
   },
   "file_extension": ".py",
   "mimetype": "text/x-python",
   "name": "python",
   "nbconvert_exporter": "python",
   "pygments_lexer": "ipython2",
   "version": "2.7.11"
  },
  "toc": {
   "toc_cell": false,
   "toc_number_sections": true,
   "toc_threshold": 6,
   "toc_window_display": true
  }
 },
 "nbformat": 4,
 "nbformat_minor": 0
}
