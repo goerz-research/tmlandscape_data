{
 "cells": [
  {
   "cell_type": "markdown",
   "metadata": {
    "heading_collapsed": false,
    "level": 1
   },
   "source": [
    "# Complex Phase of optimized pulses in the RWA"
   ]
  },
  {
   "cell_type": "code",
   "execution_count": 1,
   "metadata": {
    "collapsed": true,
    "level": 7
   },
   "outputs": [],
   "source": [
    "import sympy as sp\n",
    "from sympy import sin, cos, atan2, Function"
   ]
  },
  {
   "cell_type": "code",
   "execution_count": 2,
   "metadata": {
    "collapsed": true,
    "level": 7
   },
   "outputs": [],
   "source": [
    "sp.init_printing()"
   ]
  },
  {
   "cell_type": "code",
   "execution_count": 3,
   "metadata": {
    "collapsed": false,
    "level": 7
   },
   "outputs": [],
   "source": [
    "t = sp.symbols('t', real=True)"
   ]
  },
  {
   "cell_type": "markdown",
   "metadata": {
    "heading_collapsed": false,
    "level": 2
   },
   "source": [
    "## Two time-independent frequencies"
   ]
  },
  {
   "cell_type": "code",
   "execution_count": 4,
   "metadata": {
    "collapsed": false,
    "level": 7
   },
   "outputs": [],
   "source": [
    "phi1, phi2 = sp.symbols('phi_1, phi_2', real=True)"
   ]
  },
  {
   "cell_type": "code",
   "execution_count": 5,
   "metadata": {
    "collapsed": true,
    "level": 7
   },
   "outputs": [],
   "source": [
    "phi = atan2(sin(phi1*t)+sin(phi2*t), cos(phi1*t)+cos(phi2*t))"
   ]
  },
  {
   "cell_type": "code",
   "execution_count": 6,
   "metadata": {
    "collapsed": false,
    "level": 7
   },
   "outputs": [
    {
     "data": {
      "image/png": "[encoded data removed]",
      "text/latex": [
       "$$\\operatorname{atan_{2}}{\\left (\\sin{\\left (\\phi_{1} t \\right )} + \\sin{\\left (\\phi_{2} t \\right )},\\cos{\\left (\\phi_{1} t \\right )} + \\cos{\\left (\\phi_{2} t \\right )} \\right )}$$"
      ],
      "text/plain": [
       "atan2(sin(φ₁⋅t) + sin(φ₂⋅t), cos(φ₁⋅t) + cos(φ₂⋅t))"
      ]
     },
     "execution_count": 6,
     "metadata": {},
     "output_type": "execute_result"
    }
   ],
   "source": [
    "sp.trigsimp(phi)"
   ]
  },
  {
   "cell_type": "code",
   "execution_count": 7,
   "metadata": {
    "collapsed": false,
    "level": 7
   },
   "outputs": [
    {
     "data": {
      "image/png": "[encoded data removed]",
      "text/latex": [
       "$$\\frac{\\left(- \\phi_{1} \\sin{\\left (\\phi_{1} t \\right )} - \\phi_{2} \\sin{\\left (\\phi_{2} t \\right )}\\right) \\left(- \\sin{\\left (\\phi_{1} t \\right )} - \\sin{\\left (\\phi_{2} t \\right )}\\right)}{\\left(\\sin{\\left (\\phi_{1} t \\right )} + \\sin{\\left (\\phi_{2} t \\right )}\\right)^{2} + \\left(\\cos{\\left (\\phi_{1} t \\right )} + \\cos{\\left (\\phi_{2} t \\right )}\\right)^{2}} + \\frac{\\left(\\phi_{1} \\cos{\\left (\\phi_{1} t \\right )} + \\phi_{2} \\cos{\\left (\\phi_{2} t \\right )}\\right) \\left(\\cos{\\left (\\phi_{1} t \\right )} + \\cos{\\left (\\phi_{2} t \\right )}\\right)}{\\left(\\sin{\\left (\\phi_{1} t \\right )} + \\sin{\\left (\\phi_{2} t \\right )}\\right)^{2} + \\left(\\cos{\\left (\\phi_{1} t \\right )} + \\cos{\\left (\\phi_{2} t \\right )}\\right)^{2}}$$"
      ],
      "text/plain": [
       "(-φ₁⋅sin(φ₁⋅t) - φ₂⋅sin(φ₂⋅t))⋅(-sin(φ₁⋅t) - sin(φ₂⋅t))   (φ₁⋅cos(φ₁⋅t) + φ₂⋅c\n",
       "─────────────────────────────────────────────────────── + ────────────────────\n",
       "                         2                          2                         \n",
       "  (sin(φ₁⋅t) + sin(φ₂⋅t))  + (cos(φ₁⋅t) + cos(φ₂⋅t))       (sin(φ₁⋅t) + sin(φ₂\n",
       "\n",
       "os(φ₂⋅t))⋅(cos(φ₁⋅t) + cos(φ₂⋅t))\n",
       "─────────────────────────────────\n",
       "    2                          2 \n",
       "⋅t))  + (cos(φ₁⋅t) + cos(φ₂⋅t))  "
      ]
     },
     "execution_count": 7,
     "metadata": {},
     "output_type": "execute_result"
    }
   ],
   "source": [
    "sp.diff(phi, t)"
   ]
  },
  {
   "cell_type": "code",
   "execution_count": 8,
   "metadata": {
    "collapsed": false,
    "level": 7
   },
   "outputs": [
    {
     "data": {
      "image/png": "[encoded data removed]",
      "text/latex": [
       "$$\\frac{\\phi_{1}}{2} + \\frac{\\phi_{2}}{2}$$"
      ],
      "text/plain": [
       "φ₁   φ₂\n",
       "── + ──\n",
       "2    2 "
      ]
     },
     "execution_count": 8,
     "metadata": {},
     "output_type": "execute_result"
    }
   ],
   "source": [
    "sp.trigsimp(sp.diff(phi, t))"
   ]
  },
  {
   "cell_type": "code",
   "execution_count": null,
   "metadata": {
    "collapsed": true,
    "level": 7
   },
   "outputs": [],
   "source": []
  },
  {
   "cell_type": "markdown",
   "metadata": {
    "heading_collapsed": false,
    "level": 2
   },
   "source": [
    "## Two time-dependent frequencies"
   ]
  },
  {
   "cell_type": "code",
   "execution_count": 9,
   "metadata": {
    "collapsed": false,
    "level": 7
   },
   "outputs": [],
   "source": [
    "phi1, phi2 = sp.symbols('phi_1, phi_2', cls=Function, real=True)"
   ]
  },
  {
   "cell_type": "code",
   "execution_count": 10,
   "metadata": {
    "collapsed": true,
    "level": 7
   },
   "outputs": [],
   "source": [
    "phi = atan2(sin(phi1(t)*t)+sin(phi2(t)*t), cos(phi1(t)*t)+cos(phi2(t)*t))"
   ]
  },
  {
   "cell_type": "code",
   "execution_count": 11,
   "metadata": {
    "collapsed": false,
    "level": 7
   },
   "outputs": [
    {
     "data": {
      "image/png": "[encoded data removed]",
      "text/latex": [
       "$$\\operatorname{atan_{2}}{\\left (\\sin{\\left (t \\phi_{1}{\\left (t \\right )} \\right )} + \\sin{\\left (t \\phi_{2}{\\left (t \\right )} \\right )},\\cos{\\left (t \\phi_{1}{\\left (t \\right )} \\right )} + \\cos{\\left (t \\phi_{2}{\\left (t \\right )} \\right )} \\right )}$$"
      ],
      "text/plain": [
       "atan2(sin(t⋅φ₁(t)) + sin(t⋅φ₂(t)), cos(t⋅φ₁(t)) + cos(t⋅φ₂(t)))"
      ]
     },
     "execution_count": 11,
     "metadata": {},
     "output_type": "execute_result"
    }
   ],
   "source": [
    "sp.trigsimp(phi)"
   ]
  },
  {
   "cell_type": "code",
   "execution_count": 12,
   "metadata": {
    "collapsed": false,
    "level": 7
   },
   "outputs": [
    {
     "data": {
      "image/png": "[encoded data removed]",
      "text/latex": [
       "$$\\frac{\\left(- \\left(t \\frac{d}{d t} \\phi_{1}{\\left (t \\right )} + \\phi_{1}{\\left (t \\right )}\\right) \\sin{\\left (t \\phi_{1}{\\left (t \\right )} \\right )} - \\left(t \\frac{d}{d t} \\phi_{2}{\\left (t \\right )} + \\phi_{2}{\\left (t \\right )}\\right) \\sin{\\left (t \\phi_{2}{\\left (t \\right )} \\right )}\\right) \\left(- \\sin{\\left (t \\phi_{1}{\\left (t \\right )} \\right )} - \\sin{\\left (t \\phi_{2}{\\left (t \\right )} \\right )}\\right)}{\\left(\\sin{\\left (t \\phi_{1}{\\left (t \\right )} \\right )} + \\sin{\\left (t \\phi_{2}{\\left (t \\right )} \\right )}\\right)^{2} + \\left(\\cos{\\left (t \\phi_{1}{\\left (t \\right )} \\right )} + \\cos{\\left (t \\phi_{2}{\\left (t \\right )} \\right )}\\right)^{2}} + \\frac{\\left(\\left(t \\frac{d}{d t} \\phi_{1}{\\left (t \\right )} + \\phi_{1}{\\left (t \\right )}\\right) \\cos{\\left (t \\phi_{1}{\\left (t \\right )} \\right )} + \\left(t \\frac{d}{d t} \\phi_{2}{\\left (t \\right )} + \\phi_{2}{\\left (t \\right )}\\right) \\cos{\\left (t \\phi_{2}{\\left (t \\right )} \\right )}\\right) \\left(\\cos{\\left (t \\phi_{1}{\\left (t \\right )} \\right )} + \\cos{\\left (t \\phi_{2}{\\left (t \\right )} \\right )}\\right)}{\\left(\\sin{\\left (t \\phi_{1}{\\left (t \\right )} \\right )} + \\sin{\\left (t \\phi_{2}{\\left (t \\right )} \\right )}\\right)^{2} + \\left(\\cos{\\left (t \\phi_{1}{\\left (t \\right )} \\right )} + \\cos{\\left (t \\phi_{2}{\\left (t \\right )} \\right )}\\right)^{2}}$$"
      ],
      "text/plain": [
       "⎛  ⎛  d                ⎞                ⎛  d                ⎞             ⎞   \n",
       "⎜- ⎜t⋅──(φ₁(t)) + φ₁(t)⎟⋅sin(t⋅φ₁(t)) - ⎜t⋅──(φ₂(t)) + φ₂(t)⎟⋅sin(t⋅φ₂(t))⎟⋅(-\n",
       "⎝  ⎝  dt               ⎠                ⎝  dt               ⎠             ⎠   \n",
       "──────────────────────────────────────────────────────────────────────────────\n",
       "                                                  2                           \n",
       "                     (sin(t⋅φ₁(t)) + sin(t⋅φ₂(t)))  + (cos(t⋅φ₁(t)) + cos(t⋅φ₂\n",
       "\n",
       "                               ⎛⎛  d                ⎞                ⎛  d     \n",
       "sin(t⋅φ₁(t)) - sin(t⋅φ₂(t)))   ⎜⎜t⋅──(φ₁(t)) + φ₁(t)⎟⋅cos(t⋅φ₁(t)) + ⎜t⋅──(φ₂(\n",
       "                               ⎝⎝  dt               ⎠                ⎝  dt    \n",
       "──────────────────────────── + ───────────────────────────────────────────────\n",
       "     2                                                                        \n",
       "(t)))                                              (sin(t⋅φ₁(t)) + sin(t⋅φ₂(t)\n",
       "\n",
       "           ⎞             ⎞                              \n",
       "t)) + φ₂(t)⎟⋅cos(t⋅φ₂(t))⎟⋅(cos(t⋅φ₁(t)) + cos(t⋅φ₂(t)))\n",
       "           ⎠             ⎠                              \n",
       "────────────────────────────────────────────────────────\n",
       "  2                                2                    \n",
       "))  + (cos(t⋅φ₁(t)) + cos(t⋅φ₂(t)))                     "
      ]
     },
     "execution_count": 12,
     "metadata": {},
     "output_type": "execute_result"
    }
   ],
   "source": [
    "sp.diff(phi, t)"
   ]
  },
  {
   "cell_type": "code",
   "execution_count": 13,
   "metadata": {
    "collapsed": false,
    "level": 7
   },
   "outputs": [
    {
     "data": {
      "image/png": "[encoded data removed]",
      "text/latex": [
       "$$\\frac{t}{2} \\frac{d}{d t} \\phi_{1}{\\left (t \\right )} + \\frac{t}{2} \\frac{d}{d t} \\phi_{2}{\\left (t \\right )} + \\frac{1}{2} \\phi_{1}{\\left (t \\right )} + \\frac{1}{2} \\phi_{2}{\\left (t \\right )}$$"
      ],
      "text/plain": [
       "  d             d                        \n",
       "t⋅──(φ₁(t))   t⋅──(φ₂(t))                \n",
       "  dt            dt          φ₁(t)   φ₂(t)\n",
       "─────────── + ─────────── + ───── + ─────\n",
       "     2             2          2       2  "
      ]
     },
     "execution_count": 13,
     "metadata": {},
     "output_type": "execute_result"
    }
   ],
   "source": [
    "sp.trigsimp(sp.diff(phi, t))"
   ]
  },
  {
   "cell_type": "code",
   "execution_count": null,
   "metadata": {
    "collapsed": true,
    "level": 7
   },
   "outputs": [],
   "source": []
  },
  {
   "cell_type": "markdown",
   "metadata": {
    "heading_collapsed": false,
    "level": 2
   },
   "source": [
    "## Three time-independent frequencies"
   ]
  },
  {
   "cell_type": "code",
   "execution_count": 30,
   "metadata": {
    "collapsed": false,
    "level": 7
   },
   "outputs": [],
   "source": [
    "phi1, phi2, phi3 = sp.symbols('phi_1, phi_2, phi_3', real=True)"
   ]
  },
  {
   "cell_type": "code",
   "execution_count": 31,
   "metadata": {
    "collapsed": true,
    "level": 7
   },
   "outputs": [],
   "source": [
    "phi = atan2(sin(phi1*t)+sin(phi2*t)+sin(phi3*t),\n",
    "            cos(phi1*t)+cos(phi2*t)+cos(phi3*t))"
   ]
  },
  {
   "cell_type": "code",
   "execution_count": 32,
   "metadata": {
    "collapsed": false,
    "level": 7
   },
   "outputs": [
    {
     "data": {
      "image/png": "[encoded data removed]",
      "text/latex": [
       "$$\\operatorname{atan_{2}}{\\left (\\sin{\\left (\\phi_{1} t \\right )} + \\sin{\\left (\\phi_{2} t \\right )} + \\sin{\\left (\\phi_{3} t \\right )},\\cos{\\left (\\phi_{1} t \\right )} + \\cos{\\left (\\phi_{2} t \\right )} + \\cos{\\left (\\phi_{3} t \\right )} \\right )}$$"
      ],
      "text/plain": [
       "atan2(sin(φ₁⋅t) + sin(φ₂⋅t) + sin(φ₃⋅t), cos(φ₁⋅t) + cos(φ₂⋅t) + cos(φ₃⋅t))"
      ]
     },
     "execution_count": 32,
     "metadata": {},
     "output_type": "execute_result"
    }
   ],
   "source": [
    "sp.trigsimp(phi)"
   ]
  },
  {
   "cell_type": "code",
   "execution_count": 33,
   "metadata": {
    "collapsed": false,
    "level": 7
   },
   "outputs": [
    {
     "data": {
      "image/png": "[encoded data removed]",
      "text/latex": [
       "$$\\frac{\\left(- \\phi_{1} \\sin{\\left (\\phi_{1} t \\right )} - \\phi_{2} \\sin{\\left (\\phi_{2} t \\right )} - \\phi_{3} \\sin{\\left (\\phi_{3} t \\right )}\\right) \\left(- \\sin{\\left (\\phi_{1} t \\right )} - \\sin{\\left (\\phi_{2} t \\right )} - \\sin{\\left (\\phi_{3} t \\right )}\\right)}{\\left(\\sin{\\left (\\phi_{1} t \\right )} + \\sin{\\left (\\phi_{2} t \\right )} + \\sin{\\left (\\phi_{3} t \\right )}\\right)^{2} + \\left(\\cos{\\left (\\phi_{1} t \\right )} + \\cos{\\left (\\phi_{2} t \\right )} + \\cos{\\left (\\phi_{3} t \\right )}\\right)^{2}} + \\frac{\\left(\\phi_{1} \\cos{\\left (\\phi_{1} t \\right )} + \\phi_{2} \\cos{\\left (\\phi_{2} t \\right )} + \\phi_{3} \\cos{\\left (\\phi_{3} t \\right )}\\right) \\left(\\cos{\\left (\\phi_{1} t \\right )} + \\cos{\\left (\\phi_{2} t \\right )} + \\cos{\\left (\\phi_{3} t \\right )}\\right)}{\\left(\\sin{\\left (\\phi_{1} t \\right )} + \\sin{\\left (\\phi_{2} t \\right )} + \\sin{\\left (\\phi_{3} t \\right )}\\right)^{2} + \\left(\\cos{\\left (\\phi_{1} t \\right )} + \\cos{\\left (\\phi_{2} t \\right )} + \\cos{\\left (\\phi_{3} t \\right )}\\right)^{2}}$$"
      ],
      "text/plain": [
       "(-φ₁⋅sin(φ₁⋅t) - φ₂⋅sin(φ₂⋅t) - φ₃⋅sin(φ₃⋅t))⋅(-sin(φ₁⋅t) - sin(φ₂⋅t) - sin(φ₃\n",
       "──────────────────────────────────────────────────────────────────────────────\n",
       "                                      2                                      2\n",
       "   (sin(φ₁⋅t) + sin(φ₂⋅t) + sin(φ₃⋅t))  + (cos(φ₁⋅t) + cos(φ₂⋅t) + cos(φ₃⋅t)) \n",
       "\n",
       "⋅t))   (φ₁⋅cos(φ₁⋅t) + φ₂⋅cos(φ₂⋅t) + φ₃⋅cos(φ₃⋅t))⋅(cos(φ₁⋅t) + cos(φ₂⋅t) + c\n",
       "──── + ───────────────────────────────────────────────────────────────────────\n",
       "                                            2                                 \n",
       "         (sin(φ₁⋅t) + sin(φ₂⋅t) + sin(φ₃⋅t))  + (cos(φ₁⋅t) + cos(φ₂⋅t) + cos(φ\n",
       "\n",
       "os(φ₃⋅t))\n",
       "─────────\n",
       "     2   \n",
       "₃⋅t))    "
      ]
     },
     "execution_count": 33,
     "metadata": {},
     "output_type": "execute_result"
    }
   ],
   "source": [
    "sp.diff(phi, t)"
   ]
  },
  {
   "cell_type": "code",
   "execution_count": 34,
   "metadata": {
    "collapsed": false,
    "level": 7
   },
   "outputs": [
    {
     "data": {
      "image/png": "[encoded data removed]",
      "text/latex": [
       "$$\\frac{1}{2 \\cos{\\left (t \\left(\\phi_{1} - \\phi_{2}\\right) \\right )} + 2 \\cos{\\left (t \\left(\\phi_{1} - \\phi_{3}\\right) \\right )} + 2 \\cos{\\left (t \\left(\\phi_{2} - \\phi_{3}\\right) \\right )} + 3} \\left(\\phi_{1} \\cos{\\left (t \\left(\\phi_{1} - \\phi_{2}\\right) \\right )} + \\phi_{1} \\cos{\\left (t \\left(\\phi_{1} - \\phi_{3}\\right) \\right )} + \\phi_{1} + \\phi_{2} \\cos{\\left (t \\left(\\phi_{1} - \\phi_{2}\\right) \\right )} + \\phi_{2} \\cos{\\left (t \\left(\\phi_{2} - \\phi_{3}\\right) \\right )} + \\phi_{2} + \\phi_{3} \\cos{\\left (t \\left(\\phi_{1} - \\phi_{3}\\right) \\right )} + \\phi_{3} \\cos{\\left (t \\left(\\phi_{2} - \\phi_{3}\\right) \\right )} + \\phi_{3}\\right)$$"
      ],
      "text/plain": [
       "φ₁⋅cos(t⋅(φ₁ - φ₂)) + φ₁⋅cos(t⋅(φ₁ - φ₃)) + φ₁ + φ₂⋅cos(t⋅(φ₁ - φ₂)) + φ₂⋅cos(\n",
       "──────────────────────────────────────────────────────────────────────────────\n",
       "                                        2⋅cos(t⋅(φ₁ - φ₂)) + 2⋅cos(t⋅(φ₁ - φ₃)\n",
       "\n",
       "t⋅(φ₂ - φ₃)) + φ₂ + φ₃⋅cos(t⋅(φ₁ - φ₃)) + φ₃⋅cos(t⋅(φ₂ - φ₃)) + φ₃\n",
       "──────────────────────────────────────────────────────────────────\n",
       ") + 2⋅cos(t⋅(φ₂ - φ₃)) + 3                                        "
      ]
     },
     "execution_count": 34,
     "metadata": {},
     "output_type": "execute_result"
    }
   ],
   "source": [
    "sp.trigsimp(sp.diff(phi, t))"
   ]
  },
  {
   "cell_type": "markdown",
   "metadata": {
    "heading_collapsed": false,
    "level": 2
   },
   "source": [
    "## Three time-dependent frequencies"
   ]
  },
  {
   "cell_type": "code",
   "execution_count": 19,
   "metadata": {
    "collapsed": false,
    "level": 7
   },
   "outputs": [],
   "source": [
    "phi1, phi2, phi3 = sp.symbols('phi_1, phi_2, phi_3', cls=Function, real=True)"
   ]
  },
  {
   "cell_type": "code",
   "execution_count": 20,
   "metadata": {
    "collapsed": true,
    "level": 7
   },
   "outputs": [],
   "source": [
    "phi = atan2(sin(phi1(t)*t)+sin(phi2(t)*t)+sin(phi3(t)*t),\n",
    "            cos(phi1(t)*t)+cos(phi2(t)*t)+cos(phi3(t)*t))"
   ]
  },
  {
   "cell_type": "code",
   "execution_count": 21,
   "metadata": {
    "collapsed": false,
    "level": 7
   },
   "outputs": [
    {
     "data": {
      "image/png": "[encoded data removed]",
      "text/latex": [
       "$$\\operatorname{atan_{2}}{\\left (\\sin{\\left (t \\phi_{1}{\\left (t \\right )} \\right )} + \\sin{\\left (t \\phi_{2}{\\left (t \\right )} \\right )} + \\sin{\\left (t \\phi_{3}{\\left (t \\right )} \\right )},\\cos{\\left (t \\phi_{1}{\\left (t \\right )} \\right )} + \\cos{\\left (t \\phi_{2}{\\left (t \\right )} \\right )} + \\cos{\\left (t \\phi_{3}{\\left (t \\right )} \\right )} \\right )}$$"
      ],
      "text/plain": [
       "atan2(sin(t⋅φ₁(t)) + sin(t⋅φ₂(t)) + sin(t⋅φ₃(t)), cos(t⋅φ₁(t)) + cos(t⋅φ₂(t)) \n",
       "+ cos(t⋅φ₃(t)))"
      ]
     },
     "execution_count": 21,
     "metadata": {},
     "output_type": "execute_result"
    }
   ],
   "source": [
    "sp.trigsimp(phi)"
   ]
  },
  {
   "cell_type": "code",
   "execution_count": 22,
   "metadata": {
    "collapsed": false,
    "level": 7
   },
   "outputs": [
    {
     "data": {
      "image/png": "[encoded data removed]",
      "text/latex": [
       "$$\\frac{\\left(- \\left(t \\frac{d}{d t} \\phi_{1}{\\left (t \\right )} + \\phi_{1}{\\left (t \\right )}\\right) \\sin{\\left (t \\phi_{1}{\\left (t \\right )} \\right )} - \\left(t \\frac{d}{d t} \\phi_{2}{\\left (t \\right )} + \\phi_{2}{\\left (t \\right )}\\right) \\sin{\\left (t \\phi_{2}{\\left (t \\right )} \\right )} - \\left(t \\frac{d}{d t} \\phi_{3}{\\left (t \\right )} + \\phi_{3}{\\left (t \\right )}\\right) \\sin{\\left (t \\phi_{3}{\\left (t \\right )} \\right )}\\right) \\left(- \\sin{\\left (t \\phi_{1}{\\left (t \\right )} \\right )} - \\sin{\\left (t \\phi_{2}{\\left (t \\right )} \\right )} - \\sin{\\left (t \\phi_{3}{\\left (t \\right )} \\right )}\\right)}{\\left(\\sin{\\left (t \\phi_{1}{\\left (t \\right )} \\right )} + \\sin{\\left (t \\phi_{2}{\\left (t \\right )} \\right )} + \\sin{\\left (t \\phi_{3}{\\left (t \\right )} \\right )}\\right)^{2} + \\left(\\cos{\\left (t \\phi_{1}{\\left (t \\right )} \\right )} + \\cos{\\left (t \\phi_{2}{\\left (t \\right )} \\right )} + \\cos{\\left (t \\phi_{3}{\\left (t \\right )} \\right )}\\right)^{2}} + \\frac{\\left(\\left(t \\frac{d}{d t} \\phi_{1}{\\left (t \\right )} + \\phi_{1}{\\left (t \\right )}\\right) \\cos{\\left (t \\phi_{1}{\\left (t \\right )} \\right )} + \\left(t \\frac{d}{d t} \\phi_{2}{\\left (t \\right )} + \\phi_{2}{\\left (t \\right )}\\right) \\cos{\\left (t \\phi_{2}{\\left (t \\right )} \\right )} + \\left(t \\frac{d}{d t} \\phi_{3}{\\left (t \\right )} + \\phi_{3}{\\left (t \\right )}\\right) \\cos{\\left (t \\phi_{3}{\\left (t \\right )} \\right )}\\right) \\left(\\cos{\\left (t \\phi_{1}{\\left (t \\right )} \\right )} + \\cos{\\left (t \\phi_{2}{\\left (t \\right )} \\right )} + \\cos{\\left (t \\phi_{3}{\\left (t \\right )} \\right )}\\right)}{\\left(\\sin{\\left (t \\phi_{1}{\\left (t \\right )} \\right )} + \\sin{\\left (t \\phi_{2}{\\left (t \\right )} \\right )} + \\sin{\\left (t \\phi_{3}{\\left (t \\right )} \\right )}\\right)^{2} + \\left(\\cos{\\left (t \\phi_{1}{\\left (t \\right )} \\right )} + \\cos{\\left (t \\phi_{2}{\\left (t \\right )} \\right )} + \\cos{\\left (t \\phi_{3}{\\left (t \\right )} \\right )}\\right)^{2}}$$"
      ],
      "text/plain": [
       "⎛  ⎛  d                ⎞                ⎛  d                ⎞                ⎛\n",
       "⎜- ⎜t⋅──(φ₁(t)) + φ₁(t)⎟⋅sin(t⋅φ₁(t)) - ⎜t⋅──(φ₂(t)) + φ₂(t)⎟⋅sin(t⋅φ₂(t)) - ⎜\n",
       "⎝  ⎝  dt               ⎠                ⎝  dt               ⎠                ⎝\n",
       "──────────────────────────────────────────────────────────────────────────────\n",
       "                                                                            2 \n",
       "                                (sin(t⋅φ₁(t)) + sin(t⋅φ₂(t)) + sin(t⋅φ₃(t)))  \n",
       "\n",
       "  d                ⎞             ⎞                                            \n",
       "t⋅──(φ₃(t)) + φ₃(t)⎟⋅sin(t⋅φ₃(t))⎟⋅(-sin(t⋅φ₁(t)) - sin(t⋅φ₂(t)) - sin(t⋅φ₃(t)\n",
       "  dt               ⎠             ⎠                                            \n",
       "──────────────────────────────────────────────────────────────────────────────\n",
       "                                              2                               \n",
       "+ (cos(t⋅φ₁(t)) + cos(t⋅φ₂(t)) + cos(t⋅φ₃(t)))                                \n",
       "\n",
       "     ⎛⎛  d                ⎞                ⎛  d                ⎞              \n",
       "))   ⎜⎜t⋅──(φ₁(t)) + φ₁(t)⎟⋅cos(t⋅φ₁(t)) + ⎜t⋅──(φ₂(t)) + φ₂(t)⎟⋅cos(t⋅φ₂(t)) \n",
       "     ⎝⎝  dt               ⎠                ⎝  dt               ⎠              \n",
       "── + ─────────────────────────────────────────────────────────────────────────\n",
       "                                                                              \n",
       "                                    (sin(t⋅φ₁(t)) + sin(t⋅φ₂(t)) + sin(t⋅φ₃(t)\n",
       "\n",
       "  ⎛  d                ⎞             ⎞                                         \n",
       "+ ⎜t⋅──(φ₃(t)) + φ₃(t)⎟⋅cos(t⋅φ₃(t))⎟⋅(cos(t⋅φ₁(t)) + cos(t⋅φ₂(t)) + cos(t⋅φ₃(\n",
       "  ⎝  dt               ⎠             ⎠                                         \n",
       "──────────────────────────────────────────────────────────────────────────────\n",
       "  2                                               2                           \n",
       "))  + (cos(t⋅φ₁(t)) + cos(t⋅φ₂(t)) + cos(t⋅φ₃(t)))                            \n",
       "\n",
       "    \n",
       "t)))\n",
       "    \n",
       "────\n",
       "    \n",
       "    "
      ]
     },
     "execution_count": 22,
     "metadata": {},
     "output_type": "execute_result"
    }
   ],
   "source": [
    "sp.diff(phi, t)"
   ]
  },
  {
   "cell_type": "code",
   "execution_count": 23,
   "metadata": {
    "collapsed": false,
    "level": 7
   },
   "outputs": [
    {
     "data": {
      "image/png": "[encoded data removed]",
      "text/latex": [
       "$$\\frac{1}{2 \\cos{\\left (t \\left(\\phi_{1}{\\left (t \\right )} - \\phi_{2}{\\left (t \\right )}\\right) \\right )} + 2 \\cos{\\left (t \\left(\\phi_{1}{\\left (t \\right )} - \\phi_{3}{\\left (t \\right )}\\right) \\right )} + 2 \\cos{\\left (t \\left(\\phi_{2}{\\left (t \\right )} - \\phi_{3}{\\left (t \\right )}\\right) \\right )} + 3} \\left(t \\cos{\\left (t \\left(\\phi_{1}{\\left (t \\right )} - \\phi_{2}{\\left (t \\right )}\\right) \\right )} \\frac{d}{d t} \\phi_{1}{\\left (t \\right )} + t \\cos{\\left (t \\left(\\phi_{1}{\\left (t \\right )} - \\phi_{2}{\\left (t \\right )}\\right) \\right )} \\frac{d}{d t} \\phi_{2}{\\left (t \\right )} + t \\cos{\\left (t \\left(\\phi_{1}{\\left (t \\right )} - \\phi_{3}{\\left (t \\right )}\\right) \\right )} \\frac{d}{d t} \\phi_{1}{\\left (t \\right )} + t \\cos{\\left (t \\left(\\phi_{1}{\\left (t \\right )} - \\phi_{3}{\\left (t \\right )}\\right) \\right )} \\frac{d}{d t} \\phi_{3}{\\left (t \\right )} + t \\cos{\\left (t \\left(\\phi_{2}{\\left (t \\right )} - \\phi_{3}{\\left (t \\right )}\\right) \\right )} \\frac{d}{d t} \\phi_{2}{\\left (t \\right )} + t \\cos{\\left (t \\left(\\phi_{2}{\\left (t \\right )} - \\phi_{3}{\\left (t \\right )}\\right) \\right )} \\frac{d}{d t} \\phi_{3}{\\left (t \\right )} + t \\frac{d}{d t} \\phi_{1}{\\left (t \\right )} + t \\frac{d}{d t} \\phi_{2}{\\left (t \\right )} + t \\frac{d}{d t} \\phi_{3}{\\left (t \\right )} + \\phi_{1}{\\left (t \\right )} \\cos{\\left (t \\left(\\phi_{1}{\\left (t \\right )} - \\phi_{2}{\\left (t \\right )}\\right) \\right )} + \\phi_{1}{\\left (t \\right )} \\cos{\\left (t \\left(\\phi_{1}{\\left (t \\right )} - \\phi_{3}{\\left (t \\right )}\\right) \\right )} + \\phi_{1}{\\left (t \\right )} + \\phi_{2}{\\left (t \\right )} \\cos{\\left (t \\left(\\phi_{1}{\\left (t \\right )} - \\phi_{2}{\\left (t \\right )}\\right) \\right )} + \\phi_{2}{\\left (t \\right )} \\cos{\\left (t \\left(\\phi_{2}{\\left (t \\right )} - \\phi_{3}{\\left (t \\right )}\\right) \\right )} + \\phi_{2}{\\left (t \\right )} + \\phi_{3}{\\left (t \\right )} \\cos{\\left (t \\left(\\phi_{1}{\\left (t \\right )} - \\phi_{3}{\\left (t \\right )}\\right) \\right )} + \\phi_{3}{\\left (t \\right )} \\cos{\\left (t \\left(\\phi_{2}{\\left (t \\right )} - \\phi_{3}{\\left (t \\right )}\\right) \\right )} + \\phi_{3}{\\left (t \\right )}\\right)$$"
      ],
      "text/plain": [
       "                         d                                    d               \n",
       "t⋅cos(t⋅(φ₁(t) - φ₂(t)))⋅──(φ₁(t)) + t⋅cos(t⋅(φ₁(t) - φ₂(t)))⋅──(φ₂(t)) + t⋅co\n",
       "                         dt                                   dt              \n",
       "──────────────────────────────────────────────────────────────────────────────\n",
       "                                                                              \n",
       "\n",
       "                     d                                    d                   \n",
       "s(t⋅(φ₁(t) - φ₃(t)))⋅──(φ₁(t)) + t⋅cos(t⋅(φ₁(t) - φ₃(t)))⋅──(φ₃(t)) + t⋅cos(t⋅\n",
       "                     dt                                   dt                  \n",
       "──────────────────────────────────────────────────────────────────────────────\n",
       "                                                                              \n",
       "\n",
       "                 d                                    d             d         \n",
       "(φ₂(t) - φ₃(t)))⋅──(φ₂(t)) + t⋅cos(t⋅(φ₂(t) - φ₃(t)))⋅──(φ₃(t)) + t⋅──(φ₁(t)) \n",
       "                 dt                                   dt            dt        \n",
       "──────────────────────────────────────────────────────────────────────────────\n",
       "                                       2⋅cos(t⋅(φ₁(t) - φ₂(t))) + 2⋅cos(t⋅(φ₁(\n",
       "\n",
       "    d             d                                                           \n",
       "+ t⋅──(φ₂(t)) + t⋅──(φ₃(t)) + φ₁(t)⋅cos(t⋅(φ₁(t) - φ₂(t))) + φ₁(t)⋅cos(t⋅(φ₁(t\n",
       "    dt            dt                                                          \n",
       "──────────────────────────────────────────────────────────────────────────────\n",
       "t) - φ₃(t))) + 2⋅cos(t⋅(φ₂(t) - φ₃(t))) + 3                                   \n",
       "\n",
       "                                                                              \n",
       ") - φ₃(t))) + φ₁(t) + φ₂(t)⋅cos(t⋅(φ₁(t) - φ₂(t))) + φ₂(t)⋅cos(t⋅(φ₂(t) - φ₃(t\n",
       "                                                                              \n",
       "──────────────────────────────────────────────────────────────────────────────\n",
       "                                                                              \n",
       "\n",
       "                                                                              \n",
       "))) + φ₂(t) + φ₃(t)⋅cos(t⋅(φ₁(t) - φ₃(t))) + φ₃(t)⋅cos(t⋅(φ₂(t) - φ₃(t))) + φ₃\n",
       "                                                                              \n",
       "──────────────────────────────────────────────────────────────────────────────\n",
       "                                                                              \n",
       "\n",
       "   \n",
       "(t)\n",
       "   \n",
       "───\n",
       "   "
      ]
     },
     "execution_count": 23,
     "metadata": {},
     "output_type": "execute_result"
    }
   ],
   "source": [
    "sp.trigsimp(sp.diff(phi, t))"
   ]
  }
 ],
 "metadata": {
  "kernelspec": {
   "display_name": "goerz-QNET",
   "language": "python",
   "name": "goerz_qnet"
  },
  "language_info": {
   "codemirror_mode": {
    "name": "ipython",
    "version": 3
   },
   "file_extension": ".py",
   "mimetype": "text/x-python",
   "name": "python",
   "nbconvert_exporter": "python",
   "pygments_lexer": "ipython3",
   "version": "3.4.4"
  },
  "toc": {
   "toc_cell": false,
   "toc_number_sections": true,
   "toc_threshold": 6,
   "toc_window_display": true
  }
 },
 "nbformat": 4,
 "nbformat_minor": 0
}
