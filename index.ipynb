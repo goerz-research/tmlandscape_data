{
 "cells": [
  {
   "cell_type": "markdown",
   "metadata": {},
   "source": [
    "# Constrained Optimization of the Full Transmon Model"
   ]
  },
  {
   "cell_type": "code",
   "execution_count": 1,
   "metadata": {
    "collapsed": false
   },
   "outputs": [],
   "source": [
    "import os\n",
    "from os.path import join\n",
    "import sys\n",
    "import numpy as np\n",
    "import matplotlib.pylab as plt\n",
    "import pandas as pd\n",
    "from mgplottools.mpl import set_axis"
   ]
  },
  {
   "cell_type": "code",
   "execution_count": 2,
   "metadata": {
    "collapsed": true
   },
   "outputs": [],
   "source": [
    "%matplotlib inline"
   ]
  },
  {
   "cell_type": "code",
   "execution_count": 3,
   "metadata": {
    "collapsed": true
   },
   "outputs": [],
   "source": [
    "%reload_ext autoreload\n",
    "%autoreload 2"
   ]
  },
  {
   "cell_type": "markdown",
   "metadata": {},
   "source": [
    "$\\newcommand{\\Op}[1]{\\boldsymbol{\\mathsf{\\hat{#1}}}}$\n",
    "$\\newcommand{\\ket}[1]{\\vert{#1}\\rangle}$\n",
    "$\\newcommand{\\trace}{\\operatorname{tr}}$"
   ]
  },
  {
   "cell_type": "markdown",
   "metadata": {},
   "source": [
    "## Introduction"
   ]
  },
  {
   "cell_type": "markdown",
   "metadata": {},
   "source": [
    "We consider the full Transmon Hamiltonian\n",
    "\\begin{equation}\n",
    "  \\Op{H} = \\sum_{q=1,2} \\left[ \\omega_q \\Op{b}^{\\dagger}_q \\Op{b}_q\n",
    "    + \\frac{\\alpha_q}{2} \\Op{b}^{\\dagger}_q\\Op{b}^{\\dagger}_q\\Op{b}_q\\Op{b}_q\n",
    "    + g_q \\left(\\Op{b}^{\\dagger}_q \\Op{a} + \\Op{b}_q \\Op{a}^{\\dagger} \\right)\n",
    "    \\right]\n",
    "    + \\omega_c \\Op{a}^{\\dagger}\\Op{a}\n",
    "    + \\epsilon(t) \\Op{a} + \\epsilon^{*}(t) \\Op{a}^{\\dagger}\n",
    "\\end{equation}\n",
    "Note that unlike in the optimizations done for KITP in 2013, we do *not* have a static qubit-qubit coupling, outside the effective coupling that is mediated by the cavity"
   ]
  },
  {
   "cell_type": "markdown",
   "metadata": {},
   "source": [
    "Goals:\n",
    "\n",
    "1.  Scan the parameter regime systematically for the point that allows the\n",
    "    easiest implementation of both single- and two-qubit gates. Identify\n",
    "    known gate mechanisms on map. The scan shows:\n",
    "    *   Which parameters yield the fastest gates\n",
    "    *   Which local equivalence classes different qubit parameters lead to\n",
    "    *   Whether there are \"good\" regions in addition to the regions at which known gate mechanism have been implemented (determined by resonance conditions)\n",
    "\n",
    "2.  For select points, determine the quantum speed limit for high fidelity\n",
    "    gates: What are the fastest possible quantum gates with all-microwave control of transmon qubits \n",
    "3.  Include robustness with respect to dissipation, and fluctuations in the\n",
    "    qubit parameters (as a possible future extension)"
   ]
  },
  {
   "cell_type": "markdown",
   "metadata": {},
   "source": [
    "Plan:\n",
    "    \n",
    "*   Scan parameter space.\n",
    "\n",
    "    We choose $\\omega_1$, $\\alpha_1 \\neq \\alpha_2$, $g_1 = g_2$ constant. We vary $\\omega_2$ and $\\omega_c$ (in the RWA) on a grid. At each grid point (set of paremters), we perform the following steps to evaluate the parameters as a candidate:\n",
    "    \n",
    "    *   Set the gate duration to a constant value, starting from $T=200$ ns and the progressively setting it lower\n",
    "    *   Determine a good guess pulse for the optimization towards a perfect entangler, and for the optimization towards a single-qubit gate\n",
    "    *   Perform a Krotov or LBFGS optimization, for PE and for single qubit gates (either LI-optimization for identity, or two optimizations $\\sigma_x^{(1)}$ and $\\sigma_x^{(2)}$.\n",
    "    \n",
    "    The critical step is the determination of a good guess pulse. A possiblity is to generate simple guess pulses based on some randomized parameters, and to perform a few simplex steps in these parameters.\n",
    "    \n",
    "*  Pick several points in the parameter space that yielded the best success. Determin the QSL by optimizing at increasingly smaller values of $T$.\n",
    "    "
   ]
  },
  {
   "cell_type": "markdown",
   "metadata": {},
   "source": [
    "## Environment Setup"
   ]
  },
  {
   "cell_type": "code",
   "execution_count": 5,
   "metadata": {
    "collapsed": false
   },
   "outputs": [
    {
     "name": "stdout",
     "output_type": "stream",
     "text": [
      "Installed version_information.py. To use it, type:\n",
      "  %load_ext version_information\n"
     ]
    },
    {
     "data": {
      "application/json": {
       "Software versions": [
        {
         "module": "Python",
         "version": "2.7.10 64bit [GCC 4.2.1 (Apple Inc. build 5577)]"
        },
        {
         "module": "IPython",
         "version": "3.2.1"
        },
        {
         "module": "OS",
         "version": "Darwin 15.2.0 x86_64 i386 64bit"
        },
        {
         "module": "numpy",
         "version": "1.9.2"
        },
        {
         "module": "matplotlib",
         "version": "1.4.3"
        },
        {
         "module": "pandas",
         "version": "0.16.2"
        },
        {
         "module": "QDYN",
         "version": "0.1.6"
        },
        {
         "module": "QDYNTransmonLib",
         "version": "1.0.3"
        },
        {
         "module": "cd $PREFIX/src/qdyn && git log",
         "version": "commit 28d4b4650ec062f00c8ff11179aa276a5cffa9bc\n"
        },
        {
         "module": "cd $PREFIX/src/transmon_oct && git log",
         "version": "commit 7515584cfa43c00b7482fa419a379e0a9ef606c6\n"
        }
       ]
      },
      "text/html": [
       "<table><tr><th>Software</th><th>Version</th></tr><tr><td>Python</td><td>2.7.10 64bit [GCC 4.2.1 (Apple Inc. build 5577)]</td></tr><tr><td>IPython</td><td>3.2.1</td></tr><tr><td>OS</td><td>Darwin 15.2.0 x86_64 i386 64bit</td></tr><tr><td>numpy</td><td>1.9.2</td></tr><tr><td>matplotlib</td><td>1.4.3</td></tr><tr><td>pandas</td><td>0.16.2</td></tr><tr><td>QDYN</td><td>0.1.6</td></tr><tr><td>QDYNTransmonLib</td><td>1.0.3</td></tr><tr><td>cd $PREFIX/src/qdyn && git log</td><td>commit 28d4b4650ec062f00c8ff11179aa276a5cffa9bc\n",
       "</td></tr><tr><td>cd $PREFIX/src/transmon_oct && git log</td><td>commit 7515584cfa43c00b7482fa419a379e0a9ef606c6\n",
       "</td></tr><tr><td colspan='2'>Wed Jan 06 16:05:58 2016 EST</td></tr></table>"
      ],
      "text/latex": [
       "\\begin{tabular}{|l|l|}\\hline\n",
       "{\\bf Software} & {\\bf Version} \\\\ \\hline\\hline\n",
       "Python & 2.7.10 64bit [GCC 4.2.1 (Apple Inc. build 5577)] \\\\ \\hline\n",
       "IPython & 3.2.1 \\\\ \\hline\n",
       "OS & Darwin 15.2.0 x86\\_64 i386 64bit \\\\ \\hline\n",
       "numpy & 1.9.2 \\\\ \\hline\n",
       "matplotlib & 1.4.3 \\\\ \\hline\n",
       "pandas & 0.16.2 \\\\ \\hline\n",
       "QDYN & 0.1.6 \\\\ \\hline\n",
       "QDYNTransmonLib & 1.0.3 \\\\ \\hline\n",
       "cd $PREFIX/src/qdyn && git log & commit 28d4b4650ec062f00c8ff11179aa276a5cffa9bc\n",
       " \\\\ \\hline\n",
       "cd $PREFIX/src/transmon_oct && git log & commit 7515584cfa43c00b7482fa419a379e0a9ef606c6\n",
       " \\\\ \\hline\n",
       "\\hline \\multicolumn{2}{|l|}{Wed Jan 06 16:05:58 2016 EST} \\\\ \\hline\n",
       "\\end{tabular}\n"
      ],
      "text/plain": [
       "Software versions\n",
       "Python 2.7.10 64bit [GCC 4.2.1 (Apple Inc. build 5577)]\n",
       "IPython 3.2.1\n",
       "OS Darwin 15.2.0 x86_64 i386 64bit\n",
       "numpy 1.9.2\n",
       "matplotlib 1.4.3\n",
       "pandas 0.16.2\n",
       "QDYN 0.1.6\n",
       "QDYNTransmonLib 1.0.3\n",
       "cd $PREFIX/src/qdyn && git log commit 28d4b4650ec062f00c8ff11179aa276a5cffa9bc\n",
       "\n",
       "cd $PREFIX/src/transmon_oct && git log commit 7515584cfa43c00b7482fa419a379e0a9ef606c6\n",
       "\n",
       "Wed Jan 06 16:05:58 2016 EST"
      ]
     },
     "execution_count": 5,
     "metadata": {},
     "output_type": "execute_result"
    }
   ],
   "source": [
    "%install_ext http://raw.github.com/goerz/version_information/master/version_information.py\n",
    "%reload_ext version_information\n",
    "% version_information numpy, matplotlib, pandas, QDYN, QDYNTransmonLib, \"cd $PREFIX/src/qdyn && git log\",  \"cd $PREFIX/src/transmon_oct && git log\""
   ]
  },
  {
   "cell_type": "code",
   "execution_count": 6,
   "metadata": {
    "collapsed": false
   },
   "outputs": [],
   "source": [
    "PREFIX = join(os.getcwd(), 'venv')\n",
    "assert os.path.samefile(join(PREFIX, 'bin'), os.environ['PATH'].split(os.pathsep)[0])"
   ]
  },
  {
   "cell_type": "markdown",
   "metadata": {},
   "source": [
    "Note that in this overview, we will run all jobs on a local cluster (i.e., a slurm cluster running on the same computer as the notebook server. You may change to the AG Koch (Kassel) cluster by modifying the following options:"
   ]
  },
  {
   "cell_type": "code",
   "execution_count": 7,
   "metadata": {
    "collapsed": true
   },
   "outputs": [],
   "source": [
    "cluster_args = '--local --parallel=38 --jobs=1'"
   ]
  },
  {
   "cell_type": "markdown",
   "metadata": {},
   "source": [
    "For for using other clusters, you will manually have to edit the python scripts that run all the stages below."
   ]
  },
  {
   "cell_type": "markdown",
   "metadata": {},
   "source": [
    "## Prerequisites"
   ]
  },
  {
   "cell_type": "markdown",
   "metadata": {
    "collapsed": false
   },
   "source": [
    "*   [Does state-dependent constraint work?](Prereq_Nonherm.ipynb) Yes, but slow convergence\n",
    "*   [Can we ensure a small nq,nc? What sampling rate is sufficient?](Prereq_Cutoff.ipynb) One extra level is sufficient. 100 samples per oscillation is sufficient if we don't claim high precision"
   ]
  },
  {
   "cell_type": "markdown",
   "metadata": {},
   "source": [
    "## Qubit Paramters"
   ]
  },
  {
   "cell_type": "markdown",
   "metadata": {},
   "source": [
    "*   $\\omega_1/2\\pi =$ 6.0 GHz\n",
    "*   $\\omega_2/2\\pi$:  varies\n",
    "*   $\\omega_c/2\\pi$: varies\n",
    "*   $\\alpha_1/2\\pi =$ 290 MHz\n",
    "*   $\\alpha_2/2\\pi =$ 310 MHz\n",
    "*   $g/2\\pi =$ 70 MHz\n",
    "*   $T = $ 200 ns, 100 ns, 50 ns, 20 ns"
   ]
  },
  {
   "cell_type": "markdown",
   "metadata": {},
   "source": [
    "We take into account 4 qubit levels with realistic decay time [Peterer et al, Phys. Rev. Lett. 114, 010501 (2015)], and 5 cavity levels, also with realistic decay [A. W. Cross and J. M. Gambetta, Phys. Rev. A 91 032325 (2015)]. The last level for each qubit and the cavity is \"truncated\" by setting the decay to \"infinity\", as an effective state-dependent constraint.\n",
    "\n",
    "*   cavity decay: $\\kappa = 0.05$ MHz, corresponds to decay time $\\tau_{\\kappa} = 3.2$ microsecond\n",
    "*   qubit decay of level 1: $\\gamma = 0.012$ MHz, corresponds to decay time $\\tau_{\\gamma} = 13.3$ microsecond\n",
    "\n",
    "Decay is modelled by a non-Hermitian Hamiltonian (decay leads to loss of norm)"
   ]
  },
  {
   "cell_type": "markdown",
   "metadata": {},
   "source": [
    "Possible future extension (discussion with F. Motzoi, 6/23/15):\n",
    "*   Don't assume JC interaction Hamiltonian: $H_I = g (b^\\dagger + b)(a^\\dagger + a)$ (cf. Eq 5.14 in thesis)"
   ]
  },
  {
   "cell_type": "markdown",
   "metadata": {},
   "source": [
    "## Limit of Gate Fidelity due to Spontaneous Decay"
   ]
  },
  {
   "cell_type": "markdown",
   "metadata": {},
   "source": [
    "The gate fidelity will be fundamentally limited by the spontaneous decay of the qubit. Empirically, the value of the gate error $1-F_{avg}$ will be very close to the value of the (average) loss from the logical subspace, $1-\\frac{1}{4}\\trace[U^\\dagger U]$"
   ]
  },
  {
   "cell_type": "markdown",
   "metadata": {},
   "source": [
    "The lower limit for the dissipation is the dissipation obtained in the field-free case, where only the spontaneous decay from the qubit level $\\ket{1}$ to qubit level $\\ket{0}$ is relevant."
   ]
  },
  {
   "cell_type": "code",
   "execution_count": 5,
   "metadata": {
    "collapsed": true
   },
   "outputs": [],
   "source": [
    "from notebook_utils import diss_error"
   ]
  },
  {
   "cell_type": "code",
   "execution_count": 6,
   "metadata": {
    "collapsed": true
   },
   "outputs": [],
   "source": [
    "def show_diss_error(gamma, tgrid):\n",
    "    fig = plt.figure()\n",
    "    ax = fig.add_subplot(111)\n",
    "    errs = np.array([diss_error(gamma, t) for t in tgrid])\n",
    "    ax.plot(tgrid, errs)\n",
    "    set_axis(ax, 'x', 0, 200, step=20, minor=2, label=\"gate duration (ns)\")\n",
    "    ax.set_ylabel(\"minimum gate error\")\n",
    "    plt.show(fig)"
   ]
  },
  {
   "cell_type": "code",
   "execution_count": 7,
   "metadata": {
    "collapsed": false
   },
   "outputs": [
    {
     "data": {
      "image/png": "[encoded data removed]",
      "text/plain": [
       "<matplotlib.figure.Figure at 0x108116a10>"
      ]
     },
     "metadata": {},
     "output_type": "display_data"
    }
   ],
   "source": [
    "show_diss_error(gamma=1.2e-5, tgrid=np.linspace(0, 200, 1000))"
   ]
  },
  {
   "cell_type": "code",
   "execution_count": 8,
   "metadata": {
    "collapsed": false
   },
   "outputs": [
    {
     "name": "stdout",
     "output_type": "stream",
     "text": [
      "                    minimum error\n",
      "gate duration [ns]               \n",
      "10                       7.54e-04\n",
      "20                       1.51e-03\n",
      "50                       3.76e-03\n",
      "100                      7.50e-03\n",
      "200                      1.49e-02\n"
     ]
    }
   ],
   "source": [
    "gate_times = [10, 20, 50, 100, 200] # ns\n",
    "df = pd.DataFrame(index=gate_times,\n",
    "     data={'minimum error': [diss_error(gamma=1.2e-5, t=t) for t in gate_times]})\n",
    "df.index.name = \"gate duration [ns]\"\n",
    "print df.to_string(float_format=lambda f:'%.2e'%f)"
   ]
  },
  {
   "cell_type": "markdown",
   "metadata": {},
   "source": [
    "These errors are for the bare qubit states, the actual minimal error will be (very slightly) larger, and parameter dependent, due to mixing of qubit and cavity levels."
   ]
  },
  {
   "cell_type": "markdown",
   "metadata": {},
   "source": [
    "## Stage 1: Random Frequency Search & Amplitude Scan"
   ]
  },
  {
   "cell_type": "markdown",
   "metadata": {},
   "source": [
    "For each parameters pair ($\\omega_2, \\omega_c$) we run a `./pre_simplex_scan.py` script, taking the following steps:\n",
    "*   create runfolders, e.g. `w2_6000MHz_wc_11000MHz/stage1/...`\n",
    "    \n",
    "        .../field_free -> determine zeta\n",
    "        .../1_freq_center <- frequency centered between qubits\n",
    "        .../1_freq_1..10 <- 10 random frequencies\n",
    "        .../2_freq_resonant <- resonant with both qubits\n",
    "        .../2_freq_1..10 <- 10 random frequency pairs\n",
    "        .../5_freq_1..10 <- 10 random frequency/amplitude choices\n",
    "        [33 runfolders per parameter set]\n",
    "\n",
    "*   for each runfolder, scan peak amplitude over values $E_0 =$ 10, 50, 100, 150, 200, 250, 300, 350, 400, 450 MHz   \n",
    "    [total 10 * 33 propagations per parameter set]\n",
    "\n",
    "*   select best runs, and create runfolders for stage, e.g. `w2_6000MHz_wc_11000MHz/stage1/...`\n",
    "\n",
    "        .../PE_1freq_center <- best amplitude for perfect entangler\n",
    "        .../O_1freq_center <- best amplitude for LEC unity\n",
    "        .../PE_1freq_random <- best random frequency/amplitude for PE\n",
    "        .../O_1freq_random\n",
    "        .../PE_2freq_resonant\n",
    "        .../O_2freq_resonant\n",
    "        .../PE_2freq_random\n",
    "        .../O_2freq_random\n",
    "        .../PE_5freq_random\n",
    "        .../O_5freq_random\n",
    "        [10 runfolders per parameter set]\n",
    "        "
   ]
  },
  {
   "cell_type": "markdown",
   "metadata": {},
   "source": [
    "In a first attempt, we ran stage 1 in the lab frame, in the folder `./runs_200_LAB`"
   ]
  },
  {
   "cell_type": "code",
   "execution_count": null,
   "metadata": {
    "collapsed": true
   },
   "outputs": [],
   "source": [
    "! ./run_stage1.py {cluster_args} --params-file=parameters200.dat --duration=200 ./runs_200_LAB"
   ]
  },
  {
   "cell_type": "markdown",
   "metadata": {},
   "source": [
    "According to F. Motzoi, operating in the LAB frame is unnecessary. The RWA should at most add a non-entangling shift.\n",
    "\n",
    "[Are the obtained pulses still valid in a RWA?](RWA_check.ipynb)\n",
    "\n",
    "It appears that the concurrence and loss are the same in the lab frame and the RWA frame, except when one of the logical populations drops close to zero. We suspect that in this case, the phases (in which the concurrence depends) is different, and thus we obtain different values in the two frames. Note that the concurrene is not well-defined unless that gate is unitary in the logical subspace."
   ]
  },
  {
   "cell_type": "markdown",
   "metadata": {},
   "source": [
    "Thus, from now on, we do everything in the rotating frame:"
   ]
  },
  {
   "cell_type": "code",
   "execution_count": null,
   "metadata": {
    "collapsed": true
   },
   "outputs": [],
   "source": [
    "! ./run_stage1.py {cluster_args} --local --params-file=parameters200.dat --rwa --duration=200 --parallel=1 --jobs=16 ./runs_200_RWA\n",
    "! ./run_stage1.py {cluster_args} --local --params-file=parameters100.dat --rwa --duration=100 --parallel=1 --jobs=16 ./runs_100_RWA"
   ]
  },
  {
   "cell_type": "markdown",
   "metadata": {},
   "source": [
    "[Analysis of the stage-1 results](Stage1Analysis.ipynb) indicate that even by just some random pulses, we can substantially increase and decrease the entanglement from the field-free case. The best results are obtained for the cavity being relatively close to the qubits. i.e., *not* in the dispersive regime!"
   ]
  },
  {
   "cell_type": "markdown",
   "metadata": {},
   "source": [
    "The analysis also shows that we're \"good enough\" working with a single frequency (which makes analysis of the optimized pulses much easier). We thus only consider single-frequency pulses for shorter gate durations"
   ]
  },
  {
   "cell_type": "code",
   "execution_count": null,
   "metadata": {
    "collapsed": false
   },
   "outputs": [],
   "source": [
    "! ./run_stage1.py {cluster_args} --params-file=parameters050.dat --single-frequency  --rwa --duration=50 ./runs_050_RWA\n",
    "! ./run_stage1.py {cluster_args} --params-file=parameters020.dat --single-frequency  --rwa --duration=20 ./runs_020_RWA\n",
    "! ./run_stage1.py {cluster_args} --params-file=parameters010.dat --single-frequency  --rwa --duration=10 ./runs_010_RWA\n",
    "! ./run_stage1.py {cluster_args} --params-file=parameters005.dat --single-frequency  --rwa --duration=5  ./runs_005_RWA"
   ]
  },
  {
   "cell_type": "markdown",
   "metadata": {},
   "source": [
    "We prepare for stage-2 by selecting the most promising candidate for each choice of parameters $(\\omega_2, \\omega_c)$ and for each pulse category. For each category, and optimizing for full or zero entanglement, we generate a runfolder of the same name, inside a `stage2` subfolder. E.g. `./runs/w2_6100MHz_wc_10100MHz/stage2/PE_2freq_resonant`"
   ]
  },
  {
   "cell_type": "code",
   "execution_count": null,
   "metadata": {
    "collapsed": true
   },
   "outputs": [],
   "source": [
    "%%bash\n",
    "./select_for_stage2.py ./runs_200_RWA\n",
    "./select_for_stage2.py ./runs_100_RWA\n",
    "./select_for_stage2.py ./runs_050_RWA\n",
    "./select_for_stage2.py ./runs_020_RWA\n",
    "./select_for_stage2.py ./runs_010_RWA\n",
    "./select_for_stage2.py ./runs_005_RWA"
   ]
  },
  {
   "cell_type": "markdown",
   "metadata": {},
   "source": [
    "## Stage 2: Simplex (Pre-)Optimization"
   ]
  },
  {
   "cell_type": "markdown",
   "metadata": {},
   "source": [
    "For each parameter pair, and each of the 10 runfolders selected for each parameter pair,\n",
    "\n",
    "*   run simplex search. The optimization functional to be minimized targets either the perfect entanglers or the equivalence class of the identity (local gates):\n",
    "    \\begin{align}\n",
    "    J^{splx}_{PE} &= 1 - C (1-\\varepsilon^{min}_{pop}) = 1 - C + C \\varepsilon^{min}_{pop}\\\\\n",
    "    J^{splx}_{SQ} &= 1 - (1-C) (1-\\varepsilon^{min}_{pop}) = \\varepsilon^{min}_{pop} + C - C \\varepsilon^{min}_{pop}\n",
    "    \\end{align}\n",
    "    where $C$ is the concurrence and\n",
    "    \\begin{equation}\n",
    "        \\varepsilon^{min}_{pop} = \\min_i \\Vert U \\ket{i} \\Vert; \\qquad \\ket{i} \\in [00, 01, 10, 11]\n",
    "    \\end{equation}\n",
    "    is the maximum loss of population from the logical subspace. We use a multiplicative functional because the concurrence is only well-defined for a unitary $U$. In particular, we find that the concurrence can take different values in the RWA and LAB frames if one of the propagated states has a norm $\\approx 0$ at the final time (due to the fact that the phase of 0 is undefined)\n",
    "*   The starting point of the optimization are the pulses selected above; for the different categories, the free parameters are\n",
    "    * for single-frequency $\\epsilon(t) = E_0 B(t) \\cos(\\omega_L t)$: $E_0$, $\\omega_L$ [2 parameters]\n",
    "    * for 2 frequencies $\\epsilon(t) = B(t)(a_1 \\cos(\\omega_{L,1} t) + a_2 \\cos(\\omega_{L,2} t + \\phi_0)$: $a_1$, $a_2$, $\\omega_{L,1}$, $\\omega_{L,2}$, $\\phi_0$. [5 parameters]\n",
    "    * for 5 frequencies $\\epsilon(t) = B(t)\\left[\\sum_{n=1}^{3}(a_n \\cos(\\omega_{L,n} t) + b_n \\sin(\\omega_{L,n} t))\\right] \\left[\\sum_{n=4}^{5}(a_n \\cos(\\omega_{L,n} t) + b_n \\sin(\\omega_{L,n} t))\\right]$: $a_{1..5}$, $b_{1..5}$, $\\omega_{L,1..5}$ [15 parameters]\n",
    "    \n",
    "    For the `5freq` parametrization, the frequencies $\\omega_1 .. \\omega_3$ are low frequencies that just modulate the pulse shape. The remaining two frequencies are near the qubit of the cavity frequencies.\n",
    "    \n",
    "    All pulses use a Blackman envelope $B(t)$\n"
   ]
  },
  {
   "cell_type": "code",
   "execution_count": null,
   "metadata": {
    "collapsed": true
   },
   "outputs": [],
   "source": [
    "! ./run_stage2.py {cluster_args} --rwa ./runs_200_RWA\n",
    "! ./run_stage2.py {cluster_args} --rwa ./runs_100_RWA\n",
    "! ./run_stage2.py {cluster_args} --rwa ./runs_050_RWA\n",
    "! ./run_stage2.py {cluster_args} --rwa ./runs_020_RWA\n",
    "! ./run_stage2.py {cluster_args} --rwa ./runs_010_RWA\n",
    "! ./run_stage2.py {cluster_args} --rwa ./runs_005_RWA"
   ]
  },
  {
   "cell_type": "markdown",
   "metadata": {},
   "source": [
    "The optimization used Nelder-Mead-simplex. Powell's method was also tested, but lead to parameters changing into unrealistic regimes."
   ]
  },
  {
   "cell_type": "markdown",
   "metadata": {},
   "source": [
    "In order to evaluate the optimization success, we may determine the closest perfect entangler and the closest gate locally equivalent to the identity, and evaluate the average gate fidelity with respect to that gate. Running the `closest_target` script finds all files 'U.dat' in stage2 optimization results (and stage3) and writes either a file `U_closest_PE.dat` or `U_closest_SQ.dat` in the same folder, depending on what it detects the optimization target to have been."
   ]
  },
  {
   "cell_type": "code",
   "execution_count": null,
   "metadata": {
    "collapsed": true
   },
   "outputs": [],
   "source": [
    "%%bash\n",
    "./closest_targets.py runs_200_RWA\n",
    "./closest_targets.py runs_100_RWA\n",
    "./closest_targets.py runs_050_RWA\n",
    "./closest_targets.py runs_020_RWA\n",
    "./closest_targets.py runs_010_RWA\n",
    "./closest_targets.py runs_005_RWA"
   ]
  },
  {
   "cell_type": "markdown",
   "metadata": {},
   "source": [
    "[Analysis of the stage-2 results](Stage2Analysis.ipynb)"
   ]
  },
  {
   "cell_type": "markdown",
   "metadata": {},
   "source": [
    "At this point, it is a good idea to re-evaluate the validity of the RWA"
   ]
  },
  {
   "cell_type": "code",
   "execution_count": null,
   "metadata": {
    "collapsed": true
   },
   "outputs": [],
   "source": [
    "! ./check_stage2_rwa.py {cluster_args} runs_200_RWA\n",
    "! ./check_stage2_rwa.py {cluster_args} runs_100_RWA"
   ]
  },
  {
   "cell_type": "code",
   "execution_count": 1,
   "metadata": {
    "collapsed": true
   },
   "outputs": [],
   "source": [
    "from notebook_utils import get_LAB_table\n",
    "stage2_LAB_table_200 = get_LAB_table('runs_200_RWA')\n",
    "stage2_LAB_table_100 = get_LAB_table('runs_100_RWA')"
   ]
  },
  {
   "cell_type": "code",
   "execution_count": null,
   "metadata": {
    "collapsed": true
   },
   "outputs": [],
   "source": [
    "with open(\"stage2_LAB_table_200.dat\", \"w\") as out_fh:\n",
    "    out_fh.write(stage2_LAB_table_200.to_string())\n",
    "with open(\"stage2_LAB_table_100.dat\", \"w\") as out_fh:\n",
    "    out_fh.write(stage2_LAB_table_100.to_string())"
   ]
  },
  {
   "cell_type": "markdown",
   "metadata": {},
   "source": [
    "This shows very good agreement between the RWA frame and the LAB frame!"
   ]
  },
  {
   "cell_type": "markdown",
   "metadata": {},
   "source": [
    "For stage 3, for each point we only consider the best result from the two pulse categories `1freq_random`/`1freq_center`, creating a runfolder `1freq`, and in the same way from `2freq_random`/`2freq_random`, `2freq` is selected. The name for the 5-frequency runfolder is `5freq`"
   ]
  },
  {
   "cell_type": "code",
   "execution_count": null,
   "metadata": {
    "collapsed": true
   },
   "outputs": [],
   "source": [
    "%%bash\n",
    "./select_for_stage3.py ./runs_200_RWA\n",
    "./select_for_stage3.py ./runs_100_RWA\n",
    "./select_for_stage3.py ./runs_050_RWA\n",
    "./select_for_stage3.py ./runs_020_RWA\n",
    "./select_for_stage3.py ./runs_010_RWA\n",
    "./select_for_stage3.py ./runs_005_RWA"
   ]
  },
  {
   "cell_type": "markdown",
   "metadata": {},
   "source": [
    "## Stage 3: Gradient-Based Search"
   ]
  },
  {
   "cell_type": "markdown",
   "metadata": {
    "collapsed": true
   },
   "source": [
    "We perform 100 OCT iterations for each stage 3 runfolder"
   ]
  },
  {
   "cell_type": "code",
   "execution_count": null,
   "metadata": {
    "collapsed": true
   },
   "outputs": [],
   "source": [
    "! ./run_stage3.py {cluster_args} --rwa ./runs_200_RWA\n",
    "! ./run_stage3.py {cluster_args} --rwa ./runs_100_RWA\n",
    "! ./run_stage3.py {cluster_args} --rwa ./runs_050_RWA\n",
    "! ./run_stage3.py {cluster_args} --rwa ./runs_020_RWA\n",
    "! ./run_stage3.py {cluster_args} --rwa ./runs_010_RWA\n",
    "! ./run_stage3.py {cluster_args} --rwa ./runs_005_RWA"
   ]
  },
  {
   "cell_type": "markdown",
   "metadata": {},
   "source": [
    "For the analysis, we again need the closest PE or SQ gates (see stage 2)"
   ]
  },
  {
   "cell_type": "code",
   "execution_count": null,
   "metadata": {
    "collapsed": true
   },
   "outputs": [],
   "source": [
    "%%bash\n",
    "./closest_targets.py runs_200_RWA\n",
    "./closest_targets.py runs_100_RWA\n",
    "./closest_targets.py runs_050_RWA\n",
    "./closest_targets.py runs_020_RWA\n",
    "./closest_targets.py runs_010_RWA\n",
    "./closest_targets.py runs_005_RWA"
   ]
  },
  {
   "cell_type": "markdown",
   "metadata": {},
   "source": [
    "[Analysis of stage-3 results](Stage3Analysis.ipynb)"
   ]
  },
  {
   "cell_type": "markdown",
   "metadata": {},
   "source": [
    "## Stage 4: A Universal Set of Gates"
   ]
  },
  {
   "cell_type": "markdown",
   "metadata": {},
   "source": [
    "Stage 3, if successful, already gives us a perfect entangler. To get to a full set of universal gates, we must amend this with at least two single-qubit gates\n",
    "*   The Hadamard gate ($H$)\n",
    "*   The $\\pi/8$ gate ($S$)\n",
    "\n",
    "We therefore optimize (with the SM functional) the gates $I \\otimes H$, $H \\otimes I$, $I \\otimes S$, $S \\otimes I$, where $I$ is the identity on a single qubit. On the off-chance that optimization is successful only for the left or the right qubit, we also optimize directly for the SWAP gate (this proved unsuccesful, so we didn't keep the results)."
   ]
  },
  {
   "cell_type": "markdown",
   "metadata": {},
   "source": [
    "Actually, it is not entirely clear to me whether this is sufficient. If we just ask about *completeness*, then even a single perfect entangler is sufficient. However, if we ask for efficiency, then only gates on the line $L--A_2$ in the Weyl chamber (the \"special PE\") are known to be efficient in combination with the above single-qubit gates. For PE's that are not special PE's, I'm not sure to what extent they are efficient or not. [PRA 72, 052323] shows how sqrtSWAP can also be relatively efficient."
   ]
  },
  {
   "cell_type": "markdown",
   "metadata": {
    "collapsed": true
   },
   "source": [
    "First, we prepare stage 4 by selecting the points we are interested in. The interesting points $(\\omega_c, \\omega_2)$ were selected by hand and are listed in the files `parameters_stage4_010.dat` etc. The selection script scans the `stage3/SQ_*` runfolders for the requested points, and creates new stage4 runfolders for the optimization of the required single-qubit gates. We also continue optimization of the PE gate, switching from the PE functional to optimizing for the closest PE directly."
   ]
  },
  {
   "cell_type": "code",
   "execution_count": null,
   "metadata": {
    "collapsed": true
   },
   "outputs": [],
   "source": [
    "%%bash\n",
    "./select_for_stage4.py --single-frequency --params-file=parameters_stage4_050.dat --stage-folder='stage4' runs_050_RWA\n",
    "./select_for_stage4.py --single-frequency --params-file=parameters_stage4_020.dat --stage-folder='stage4' runs_020_RWA\n",
    "./select_for_stage4.py --single-frequency --params-file=parameters_stage4_010.dat --stage-folder='stage4' runs_010_RWA"
   ]
  },
  {
   "cell_type": "code",
   "execution_count": null,
   "metadata": {
    "collapsed": true
   },
   "outputs": [],
   "source": [
    "! ./run_stage4.py {cluster_args} --rwa --stage-folder='stage4' runs_010_RWA\n",
    "! ./run_stage4.py {cluster_args} --rwa --stage-folder='stage4' runs_020_RWA\n",
    "! ./run_stage4.py {cluster_args} --rwa --stage-folder='stage4' runs_050_RWA"
   ]
  },
  {
   "cell_type": "markdown",
   "metadata": {},
   "source": [
    "As an alternative approach, we can also start again with a simplex, allowing to choose different central frequencies for different single-qubit gates."
   ]
  },
  {
   "cell_type": "code",
   "execution_count": null,
   "metadata": {
    "collapsed": true
   },
   "outputs": [],
   "source": [
    "%%bash\n",
    "./select_for_stage4.py --single-frequency --params-file=parameters_stage4_050.dat --stage-folder='stage4_1freq' runs_050_RWA\n",
    "./select_for_stage4.py --single-frequency --params-file=parameters_stage4_020.dat --stage-folder='stage4_1freq' runs_020_RWA\n",
    "./select_for_stage4.py --single-frequency --params-file=parameters_stage4_010.dat --stage-folder='stage4_1freq' runs_010_RWA"
   ]
  },
  {
   "cell_type": "code",
   "execution_count": null,
   "metadata": {
    "collapsed": true
   },
   "outputs": [],
   "source": [
    "! ./run_stage4.py {cluster_args} --rwa --stage-folder='stage4_1freq' --pre-simplex='1freq_rwa' runs_050_RWA\n",
    "! ./run_stage4.py {cluster_args} --rwa --stage-folder='stage4_1freq' --pre-simplex='1freq_rwa' runs_020_RWA\n",
    "! ./run_stage4.py {cluster_args} --rwa --stage-folder='stage4_1freq' --pre-simplex='1freq_rwa' runs_010_RWA"
   ]
  },
  {
   "cell_type": "markdown",
   "metadata": {},
   "source": [
    "The results of stage4 are shown together with the propgation below"
   ]
  },
  {
   "cell_type": "markdown",
   "metadata": {},
   "source": [
    "A tabular overview of the results from all stages it generated by"
   ]
  },
  {
   "cell_type": "code",
   "execution_count": null,
   "metadata": {
    "collapsed": true
   },
   "outputs": [],
   "source": [
    "! ./build_table_caches.py --check"
   ]
  },
  {
   "cell_type": "markdown",
   "metadata": {},
   "source": [
    "## Final stage: Propagation"
   ]
  },
  {
   "cell_type": "markdown",
   "metadata": {},
   "source": [
    "To understand the obtained gates in detail, we copy all of the stage 4 runfolders to corresponding `stage_prop` folders, and propagate all of them."
   ]
  },
  {
   "cell_type": "markdown",
   "metadata": {},
   "source": [
    "* for the \"default\" guess pulses:"
   ]
  },
  {
   "cell_type": "code",
   "execution_count": null,
   "metadata": {
    "collapsed": true
   },
   "outputs": [],
   "source": [
    "%%bash\n",
    "./select_for_prop.py runs_050_RWA --stage4-folder='stage4' --stage-prop-folder='stage_prop'\n",
    "./select_for_prop.py runs_020_RWA --stage4-folder='stage4' --stage-prop-folder='stage_prop'\n",
    "./select_for_prop.py runs_010_RWA --stage4-folder='stage4' --stage-prop-folder='stage_prop'"
   ]
  },
  {
   "cell_type": "code",
   "execution_count": null,
   "metadata": {
    "collapsed": true
   },
   "outputs": [],
   "source": [
    "! ./run_prop.py {cluster_args} --rwa --stage-folder='stage_prop' ./runs_050_RWA\n",
    "! ./run_prop.py {cluster_args} --rwa --stage-folder='stage_prop' ./runs_020_RWA\n",
    "! ./run_prop.py {cluster_args} --rwa --stage-folder='stage_prop' ./runs_010_RWA"
   ]
  },
  {
   "cell_type": "markdown",
   "metadata": {},
   "source": [
    "[Analysis](PropAnalysis.ipynb)"
   ]
  },
  {
   "cell_type": "markdown",
   "metadata": {},
   "source": [
    "* for the `stage4_1freq` alternative (see above):"
   ]
  },
  {
   "cell_type": "code",
   "execution_count": null,
   "metadata": {
    "collapsed": true
   },
   "outputs": [],
   "source": [
    "%%bash\n",
    "./select_for_prop.py runs_050_RWA --stage4-folder='stage4_1freq' --stage-prop-folder='stage_prop_1freq'\n",
    "./select_for_prop.py runs_020_RWA --stage4-folder='stage4_1freq' --stage-prop-folder='stage_prop_1freq'\n",
    "./select_for_prop.py runs_010_RWA --stage4-folder='stage4_1freq' --stage-prop-folder='stage_prop_1freq'"
   ]
  },
  {
   "cell_type": "code",
   "execution_count": null,
   "metadata": {
    "collapsed": true
   },
   "outputs": [],
   "source": [
    "! ./run_prop.py {cluster_args} --rwa --stage-folder='stage_prop_1freq' ./runs_050_RWA\n",
    "! ./run_prop.py {cluster_args} --rwa --stage-folder='stage_prop_1freq' ./runs_020_RWA\n",
    "! ./run_prop.py {cluster_args} --rwa --stage-folder='stage_prop_1freq' ./runs_010_RWA"
   ]
  },
  {
   "cell_type": "markdown",
   "metadata": {},
   "source": [
    "[Analysis](PropAnalysis_1freq.ipynb)"
   ]
  },
  {
   "cell_type": "markdown",
   "metadata": {},
   "source": [
    "In comparison to the \"default\" optimization, the \"pre-simplex\" (`stage4_1freq`) optimization neither yielded good fidelities nor nicer-looking pulses."
   ]
  },
  {
   "cell_type": "markdown",
   "metadata": {},
   "source": [
    "Lastly, we ensure that our modelling of the dissipation with a non-Hermitian Hamiltonian is not too far off the mark, by propagating the full density matrix."
   ]
  },
  {
   "cell_type": "code",
   "execution_count": null,
   "metadata": {
    "collapsed": true
   },
   "outputs": [],
   "source": [
    "%% bash\n",
    "./select_for_prop.py runs_050_RWA --stage4-folder='stage4' --stage-prop-folder='stage_prop_rho'\n",
    "./select_for_prop.py runs_020_RWA --stage4-folder='stage4' --stage-prop-folder='stage_prop_rho'\n",
    "./select_for_prop.py runs_010_RWA --stage4-folder='stage4' --stage-prop-folder='stage_prop_rho'"
   ]
  },
  {
   "cell_type": "code",
   "execution_count": null,
   "metadata": {
    "collapsed": true
   },
   "outputs": [],
   "source": [
    "! ./run_prop.py {cluster_args} --rwa --rho --stage-folder='stage_prop_rho' ./runs_050_RWA\n",
    "! ./run_prop.py {cluster_args} --rwa --rho --stage-folder='stage_prop_rho' ./runs_020_RWA\n",
    "! ./run_prop.py {cluster_args} --rwa --rho --stage-folder='stage_prop_rho' ./runs_010_RWA"
   ]
  },
  {
   "cell_type": "markdown",
   "metadata": {},
   "source": [
    "[Analysis](PropAnalysis_rho.ipynb) shows that for fidelities >= 0.99, the \"true\" fidelity in Liouville space is better than the result we obtained in Hilbert space."
   ]
  },
  {
   "cell_type": "markdown",
   "metadata": {},
   "source": [
    "... and again for one additional qubit and cavity level"
   ]
  },
  {
   "cell_type": "code",
   "execution_count": null,
   "metadata": {
    "collapsed": true
   },
   "outputs": [],
   "source": [
    "%% bash\n",
    "./select_for_prop.py runs_050_RWA --stage4-folder='stage4' --stage-prop-folder='stage_prop_rho_larger'\n",
    "./select_for_prop.py runs_020_RWA --stage4-folder='stage4' --stage-prop-folder='stage_prop_rho_larger'\n",
    "./select_for_prop.py runs_010_RWA --stage4-folder='stage4' --stage-prop-folder='stage_prop_rho_larger'"
   ]
  },
  {
   "cell_type": "code",
   "execution_count": null,
   "metadata": {
    "collapsed": true
   },
   "outputs": [],
   "source": [
    "! ./run_prop.py {cluster_args} --rwa --rho --n_qubit=6 --n_cavity=7 --stage-folder='stage_prop_rho_larger' ./runs_050_RWA\n",
    "! ./run_prop.py {cluster_args} --rwa --rho --n_qubit=6 --n_cavity=7 --stage-folder='stage_prop_rho_larger' ./runs_020_RWA\n",
    "! ./run_prop.py {cluster_args} --rwa --rho --n_qubit=6 --n_cavity=7 --stage-folder='stage_prop_rho_larger' ./runs_010_RWA"
   ]
  }
 ],
 "metadata": {
  "kernelspec": {
   "display_name": "Python 2",
   "language": "python",
   "name": "python2"
  },
  "language_info": {
   "codemirror_mode": {
    "name": "ipython",
    "version": 2
   },
   "file_extension": ".py",
   "mimetype": "text/x-python",
   "name": "python",
   "nbconvert_exporter": "python",
   "pygments_lexer": "ipython2",
   "version": "2.7.10"
  }
 },
 "nbformat": 4,
 "nbformat_minor": 0
}
