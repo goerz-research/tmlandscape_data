{
 "cells": [
  {
   "cell_type": "markdown",
   "metadata": {},
   "source": [
    "# Constrained Optimization of the Full Transmon Model"
   ]
  },
  {
   "cell_type": "code",
   "execution_count": 1,
   "metadata": {
    "collapsed": false
   },
   "outputs": [],
   "source": [
    "import os\n",
    "from os.path import join\n",
    "import sys\n",
    "import numpy as np\n",
    "import matplotlib.pylab as plt"
   ]
  },
  {
   "cell_type": "code",
   "execution_count": 2,
   "metadata": {
    "collapsed": true
   },
   "outputs": [],
   "source": [
    "%matplotlib inline"
   ]
  },
  {
   "cell_type": "code",
   "execution_count": 3,
   "metadata": {
    "collapsed": true
   },
   "outputs": [],
   "source": [
    "%reload_ext autoreload\n",
    "%autoreload 2"
   ]
  },
  {
   "cell_type": "markdown",
   "metadata": {},
   "source": [
    "$\\newcommand{\\Op}[1]{\\boldsymbol{\\mathsf{\\hat{#1}}}}$"
   ]
  },
  {
   "cell_type": "markdown",
   "metadata": {},
   "source": [
    "## Introduction"
   ]
  },
  {
   "cell_type": "markdown",
   "metadata": {},
   "source": [
    "We consider the full Transmon Hamiltonian\n",
    "\\begin{equation}\n",
    "  \\Op{H} = \\sum_{q=1,2} \\left[ \\omega_q \\Op{b}^{\\dagger}_q \\Op{b}_q\n",
    "    + \\frac{\\alpha_q}{2} \\Op{b}^{\\dagger}_q\\Op{b}^{\\dagger}_q\\Op{b}_q\\Op{b}_q\n",
    "    + g_q \\left(\\Op{b}^{\\dagger}_q \\Op{a} + \\Op{b}_q \\Op{a}^{\\dagger} \\right)\n",
    "    \\right]\n",
    "    + \\omega_c \\Op{a}^{\\dagger}\\Op{a}\n",
    "    + \\epsilon(t) \\Op{a} + \\epsilon^{*}(t) \\Op{a}^{\\dagger}\n",
    "\\end{equation}\n",
    "Note that unlike in the optimizations done for KITP in 2013, we do *not* have a static qubit-qubit coupling, outside the effective coupling that is mediated by the cavity"
   ]
  },
  {
   "cell_type": "markdown",
   "metadata": {},
   "source": [
    "Goals:\n",
    "\n",
    "1.  Scan the parameter regime systematically for the point that allows the\n",
    "    easiest implementation of both single- and two-qubit gates. Identify\n",
    "    known gate mechanisms on map. The scan shows:\n",
    "    *   Which parameters yield the fastest gates\n",
    "    *   Which local equivalence classes different qubit parameters lead to\n",
    "    *   Whether there are \"good\" regions in addition to the regions at which known gate mechanism have been implemented (determined by resonance conditions)\n",
    "\n",
    "2.  For select points, determine the quantum speed limit for high fidelity\n",
    "    gates: What are the fastest possible quantum gates with all-microwave control of transmon qubits \n",
    "3.  Include robustness with respect to dissipation, and fluctuations in the\n",
    "    qubit parameters"
   ]
  },
  {
   "cell_type": "markdown",
   "metadata": {},
   "source": [
    "Plan:\n",
    "\n",
    "*   Prerequisite: Method testing\n",
    "    *   Test optimization with state-dependent and frequency constraints\n",
    "    *   Test optimization with perfect entangler\n",
    "    *   Test optimization for single-qubit gate\n",
    "    *   Examine the RIP method for depopulating the cavity. If generally applicable, incorporate into all guess pulses below\n",
    "    \n",
    "*   Scan parameter space.\n",
    "\n",
    "    We choose $\\omega_1$, $\\alpha_1 \\neq \\alpha_2$, $g_1 = g_2$ constant. We vary $\\omega_2$ and $\\omega_c$ (in the RWA) on a grid. At each grid point (set of paremters), we perform the following steps to evaluate the parameters as a candidate:\n",
    "    \n",
    "    *   Set $T=200$ ns (possibly also $T = 500$ ns and $T = 100$ ns\n",
    "    *   Determine a good guess pulse for the optimization towards a perfect entangler, and for the optimization towards a single-qubit gate\n",
    "    *   Perform a Krotov or LBFGS optimization, for PE and for single qubit gates (either LI-optimization for identity, or two optimizations $\\sigma_x^{(1)}$ and $\\sigma_x^{(2)}$.\n",
    "    \n",
    "    The critical step is the determination of a good guess pulse. A possiblity is to generate simple guess pulses based on some randomized parameters, and to perform a few simplex steps in these parameters.\n",
    "    \n",
    "*  Pick several points in the parameter space that yielded the best success. Determin the QSL by optimizing at increasingly smaller values of $T$.\n",
    "    "
   ]
  },
  {
   "cell_type": "markdown",
   "metadata": {},
   "source": [
    "## Environment Setup"
   ]
  },
  {
   "cell_type": "code",
   "execution_count": 4,
   "metadata": {
    "collapsed": false
   },
   "outputs": [
    {
     "name": "stdout",
     "output_type": "stream",
     "text": [
      "Installed version_information.py. To use it, type:\n",
      "  %load_ext version_information\n"
     ]
    },
    {
     "data": {
      "application/json": {
       "Software versions": [
        {
         "module": "Python",
         "version": "2.7.10 64bit [GCC 4.4.7 20120313 (Red Hat 4.4.7-1)]"
        },
        {
         "module": "IPython",
         "version": "3.2.1"
        },
        {
         "module": "OS",
         "version": "Linux 3.13.0 45 generic x86_64 with debian jessie sid"
        },
        {
         "module": "numpy",
         "version": "1.9.2"
        },
        {
         "module": "matplotlib",
         "version": "1.4.3"
        },
        {
         "module": "pandas",
         "version": "0.16.2"
        },
        {
         "module": "QDYN",
         "version": "0.1.2"
        },
        {
         "module": "QDYNTransmonLib",
         "version": "1.0.3"
        },
        {
         "module": "cd $PREFIX/src/qdyn && git log",
         "version": "commit 28d4b4650ec062f00c8ff11179aa276a5cffa9bc\n"
        },
        {
         "module": "cd $PREFIX/src/transmon_oct && git log",
         "version": "commit 3b6bed6875dbfbbe49d616717bc3f330cdb2709f\n"
        }
       ]
      },
      "text/html": [
       "<table><tr><th>Software</th><th>Version</th></tr><tr><td>Python</td><td>2.7.10 64bit [GCC 4.4.7 20120313 (Red Hat 4.4.7-1)]</td></tr><tr><td>IPython</td><td>3.2.1</td></tr><tr><td>OS</td><td>Linux 3.13.0 45 generic x86_64 with debian jessie sid</td></tr><tr><td>numpy</td><td>1.9.2</td></tr><tr><td>matplotlib</td><td>1.4.3</td></tr><tr><td>pandas</td><td>0.16.2</td></tr><tr><td>QDYN</td><td>0.1.2</td></tr><tr><td>QDYNTransmonLib</td><td>1.0.3</td></tr><tr><td>cd $PREFIX/src/qdyn && git log</td><td>commit 28d4b4650ec062f00c8ff11179aa276a5cffa9bc\n",
       "</td></tr><tr><td>cd $PREFIX/src/transmon_oct && git log</td><td>commit 3b6bed6875dbfbbe49d616717bc3f330cdb2709f\n",
       "</td></tr><tr><td colspan='2'>Sat Aug 01 03:15:41 2015 CEST</td></tr></table>"
      ],
      "text/latex": [
       "\\begin{tabular}{|l|l|}\\hline\n",
       "{\\bf Software} & {\\bf Version} \\\\ \\hline\\hline\n",
       "Python & 2.7.10 64bit [GCC 4.4.7 20120313 (Red Hat 4.4.7-1)] \\\\ \\hline\n",
       "IPython & 3.2.1 \\\\ \\hline\n",
       "OS & Linux 3.13.0 45 generic x86\\_64 with debian jessie sid \\\\ \\hline\n",
       "numpy & 1.9.2 \\\\ \\hline\n",
       "matplotlib & 1.4.3 \\\\ \\hline\n",
       "pandas & 0.16.2 \\\\ \\hline\n",
       "QDYN & 0.1.2 \\\\ \\hline\n",
       "QDYNTransmonLib & 1.0.3 \\\\ \\hline\n",
       "cd $PREFIX/src/qdyn && git log & commit 28d4b4650ec062f00c8ff11179aa276a5cffa9bc\n",
       " \\\\ \\hline\n",
       "cd $PREFIX/src/transmon_oct && git log & commit 3b6bed6875dbfbbe49d616717bc3f330cdb2709f\n",
       " \\\\ \\hline\n",
       "\\hline \\multicolumn{2}{|l|}{Sat Aug 01 03:15:41 2015 CEST} \\\\ \\hline\n",
       "\\end{tabular}\n"
      ],
      "text/plain": [
       "Software versions\n",
       "Python 2.7.10 64bit [GCC 4.4.7 20120313 (Red Hat 4.4.7-1)]\n",
       "IPython 3.2.1\n",
       "OS Linux 3.13.0 45 generic x86_64 with debian jessie sid\n",
       "numpy 1.9.2\n",
       "matplotlib 1.4.3\n",
       "pandas 0.16.2\n",
       "QDYN 0.1.2\n",
       "QDYNTransmonLib 1.0.3\n",
       "cd $PREFIX/src/qdyn && git log commit 28d4b4650ec062f00c8ff11179aa276a5cffa9bc\n",
       "\n",
       "cd $PREFIX/src/transmon_oct && git log commit 3b6bed6875dbfbbe49d616717bc3f330cdb2709f\n",
       "\n",
       "Sat Aug 01 03:15:41 2015 CEST"
      ]
     },
     "execution_count": 4,
     "metadata": {},
     "output_type": "execute_result"
    }
   ],
   "source": [
    "%install_ext http://raw.github.com/goerz/version_information/master/version_information.py\n",
    "%reload_ext version_information\n",
    "% version_information numpy, matplotlib, pandas, QDYN, QDYNTransmonLib, \"cd $PREFIX/src/qdyn && git log\",  \"cd $PREFIX/src/transmon_oct && git log\""
   ]
  },
  {
   "cell_type": "code",
   "execution_count": 5,
   "metadata": {
    "collapsed": false
   },
   "outputs": [],
   "source": [
    "PREFIX = join(os.getcwd(), 'venv')\n",
    "assert os.path.samefile(join(PREFIX, 'bin'), os.environ['PATH'].split(os.pathsep)[0])"
   ]
  },
  {
   "cell_type": "markdown",
   "metadata": {},
   "source": [
    "## Prerequisites"
   ]
  },
  {
   "cell_type": "markdown",
   "metadata": {
    "collapsed": false
   },
   "source": [
    "*   [Does state-dependent constraint work?](Prereq_Nonherm.ipynb) Yes, but slow convergence\n",
    "*   [Can we ensure a small nq,nc? What sampling rate is sufficient?](Prereq_Cutoff.ipynb) One extra level is sufficient. 100 samples per oscillation is sufficient if we don't claim high precision"
   ]
  },
  {
   "cell_type": "markdown",
   "metadata": {},
   "source": [
    "## Qubit Paramters"
   ]
  },
  {
   "cell_type": "markdown",
   "metadata": {},
   "source": [
    "*   $\\omega_1/2\\pi =$ 6.0 GHz\n",
    "*   $\\omega_2/2\\pi$:  varies\n",
    "*   $\\omega_c/2\\pi$: varies\n",
    "*   $\\alpha_1/2\\pi =$ 290 MHz\n",
    "*   $\\alpha_2/2\\pi =$ 310 MHz\n",
    "*   $g/2\\pi =$ 70 MHz\n",
    "*   $T = $ 200 ns"
   ]
  },
  {
   "cell_type": "markdown",
   "metadata": {},
   "source": [
    "We take into account 4 qubit levels with realistic decay time [Peterer et al, Phys. Rev. Lett. 114, 010501 (2015)], and 5 cavity levels, also with realistic decay [A. W. Cross and J. M. Gambetta, Phys. Rev. A 91 032325 (2015)]. The last level for each qubit and the cavity is \"truncated\" by setting the decay to \"infinity\", as an effective state-dependent constraint.\n",
    "\n",
    "Decay is modelled by a non-Hermitian Hamiltonian (decay leads to loss of norm)"
   ]
  },
  {
   "cell_type": "markdown",
   "metadata": {},
   "source": [
    "Possible things to change (discussion with F. Motzoi, 6/23/15):\n",
    "\n",
    "*   Allow $\\omega_2 < \\omega_1$\n",
    "*   Repeat for 100 ns gate duration\n",
    "*   Going to 11 GHZ with the cavity is a bit unnecessary (numerically too much effort & no new physics)\n",
    "*   Lowering number of qubit/cavity levels (for numerical benefit): Truncate the eigenstates of the bigger system, as opposed to re-diagonalizing\n",
    "*   Don't assume JC interaction Hamiltonian: $H_I = g (b^\\dagger + b)(a^\\dagger + a)$ (cf. Eq 5.14 in thesis)\n",
    "*   Cavity decay can be brought close to zero, so we might as well use smaller cavity decay\n",
    "*   Propagating in RWA, checking validity afterwards"
   ]
  },
  {
   "cell_type": "markdown",
   "metadata": {},
   "source": [
    "## Stage 1: Random Frequency Search & Amplitude Scan"
   ]
  },
  {
   "cell_type": "markdown",
   "metadata": {},
   "source": [
    "For each parameters pair ($\\omega_2, \\omega_c$) we run a `./pre_simplex_scan.py` script, taking the following steps:\n",
    "*   create runfolders, e.g. `w2_6000MHz_wc_11000MHz/stage1/...`\n",
    "    \n",
    "        .../field_free -> determine zeta\n",
    "        .../1_freq_center <- frequency centered between qubits\n",
    "        .../1_freq_1..10 <- 10 random frequencies\n",
    "        .../2_freq_resonant <- resonant with both qubits\n",
    "        .../2_freq_1..10 <- 10 random frequency pairs\n",
    "        .../5_freq_1..10 <- 10 random frequency/amplitude choices\n",
    "        [33 runfolders per parameter set]\n",
    "\n",
    "*   for each runfolder, scan peak amplitude over values $E_0 =$ 10, 50, 100, 150, 200, 250, 300, 350, 400, 450 MHz   \n",
    "    [total 10 * 33 propagations per parameter set]\n",
    "\n",
    "*   select best runs, and create runfolders for stage, e.g. `w2_6000MHz_wc_11000MHz/stage1/...`\n",
    "\n",
    "        .../PE_1freq_center <- best amplitude for perfect entangler\n",
    "        .../O_1freq_center <- best amplitude for LEC unity\n",
    "        .../PE_1freq_random <- best random frequency/amplitude for PE\n",
    "        .../O_1freq_random\n",
    "        .../PE_2freq_resonant\n",
    "        .../O_2freq_resonant\n",
    "        .../PE_2freq_random\n",
    "        .../O_2freq_random\n",
    "        .../PE_5freq_random\n",
    "        .../O_5freq_random\n",
    "        [10 runfolders per parameter set]\n",
    "        "
   ]
  },
  {
   "cell_type": "markdown",
   "metadata": {},
   "source": [
    "In a first attempt, we ran stage 1 in the lab frame, in the folder `./runs_200_LAB`\n",
    "\n",
    "[Are the obtained pulses still valid in a RWA?](RWA_check.ipynb)\n",
    "\n",
    "It appears that the concurrence and loss are the same in the lab frame and the RWA frame, except when one of the logical populations drops close to zero. We suspect that in this case, the phases (in which the concurrence depends) is different, and thus we obtain different values in the two frames. Note that the concurrene is not well-defined unless that gate is unitary in the logical subspace."
   ]
  },
  {
   "cell_type": "markdown",
   "metadata": {},
   "source": [
    "Thus, from now on, we do everything in the rotating frame:"
   ]
  },
  {
   "cell_type": "code",
   "execution_count": null,
   "metadata": {
    "collapsed": true
   },
   "outputs": [],
   "source": [
    "! ./run_stage1.py --rwa --duration=100 --parallel=1 --jobs=16 ./runs_100_RWA"
   ]
  },
  {
   "cell_type": "markdown",
   "metadata": {},
   "source": [
    "[Analysis of the stage-1 results](Stage1Analysis.ipynb) indicate that even by just some random pulses, we can substantially increase and decrease the entanglement from the field-free case. The best results are obtained for the cavity being relatively close to the qubits. i.e., *not* in the dispersive regime!"
   ]
  },
  {
   "cell_type": "markdown",
   "metadata": {},
   "source": [
    "We prepare for stage-2 by selecting the most promising candidate for each choice of parameters $(\\omega_2, \\omega_c)$ and for each pulse category:"
   ]
  },
  {
   "cell_type": "markdown",
   "metadata": {},
   "source": [
    "where the categories `PE_*` maximize entanglement and `SQ_*` minimize entanglement. For each category, we generate a runfolder of the same name, inside a `stage2` subfolder. E.g. `./runs/w2_6100MHz_wc_10100MHz/stage2/PE_2freq_resonant`"
   ]
  },
  {
   "cell_type": "code",
   "execution_count": 6,
   "metadata": {
    "collapsed": false
   },
   "outputs": [
    {
     "name": "stdout",
     "output_type": "stream",
     "text": [
      "ERROR: NaN in ./runs_200_RWA/w2_7500MHz_wc_7600MHz/stage1/1freq_2/E900/U.dat\n",
      "ERROR: increase of norm in ./runs_200_RWA/w2_6310MHz_wc_11100MHz/stage1/5freq_3/E010/U.dat\n",
      "ERROR: increase of norm in ./runs_200_RWA/w2_5000MHz_wc_11100MHz/stage1/1freq_5/E010/U.dat\n"
     ]
    }
   ],
   "source": [
    "! ./select_for_stage2.py ./runs_200_RWA"
   ]
  },
  {
   "cell_type": "code",
   "execution_count": 8,
   "metadata": {
    "collapsed": false
   },
   "outputs": [
    {
     "name": "stdout",
     "output_type": "stream",
     "text": [
      "ERROR: increase of norm in ./runs_100_RWA/w2_7000MHz_wc_6100MHz/stage1/5freq_3/E010/U.dat\n",
      "ERROR: increase of norm in ./runs_100_RWA/w2_5000MHz_wc_11100MHz/stage1/1freq_7/E010/U.dat\n",
      "ERROR: increase of norm in ./runs_100_RWA/w2_6500MHz_wc_8600MHz/stage1/5freq_4/E010/U.dat\n"
     ]
    }
   ],
   "source": [
    "! ./select_for_stage2.py ./runs_100_RWA"
   ]
  },
  {
   "cell_type": "markdown",
   "metadata": {},
   "source": [
    "## Stage 2: Simplex (Pre-)Optimization"
   ]
  },
  {
   "cell_type": "markdown",
   "metadata": {},
   "source": [
    "For each parameter pair, and each of the 10 runfolders selected for each parameter pair,\n",
    "\n",
    "*   run simplex search. The optimization functional to be minimized targets either the perfect entanglers or the equivalence class of the identity (local gates):\n",
    "    \\begin{align}\n",
    "    J^{splx}_{PE} &= \\varepsilon_C + \\varepsilon_{pop} \\\\\n",
    "    J^{splx}_{SQ} &= C + \\varepsilon_{pop}\n",
    "    \\end{align}\n",
    "    where $\\varepsilon_C \\equiv 1 - C$ is the deviation of the concurrence $C$ from 1 and $\\varepsilon_{pop}$ is the loss of population from the logical subspace. \n",
    "*   The starting point of the optimization are the pulses selected above; for the different categories, the free parameters are\n",
    "    * for single-frequency $\\epsilon(t) = E_0 B(t) \\cos(\\omega_L t)$: $E_0$, $\\omega_L$ [2 parameters]\n",
    "    * for 2 frequencies $\\epsilon(t) = B(t)(a_1 \\cos(\\omega_{L,1} t) + a_2 \\cos(\\omega_{L,2} t + \\phi_0)$: $a_1$, $a_2$, $\\omega_{L,1}$, $\\omega_{L,2}$, $\\phi_0$. [5 parameters]\n",
    "    * for 5 frequencies $\\epsilon(t) = B(t)\\sum_{n=1}^{5}(a_n \\cos(\\omega_{L,n} t) + b_n \\sin(\\omega_{L,n} t))$: $a_{1..5}$, $b_{1..5}$, $\\omega_{L,1..5}$ [15 parameters]\n",
    "    \n",
    "    All pulses use a Blackman envelope $B(t)$\n"
   ]
  },
  {
   "cell_type": "markdown",
   "metadata": {},
   "source": [
    "According to Felix' argument, the same results could have obtained in the RWA. We check whether the gates resulting from the simplex variation yield the same concurrence and loss when propagated in the rotating frame:\n",
    "[RWA_check.ipynb](RWA_check.ipynb)"
   ]
  },
  {
   "cell_type": "code",
   "execution_count": null,
   "metadata": {
    "collapsed": true
   },
   "outputs": [],
   "source": [
    "! ./run_stage2.py --rwa --parallel=1 --jobs=30 ./runs_200_RWA"
   ]
  },
  {
   "cell_type": "code",
   "execution_count": null,
   "metadata": {
    "collapsed": true
   },
   "outputs": [],
   "source": [
    "! ./run_stage2.py --rwa --parallel=1 --jobs=30 ./runs_100_RWA"
   ]
  },
  {
   "cell_type": "markdown",
   "metadata": {},
   "source": [
    "The optimization used Nelder-Mead-simplex. Powell's method was also tested, but lead to parameters changing into unrealistic regimes."
   ]
  },
  {
   "cell_type": "markdown",
   "metadata": {},
   "source": [
    "[Analysis of the stage-2 results](Stage2Analysis.ipynb)"
   ]
  },
  {
   "cell_type": "markdown",
   "metadata": {},
   "source": [
    "For stage 3, for each point we only consider the best result from the two pulse categories `1freq_random`/`1freq_center`, creating a runfolder `1freq`, and in the same way from `2freq_random`/`2freq_random`, `2freq` is selected. The name for the 5-frequency runfolder is `5freq`"
   ]
  },
  {
   "cell_type": "code",
   "execution_count": null,
   "metadata": {
    "collapsed": true
   },
   "outputs": [],
   "source": [
    "! ./select_for_stage3.py ./runs_200_RWA"
   ]
  },
  {
   "cell_type": "code",
   "execution_count": null,
   "metadata": {
    "collapsed": true
   },
   "outputs": [],
   "source": [
    "! ./select_for_stage3.py ./runs_100_RWA"
   ]
  },
  {
   "cell_type": "markdown",
   "metadata": {},
   "source": [
    "## Stage 3: Gradient-Based Search"
   ]
  },
  {
   "cell_type": "markdown",
   "metadata": {
    "collapsed": true
   },
   "source": [
    "We perform 100 OCT iterations for each stage 3 runfolder"
   ]
  },
  {
   "cell_type": "code",
   "execution_count": null,
   "metadata": {
    "collapsed": true
   },
   "outputs": [],
   "source": [
    "! ./run_stage3.py --rwa --parallel=1 --jobs=200 ./runs_200_RWA"
   ]
  },
  {
   "cell_type": "code",
   "execution_count": null,
   "metadata": {
    "collapsed": true
   },
   "outputs": [],
   "source": [
    "! ./run_stage3.py --rwa --parallel=1 --jobs=200 ./runs_100_RWA"
   ]
  },
  {
   "cell_type": "markdown",
   "metadata": {},
   "source": [
    "[Analysis of stage-3 results](Stage3Analysis.ipynb)"
   ]
  },
  {
   "cell_type": "markdown",
   "metadata": {},
   "source": [
    "The optimization in the RWA surprisingly only yields only gates in a 2-dimensional subset of the Weyl chamber. Possibly the RWA limits the controllability. This puts into question whether RWA and lab frame are really equivalent for the purpose of our analysis. We can perform some checks to get a better idea about controllability in the RWA"
   ]
  },
  {
   "cell_type": "markdown",
   "metadata": {},
   "source": [
    "## Stage 4: Quantum Speed Limit"
   ]
  },
  {
   "cell_type": "markdown",
   "metadata": {},
   "source": [
    "For best points resulting from stage 3, lower gate duration until no further gate can be found (to be done)"
   ]
  },
  {
   "cell_type": "code",
   "execution_count": null,
   "metadata": {
    "collapsed": true
   },
   "outputs": [],
   "source": []
  }
 ],
 "metadata": {
  "kernelspec": {
   "display_name": "Python 2",
   "language": "python",
   "name": "python2"
  },
  "language_info": {
   "codemirror_mode": {
    "name": "ipython",
    "version": 2
   },
   "file_extension": ".py",
   "mimetype": "text/x-python",
   "name": "python",
   "nbconvert_exporter": "python",
   "pygments_lexer": "ipython2",
   "version": "2.7.10"
  }
 },
 "nbformat": 4,
 "nbformat_minor": 0
}
