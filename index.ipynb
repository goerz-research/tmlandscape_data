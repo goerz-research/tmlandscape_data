{
 "metadata": {
  "name": "",
  "signature": "sha256:f9c47d88ae8b9aa7768c98184426ac0a299be1f47a5dfee6d2ac623f078e35c2"
 },
 "nbformat": 3,
 "nbformat_minor": 0,
 "worksheets": [
  {
   "cells": [
    {
     "cell_type": "heading",
     "level": 1,
     "metadata": {},
     "source": [
      "Constrained Optimization of the Full Transmon Model"
     ]
    },
    {
     "cell_type": "heading",
     "level": 2,
     "metadata": {},
     "source": [
      "Setup"
     ]
    },
    {
     "cell_type": "code",
     "collapsed": false,
     "input": [
      "import os\n",
      "from os.path import join\n",
      "import sys\n",
      "import numpy as np\n",
      "import matplotlib.pylab as plt"
     ],
     "language": "python",
     "metadata": {},
     "outputs": [],
     "prompt_number": 3
    },
    {
     "cell_type": "markdown",
     "metadata": {},
     "source": [
      "We keep our Python installation, as well as all compiled code in a virtual environment, stored in `$PREFIX`. The source code for the QDYN library and the trasmon propgram has been checked out to `$PREFIX/src/qdyn` and `$PREFIX/src/transmon_oct`, respectively."
     ]
    },
    {
     "cell_type": "code",
     "collapsed": true,
     "input": [
      "HOME = os.environ['HOME']\n",
      "PREFIX = join(HOME, 'storage', 'jobs', 'ConstrainedTransmon', 'venv')\n",
      "assert join(PREFIX, 'bin') == os.environ['PATH'].split(os.pathsep)[0]"
     ],
     "language": "python",
     "metadata": {},
     "outputs": [],
     "prompt_number": 8
    },
    {
     "cell_type": "code",
     "collapsed": false,
     "input": [
      "def install_qdyn(sha):\n",
      "    assert os.path.isdir(join(PREFIX, 'src', 'qdyn'))\n",
      "    ! (cd {PREFIX}/src/qdyn && git checkout {sha} && make install)"
     ],
     "language": "python",
     "metadata": {},
     "outputs": [],
     "prompt_number": 15
    },
    {
     "cell_type": "code",
     "collapsed": false,
     "input": [
      "def install_transmon(sha):\n",
      "    assert os.path.isdir(join(PREFIX, 'src', 'transmon_oct'))\n",
      "    ! (cd {PREFIX}/src/transmon_oct && git checkout {sha} && make install)"
     ],
     "language": "python",
     "metadata": {},
     "outputs": []
    },
    {
     "cell_type": "code",
     "collapsed": false,
     "input": [
      "! pip install -I git+ssh://git@jerusalem.physik.uni-kassel.de:qdynpylib@f51469d58642db1441419927a68898a91b103431#egg=QDYN\n",
      "! pip install -I git+ssh://git@jerusalem.physik.uni-kassel.de/goerz/QDYNTransmonLib@293490bae5498cff067a60d7e5000e49f975d35d#egg=QDYNTransmonLib\n",
      "! pip install mgplottools\n",
      "install_qdyn('7955f6be7bde56e50e92cc915516dc41b7428d8d')"
     ],
     "language": "python",
     "metadata": {},
     "outputs": []
    },
    {
     "cell_type": "markdown",
     "metadata": {},
     "source": [
      "$\\newcommand{\\Op}[1]{\\boldsymbol{\\mathsf{\\hat{#1}}}}$"
     ]
    },
    {
     "cell_type": "heading",
     "level": 2,
     "metadata": {},
     "source": [
      "System"
     ]
    },
    {
     "cell_type": "markdown",
     "metadata": {},
     "source": [
      "We consider the full Transmon Hamiltonian\n",
      "\\begin{equation}\n",
      "  \\Op{H} = \\sum_{q=1,2} \\left[ \\omega_q \\Op{b}^{\\dagger}_q \\Op{b}_q\n",
      "    + \\frac{\\alpha_q}{2} \\Op{b}^{\\dagger}_q\\Op{b}^{\\dagger}_q\\Op{b}_q\\Op{b}_q\n",
      "    + g_q \\left(\\Op{b}^{\\dagger}_q \\Op{a} + \\Op{b}_q \\Op{a}^{\\dagger} \\right)\n",
      "    \\right]\n",
      "    + \\omega_c \\Op{a}^{\\dagger}\\Op{a}\n",
      "    + \\epsilon^{*}(t) \\Op{a} + \\epsilon(t) \\Op{a}^{\\dagger}\n",
      "\\end{equation}\n",
      "with the parameters"
     ]
    },
    {
     "cell_type": "code",
     "collapsed": false,
     "input": [
      "params = {\n",
      "    'w_c': 8.3 # GHZ\n",
      "    'w_1': 6.5 # GHZ\n",
      "    'w_2': 6.6 # GHz\n",
      "    'alpha_1': -300 # GHZ\n",
      "    'alpha_2': -300 # MHZ\n",
      "    'g_1'    :  100 # MHZ\n",
      "    'g_2'    :  100 # MHZ\n",
      "}"
     ],
     "language": "python",
     "metadata": {},
     "outputs": []
    },
    {
     "cell_type": "markdown",
     "metadata": {},
     "source": [
      "Note that unlike in the optimizations done for KITP in 2013, we do *not* have a static qubit-qubit coupling, outside the effective coupling that is mediated by the cavity"
     ]
    },
    {
     "cell_type": "heading",
     "level": 3,
     "metadata": {},
     "source": [
      "Are there any resonances hidden in these parameters?"
     ]
    },
    {
     "cell_type": "markdown",
     "metadata": {},
     "source": [
      "[TODO: plot the first 3 or 4 levels lowest-lying levels]"
     ]
    },
    {
     "cell_type": "heading",
     "level": 3,
     "metadata": {},
     "source": [
      "How much entanglement is generated in the field-free case?"
     ]
    },
    {
     "cell_type": "markdown",
     "metadata": {},
     "source": [
      "[TODO]"
     ]
    },
    {
     "cell_type": "heading",
     "level": 3,
     "metadata": {},
     "source": [
      "How much entanglement is generated by Blackman pulses of varying intensity?"
     ]
    },
    {
     "cell_type": "markdown",
     "metadata": {},
     "source": [
      "[TODO]"
     ]
    },
    {
     "cell_type": "heading",
     "level": 3,
     "metadata": {},
     "source": [
      "Is the RWA justified?"
     ]
    },
    {
     "cell_type": "markdown",
     "metadata": {},
     "source": [
      "[TODO: propagate guess pulse with and without RWA, compare results]"
     ]
    },
    {
     "cell_type": "heading",
     "level": 2,
     "metadata": {},
     "source": [
      "Prerequisite: Does Optimization with State-Dependent Constraints Work?"
     ]
    },
    {
     "cell_type": "markdown",
     "metadata": {},
     "source": [
      "We want to penalize cavity excitation. We can enforce this in either one of two ways:\n",
      "*   State-Dependent constraints, with inhomogeneous backward propagation\n",
      "*   A non-Hermitian Hamiltonian\n",
      "\n",
      "For both cases, we should ensure that a single backward and forward propagation runs without crashing and gives reasonable results.\n",
      "\n",
      "For a single set of parameters and gate durations, we run an unconstrained optimization and a constrained optimization, and compare the resulting pulses. We could use either direct optimization, or PE optimizaton"
     ]
    },
    {
     "cell_type": "code",
     "collapsed": false,
     "input": [],
     "language": "python",
     "metadata": {},
     "outputs": []
    }
   ],
   "metadata": {}
  }
 ]
}