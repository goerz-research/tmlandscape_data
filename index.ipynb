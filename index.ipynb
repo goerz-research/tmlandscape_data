{
 "cells": [
  {
   "cell_type": "markdown",
   "metadata": {},
   "source": [
    "# Constrained Optimization of the Full Transmon Model"
   ]
  },
  {
   "cell_type": "code",
   "execution_count": 1,
   "metadata": {
    "collapsed": false
   },
   "outputs": [],
   "source": [
    "import os\n",
    "from os.path import join\n",
    "import sys\n",
    "import numpy as np\n",
    "import matplotlib.pylab as plt"
   ]
  },
  {
   "cell_type": "markdown",
   "metadata": {},
   "source": [
    "$\\newcommand{\\Op}[1]{\\boldsymbol{\\mathsf{\\hat{#1}}}}$"
   ]
  },
  {
   "cell_type": "markdown",
   "metadata": {},
   "source": [
    "## Introduction"
   ]
  },
  {
   "cell_type": "markdown",
   "metadata": {},
   "source": [
    "We consider the full Transmon Hamiltonian\n",
    "\\begin{equation}\n",
    "  \\Op{H} = \\sum_{q=1,2} \\left[ \\omega_q \\Op{b}^{\\dagger}_q \\Op{b}_q\n",
    "    + \\frac{\\alpha_q}{2} \\Op{b}^{\\dagger}_q\\Op{b}^{\\dagger}_q\\Op{b}_q\\Op{b}_q\n",
    "    + g_q \\left(\\Op{b}^{\\dagger}_q \\Op{a} + \\Op{b}_q \\Op{a}^{\\dagger} \\right)\n",
    "    \\right]\n",
    "    + \\omega_c \\Op{a}^{\\dagger}\\Op{a}\n",
    "    + \\epsilon^{*}(t) \\Op{a} + \\epsilon(t) \\Op{a}^{\\dagger}\n",
    "\\end{equation}\n",
    "Note that unlike in the optimizations done for KITP in 2013, we do *not* have a static qubit-qubit coupling, outside the effective coupling that is mediated by the cavity"
   ]
  },
  {
   "cell_type": "markdown",
   "metadata": {},
   "source": [
    "Goals:\n",
    "\n",
    "1.  Scan the parameter regime systematically for the point that allows the\n",
    "    easiest implementation of both single- and two-qubit gates. Identify\n",
    "    known gate mechanisms on map. The scan shows:\n",
    "    *   Which parameters yield the fastest gates\n",
    "    *   Which local equivalence classes different qubit parameters lead to\n",
    "    *   Whether there are \"good\" regions in addition to the regions at which known gate mechanism have been implemented (determined by resonance conditions)\n",
    "\n",
    "2.  For select points, determine the quantum speed limit for high fidelity\n",
    "    gates: What are the fastest possible quantum gates with all-microwave control of transmon qubits \n",
    "3.  Include robustness with respect to dissipation, and fluctuations in the\n",
    "    qubit parameters"
   ]
  },
  {
   "cell_type": "markdown",
   "metadata": {},
   "source": [
    "Plan:\n",
    "\n",
    "*   Prerequisite: Method testing\n",
    "    *   Test optimization with state-dependent and frequency constraints\n",
    "    *   Test optimization with perfect entangler\n",
    "    *   Test optimization for single-qubit gate\n",
    "    *   Examine the RIP method for depopulating the cavity. If generally applicable, incorporate into all guess pulses below\n",
    "    \n",
    "*   Scan parameter space.\n",
    "\n",
    "    We choose $\\omega_1$, $\\alpha_1 \\neq \\alpha_2$, $g_1 = g_2$ constant. We vary $\\omega_2$ and $\\omega_c$ (in the RWA) on a grid. At each grid point (set of paremters), we perform the following steps to evaluate the parameters as a candidate:\n",
    "    \n",
    "    *   Set $T=200$ ns (possibly also $T = 500$ ns and $T = 100$ ns\n",
    "    *   Determine a good guess pulse for the optimization towards a perfect entangler, and for the optimization towards a single-qubit gate\n",
    "    *   Perform a Krotov or LBFGS optimization, for PE and for single qubit gates (either LI-optimization for identity, or two optimizations $\\sigma_x^{(1)}$ and $\\sigma_x^{(2)}$.\n",
    "    \n",
    "    The critical step is the determination of a good guess pulse. A possiblity is to generate simple guess pulses based on some randomized parameters, and to perform a few simplex steps in these parameters.\n",
    "    \n",
    "*  Pick several points in the parameter space that yielded the best success. Determin the QSL by optimizing at increasingly smaller values of $T$.\n",
    "    "
   ]
  },
  {
   "cell_type": "markdown",
   "metadata": {},
   "source": [
    "## Environment Setup"
   ]
  },
  {
   "cell_type": "code",
   "execution_count": 2,
   "metadata": {
    "collapsed": false
   },
   "outputs": [
    {
     "name": "stdout",
     "output_type": "stream",
     "text": [
      "Installed version_information.py. To use it, type:\n",
      "  %load_ext version_information\n"
     ]
    },
    {
     "data": {
      "application/json": {
       "Software versions": [
        {
         "module": "Python",
         "version": "2.7.10 64bit [GCC 4.4.7 20120313 (Red Hat 4.4.7-1)]"
        },
        {
         "module": "IPython",
         "version": "3.1.0"
        },
        {
         "module": "OS",
         "version": "Linux 3.13.0 45 generic x86_64 with debian jessie sid"
        },
        {
         "module": "numpy",
         "version": "1.9.2"
        },
        {
         "module": "matplotlib",
         "version": "1.4.3"
        },
        {
         "module": "pandas",
         "version": "0.16.1"
        },
        {
         "module": "QDYN",
         "version": "0.1.0"
        },
        {
         "module": "QDYNTransmonLib",
         "version": "1.0.2"
        },
        {
         "module": "cd $PREFIX/src/qdyn && git log",
         "version": "commit f1e3bb93036a3c00abde0151279eebcf6cc605fb\n"
        },
        {
         "module": "cd $PREFIX/src/transmon_oct && git log",
         "version": "commit 72d26c92b2f6cb55849c4db8b1d42155d05ddb16\n"
        }
       ]
      },
      "text/html": [
       "<table><tr><th>Software</th><th>Version</th></tr><tr><td>Python</td><td>2.7.10 64bit [GCC 4.4.7 20120313 (Red Hat 4.4.7-1)]</td></tr><tr><td>IPython</td><td>3.1.0</td></tr><tr><td>OS</td><td>Linux 3.13.0 45 generic x86_64 with debian jessie sid</td></tr><tr><td>numpy</td><td>1.9.2</td></tr><tr><td>matplotlib</td><td>1.4.3</td></tr><tr><td>pandas</td><td>0.16.1</td></tr><tr><td>QDYN</td><td>0.1.0</td></tr><tr><td>QDYNTransmonLib</td><td>1.0.2</td></tr><tr><td>cd $PREFIX/src/qdyn && git log</td><td>commit f1e3bb93036a3c00abde0151279eebcf6cc605fb\n",
       "</td></tr><tr><td>cd $PREFIX/src/transmon_oct && git log</td><td>commit 72d26c92b2f6cb55849c4db8b1d42155d05ddb16\n",
       "</td></tr><tr><td colspan='2'>Tue Jun 02 22:39:42 2015 CEST</td></tr></table>"
      ],
      "text/latex": [
       "\\begin{tabular}{|l|l|}\\hline\n",
       "{\\bf Software} & {\\bf Version} \\\\ \\hline\\hline\n",
       "Python & 2.7.10 64bit [GCC 4.4.7 20120313 (Red Hat 4.4.7-1)] \\\\ \\hline\n",
       "IPython & 3.1.0 \\\\ \\hline\n",
       "OS & Linux 3.13.0 45 generic x86\\_64 with debian jessie sid \\\\ \\hline\n",
       "numpy & 1.9.2 \\\\ \\hline\n",
       "matplotlib & 1.4.3 \\\\ \\hline\n",
       "pandas & 0.16.1 \\\\ \\hline\n",
       "QDYN & 0.1.0 \\\\ \\hline\n",
       "QDYNTransmonLib & 1.0.2 \\\\ \\hline\n",
       "cd $PREFIX/src/qdyn && git log & commit f1e3bb93036a3c00abde0151279eebcf6cc605fb\n",
       " \\\\ \\hline\n",
       "cd $PREFIX/src/transmon_oct && git log & commit 72d26c92b2f6cb55849c4db8b1d42155d05ddb16\n",
       " \\\\ \\hline\n",
       "\\hline \\multicolumn{2}{|l|}{Tue Jun 02 22:39:42 2015 CEST} \\\\ \\hline\n",
       "\\end{tabular}\n"
      ],
      "text/plain": [
       "Software versions\n",
       "Python 2.7.10 64bit [GCC 4.4.7 20120313 (Red Hat 4.4.7-1)]\n",
       "IPython 3.1.0\n",
       "OS Linux 3.13.0 45 generic x86_64 with debian jessie sid\n",
       "numpy 1.9.2\n",
       "matplotlib 1.4.3\n",
       "pandas 0.16.1\n",
       "QDYN 0.1.0\n",
       "QDYNTransmonLib 1.0.2\n",
       "cd $PREFIX/src/qdyn && git log commit f1e3bb93036a3c00abde0151279eebcf6cc605fb\n",
       "\n",
       "cd $PREFIX/src/transmon_oct && git log commit 72d26c92b2f6cb55849c4db8b1d42155d05ddb16\n",
       "\n",
       "Tue Jun 02 22:39:42 2015 CEST"
      ]
     },
     "execution_count": 2,
     "metadata": {},
     "output_type": "execute_result"
    }
   ],
   "source": [
    "%install_ext http://raw.github.com/goerz/version_information/master/version_information.py\n",
    "%reload_ext version_information\n",
    "% version_information numpy, matplotlib, pandas, QDYN, QDYNTransmonLib, \"cd $PREFIX/src/qdyn && git log\",  \"cd $PREFIX/src/transmon_oct && git log\""
   ]
  },
  {
   "cell_type": "code",
   "execution_count": 3,
   "metadata": {
    "collapsed": true
   },
   "outputs": [],
   "source": [
    "PREFIX = join(os.getcwd(), 'venv')\n",
    "assert os.path.samefile(join(PREFIX, 'bin'), os.environ['PATH'].split(os.pathsep)[0])"
   ]
  },
  {
   "cell_type": "markdown",
   "metadata": {},
   "source": [
    "## Prerequisites"
   ]
  },
  {
   "cell_type": "markdown",
   "metadata": {
    "collapsed": false
   },
   "source": [
    "*   [Does state-dependent constraint work?](Prereq_Nonherm.ipynb) Yes, but slow convergence"
   ]
  },
  {
   "cell_type": "markdown",
   "metadata": {},
   "source": [
    "## Stage 1: Random Frequency Search, Amplitude Scan, Time Grid"
   ]
  },
  {
   "cell_type": "code",
   "execution_count": 4,
   "metadata": {
    "collapsed": false
   },
   "outputs": [
    {
     "name": "stdout",
     "output_type": "stream",
     "text": [
      "/bin/sh: 1: ./run_stage1.py: not found\r\n"
     ]
    }
   ],
   "source": [
    "! ./run_stage1.py"
   ]
  },
  {
   "cell_type": "markdown",
   "metadata": {},
   "source": [
    "## Stage 2: Simplex (Pre-)Optimization"
   ]
  },
  {
   "cell_type": "markdown",
   "metadata": {},
   "source": [
    "## Stage 3: Gradient-Based Search"
   ]
  },
  {
   "cell_type": "code",
   "execution_count": null,
   "metadata": {
    "collapsed": true
   },
   "outputs": [],
   "source": []
  }
 ],
 "metadata": {
  "kernelspec": {
   "display_name": "Python 2",
   "language": "python",
   "name": "python2"
  },
  "language_info": {
   "codemirror_mode": {
    "name": "ipython",
    "version": 2
   },
   "file_extension": ".py",
   "mimetype": "text/x-python",
   "name": "python",
   "nbconvert_exporter": "python",
   "pygments_lexer": "ipython2",
   "version": "2.7.10"
  }
 },
 "nbformat": 4,
 "nbformat_minor": 0
}
