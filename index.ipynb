{
 "cells": [
  {
   "cell_type": "markdown",
   "metadata": {},
   "source": [
    "# Constrained Optimization of the Full Transmon Model"
   ]
  },
  {
   "cell_type": "code",
   "execution_count": 1,
   "metadata": {
    "collapsed": false
   },
   "outputs": [],
   "source": [
    "import os\n",
    "from os.path import join\n",
    "import sys\n",
    "import numpy as np\n",
    "import matplotlib.pylab as plt"
   ]
  },
  {
   "cell_type": "markdown",
   "metadata": {},
   "source": [
    "$\\newcommand{\\Op}[1]{\\boldsymbol{\\mathsf{\\hat{#1}}}}$"
   ]
  },
  {
   "cell_type": "markdown",
   "metadata": {},
   "source": [
    "## Introduction"
   ]
  },
  {
   "cell_type": "markdown",
   "metadata": {},
   "source": [
    "We consider the full Transmon Hamiltonian\n",
    "\\begin{equation}\n",
    "  \\Op{H} = \\sum_{q=1,2} \\left[ \\omega_q \\Op{b}^{\\dagger}_q \\Op{b}_q\n",
    "    + \\frac{\\alpha_q}{2} \\Op{b}^{\\dagger}_q\\Op{b}^{\\dagger}_q\\Op{b}_q\\Op{b}_q\n",
    "    + g_q \\left(\\Op{b}^{\\dagger}_q \\Op{a} + \\Op{b}_q \\Op{a}^{\\dagger} \\right)\n",
    "    \\right]\n",
    "    + \\omega_c \\Op{a}^{\\dagger}\\Op{a}\n",
    "    + \\epsilon^{*}(t) \\Op{a} + \\epsilon(t) \\Op{a}^{\\dagger}\n",
    "\\end{equation}\n",
    "Note that unlike in the optimizations done for KITP in 2013, we do *not* have a static qubit-qubit coupling, outside the effective coupling that is mediated by the cavity"
   ]
  },
  {
   "cell_type": "markdown",
   "metadata": {},
   "source": [
    "Goals:\n",
    "\n",
    "1.  Scan the parameter regime systematically for the point that allows the\n",
    "    easiest implementation of both single- and two-qubit gates. Identify\n",
    "    known gate mechanisms on map. The scan shows:\n",
    "    *   Which parameters yield the fastest gates\n",
    "    *   Which local equivalence classes different qubit parameters lead to\n",
    "    *   Whether there are \"good\" regions in addition to the regions at which known gate mechanism have been implemented (determined by resonance conditions)\n",
    "\n",
    "2.  For select points, determine the quantum speed limit for high fidelity\n",
    "    gates: What are the fastest possible quantum gates with all-microwave control of transmon qubits \n",
    "3.  Include robustness with respect to dissipation, and fluctuations in the\n",
    "    qubit parameters"
   ]
  },
  {
   "cell_type": "markdown",
   "metadata": {},
   "source": [
    "Plan:\n",
    "\n",
    "*   Prerequisite: Method testing\n",
    "    *   Test optimization with state-dependent and frequency constraints\n",
    "    *   Test optimization with perfect entangler\n",
    "    *   Test optimization for single-qubit gate\n",
    "    *   Examine the RIP method for depopulating the cavity. If generally applicable, incorporate into all guess pulses below\n",
    "    \n",
    "*   Scan parameter space.\n",
    "\n",
    "    We choose $\\omega_1$, $\\alpha_1 \\neq \\alpha_2$, $g_1 = g_2$ constant. We vary $\\omega_2$ and $\\omega_c$ (in the RWA) on a grid. At each grid point (set of paremters), we perform the following steps to evaluate the parameters as a candidate:\n",
    "    \n",
    "    *   Set $T=200$ ns (possibly also $T = 500$ ns and $T = 100$ ns\n",
    "    *   Determine a good guess pulse for the optimization towards a perfect entangler, and for the optimization towards a single-qubit gate\n",
    "    *   Perform a Krotov or LBFGS optimization, for PE and for single qubit gates (either LI-optimization for identity, or two optimizations $\\sigma_x^{(1)}$ and $\\sigma_x^{(2)}$.\n",
    "    \n",
    "    The critical step is the determination of a good guess pulse. A possiblity is to generate simple guess pulses based on some randomized parameters, and to perform a few simplex steps in these parameters.\n",
    "    \n",
    "*  Pick several points in the parameter space that yielded the best success. Determin the QSL by optimizing at increasingly smaller values of $T$.\n",
    "    "
   ]
  },
  {
   "cell_type": "markdown",
   "metadata": {},
   "source": [
    "## Environment Setup"
   ]
  },
  {
   "cell_type": "code",
   "execution_count": 2,
   "metadata": {
    "collapsed": false
   },
   "outputs": [
    {
     "name": "stdout",
     "output_type": "stream",
     "text": [
      "Installed version_information.py. To use it, type:\n",
      "  %load_ext version_information\n"
     ]
    },
    {
     "data": {
      "application/json": {
       "Software versions": [
        {
         "module": "Python",
         "version": "2.7.10 64bit [GCC 4.4.7 20120313 (Red Hat 4.4.7-1)]"
        },
        {
         "module": "IPython",
         "version": "3.1.0"
        },
        {
         "module": "OS",
         "version": "Linux 3.13.0 45 generic x86_64 with debian jessie sid"
        },
        {
         "module": "numpy",
         "version": "1.9.2"
        },
        {
         "module": "matplotlib",
         "version": "1.4.3"
        },
        {
         "module": "pandas",
         "version": "0.16.1"
        },
        {
         "module": "QDYN",
         "version": "0.1.0"
        },
        {
         "module": "QDYNTransmonLib",
         "version": "1.0.2"
        },
        {
         "module": "cd $PREFIX/src/qdyn && git log",
         "version": "commit f1e3bb93036a3c00abde0151279eebcf6cc605fb\n"
        },
        {
         "module": "cd $PREFIX/src/transmon_oct && git log",
         "version": "commit 72d26c92b2f6cb55849c4db8b1d42155d05ddb16\n"
        }
       ]
      },
      "text/html": [
       "<table><tr><th>Software</th><th>Version</th></tr><tr><td>Python</td><td>2.7.10 64bit [GCC 4.4.7 20120313 (Red Hat 4.4.7-1)]</td></tr><tr><td>IPython</td><td>3.1.0</td></tr><tr><td>OS</td><td>Linux 3.13.0 45 generic x86_64 with debian jessie sid</td></tr><tr><td>numpy</td><td>1.9.2</td></tr><tr><td>matplotlib</td><td>1.4.3</td></tr><tr><td>pandas</td><td>0.16.1</td></tr><tr><td>QDYN</td><td>0.1.0</td></tr><tr><td>QDYNTransmonLib</td><td>1.0.2</td></tr><tr><td>cd $PREFIX/src/qdyn && git log</td><td>commit f1e3bb93036a3c00abde0151279eebcf6cc605fb\n",
       "</td></tr><tr><td>cd $PREFIX/src/transmon_oct && git log</td><td>commit 72d26c92b2f6cb55849c4db8b1d42155d05ddb16\n",
       "</td></tr><tr><td colspan='2'>Tue Jun 02 22:39:42 2015 CEST</td></tr></table>"
      ],
      "text/latex": [
       "\\begin{tabular}{|l|l|}\\hline\n",
       "{\\bf Software} & {\\bf Version} \\\\ \\hline\\hline\n",
       "Python & 2.7.10 64bit [GCC 4.4.7 20120313 (Red Hat 4.4.7-1)] \\\\ \\hline\n",
       "IPython & 3.1.0 \\\\ \\hline\n",
       "OS & Linux 3.13.0 45 generic x86\\_64 with debian jessie sid \\\\ \\hline\n",
       "numpy & 1.9.2 \\\\ \\hline\n",
       "matplotlib & 1.4.3 \\\\ \\hline\n",
       "pandas & 0.16.1 \\\\ \\hline\n",
       "QDYN & 0.1.0 \\\\ \\hline\n",
       "QDYNTransmonLib & 1.0.2 \\\\ \\hline\n",
       "cd $PREFIX/src/qdyn && git log & commit f1e3bb93036a3c00abde0151279eebcf6cc605fb\n",
       " \\\\ \\hline\n",
       "cd $PREFIX/src/transmon_oct && git log & commit 72d26c92b2f6cb55849c4db8b1d42155d05ddb16\n",
       " \\\\ \\hline\n",
       "\\hline \\multicolumn{2}{|l|}{Tue Jun 02 22:39:42 2015 CEST} \\\\ \\hline\n",
       "\\end{tabular}\n"
      ],
      "text/plain": [
       "Software versions\n",
       "Python 2.7.10 64bit [GCC 4.4.7 20120313 (Red Hat 4.4.7-1)]\n",
       "IPython 3.1.0\n",
       "OS Linux 3.13.0 45 generic x86_64 with debian jessie sid\n",
       "numpy 1.9.2\n",
       "matplotlib 1.4.3\n",
       "pandas 0.16.1\n",
       "QDYN 0.1.0\n",
       "QDYNTransmonLib 1.0.2\n",
       "cd $PREFIX/src/qdyn && git log commit f1e3bb93036a3c00abde0151279eebcf6cc605fb\n",
       "\n",
       "cd $PREFIX/src/transmon_oct && git log commit 72d26c92b2f6cb55849c4db8b1d42155d05ddb16\n",
       "\n",
       "Tue Jun 02 22:39:42 2015 CEST"
      ]
     },
     "execution_count": 2,
     "metadata": {},
     "output_type": "execute_result"
    }
   ],
   "source": [
    "%install_ext http://raw.github.com/goerz/version_information/master/version_information.py\n",
    "%reload_ext version_information\n",
    "% version_information numpy, matplotlib, pandas, QDYN, QDYNTransmonLib, \"cd $PREFIX/src/qdyn && git log\",  \"cd $PREFIX/src/transmon_oct && git log\""
   ]
  },
  {
   "cell_type": "code",
   "execution_count": 3,
   "metadata": {
    "collapsed": true
   },
   "outputs": [],
   "source": [
    "PREFIX = join(os.getcwd(), 'venv')\n",
    "assert os.path.samefile(join(PREFIX, 'bin'), os.environ['PATH'].split(os.pathsep)[0])"
   ]
  },
  {
   "cell_type": "markdown",
   "metadata": {},
   "source": [
    "## Prerequisites"
   ]
  },
  {
   "cell_type": "markdown",
   "metadata": {
    "collapsed": false
   },
   "source": [
    "*   [Does state-dependent constraint work?](Prereq_Nonherm.ipynb) Yes, but slow convergence\n",
    "*   [Can we ensure a small nq,nc? What sampling rate is sufficient?](Prereq_Cutoff.ipynb) One extra level is sufficient. 100 samples per oscillation is sufficient if we don't claim high precision"
   ]
  },
  {
   "cell_type": "markdown",
   "metadata": {},
   "source": [
    "## Qubit Paramters"
   ]
  },
  {
   "cell_type": "markdown",
   "metadata": {},
   "source": [
    "*   $\\omega_1/2\\pi =$ 6.0 GHz\n",
    "*   $\\omega_2/2\\pi =$ 6.25, 6.5, 6.75, 7.0, 7.25, 7.5, 7.75, 8.0, 8.5, 9.0 GHz\n",
    "*   $\\omega_c/2\\pi =$ 6.6, 7.1, 7.6, 8.1, 8.6, 9.1, 9.6, 10.1, 10.6, 11.1 GHz (enforce $\\omega_c > \\omega_2$)  \n",
    "*   $\\alpha_1/2\\pi =$ 290 MHz\n",
    "*   $\\alpha_2/2\\pi =$ 310 MHz\n",
    "*   $g/2\\pi =$ 70 MHz\n",
    "*   $T = $ 200 ns"
   ]
  },
  {
   "cell_type": "markdown",
   "metadata": {},
   "source": [
    "We take into account 4 qubit levels with realistic decay time [Peterer et al, Phys. Rev. Lett. 114, 010501 (2015)], and 5 cavity levels, also with realistic decay [A. W. Cross and J. M. Gambetta, Phys. Rev. A 91 032325 (2015)]. The last level for each qubit and the cavity is \"truncated\" by setting the decay to \"infinity\", as an effective state-dependent constraint.\n",
    "\n",
    "Decay is modelled by a non-Hermitian Hamiltonian (decay leads to loss of norm)"
   ]
  },
  {
   "cell_type": "markdown",
   "metadata": {},
   "source": [
    "## Stage 1: Random Frequency Search & Amplitude Scan"
   ]
  },
  {
   "cell_type": "markdown",
   "metadata": {},
   "source": [
    "For each parameters pair ($\\omega_2, \\omega_c$) we run a `./pre_simplex_scan.py` script, taking the following steps:\n",
    "*   create runfolders, e.g. `w2_6000MHz_wc_11000MHz/stage1/...`\n",
    "    \n",
    "        .../field_free -> determine zeta\n",
    "        .../1_freq_center <- frequency centered between qubits\n",
    "        .../1_freq_1..10 <- 10 random frequencies\n",
    "        .../2_freq_resonant <- resonant with both qubits\n",
    "        .../2_freq_1..10 <- 10 random frequency pairs\n",
    "        .../5_freq_1..10 <- 10 random frequency/amplitude choices\n",
    "        [33 runfolders per parameter set]\n",
    "\n",
    "*   for each runfolder, scan peak amplitude over values $E_0 =$ 10, 50, 100, 150, 200, 250, 300, 350, 400, 450 MHz   \n",
    "    [total 10 * 33 propagations per parameter set]\n",
    "\n",
    "*   select best runs, and create runfolders for stage, e.g. `w2_6000MHz_wc_11000MHz/stage1/...`\n",
    "\n",
    "        .../PE_1freq_center <- best amplitude for perfect entangler\n",
    "        .../O_1freq_center <- best amplitude for LEC unity\n",
    "        .../PE_1freq_random <- best random frequency/amplitude for PE\n",
    "        .../O_1freq_random\n",
    "        .../PE_2freq_resonant\n",
    "        .../O_2freq_resonant\n",
    "        .../PE_2freq_random\n",
    "        .../O_2freq_random\n",
    "        .../PE_5freq_random\n",
    "        .../O_5freq_random\n",
    "        [10 runfolders per parameter set]\n",
    "        "
   ]
  },
  {
   "cell_type": "code",
   "execution_count": 11,
   "metadata": {
    "collapsed": false
   },
   "outputs": [
    {
     "name": "stdout",
     "output_type": "stream",
     "text": [
      "/bin/sh: 1: ./run_stage1.py: not found\r\n"
     ]
    }
   ],
   "source": [
    "! ./run_stage1.py"
   ]
  },
  {
   "cell_type": "markdown",
   "metadata": {},
   "source": [
    "## Stage 2: Simplex (Pre-)Optimization"
   ]
  },
  {
   "cell_type": "markdown",
   "metadata": {},
   "source": [
    "For each parameter pair, and each of the 10 runfolders selected for each parameter pair,\n",
    "\n",
    "*   run simplex search. Figure of merit is either PE, or local equivalence class of the identity (local gates). All    pulses use Blackman shape $B(t)$\n",
    "    \n",
    "    parameters to vary are:\n",
    "    * for single-frequency $\\epsilon(t) = E_0 B(t) \\cos(\\omega_L t)$: $E_0$, $\\omega_L$ [2 parameters]\n",
    "    * for 2 frequencies $\\epsilon(t) = B(t)(a_1 \\cos(\\omega_{L,1} t) + a_2 \\cos(\\omega_{L,2} t + \\phi_0)$: $a_1$, $a_2$, $\\omega_{L,1}$, $\\omega_{L,2}$, $\\phi_0$. [5 parameters]\n",
    "    * for 5 frequencies $\\epsilon(t) = B(t)\\sum_{n=1}^{5}(a_n \\cos(\\omega_{L,n} t) + b_n \\sin(\\omega_{L,n} t))$: $a_{1..5}$, $b_{1..5}$, $\\omega_{L,1..5}$ [15 parameters]"
   ]
  },
  {
   "cell_type": "code",
   "execution_count": null,
   "metadata": {
    "collapsed": true
   },
   "outputs": [],
   "source": [
    "! ./run_stage2.py"
   ]
  },
  {
   "cell_type": "markdown",
   "metadata": {},
   "source": [
    "## Stage 3: Gradient-Based Search"
   ]
  },
  {
   "cell_type": "markdown",
   "metadata": {
    "collapsed": true
   },
   "source": [
    "* Run Krotov for 50 iterations on all runfolders\n",
    "* For each parameter set, select the one most promising run\n",
    "* Continue optimization"
   ]
  },
  {
   "cell_type": "markdown",
   "metadata": {},
   "source": [
    "## Stage 4: Quantum Speed Limit"
   ]
  },
  {
   "cell_type": "markdown",
   "metadata": {},
   "source": [
    "For best points resulting from stage 3, lower gate duration from $T = $ 200 ns to determine QSL"
   ]
  },
  {
   "cell_type": "code",
   "execution_count": null,
   "metadata": {
    "collapsed": true
   },
   "outputs": [],
   "source": []
  }
 ],
 "metadata": {
  "kernelspec": {
   "display_name": "Python 2",
   "language": "python",
   "name": "python2"
  },
  "language_info": {
   "codemirror_mode": {
    "name": "ipython",
    "version": 2
   },
   "file_extension": ".py",
   "mimetype": "text/x-python",
   "name": "python",
   "nbconvert_exporter": "python",
   "pygments_lexer": "ipython2",
   "version": "2.7.10"
  }
 },
 "nbformat": 4,
 "nbformat_minor": 0
}
