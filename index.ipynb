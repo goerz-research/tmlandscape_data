{
 "cells": [
  {
   "cell_type": "markdown",
   "metadata": {},
   "source": [
    "# Constrained Optimization of the Full Transmon Model"
   ]
  },
  {
   "cell_type": "code",
   "execution_count": 11,
   "metadata": {
    "collapsed": false
   },
   "outputs": [],
   "source": [
    "import os\n",
    "from os.path import join\n",
    "import sys\n",
    "import numpy as np\n",
    "import matplotlib.pylab as plt"
   ]
  },
  {
   "cell_type": "markdown",
   "metadata": {},
   "source": [
    "$\\newcommand{\\Op}[1]{\\boldsymbol{\\mathsf{\\hat{#1}}}}$"
   ]
  },
  {
   "cell_type": "markdown",
   "metadata": {},
   "source": [
    "## Introduction"
   ]
  },
  {
   "cell_type": "markdown",
   "metadata": {},
   "source": [
    "We consider the full Transmon Hamiltonian\n",
    "\\begin{equation}\n",
    "  \\Op{H} = \\sum_{q=1,2} \\left[ \\omega_q \\Op{b}^{\\dagger}_q \\Op{b}_q\n",
    "    + \\frac{\\alpha_q}{2} \\Op{b}^{\\dagger}_q\\Op{b}^{\\dagger}_q\\Op{b}_q\\Op{b}_q\n",
    "    + g_q \\left(\\Op{b}^{\\dagger}_q \\Op{a} + \\Op{b}_q \\Op{a}^{\\dagger} \\right)\n",
    "    \\right]\n",
    "    + \\omega_c \\Op{a}^{\\dagger}\\Op{a}\n",
    "    + \\epsilon^{*}(t) \\Op{a} + \\epsilon(t) \\Op{a}^{\\dagger}\n",
    "\\end{equation}\n",
    "Note that unlike in the optimizations done for KITP in 2013, we do *not* have a static qubit-qubit coupling, outside the effective coupling that is mediated by the cavity"
   ]
  },
  {
   "cell_type": "markdown",
   "metadata": {},
   "source": [
    "Goals:\n",
    "\n",
    "1.  Scan the parameter regime systematically for the point that allows the\n",
    "    easiest implementation of both single- and two-qubit gates. Identify\n",
    "    known gate mechanisms on map. The scan shows:\n",
    "    *   Which parameters yield the fastest gates\n",
    "    *   Which local equivalence classes different qubit parameters lead to\n",
    "    *   Whether there are \"good\" regions in addition to the regions at which known gate mechanism have been implemented (determined by resonance conditions)\n",
    "\n",
    "2.  For select points, determine the quantum speed limit for high fidelity\n",
    "    gates: What are the fastest possible quantum gates with all-microwave control of transmon qubits \n",
    "3.  Include robustness with respect to dissipation, and fluctuations in the\n",
    "    qubit parameters"
   ]
  },
  {
   "cell_type": "markdown",
   "metadata": {},
   "source": [
    "Plan:\n",
    "\n",
    "*   Prerequisite: Method testing\n",
    "    *   Redo a direct gate optimization for KITP parameters, but for $J=0$.\n",
    "    *   Test optimization with state-dependent and frequency constraints\n",
    "    *   Test optimization with perfect entangler\n",
    "    *   Test optimization for single-qubit gate\n",
    "    *   Examine the RIP method for depopulating the cavity. If generally applicable, incorporate into all guess pulses below\n",
    "    \n",
    "*   Scan parameter space.\n",
    "\n",
    "    We choose $\\omega_1$, $\\alpha_1 \\neq \\alpha_2$, $g_1 = g_2$ constant. We vary $\\omega_2$ and $\\omega_c$ (in the RWA) on a grid. At each grid point (set of paremters), we perform the following steps to evaluate the parameters as a candidate:\n",
    "    \n",
    "    *   Set $T=200$ ns (possibly also $T = 500$ ns and $T = 100$ ns\n",
    "    *   Determine a good guess pulse for the optimization towards a perfect entangler, and for the optimization towards a single-qubit gate\n",
    "    *   Perform a Krotov or LBFGS optimization, for PE and for single qubit gates (either LI-optimization for identity, or two optimizations $\\sigma_x^{(1)}$ and $\\sigma_x^{(2)}$.\n",
    "    \n",
    "    The critical step is the determination of a good guess pulse. A possiblity is to generate simple guess pulses based on some randomized parameters, and to perform a few simplex steps in these parameters.\n",
    "    \n",
    "*  Pick several points in the parameter space that yielded the best success. Determin the QSL by optimizing at increasingly smaller values of $T$.\n",
    "    "
   ]
  },
  {
   "cell_type": "markdown",
   "metadata": {},
   "source": [
    "## Environment Setup"
   ]
  },
  {
   "cell_type": "markdown",
   "metadata": {},
   "source": [
    "We keep our Python installation, as well as all compiled code in a virtual environment, stored in `$PREFIX`. The source code for the QDYN library and the trasmon propgram has been checked out to `$PREFIX/src/qdyn` and `$PREFIX/src/transmon_oct`, respectively.\n",
    "\n",
    "    #!/bin/bash\n",
    "    conda create -p ./venv anaconda\n",
    "\n",
    "    export PREFIX=`pwd`/venv\n",
    "    export LD_LIBRARY_PATH=$PREFIX/lib:$LD_LIBRARY_PATH\n",
    "    export PATH=$PREFIX/bin:$PATH\n",
    "\n",
    "    mkdir -p ./venv/src\n",
    "\n",
    "    (cd ./venv/src/ && git clone git@jerusalem.physik.uni-kassel.de:qdyn)\n",
    "    (cd ./venv/src/ && git clone git@jerusalem.physik.uni-kassel.de:goerz/transmon_oct)\n",
    "\n",
    "    (cd $PREFIX/src/qdyn && git checkout master && ./configure --prefix=$PREFIX --no-hooks && make install)\n",
    "    (cd $PREFIX/src/transmon_oct && git checkout master && ./configure --prefix=$PREFIX && make install)\n",
    "\n",
    "    pip install -I git+ssh://git@jerusalem.physik.uni-kassel.de/qdynpylib@master#egg=QDYN\n",
    "    pip install -I git+ssh://git@jerusalem.physik.uni-kassel.de/goerz/QDYNTransmonLib@master#egg=QDYNTransmonLib\n",
    "    pip install mgplottools"
   ]
  },
  {
   "cell_type": "code",
   "execution_count": 3,
   "metadata": {
    "collapsed": false
   },
   "outputs": [
    {
     "name": "stdout",
     "output_type": "stream",
     "text": [
      "Installed version_information.py. To use it, type:\n",
      "  %load_ext version_information\n"
     ]
    },
    {
     "data": {
      "application/json": {
       "Software versions": [
        {
         "module": "Python",
         "version": "2.7.8 64bit [GCC 4.4.7 20120313 (Red Hat 4.4.7-1)]"
        },
        {
         "module": "IPython",
         "version": "2.2.0"
        },
        {
         "module": "OS",
         "version": "Linux 2.6.32 504.8.1.el6.x86_64 x86_64 with redhat 6.2 Zoot"
        },
        {
         "module": "numpy",
         "version": "1.9.0"
        },
        {
         "module": "matplotlib",
         "version": "1.4.0"
        },
        {
         "module": "pandas",
         "version": "0.14.1"
        },
        {
         "module": "QDYN",
         "version": "2.0.dev1"
        },
        {
         "module": "QDYNTransmonLib",
         "version": "1.0"
        },
        {
         "module": "cd $PREFIX/src/qdyn && git log",
         "version": "commit 5360e2415fb20a98dbe87df2a15691825e177f47\n"
        },
        {
         "module": "cd $PREFIX/src/transmon_oct && git log",
         "version": "commit 47bba1c8e394a17fda452105a66d71be80c4b713\n"
        }
       ]
      },
      "text/html": [
       "<table><tr><th>Software</th><th>Version</th></tr><tr><td>Python</td><td>2.7.8 64bit [GCC 4.4.7 20120313 (Red Hat 4.4.7-1)]</td></tr><tr><td>IPython</td><td>2.2.0</td></tr><tr><td>OS</td><td>Linux 2.6.32 504.8.1.el6.x86_64 x86_64 with redhat 6.2 Zoot</td></tr><tr><td>numpy</td><td>1.9.0</td></tr><tr><td>matplotlib</td><td>1.4.0</td></tr><tr><td>pandas</td><td>0.14.1</td></tr><tr><td>QDYN</td><td>2.0.dev1</td></tr><tr><td>QDYNTransmonLib</td><td>1.0</td></tr><tr><td>cd $PREFIX/src/qdyn && git log</td><td>commit 5360e2415fb20a98dbe87df2a15691825e177f47\n",
       "</td></tr><tr><td>cd $PREFIX/src/transmon_oct && git log</td><td>commit 47bba1c8e394a17fda452105a66d71be80c4b713\n",
       "</td></tr><tr><td colspan='2'>Mon Feb 23 10:38:52 2015 CET</td></tr></table>"
      ],
      "text/latex": [
       "\\begin{tabular}{|l|l|}\\hline\n",
       "{\\bf Software} & {\\bf Version} \\\\ \\hline\\hline\n",
       "Python & 2.7.8 64bit [GCC 4.4.7 20120313 (Red Hat 4.4.7-1)] \\\\ \\hline\n",
       "IPython & 2.2.0 \\\\ \\hline\n",
       "OS & Linux 2.6.32 504.8.1.el6.x86\\_64 x86\\_64 with redhat 6.2 Zoot \\\\ \\hline\n",
       "numpy & 1.9.0 \\\\ \\hline\n",
       "matplotlib & 1.4.0 \\\\ \\hline\n",
       "pandas & 0.14.1 \\\\ \\hline\n",
       "QDYN & 2.0.dev1 \\\\ \\hline\n",
       "QDYNTransmonLib & 1.0 \\\\ \\hline\n",
       "cd $PREFIX/src/qdyn && git log & commit 5360e2415fb20a98dbe87df2a15691825e177f47\n",
       " \\\\ \\hline\n",
       "cd $PREFIX/src/transmon_oct && git log & commit 47bba1c8e394a17fda452105a66d71be80c4b713\n",
       " \\\\ \\hline\n",
       "\\hline \\multicolumn{2}{|l|}{Mon Feb 23 10:38:52 2015 CET} \\\\ \\hline\n",
       "\\end{tabular}\n"
      ],
      "text/plain": [
       "Software versions\n",
       "Python 2.7.8 64bit [GCC 4.4.7 20120313 (Red Hat 4.4.7-1)]\n",
       "IPython 2.2.0\n",
       "OS Linux 2.6.32 504.8.1.el6.x86_64 x86_64 with redhat 6.2 Zoot\n",
       "numpy 1.9.0\n",
       "matplotlib 1.4.0\n",
       "pandas 0.14.1\n",
       "QDYN 2.0.dev1\n",
       "QDYNTransmonLib 1.0\n",
       "cd $PREFIX/src/qdyn && git log commit 5360e2415fb20a98dbe87df2a15691825e177f47\n",
       "\n",
       "cd $PREFIX/src/transmon_oct && git log commit 47bba1c8e394a17fda452105a66d71be80c4b713\n",
       "\n",
       "Mon Feb 23 10:38:52 2015 CET"
      ]
     },
     "execution_count": 3,
     "metadata": {},
     "output_type": "execute_result"
    }
   ],
   "source": [
    "%install_ext http://raw.github.com/goerz/version_information/master/version_information.py\n",
    "%load_ext version_information\n",
    "% version_information numpy, matplotlib, pandas, QDYN, QDYNTransmonLib, \"cd $PREFIX/src/qdyn && git log\",  \"cd $PREFIX/src/transmon_oct && git log\""
   ]
  },
  {
   "cell_type": "code",
   "execution_count": 9,
   "metadata": {
    "collapsed": true
   },
   "outputs": [],
   "source": [
    "PREFIX = join(os.getcwd(), 'venv')\n",
    "assert os.path.samefile(join(PREFIX, 'bin'), os.environ['PATH'].split(os.pathsep)[0])"
   ]
  },
  {
   "cell_type": "markdown",
   "metadata": {},
   "source": [
    "## Re-examination of KITP parameters and Application of new Methods"
   ]
  },
  {
   "cell_type": "code",
   "execution_count": 12,
   "metadata": {
    "collapsed": false
   },
   "outputs": [],
   "source": [
    "params = {\n",
    "    'w_c': 8.3, # GHZ\n",
    "    'w_1': 6.5, # GHZ\n",
    "    'w_2': 6.6, # GHz\n",
    "    'alpha_1': -300, # GHZ\n",
    "    'alpha_2': -300, # MHZ\n",
    "    'g_1'    :  100, # MHZ\n",
    "    'g_2'    :  100 # MHZ\n",
    "}"
   ]
  },
  {
   "cell_type": "markdown",
   "metadata": {},
   "source": [
    "### Are there any resonances hidden in these parameters?"
   ]
  },
  {
   "cell_type": "markdown",
   "metadata": {},
   "source": [
    "[TODO: plot the first 3 or 4 levels lowest-lying levels]"
   ]
  },
  {
   "cell_type": "markdown",
   "metadata": {},
   "source": [
    "### How much entanglement is generated in the field-free case?"
   ]
  },
  {
   "cell_type": "markdown",
   "metadata": {},
   "source": [
    "[TODO]"
   ]
  },
  {
   "cell_type": "markdown",
   "metadata": {},
   "source": [
    "### How much entanglement is generated by Blackman pulses of varying intensity?"
   ]
  },
  {
   "cell_type": "markdown",
   "metadata": {},
   "source": [
    "[TODO]"
   ]
  },
  {
   "cell_type": "markdown",
   "metadata": {},
   "source": [
    "### Is the RWA justified?"
   ]
  },
  {
   "cell_type": "markdown",
   "metadata": {},
   "source": [
    "[TODO: propagate guess pulse with and without RWA, compare results]"
   ]
  },
  {
   "cell_type": "markdown",
   "metadata": {},
   "source": [
    "## Prerequisite: Does Optimization with State-Dependent Constraints Work?"
   ]
  },
  {
   "cell_type": "markdown",
   "metadata": {},
   "source": [
    "We want to penalize cavity excitation. We can enforce this in either one of two ways:\n",
    "*   State-Dependent constraints, with inhomogeneous backward propagation\n",
    "*   A non-Hermitian Hamiltonian\n",
    "\n",
    "For both cases, we should ensure that a single backward and forward propagation runs without crashing and gives reasonable results.\n",
    "\n",
    "For a single set of parameters and gate durations, we run an unconstrained optimization and a constrained optimization, and compare the resulting pulses. We could use either direct optimization, or PE optimizaton"
   ]
  },
  {
   "cell_type": "code",
   "execution_count": null,
   "metadata": {
    "collapsed": false
   },
   "outputs": [],
   "source": []
  }
 ],
 "metadata": {
  "kernelspec": {
   "display_name": "Python 2",
   "language": "python",
   "name": "python2"
  },
  "language_info": {
   "codemirror_mode": {
    "name": "ipython",
    "version": 2
   },
   "file_extension": ".py",
   "mimetype": "text/x-python",
   "name": "python",
   "nbconvert_exporter": "python",
   "pygments_lexer": "ipython2",
   "version": "2.7.9"
  }
 },
 "nbformat": 4,
 "nbformat_minor": 0
}
