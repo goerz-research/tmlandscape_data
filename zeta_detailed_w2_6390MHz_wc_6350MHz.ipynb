{
 "cells": [
  {
   "cell_type": "markdown",
   "metadata": {
    "heading_collapsed": false,
    "level": 1
   },
   "source": [
    "# Detailed Exploration of Universal Gate Set for Large Zeta"
   ]
  },
  {
   "cell_type": "markdown",
   "metadata": {
    "heading_collapsed": false,
    "level": 2
   },
   "source": [
    "## Header"
   ]
  },
  {
   "cell_type": "code",
   "execution_count": 1,
   "metadata": {
    "collapsed": false,
    "level": 7
   },
   "outputs": [],
   "source": [
    "import numpy as np\n",
    "import QDYN\n",
    "from QDYN.shutil import mkdir\n",
    "from QDYN.pulse import Pulse, pulse_tgrid\n",
    "from QDYN.gate2q import Gate2Q\n",
    "from QDYN.linalg import norm, vectorize\n",
    "from os.path import join\n",
    "from notebook_utils import (\n",
    "    get_zeta_table, plot_zeta_data, filter_table, get_logical_energies_table,\n",
    "    get_stage4_table, bare_decomposition, get_transition_table, J_target)\n",
    "from mgplottools.io import writetotxt\n",
    "from select_for_stage4 import GATE_RE, GATE_IM, GATE\n",
    "from generate_zeta_universal import write_config\n",
    "from analytical_pulses import AnalyticalPulse\n",
    "from run_oct import propagate\n",
    "from collections import OrderedDict\n",
    "from zeta_systematic_variation import systematic_variation\n",
    "import pandas as pd"
   ]
  },
  {
   "cell_type": "code",
   "execution_count": 2,
   "metadata": {
    "collapsed": true,
    "level": 7
   },
   "outputs": [],
   "source": [
    "H_left = GATE['H_left']\n",
    "def write_target_gate_dat(rf, gate):\n",
    "    writetotxt(join(rf, 'target_gate.dat'), GATE_RE[gate], GATE_IM[gate])"
   ]
  },
  {
   "cell_type": "code",
   "execution_count": 3,
   "metadata": {
    "collapsed": true,
    "level": 7
   },
   "outputs": [],
   "source": [
    "def J_PE(U):\n",
    "    if U is None:\n",
    "        return None\n",
    "    else:\n",
    "        C = U.closest_unitary().concurrence()\n",
    "        max_loss = np.max(1.0 - U.logical_pops())\n",
    "        return J_target('PE', C, max_loss)\n",
    "\n",
    "def F_avg_H_left(U):\n",
    "    if U is None:\n",
    "        return None\n",
    "    else:\n",
    "        return U.F_avg(H_left)"
   ]
  },
  {
   "cell_type": "code",
   "execution_count": 4,
   "metadata": {
    "collapsed": true,
    "level": 7
   },
   "outputs": [],
   "source": [
    "from multiprocessing import Process\n",
    "import os\n",
    "def system(cmd):\n",
    "    p = Process(target=os.system, args=(cmd,))\n",
    "    p.start()\n",
    "    return p"
   ]
  },
  {
   "cell_type": "code",
   "execution_count": 5,
   "metadata": {
    "collapsed": true,
    "level": 7
   },
   "outputs": [],
   "source": [
    "%matplotlib inline\n",
    "%reload_ext autoreload\n",
    "%autoreload 2"
   ]
  },
  {
   "cell_type": "code",
   "execution_count": 10,
   "metadata": {
    "collapsed": true,
    "level": 7
   },
   "outputs": [],
   "source": [
    "get_zeta_table = QDYN.memoize.memoize(get_zeta_table)\n",
    "get_zeta_table.load('zeta_table.cache')"
   ]
  },
  {
   "cell_type": "code",
   "execution_count": 11,
   "metadata": {
    "collapsed": false,
    "level": 7
   },
   "outputs": [],
   "source": [
    "zeta_table = get_zeta_table('./runs_050_RWA', T=50)"
   ]
  },
  {
   "cell_type": "code",
   "execution_count": 12,
   "metadata": {
    "collapsed": false,
    "level": 7
   },
   "outputs": [],
   "source": [
    "w_max = 1.0 # minimum frequency in the rotating frame to be resolved. (for calculation of nt)"
   ]
  },
  {
   "cell_type": "code",
   "execution_count": 13,
   "metadata": {
    "collapsed": true,
    "level": 7
   },
   "outputs": [],
   "source": [
    "n_qubit = 5; n_cavity = 6"
   ]
  },
  {
   "cell_type": "markdown",
   "metadata": {
    "heading_collapsed": false,
    "level": 2
   },
   "source": [
    "## Analysis"
   ]
  },
  {
   "cell_type": "markdown",
   "metadata": {
    "heading_collapsed": false,
    "level": 3
   },
   "source": [
    "### Properties of the Hamiltonian"
   ]
  },
  {
   "cell_type": "code",
   "execution_count": 14,
   "metadata": {
    "collapsed": true,
    "level": 7
   },
   "outputs": [],
   "source": [
    "wc = 6.35 # GHZ\n",
    "w2 = 6.39 # GHz\n",
    "w1 = 6.00 # GHz\n",
    "root = './runs_zeta_detailed/w2_%dMHz_wc_%dMHz' % (w2*1000, wc*1000)\n",
    "mkdir(root)"
   ]
  },
  {
   "cell_type": "markdown",
   "metadata": {
    "level": 7
   },
   "source": [
    "* what is the the entangling energy?"
   ]
  },
  {
   "cell_type": "code",
   "execution_count": 15,
   "metadata": {
    "collapsed": false,
    "level": 7
   },
   "outputs": [
    {
     "data": {
      "text/plain": [
       "-149.77200000000005"
      ]
     },
     "execution_count": 15,
     "metadata": {},
     "output_type": "execute_result"
    }
   ],
   "source": [
    "zeta = float(filter_table(zeta_table, [(w2, wc),])['zeta [MHz]']); zeta"
   ]
  },
  {
   "cell_type": "code",
   "execution_count": 16,
   "metadata": {
    "collapsed": false,
    "level": 7
   },
   "outputs": [
    {
     "data": {
      "text/plain": [
       "3.338407713057179"
      ]
     },
     "execution_count": 16,
     "metadata": {},
     "output_type": "execute_result"
    }
   ],
   "source": [
    "T_entangling = 500.0 / abs(zeta); T_entangling # ns"
   ]
  },
  {
   "cell_type": "markdown",
   "metadata": {
    "heading_collapsed": false,
    "level": 4
   },
   "source": [
    "#### PE"
   ]
  },
  {
   "cell_type": "markdown",
   "metadata": {
    "level": 7
   },
   "source": [
    "* Verify the PE. What do the logical eigenstates look like? What are the dressed qubit levels? What required spectral resolution do we anticipate?"
   ]
  },
  {
   "cell_type": "code",
   "execution_count": 32,
   "metadata": {
    "collapsed": false,
    "level": 7
   },
   "outputs": [
    {
     "name": "stdout",
     "output_type": "stream",
     "text": [
      "concurrence: 1.00000\n"
     ]
    }
   ],
   "source": [
    "T = T_entangling\n",
    "rf = join(root, 'verify_PE'); mkdir(rf)\n",
    "nt = int(max(2000, 100 * w_max * T))\n",
    "write_config(join(rf, 'config'), T, nt, wc, w2, wd=6.0, gate=\"CPHASE\", J_T='SM', prop_guess='T')\n",
    "pulse = Pulse(tgrid=pulse_tgrid(T, nt), time_unit='ns',ampl_unit='MHz')  # zero amplitude\n",
    "pulse.write(join(rf, 'pulse.guess'))\n",
    "U = propagate(rf, 'pulse.guess', rwa=True, keep=True, force=True)\n",
    "print \"concurrence: %.5f\" % U.concurrence()"
   ]
  },
  {
   "cell_type": "code",
   "execution_count": 33,
   "metadata": {
    "collapsed": false,
    "level": 7
   },
   "outputs": [
    {
     "name": "stdout",
     "output_type": "stream",
     "text": [
      "00 = 100.0% {000}\n",
      "01 = 39.5% {001} + 59.6% {010} + 1.0% {100}\n",
      "10 = 3.8% {001} + 0.1% {010} + 96.1% {100}\n",
      "11 = 4.6% {002} + 2.4% {011} + 0.7% {020} + 55.7% {101} + 34.9% {110} + 1.7% {200}\n"
     ]
    }
   ],
   "source": [
    "psi = {}; psi['00'], psi['01'], psi['10'], psi['11'] \\\n",
    "= np.genfromtxt(join(rf, 'logical_states.dat'), unpack=True, usecols=range(4))\n",
    "for label in ['00', '01', '10', '11']:\n",
    "    print(\"%s = %s\" % (label, bare_decomposition(psi[label], n_qubit, n_cavity)))"
   ]
  },
  {
   "cell_type": "code",
   "execution_count": 34,
   "metadata": {
    "collapsed": false,
    "level": 7
   },
   "outputs": [
    {
     "data": {
      "text/html": [
       "<div>\n",
       "<table border=\"1\" class=\"dataframe\">\n",
       "  <thead>\n",
       "    <tr style=\"text-align: right;\">\n",
       "      <th></th>\n",
       "      <th>E01 - E00 [MHz]</th>\n",
       "      <th>E10 - E00 [MHz]</th>\n",
       "      <th>E11 - E10 [MHz]</th>\n",
       "      <th>E11 - E01 [MHz]</th>\n",
       "      <th>bare w2 [MHz]</th>\n",
       "      <th>bare w1 [MHz]</th>\n",
       "    </tr>\n",
       "  </thead>\n",
       "  <tbody>\n",
       "    <tr>\n",
       "      <th>0</th>\n",
       "      <td>6446.97</td>\n",
       "      <td>5986.072</td>\n",
       "      <td>6297.198</td>\n",
       "      <td>5836.3</td>\n",
       "      <td>6390</td>\n",
       "      <td>6000</td>\n",
       "    </tr>\n",
       "  </tbody>\n",
       "</table>\n",
       "</div>"
      ],
      "text/plain": [
       "   E01 - E00 [MHz]  E10 - E00 [MHz]  E11 - E10 [MHz]  E11 - E01 [MHz]  \\\n",
       "0          6446.97         5986.072         6297.198           5836.3   \n",
       "\n",
       "   bare w2 [MHz]  bare w1 [MHz]  \n",
       "0           6390           6000  "
      ]
     },
     "execution_count": 34,
     "metadata": {},
     "output_type": "execute_result"
    }
   ],
   "source": [
    "transition_table = get_transition_table(filter_table(zeta_table, [(w2, wc),]))\n",
    "transition_table.reset_index(drop=True)"
   ]
  },
  {
   "cell_type": "code",
   "execution_count": 35,
   "metadata": {
    "collapsed": true,
    "level": 7
   },
   "outputs": [],
   "source": [
    "w1_dressed0 = transition_table['E10 - E00 [MHz]'][0] / 1000.0 # GHz\n",
    "w1_dressed1 = transition_table['E11 - E01 [MHz]'][0] / 1000.0 # GHz\n",
    "w2_dressed0 = transition_table['E01 - E00 [MHz]'][0] / 1000.0 # GHz\n",
    "w2_dressed1 = transition_table['E11 - E10 [MHz]'][0] / 1000.0 # GHz"
   ]
  },
  {
   "cell_type": "code",
   "execution_count": 36,
   "metadata": {
    "collapsed": false,
    "level": 7
   },
   "outputs": [
    {
     "name": "stdout",
     "output_type": "stream",
     "text": [
      "5.986072\n",
      "5.8363\n",
      "6.44697\n",
      "6.297198\n"
     ]
    }
   ],
   "source": [
    "print w1_dressed0\n",
    "print w1_dressed1\n",
    "print w2_dressed0\n",
    "print w2_dressed1"
   ]
  },
  {
   "cell_type": "code",
   "execution_count": 37,
   "metadata": {
    "collapsed": false,
    "level": 7
   },
   "outputs": [
    {
     "name": "stdout",
     "output_type": "stream",
     "text": [
      "Separation of dressed frequencies, left qubit: 149.772 MHz\n",
      "Separation of dressed frequencies, right qubit: 149.772 MHz\n"
     ]
    }
   ],
   "source": [
    "print(\"Separation of dressed frequencies, left qubit: %.3f MHz\"\n",
    "      % abs(float(transition_table['E11 - E01 [MHz]']) - float(transition_table['E10 - E00 [MHz]'])))\n",
    "print(\"Separation of dressed frequencies, right qubit: %.3f MHz\"\n",
    "      % abs(float(transition_table['E11 - E10 [MHz]']) - float(transition_table['E01 - E00 [MHz]'])))"
   ]
  },
  {
   "cell_type": "code",
   "execution_count": 38,
   "metadata": {
    "collapsed": false,
    "level": 7
   },
   "outputs": [
    {
     "name": "stdout",
     "output_type": "stream",
     "text": [
      "Spectral resolution of pulse: 299.5 MHz\n"
     ]
    }
   ],
   "source": [
    "print \"Spectral resolution of pulse: %.1f MHz\" % pulse.dw(freq_unit='MHz')"
   ]
  },
  {
   "cell_type": "markdown",
   "metadata": {
    "level": 7
   },
   "source": [
    "* What is the truncated drive-Hamiltonian in the dressed basis?"
   ]
  },
  {
   "cell_type": "code",
   "execution_count": 39,
   "metadata": {
    "collapsed": false,
    "level": 7
   },
   "outputs": [
    {
     "name": "stdout",
     "output_type": "stream",
     "text": [
      "*** Read config file ./runs_zeta_detailed/w2_6390MHz_wc_6350MHz/verify_PE/config ***\n",
      "*** Done reading config file ***\n",
      "control Hamiltonian in the eigenbasis will be written to ham_ctrl_diag.dat\n",
      "All eigenstates will be written to eigenstates.dump\n",
      "Starting on Mon Mar 14 08:39:35 -0700 2016\n",
      "\n",
      "This is tm_en_logical_eigenstates                                        rev.82fdc15290415c04483353de0dd1ec8c7ba10767\n",
      " compiled on Sun Mar 13 21:28:32 2016 on host mlhpc2\n",
      "QDYN 2.0dev revision 50b2d685df2070f8ff93d299e6b374b322a10cb7 (UNKNOWN)\n",
      "  features: no-check-cheby, no-check-newton, no-parallel-ham, no-parallel-oct, backtraces\n",
      "  compiled with ifort on Sun Mar 13 21:15:12 2016 on host mlhpc2\n",
      "\n",
      "Number of qubit levels        =    5\n",
      "Number of cavity levels       =    6\n",
      "size(H):     150 x     150   --      0 MB\n",
      "\n",
      "Orig. logical subspace levels:    1,    7,   31,   37\n",
      "\n",
      " Diagonalizing Drift Hamiltonian\n",
      " Done\n",
      " \n",
      "level    48 in logical subspace (100.0000000% \\Ket{000})\n",
      "level    74 in logical subspace ( 59.5721734% \\Ket{010})\n",
      "level    45 in logical subspace ( 96.0816642% \\Ket{100})\n",
      "level    62 in logical subspace ( 34.9486552% \\Ket{110})\n",
      " \n",
      "Written to eigenvalues.dat\n",
      " \n",
      " \n",
      "Logical eigenstates written to 'logical_states.dat'\n",
      " \n",
      " \n",
      "Control Hamiltonian written to ham_ctrl_diag.dat'\n",
      " \n",
      "\n",
      "Done: Mon Mar 14 08:39:35 -0700 2016\n"
     ]
    }
   ],
   "source": [
    "! tm_en_logical_eigenstates --ctrl {rf}"
   ]
  },
  {
   "cell_type": "code",
   "execution_count": 40,
   "metadata": {
    "collapsed": false,
    "level": 7
   },
   "outputs": [],
   "source": [
    "ctrl_dressed_i, ctrl_dressed_j = np.genfromtxt(join(rf, 'ham_ctrl_diag.dat'), usecols=(0,1), unpack=True, dtype=np.int)"
   ]
  },
  {
   "cell_type": "code",
   "execution_count": 41,
   "metadata": {
    "collapsed": true,
    "level": 7
   },
   "outputs": [],
   "source": [
    "ctrl_dressed_vals = np.genfromtxt(join(rf, 'ham_ctrl_diag.dat'), usecols=(2,), unpack=True, dtype=np.float64)"
   ]
  },
  {
   "cell_type": "code",
   "execution_count": 42,
   "metadata": {
    "collapsed": true,
    "level": 7
   },
   "outputs": [],
   "source": [
    "logical_levels = [48, 74, 45, 62]"
   ]
  },
  {
   "cell_type": "code",
   "execution_count": 43,
   "metadata": {
    "collapsed": true,
    "level": 7
   },
   "outputs": [],
   "source": [
    "ctrl_ham = np.zeros(shape=(4,4))\n",
    "for l, v in enumerate(ctrl_dressed_vals):\n",
    "    if ctrl_dressed_i[l] in logical_levels and ctrl_dressed_j[l] in logical_levels:\n",
    "        i = logical_levels.index(ctrl_dressed_i[l])\n",
    "        j = logical_levels.index(ctrl_dressed_j[l])\n",
    "        if abs(v) > 1e-10:\n",
    "            ctrl_ham[i,j] = v"
   ]
  },
  {
   "cell_type": "code",
   "execution_count": 44,
   "metadata": {
    "collapsed": false,
    "level": 7
   },
   "outputs": [
    {
     "name": "stdout",
     "output_type": "stream",
     "text": [
      "[[ 0.          0.314086   -0.09752039  0.        ]\n",
      " [ 0.314086    0.          0.          0.00135455]\n",
      " [-0.09752039  0.          0.          0.3980384 ]\n",
      " [ 0.          0.00135455  0.3980384   0.        ]]\n"
     ]
    }
   ],
   "source": [
    "print(ctrl_ham)"
   ]
  },
  {
   "cell_type": "markdown",
   "metadata": {
    "heading_collapsed": false,
    "level": 4
   },
   "source": [
    "#### SQ"
   ]
  },
  {
   "cell_type": "code",
   "execution_count": 45,
   "metadata": {
    "collapsed": false,
    "level": 7
   },
   "outputs": [
    {
     "name": "stdout",
     "output_type": "stream",
     "text": [
      "Spectral resolution of pulse: 149.8 MHz\n",
      "concurrence: 0.00001\n"
     ]
    }
   ],
   "source": [
    "T = 2*T_entangling\n",
    "rf = join(root, 'verify_SQ'); mkdir(rf)\n",
    "nt = int(max(2000, 100 * w_max * T))\n",
    "write_config(join(rf, 'config'), T, nt, wc, w2, wd=6.0, gate=\"CPHASE\", J_T='SM', prop_guess='T')\n",
    "pulse = Pulse(tgrid=pulse_tgrid(T, nt), time_unit='ns',ampl_unit='MHz')  # zero amplitude\n",
    "pulse.write(join(rf, 'pulse.guess'))\n",
    "print \"Spectral resolution of pulse: %.1f MHz\" % pulse.dw(freq_unit='MHz')\n",
    "U = propagate(rf, 'pulse.guess', rwa=True, keep=True, force=True)\n",
    "print \"concurrence: %.5f\" % U.concurrence()"
   ]
  },
  {
   "cell_type": "code",
   "execution_count": 46,
   "metadata": {
    "collapsed": false,
    "level": 7
   },
   "outputs": [
    {
     "name": "stdout",
     "output_type": "stream",
     "text": [
      "Spectral resolution of pulse: 74.9 MHz\n",
      "concurrence: 0.00003\n"
     ]
    }
   ],
   "source": [
    "T = 4*T_entangling\n",
    "rf = join(root, 'verify_SQ_2cycles'); mkdir(rf)\n",
    "nt = int(max(2000, 100 * w_max * T))\n",
    "write_config(join(rf, 'config'), T, nt, wc, w2, wd=6.0, gate=\"CPHASE\", J_T='SM', prop_guess='T')\n",
    "pulse = Pulse(tgrid=pulse_tgrid(T, nt), time_unit='ns',ampl_unit='MHz')  # zero amplitude\n",
    "pulse.write(join(rf, 'pulse.guess'))\n",
    "print \"Spectral resolution of pulse: %.1f MHz\" % pulse.dw(freq_unit='MHz')\n",
    "U = propagate(rf, 'pulse.guess', rwa=True, keep=True, force=True)\n",
    "print \"concurrence: %.5f\" % U.concurrence()"
   ]
  },
  {
   "cell_type": "markdown",
   "metadata": {
    "collapsed": true,
    "heading_collapsed": false,
    "level": 3
   },
   "source": [
    "### Improving the PE"
   ]
  },
  {
   "cell_type": "code",
   "execution_count": 47,
   "metadata": {
    "collapsed": false,
    "level": 7
   },
   "outputs": [],
   "source": [
    "compression = 0.9\n",
    "wd = 0.5*(w1+w2)\n",
    "rf = join(root, 'compress_PE_%.1f' % compression); mkdir(rf)"
   ]
  },
  {
   "cell_type": "code",
   "execution_count": 48,
   "metadata": {
    "collapsed": false,
    "level": 7
   },
   "outputs": [
    {
     "data": {
      "text/plain": [
       "'./runs_zeta_detailed/w2_6390MHz_wc_6350MHz/compress_PE_0.9'"
      ]
     },
     "execution_count": 48,
     "metadata": {},
     "output_type": "execute_result"
    }
   ],
   "source": [
    "rf"
   ]
  },
  {
   "cell_type": "code",
   "execution_count": 49,
   "metadata": {
    "collapsed": false,
    "level": 7
   },
   "outputs": [],
   "source": [
    "# write runfolder\n",
    "T = compression*T_entangling\n",
    "nt = int(max(2000, 100 * w_max * T))\n",
    "write_config(join(rf, 'config'), T, nt, wc, w2, wd=wd, gate=\"CPHASE\", J_T='PE', prop_guess='F')"
   ]
  },
  {
   "cell_type": "code",
   "execution_count": 50,
   "metadata": {
    "collapsed": false,
    "level": 7,
    "scrolled": false
   },
   "outputs": [
    {
     "data": {
      "text/html": [
       "<div>\n",
       "<table border=\"1\" class=\"dataframe\">\n",
       "  <thead>\n",
       "    <tr style=\"text-align: right;\">\n",
       "      <th></th>\n",
       "      <th>E0</th>\n",
       "      <th>w_L</th>\n",
       "      <th>fig_of_merit</th>\n",
       "    </tr>\n",
       "  </thead>\n",
       "  <tbody>\n",
       "    <tr>\n",
       "      <th>0</th>\n",
       "      <td>0</td>\n",
       "      <td>6.000000</td>\n",
       "      <td>0.013236</td>\n",
       "    </tr>\n",
       "    <tr>\n",
       "      <th>1</th>\n",
       "      <td>0</td>\n",
       "      <td>6.390000</td>\n",
       "      <td>0.013236</td>\n",
       "    </tr>\n",
       "    <tr>\n",
       "      <th>2</th>\n",
       "      <td>0</td>\n",
       "      <td>6.195000</td>\n",
       "      <td>0.013236</td>\n",
       "    </tr>\n",
       "    <tr>\n",
       "      <th>3</th>\n",
       "      <td>0</td>\n",
       "      <td>5.986072</td>\n",
       "      <td>0.013236</td>\n",
       "    </tr>\n",
       "    <tr>\n",
       "      <th>4</th>\n",
       "      <td>0</td>\n",
       "      <td>5.836300</td>\n",
       "      <td>0.013236</td>\n",
       "    </tr>\n",
       "    <tr>\n",
       "      <th>5</th>\n",
       "      <td>0</td>\n",
       "      <td>5.911186</td>\n",
       "      <td>0.013236</td>\n",
       "    </tr>\n",
       "    <tr>\n",
       "      <th>6</th>\n",
       "      <td>0</td>\n",
       "      <td>6.446970</td>\n",
       "      <td>0.013236</td>\n",
       "    </tr>\n",
       "    <tr>\n",
       "      <th>7</th>\n",
       "      <td>0</td>\n",
       "      <td>6.297198</td>\n",
       "      <td>0.013236</td>\n",
       "    </tr>\n",
       "    <tr>\n",
       "      <th>8</th>\n",
       "      <td>0</td>\n",
       "      <td>6.372084</td>\n",
       "      <td>0.013236</td>\n",
       "    </tr>\n",
       "    <tr>\n",
       "      <th>13</th>\n",
       "      <td>50</td>\n",
       "      <td>5.836300</td>\n",
       "      <td>0.022007</td>\n",
       "    </tr>\n",
       "    <tr>\n",
       "      <th>14</th>\n",
       "      <td>50</td>\n",
       "      <td>5.911186</td>\n",
       "      <td>0.028017</td>\n",
       "    </tr>\n",
       "    <tr>\n",
       "      <th>12</th>\n",
       "      <td>50</td>\n",
       "      <td>5.986072</td>\n",
       "      <td>0.036579</td>\n",
       "    </tr>\n",
       "    <tr>\n",
       "      <th>9</th>\n",
       "      <td>50</td>\n",
       "      <td>6.000000</td>\n",
       "      <td>0.038429</td>\n",
       "    </tr>\n",
       "    <tr>\n",
       "      <th>11</th>\n",
       "      <td>50</td>\n",
       "      <td>6.195000</td>\n",
       "      <td>0.066408</td>\n",
       "    </tr>\n",
       "    <tr>\n",
       "      <th>15</th>\n",
       "      <td>50</td>\n",
       "      <td>6.446970</td>\n",
       "      <td>0.069220</td>\n",
       "    </tr>\n",
       "    <tr>\n",
       "      <th>10</th>\n",
       "      <td>50</td>\n",
       "      <td>6.390000</td>\n",
       "      <td>0.073884</td>\n",
       "    </tr>\n",
       "    <tr>\n",
       "      <th>17</th>\n",
       "      <td>50</td>\n",
       "      <td>6.372084</td>\n",
       "      <td>0.074732</td>\n",
       "    </tr>\n",
       "    <tr>\n",
       "      <th>16</th>\n",
       "      <td>50</td>\n",
       "      <td>6.297198</td>\n",
       "      <td>0.074777</td>\n",
       "    </tr>\n",
       "    <tr>\n",
       "      <th>22</th>\n",
       "      <td>200</td>\n",
       "      <td>5.836300</td>\n",
       "      <td>0.142702</td>\n",
       "    </tr>\n",
       "    <tr>\n",
       "      <th>23</th>\n",
       "      <td>200</td>\n",
       "      <td>5.911186</td>\n",
       "      <td>0.219422</td>\n",
       "    </tr>\n",
       "    <tr>\n",
       "      <th>21</th>\n",
       "      <td>200</td>\n",
       "      <td>5.986072</td>\n",
       "      <td>0.314705</td>\n",
       "    </tr>\n",
       "    <tr>\n",
       "      <th>18</th>\n",
       "      <td>200</td>\n",
       "      <td>6.000000</td>\n",
       "      <td>0.333376</td>\n",
       "    </tr>\n",
       "    <tr>\n",
       "      <th>31</th>\n",
       "      <td>500</td>\n",
       "      <td>5.836300</td>\n",
       "      <td>0.527958</td>\n",
       "    </tr>\n",
       "    <tr>\n",
       "      <th>20</th>\n",
       "      <td>200</td>\n",
       "      <td>6.195000</td>\n",
       "      <td>0.553941</td>\n",
       "    </tr>\n",
       "    <tr>\n",
       "      <th>24</th>\n",
       "      <td>200</td>\n",
       "      <td>6.446970</td>\n",
       "      <td>0.591929</td>\n",
       "    </tr>\n",
       "    <tr>\n",
       "      <th>25</th>\n",
       "      <td>200</td>\n",
       "      <td>6.297198</td>\n",
       "      <td>0.608453</td>\n",
       "    </tr>\n",
       "    <tr>\n",
       "      <th>19</th>\n",
       "      <td>200</td>\n",
       "      <td>6.390000</td>\n",
       "      <td>0.613275</td>\n",
       "    </tr>\n",
       "    <tr>\n",
       "      <th>26</th>\n",
       "      <td>200</td>\n",
       "      <td>6.372084</td>\n",
       "      <td>0.615974</td>\n",
       "    </tr>\n",
       "    <tr>\n",
       "      <th>32</th>\n",
       "      <td>500</td>\n",
       "      <td>5.911186</td>\n",
       "      <td>0.646496</td>\n",
       "    </tr>\n",
       "    <tr>\n",
       "      <th>30</th>\n",
       "      <td>500</td>\n",
       "      <td>5.986072</td>\n",
       "      <td>0.729601</td>\n",
       "    </tr>\n",
       "    <tr>\n",
       "      <th>27</th>\n",
       "      <td>500</td>\n",
       "      <td>6.000000</td>\n",
       "      <td>0.759726</td>\n",
       "    </tr>\n",
       "    <tr>\n",
       "      <th>29</th>\n",
       "      <td>500</td>\n",
       "      <td>6.195000</td>\n",
       "      <td>0.939455</td>\n",
       "    </tr>\n",
       "    <tr>\n",
       "      <th>35</th>\n",
       "      <td>500</td>\n",
       "      <td>6.372084</td>\n",
       "      <td>0.954629</td>\n",
       "    </tr>\n",
       "    <tr>\n",
       "      <th>34</th>\n",
       "      <td>500</td>\n",
       "      <td>6.297198</td>\n",
       "      <td>0.956250</td>\n",
       "    </tr>\n",
       "    <tr>\n",
       "      <th>28</th>\n",
       "      <td>500</td>\n",
       "      <td>6.390000</td>\n",
       "      <td>0.957642</td>\n",
       "    </tr>\n",
       "    <tr>\n",
       "      <th>33</th>\n",
       "      <td>500</td>\n",
       "      <td>6.446970</td>\n",
       "      <td>0.970147</td>\n",
       "    </tr>\n",
       "  </tbody>\n",
       "</table>\n",
       "</div>"
      ],
      "text/plain": [
       "     E0       w_L  fig_of_merit\n",
       "0     0  6.000000      0.013236\n",
       "1     0  6.390000      0.013236\n",
       "2     0  6.195000      0.013236\n",
       "3     0  5.986072      0.013236\n",
       "4     0  5.836300      0.013236\n",
       "5     0  5.911186      0.013236\n",
       "6     0  6.446970      0.013236\n",
       "7     0  6.297198      0.013236\n",
       "8     0  6.372084      0.013236\n",
       "13   50  5.836300      0.022007\n",
       "14   50  5.911186      0.028017\n",
       "12   50  5.986072      0.036579\n",
       "9    50  6.000000      0.038429\n",
       "11   50  6.195000      0.066408\n",
       "15   50  6.446970      0.069220\n",
       "10   50  6.390000      0.073884\n",
       "17   50  6.372084      0.074732\n",
       "16   50  6.297198      0.074777\n",
       "22  200  5.836300      0.142702\n",
       "23  200  5.911186      0.219422\n",
       "21  200  5.986072      0.314705\n",
       "18  200  6.000000      0.333376\n",
       "31  500  5.836300      0.527958\n",
       "20  200  6.195000      0.553941\n",
       "24  200  6.446970      0.591929\n",
       "25  200  6.297198      0.608453\n",
       "19  200  6.390000      0.613275\n",
       "26  200  6.372084      0.615974\n",
       "32  500  5.911186      0.646496\n",
       "30  500  5.986072      0.729601\n",
       "27  500  6.000000      0.759726\n",
       "29  500  6.195000      0.939455\n",
       "35  500  6.372084      0.954629\n",
       "34  500  6.297198      0.956250\n",
       "28  500  6.390000      0.957642\n",
       "33  500  6.446970      0.970147"
      ]
     },
     "execution_count": 50,
     "metadata": {},
     "output_type": "execute_result"
    }
   ],
   "source": [
    "pulse = AnalyticalPulse('1freq_rwa', T, nt,\n",
    "            parameters={'E0': 0.0, 'T': T, 'w_L': wd, 'w_d': wd},\n",
    "            t0=0.0, time_unit='ns', ampl_unit='MHz', freq_unit='MHz', mode=\"complex\")\n",
    "systematic_variation(rf, pulse, vary=OrderedDict([\n",
    "            ('E0', [0.0, 50, 200, 500]), \n",
    "            ('w_L', [w1, w2, 0.5*(w1+w2),  \n",
    "                     w1_dressed0, w1_dressed1, 0.5*(w1_dressed0+w1_dressed1),\n",
    "                     w2_dressed0, w2_dressed1, 0.5*(w2_dressed0+w2_dressed1)])]),\n",
    "            fig_of_merit=J_PE, n_procs=40)"
   ]
  },
  {
   "cell_type": "code",
   "execution_count": 51,
   "metadata": {
    "collapsed": false,
    "level": 7
   },
   "outputs": [],
   "source": [
    "pulse = AnalyticalPulse('1freq_rwa', T, nt,\n",
    "            parameters={'E0': 0.0, 'T': T, 'w_L': wd, 'w_d': wd},\n",
    "            t0=0.0, time_unit='ns', ampl_unit='MHz', freq_unit='MHz', mode=\"complex\")\n",
    "pulse.write(join(rf, 'pulse_guess.json'))"
   ]
  },
  {
   "cell_type": "code",
   "execution_count": 52,
   "metadata": {
    "collapsed": false,
    "level": 7
   },
   "outputs": [
    {
     "name": "stdout",
     "output_type": "stream",
     "text": [
      "Concurrence: 0.987687\n",
      "Loss: 0.000425\n"
     ]
    }
   ],
   "source": [
    "U_guess = propagate(rf, 'pulse_guess.json', rwa=True, force=True, keep=None)\n",
    "print(\"Concurrence: %f\" % U_guess.closest_unitary().concurrence())\n",
    "print(\"Loss: %f\" % U_guess.pop_loss())"
   ]
  },
  {
   "cell_type": "code",
   "execution_count": 33,
   "metadata": {
    "collapsed": false,
    "level": 7
   },
   "outputs": [],
   "source": [
    "proc = system(\"./run_oct.py --target=PE --rwa --pre-simplex='pulse_guess.json' {rf}\".format(rf=rf))"
   ]
  },
  {
   "cell_type": "code",
   "execution_count": null,
   "metadata": {
    "collapsed": true,
    "level": 7
   },
   "outputs": [],
   "source": [
    "proc.join();"
   ]
  },
  {
   "cell_type": "code",
   "execution_count": 53,
   "metadata": {
    "collapsed": false,
    "level": 7
   },
   "outputs": [
    {
     "name": "stdout",
     "output_type": "stream",
     "text": [
      "# Sun Feb 7 16:41:47 -0800 2016\r\n",
      "# lambda_a =    9.760000E-03; lambda_intens =    0.000000E+00; lambda_b =    0.0\r\n",
      "# it.                 J_T             g_a_int             g_b_int               \r\n",
      "    0  4.321861070718E-04  0.000000000000E+00  0.000000000000E+00  4.32186107071\r\n",
      "# pulse 1, lambda_a = 9.760000E-02\r\n",
      "# Sun Feb 7 16:41:50 -0800 2016\r\n",
      "# lambda_a =    1.220000E-02; lambda_intens =    0.000000E+00; lambda_b =    0.0\r\n",
      "# it.                 J_T             g_a_int             g_b_int               \r\n",
      "    0  4.321861070718E-04  0.000000000000E+00  0.000000000000E+00  4.32186107071\r\n",
      "    1  4.321859702005E-04  3.872945743752E-11  0.000000000000E+00  4.32186008930\r\n"
     ]
    }
   ],
   "source": [
    "U = propagate(rf, 'pulse.dat', rwa=True, force=True);\n",
    "! tail {rf}/oct_iters.dat | cut -b 1-80"
   ]
  },
  {
   "cell_type": "code",
   "execution_count": 54,
   "metadata": {
    "collapsed": false,
    "level": 7
   },
   "outputs": [
    {
     "data": {
      "text/plain": [
       "0.0"
      ]
     },
     "execution_count": 54,
     "metadata": {},
     "output_type": "execute_result"
    }
   ],
   "source": [
    "U.concurrence() - U_guess.concurrence()"
   ]
  },
  {
   "cell_type": "markdown",
   "metadata": {
    "level": 7
   },
   "source": [
    "Note: 0.7 and 1.2 also don't work"
   ]
  },
  {
   "cell_type": "markdown",
   "metadata": {
    "heading_collapsed": false,
    "level": 3
   },
   "source": [
    "### Implementation of Single-Qubit gate"
   ]
  },
  {
   "cell_type": "markdown",
   "metadata": {
    "collapsed": true,
    "heading_collapsed": false,
    "level": 4
   },
   "source": [
    "#### $H_L$ at $T = 2 T_\\pi$"
   ]
  },
  {
   "cell_type": "code",
   "execution_count": 75,
   "metadata": {
    "collapsed": true,
    "level": 7
   },
   "outputs": [],
   "source": [
    "rf = join(root, '1cycle_H_left'); mkdir(rf)\n",
    "wd = 0.5*(w1+w2)"
   ]
  },
  {
   "cell_type": "code",
   "execution_count": 76,
   "metadata": {
    "collapsed": false,
    "level": 7
   },
   "outputs": [
    {
     "data": {
      "text/plain": [
       "'./runs_zeta_detailed/w2_6390MHz_wc_6350MHz/1cycle_H_left'"
      ]
     },
     "execution_count": 76,
     "metadata": {},
     "output_type": "execute_result"
    }
   ],
   "source": [
    "rf"
   ]
  },
  {
   "cell_type": "code",
   "execution_count": 77,
   "metadata": {
    "collapsed": false,
    "level": 7
   },
   "outputs": [],
   "source": [
    "T = 2*T_entangling\n",
    "nt = int(max(2000, 100 * w_max * T))\n",
    "write_target_gate_dat(rf, 'H_left')\n",
    "write_config(join(rf, 'config'), T, nt, wc, w2, wd=wd, gate=\"target_gate.dat\", J_T='SM', prop_guess='F')"
   ]
  },
  {
   "cell_type": "code",
   "execution_count": 78,
   "metadata": {
    "collapsed": false,
    "level": 7,
    "scrolled": false
   },
   "outputs": [
    {
     "data": {
      "text/html": [
       "<div>\n",
       "<table border=\"1\" class=\"dataframe\">\n",
       "  <thead>\n",
       "    <tr style=\"text-align: right;\">\n",
       "      <th></th>\n",
       "      <th>E0</th>\n",
       "      <th>w_L</th>\n",
       "      <th>fig_of_merit</th>\n",
       "    </tr>\n",
       "  </thead>\n",
       "  <tbody>\n",
       "    <tr>\n",
       "      <th>26</th>\n",
       "      <td>200</td>\n",
       "      <td>6.372084</td>\n",
       "      <td>0.031741</td>\n",
       "    </tr>\n",
       "    <tr>\n",
       "      <th>19</th>\n",
       "      <td>200</td>\n",
       "      <td>6.390000</td>\n",
       "      <td>0.032492</td>\n",
       "    </tr>\n",
       "    <tr>\n",
       "      <th>33</th>\n",
       "      <td>500</td>\n",
       "      <td>6.446970</td>\n",
       "      <td>0.038568</td>\n",
       "    </tr>\n",
       "    <tr>\n",
       "      <th>35</th>\n",
       "      <td>500</td>\n",
       "      <td>6.372084</td>\n",
       "      <td>0.040493</td>\n",
       "    </tr>\n",
       "    <tr>\n",
       "      <th>25</th>\n",
       "      <td>200</td>\n",
       "      <td>6.297198</td>\n",
       "      <td>0.043759</td>\n",
       "    </tr>\n",
       "    <tr>\n",
       "      <th>24</th>\n",
       "      <td>200</td>\n",
       "      <td>6.446970</td>\n",
       "      <td>0.044051</td>\n",
       "    </tr>\n",
       "    <tr>\n",
       "      <th>28</th>\n",
       "      <td>500</td>\n",
       "      <td>6.390000</td>\n",
       "      <td>0.044512</td>\n",
       "    </tr>\n",
       "    <tr>\n",
       "      <th>34</th>\n",
       "      <td>500</td>\n",
       "      <td>6.297198</td>\n",
       "      <td>0.046819</td>\n",
       "    </tr>\n",
       "    <tr>\n",
       "      <th>29</th>\n",
       "      <td>500</td>\n",
       "      <td>6.195000</td>\n",
       "      <td>0.053226</td>\n",
       "    </tr>\n",
       "    <tr>\n",
       "      <th>20</th>\n",
       "      <td>200</td>\n",
       "      <td>6.195000</td>\n",
       "      <td>0.114526</td>\n",
       "    </tr>\n",
       "    <tr>\n",
       "      <th>27</th>\n",
       "      <td>500</td>\n",
       "      <td>6.000000</td>\n",
       "      <td>0.127180</td>\n",
       "    </tr>\n",
       "    <tr>\n",
       "      <th>30</th>\n",
       "      <td>500</td>\n",
       "      <td>5.986072</td>\n",
       "      <td>0.135060</td>\n",
       "    </tr>\n",
       "    <tr>\n",
       "      <th>32</th>\n",
       "      <td>500</td>\n",
       "      <td>5.911186</td>\n",
       "      <td>0.139043</td>\n",
       "    </tr>\n",
       "    <tr>\n",
       "      <th>31</th>\n",
       "      <td>500</td>\n",
       "      <td>5.836300</td>\n",
       "      <td>0.159971</td>\n",
       "    </tr>\n",
       "    <tr>\n",
       "      <th>17</th>\n",
       "      <td>50</td>\n",
       "      <td>6.372084</td>\n",
       "      <td>0.172853</td>\n",
       "    </tr>\n",
       "    <tr>\n",
       "      <th>10</th>\n",
       "      <td>50</td>\n",
       "      <td>6.390000</td>\n",
       "      <td>0.173278</td>\n",
       "    </tr>\n",
       "    <tr>\n",
       "      <th>16</th>\n",
       "      <td>50</td>\n",
       "      <td>6.297198</td>\n",
       "      <td>0.177713</td>\n",
       "    </tr>\n",
       "    <tr>\n",
       "      <th>18</th>\n",
       "      <td>200</td>\n",
       "      <td>6.000000</td>\n",
       "      <td>0.177808</td>\n",
       "    </tr>\n",
       "    <tr>\n",
       "      <th>15</th>\n",
       "      <td>50</td>\n",
       "      <td>6.446970</td>\n",
       "      <td>0.178697</td>\n",
       "    </tr>\n",
       "    <tr>\n",
       "      <th>21</th>\n",
       "      <td>200</td>\n",
       "      <td>5.986072</td>\n",
       "      <td>0.179701</td>\n",
       "    </tr>\n",
       "    <tr>\n",
       "      <th>23</th>\n",
       "      <td>200</td>\n",
       "      <td>5.911186</td>\n",
       "      <td>0.188757</td>\n",
       "    </tr>\n",
       "    <tr>\n",
       "      <th>11</th>\n",
       "      <td>50</td>\n",
       "      <td>6.195000</td>\n",
       "      <td>0.193136</td>\n",
       "    </tr>\n",
       "    <tr>\n",
       "      <th>9</th>\n",
       "      <td>50</td>\n",
       "      <td>6.000000</td>\n",
       "      <td>0.199647</td>\n",
       "    </tr>\n",
       "    <tr>\n",
       "      <th>12</th>\n",
       "      <td>50</td>\n",
       "      <td>5.986072</td>\n",
       "      <td>0.199707</td>\n",
       "    </tr>\n",
       "    <tr>\n",
       "      <th>22</th>\n",
       "      <td>200</td>\n",
       "      <td>5.836300</td>\n",
       "      <td>0.200711</td>\n",
       "    </tr>\n",
       "    <tr>\n",
       "      <th>14</th>\n",
       "      <td>50</td>\n",
       "      <td>5.911186</td>\n",
       "      <td>0.203007</td>\n",
       "    </tr>\n",
       "    <tr>\n",
       "      <th>8</th>\n",
       "      <td>0</td>\n",
       "      <td>6.372084</td>\n",
       "      <td>0.203782</td>\n",
       "    </tr>\n",
       "    <tr>\n",
       "      <th>7</th>\n",
       "      <td>0</td>\n",
       "      <td>6.297198</td>\n",
       "      <td>0.203782</td>\n",
       "    </tr>\n",
       "    <tr>\n",
       "      <th>6</th>\n",
       "      <td>0</td>\n",
       "      <td>6.446970</td>\n",
       "      <td>0.203782</td>\n",
       "    </tr>\n",
       "    <tr>\n",
       "      <th>5</th>\n",
       "      <td>0</td>\n",
       "      <td>5.911186</td>\n",
       "      <td>0.203782</td>\n",
       "    </tr>\n",
       "    <tr>\n",
       "      <th>3</th>\n",
       "      <td>0</td>\n",
       "      <td>5.986072</td>\n",
       "      <td>0.203782</td>\n",
       "    </tr>\n",
       "    <tr>\n",
       "      <th>2</th>\n",
       "      <td>0</td>\n",
       "      <td>6.195000</td>\n",
       "      <td>0.203782</td>\n",
       "    </tr>\n",
       "    <tr>\n",
       "      <th>1</th>\n",
       "      <td>0</td>\n",
       "      <td>6.390000</td>\n",
       "      <td>0.203782</td>\n",
       "    </tr>\n",
       "    <tr>\n",
       "      <th>0</th>\n",
       "      <td>0</td>\n",
       "      <td>6.000000</td>\n",
       "      <td>0.203782</td>\n",
       "    </tr>\n",
       "    <tr>\n",
       "      <th>4</th>\n",
       "      <td>0</td>\n",
       "      <td>5.836300</td>\n",
       "      <td>0.203782</td>\n",
       "    </tr>\n",
       "    <tr>\n",
       "      <th>13</th>\n",
       "      <td>50</td>\n",
       "      <td>5.836300</td>\n",
       "      <td>0.205233</td>\n",
       "    </tr>\n",
       "  </tbody>\n",
       "</table>\n",
       "</div>"
      ],
      "text/plain": [
       "     E0       w_L  fig_of_merit\n",
       "26  200  6.372084      0.031741\n",
       "19  200  6.390000      0.032492\n",
       "33  500  6.446970      0.038568\n",
       "35  500  6.372084      0.040493\n",
       "25  200  6.297198      0.043759\n",
       "24  200  6.446970      0.044051\n",
       "28  500  6.390000      0.044512\n",
       "34  500  6.297198      0.046819\n",
       "29  500  6.195000      0.053226\n",
       "20  200  6.195000      0.114526\n",
       "27  500  6.000000      0.127180\n",
       "30  500  5.986072      0.135060\n",
       "32  500  5.911186      0.139043\n",
       "31  500  5.836300      0.159971\n",
       "17   50  6.372084      0.172853\n",
       "10   50  6.390000      0.173278\n",
       "16   50  6.297198      0.177713\n",
       "18  200  6.000000      0.177808\n",
       "15   50  6.446970      0.178697\n",
       "21  200  5.986072      0.179701\n",
       "23  200  5.911186      0.188757\n",
       "11   50  6.195000      0.193136\n",
       "9    50  6.000000      0.199647\n",
       "12   50  5.986072      0.199707\n",
       "22  200  5.836300      0.200711\n",
       "14   50  5.911186      0.203007\n",
       "8     0  6.372084      0.203782\n",
       "7     0  6.297198      0.203782\n",
       "6     0  6.446970      0.203782\n",
       "5     0  5.911186      0.203782\n",
       "3     0  5.986072      0.203782\n",
       "2     0  6.195000      0.203782\n",
       "1     0  6.390000      0.203782\n",
       "0     0  6.000000      0.203782\n",
       "4     0  5.836300      0.203782\n",
       "13   50  5.836300      0.205233"
      ]
     },
     "execution_count": 78,
     "metadata": {},
     "output_type": "execute_result"
    }
   ],
   "source": [
    "pulse = AnalyticalPulse('1freq_rwa', T, nt,\n",
    "            parameters={'E0': 0.0, 'T': T, 'w_L': wd, 'w_d': wd},\n",
    "            t0=0.0, time_unit='ns', ampl_unit='MHz', freq_unit='MHz', mode=\"complex\")\n",
    "systematic_variation(rf, pulse, vary=OrderedDict([\n",
    "            ('E0', [0.0, 50, 200, 500]), \n",
    "            ('w_L', [w1, w2, 0.5*(w1+w2),  \n",
    "                     w1_dressed0, w1_dressed1, 0.5*(w1_dressed0+w1_dressed1),\n",
    "                     w2_dressed0, w2_dressed1, 0.5*(w2_dressed0+w2_dressed1)])]),\n",
    "            fig_of_merit=F_avg_H_left, n_procs=40)"
   ]
  },
  {
   "cell_type": "code",
   "execution_count": 79,
   "metadata": {
    "collapsed": true,
    "level": 7
   },
   "outputs": [],
   "source": [
    "pulse = AnalyticalPulse('1freq_rwa', T, nt,\n",
    "            parameters={'E0': 50.0, 'T': T, 'w_L': 5.836300, 'w_d': 5.836300},\n",
    "            t0=0.0, time_unit='ns', ampl_unit='MHz', freq_unit='MHz', mode=\"complex\")\n",
    "pulse.write(join(rf, 'pulse_guess.json'))"
   ]
  },
  {
   "cell_type": "code",
   "execution_count": 80,
   "metadata": {
    "collapsed": false,
    "level": 7
   },
   "outputs": [
    {
     "name": "stdout",
     "output_type": "stream",
     "text": [
      "Concurrence: 0.049977\n",
      "Loss: 0.004048\n"
     ]
    }
   ],
   "source": [
    "U_guess = propagate(rf, 'pulse_guess.json', rwa=True, force=True)\n",
    "print(\"Concurrence: %f\" % U_guess.closest_unitary().concurrence())\n",
    "print(\"Loss: %f\" % U_guess.pop_loss())"
   ]
  },
  {
   "cell_type": "code",
   "execution_count": 81,
   "metadata": {
    "collapsed": false,
    "level": 7
   },
   "outputs": [
    {
     "data": {
      "text/plain": [
       "0.2052330124614023"
      ]
     },
     "execution_count": 81,
     "metadata": {},
     "output_type": "execute_result"
    }
   ],
   "source": [
    "U_guess.F_avg(H_left)"
   ]
  },
  {
   "cell_type": "code",
   "execution_count": 83,
   "metadata": {
    "collapsed": false,
    "level": 7
   },
   "outputs": [
    {
     "data": {
      "text/plain": [
       "0.79476698753859765"
      ]
     },
     "execution_count": 83,
     "metadata": {},
     "output_type": "execute_result"
    }
   ],
   "source": [
    "1 - U_guess.F_avg(H_left)"
   ]
  },
  {
   "cell_type": "code",
   "execution_count": 82,
   "metadata": {
    "collapsed": false,
    "level": 7
   },
   "outputs": [],
   "source": [
    "proc = system(\"./run_oct.py --rwa --pre-simplex='pulse_guess.json' {rf}\".format(rf=rf))"
   ]
  },
  {
   "cell_type": "code",
   "execution_count": 86,
   "metadata": {
    "collapsed": true,
    "level": 7
   },
   "outputs": [],
   "source": [
    "proc.join()"
   ]
  },
  {
   "cell_type": "code",
   "execution_count": 87,
   "metadata": {
    "collapsed": false,
    "level": 7
   },
   "outputs": [
    {
     "name": "stdout",
     "output_type": "stream",
     "text": [
      " 1429  5.934298696718E-01  3.120768441782E-06  0.000000000000E+00  5.93432990440\r\n",
      " 1430  5.934236253029E-01  3.117751829351E-06  0.000000000000E+00  5.93426743054\r\n",
      " 1431  5.934173869348E-01  3.114743198154E-06  0.000000000000E+00  5.93420501678\r\n",
      " 1432  5.934111545517E-01  3.111742525309E-06  0.000000000000E+00  5.93414266294\r\n",
      " 1433  5.934049281377E-01  3.108749788001E-06  0.000000000000E+00  5.93408036887\r\n",
      " 1434  5.933987076769E-01  3.105764963483E-06  0.000000000000E+00  5.93401813441\r\n",
      " 1435  5.933924931535E-01  3.102788029076E-06  0.000000000000E+00  5.93395595941\r\n",
      " 1436  5.933862845519E-01  3.099818962165E-06  0.000000000000E+00  5.93389384370\r\n",
      " 1437  5.933800818564E-01  3.096857740204E-06  0.000000000000E+00  5.93383178714\r\n",
      "# oct_params.dat: iter_stop            10000 ->            1000\r\n"
     ]
    }
   ],
   "source": [
    "U = propagate(rf, 'pulse.dat', rwa=True, force=True);\n",
    "! tail {rf}/oct_iters.dat | cut -b 1-80"
   ]
  },
  {
   "cell_type": "code",
   "execution_count": 88,
   "metadata": {
    "collapsed": false,
    "level": 7
   },
   "outputs": [
    {
     "data": {
      "text/plain": [
       "0.43548216629003111"
      ]
     },
     "execution_count": 88,
     "metadata": {},
     "output_type": "execute_result"
    }
   ],
   "source": [
    "U.F_avg(H_left)"
   ]
  },
  {
   "cell_type": "markdown",
   "metadata": {
    "collapsed": true,
    "heading_collapsed": false,
    "level": 4
   },
   "source": [
    "#### $H_L$ at $T = 80 T_\\pi$"
   ]
  },
  {
   "cell_type": "code",
   "execution_count": 100,
   "metadata": {
    "collapsed": true,
    "level": 7
   },
   "outputs": [],
   "source": [
    "rf = join(root, '40cycle_H_left'); mkdir(rf)\n",
    "wd = 0.5*(w1+w2)"
   ]
  },
  {
   "cell_type": "code",
   "execution_count": 101,
   "metadata": {
    "collapsed": false,
    "level": 7
   },
   "outputs": [
    {
     "data": {
      "text/plain": [
       "'./runs_zeta_detailed/w2_6390MHz_wc_6350MHz/40cycle_H_left'"
      ]
     },
     "execution_count": 101,
     "metadata": {},
     "output_type": "execute_result"
    }
   ],
   "source": [
    "rf"
   ]
  },
  {
   "cell_type": "code",
   "execution_count": 102,
   "metadata": {
    "collapsed": false,
    "level": 7
   },
   "outputs": [],
   "source": [
    "T = 80*T_entangling\n",
    "nt = int(max(2000, 100 * w_max * T))\n",
    "write_target_gate_dat(rf, 'H_left')\n",
    "write_config(join(rf, 'config'), T, nt, wc, w2, wd=wd, gate=\"target_gate.dat\", J_T='SM', prop_guess='F')"
   ]
  },
  {
   "cell_type": "code",
   "execution_count": 103,
   "metadata": {
    "collapsed": false,
    "level": 7
   },
   "outputs": [
    {
     "data": {
      "text/plain": [
       "267.0726170445743"
      ]
     },
     "execution_count": 103,
     "metadata": {},
     "output_type": "execute_result"
    }
   ],
   "source": [
    "T"
   ]
  },
  {
   "cell_type": "code",
   "execution_count": 104,
   "metadata": {
    "collapsed": false,
    "level": 7,
    "scrolled": false
   },
   "outputs": [
    {
     "data": {
      "text/html": [
       "<div>\n",
       "<table border=\"1\" class=\"dataframe\">\n",
       "  <thead>\n",
       "    <tr style=\"text-align: right;\">\n",
       "      <th></th>\n",
       "      <th>E0</th>\n",
       "      <th>w_L</th>\n",
       "      <th>fig_of_merit</th>\n",
       "    </tr>\n",
       "  </thead>\n",
       "  <tbody>\n",
       "    <tr>\n",
       "      <th>28</th>\n",
       "      <td>100</td>\n",
       "      <td>6.390000</td>\n",
       "      <td>0.065370</td>\n",
       "    </tr>\n",
       "    <tr>\n",
       "      <th>34</th>\n",
       "      <td>100</td>\n",
       "      <td>6.297198</td>\n",
       "      <td>0.160431</td>\n",
       "    </tr>\n",
       "    <tr>\n",
       "      <th>35</th>\n",
       "      <td>100</td>\n",
       "      <td>6.372084</td>\n",
       "      <td>0.167946</td>\n",
       "    </tr>\n",
       "    <tr>\n",
       "      <th>33</th>\n",
       "      <td>100</td>\n",
       "      <td>6.446970</td>\n",
       "      <td>0.168966</td>\n",
       "    </tr>\n",
       "    <tr>\n",
       "      <th>19</th>\n",
       "      <td>50</td>\n",
       "      <td>6.390000</td>\n",
       "      <td>0.198423</td>\n",
       "    </tr>\n",
       "    <tr>\n",
       "      <th>32</th>\n",
       "      <td>100</td>\n",
       "      <td>5.911186</td>\n",
       "      <td>0.205069</td>\n",
       "    </tr>\n",
       "    <tr>\n",
       "      <th>24</th>\n",
       "      <td>50</td>\n",
       "      <td>6.446970</td>\n",
       "      <td>0.213586</td>\n",
       "    </tr>\n",
       "    <tr>\n",
       "      <th>15</th>\n",
       "      <td>20</td>\n",
       "      <td>6.446970</td>\n",
       "      <td>0.226901</td>\n",
       "    </tr>\n",
       "    <tr>\n",
       "      <th>30</th>\n",
       "      <td>100</td>\n",
       "      <td>5.986072</td>\n",
       "      <td>0.235576</td>\n",
       "    </tr>\n",
       "    <tr>\n",
       "      <th>21</th>\n",
       "      <td>50</td>\n",
       "      <td>5.986072</td>\n",
       "      <td>0.241762</td>\n",
       "    </tr>\n",
       "    <tr>\n",
       "      <th>17</th>\n",
       "      <td>20</td>\n",
       "      <td>6.372084</td>\n",
       "      <td>0.249680</td>\n",
       "    </tr>\n",
       "    <tr>\n",
       "      <th>16</th>\n",
       "      <td>20</td>\n",
       "      <td>6.297198</td>\n",
       "      <td>0.256994</td>\n",
       "    </tr>\n",
       "    <tr>\n",
       "      <th>12</th>\n",
       "      <td>20</td>\n",
       "      <td>5.986072</td>\n",
       "      <td>0.258794</td>\n",
       "    </tr>\n",
       "    <tr>\n",
       "      <th>20</th>\n",
       "      <td>50</td>\n",
       "      <td>6.195000</td>\n",
       "      <td>0.259016</td>\n",
       "    </tr>\n",
       "    <tr>\n",
       "      <th>31</th>\n",
       "      <td>100</td>\n",
       "      <td>5.836300</td>\n",
       "      <td>0.263372</td>\n",
       "    </tr>\n",
       "    <tr>\n",
       "      <th>27</th>\n",
       "      <td>100</td>\n",
       "      <td>6.000000</td>\n",
       "      <td>0.283049</td>\n",
       "    </tr>\n",
       "    <tr>\n",
       "      <th>23</th>\n",
       "      <td>50</td>\n",
       "      <td>5.911186</td>\n",
       "      <td>0.303629</td>\n",
       "    </tr>\n",
       "    <tr>\n",
       "      <th>25</th>\n",
       "      <td>50</td>\n",
       "      <td>6.297198</td>\n",
       "      <td>0.318823</td>\n",
       "    </tr>\n",
       "    <tr>\n",
       "      <th>22</th>\n",
       "      <td>50</td>\n",
       "      <td>5.836300</td>\n",
       "      <td>0.332047</td>\n",
       "    </tr>\n",
       "    <tr>\n",
       "      <th>11</th>\n",
       "      <td>20</td>\n",
       "      <td>6.195000</td>\n",
       "      <td>0.343333</td>\n",
       "    </tr>\n",
       "    <tr>\n",
       "      <th>14</th>\n",
       "      <td>20</td>\n",
       "      <td>5.911186</td>\n",
       "      <td>0.343964</td>\n",
       "    </tr>\n",
       "    <tr>\n",
       "      <th>26</th>\n",
       "      <td>50</td>\n",
       "      <td>6.372084</td>\n",
       "      <td>0.349931</td>\n",
       "    </tr>\n",
       "    <tr>\n",
       "      <th>13</th>\n",
       "      <td>20</td>\n",
       "      <td>5.836300</td>\n",
       "      <td>0.350191</td>\n",
       "    </tr>\n",
       "    <tr>\n",
       "      <th>1</th>\n",
       "      <td>0</td>\n",
       "      <td>6.390000</td>\n",
       "      <td>0.351859</td>\n",
       "    </tr>\n",
       "    <tr>\n",
       "      <th>6</th>\n",
       "      <td>0</td>\n",
       "      <td>6.446970</td>\n",
       "      <td>0.351859</td>\n",
       "    </tr>\n",
       "    <tr>\n",
       "      <th>8</th>\n",
       "      <td>0</td>\n",
       "      <td>6.372084</td>\n",
       "      <td>0.351859</td>\n",
       "    </tr>\n",
       "    <tr>\n",
       "      <th>5</th>\n",
       "      <td>0</td>\n",
       "      <td>5.911186</td>\n",
       "      <td>0.351859</td>\n",
       "    </tr>\n",
       "    <tr>\n",
       "      <th>3</th>\n",
       "      <td>0</td>\n",
       "      <td>5.986072</td>\n",
       "      <td>0.351859</td>\n",
       "    </tr>\n",
       "    <tr>\n",
       "      <th>2</th>\n",
       "      <td>0</td>\n",
       "      <td>6.195000</td>\n",
       "      <td>0.351859</td>\n",
       "    </tr>\n",
       "    <tr>\n",
       "      <th>7</th>\n",
       "      <td>0</td>\n",
       "      <td>6.297198</td>\n",
       "      <td>0.351859</td>\n",
       "    </tr>\n",
       "    <tr>\n",
       "      <th>0</th>\n",
       "      <td>0</td>\n",
       "      <td>6.000000</td>\n",
       "      <td>0.351859</td>\n",
       "    </tr>\n",
       "    <tr>\n",
       "      <th>4</th>\n",
       "      <td>0</td>\n",
       "      <td>5.836300</td>\n",
       "      <td>0.351859</td>\n",
       "    </tr>\n",
       "    <tr>\n",
       "      <th>9</th>\n",
       "      <td>20</td>\n",
       "      <td>6.000000</td>\n",
       "      <td>0.385437</td>\n",
       "    </tr>\n",
       "    <tr>\n",
       "      <th>29</th>\n",
       "      <td>100</td>\n",
       "      <td>6.195000</td>\n",
       "      <td>0.396591</td>\n",
       "    </tr>\n",
       "    <tr>\n",
       "      <th>10</th>\n",
       "      <td>20</td>\n",
       "      <td>6.390000</td>\n",
       "      <td>0.460018</td>\n",
       "    </tr>\n",
       "    <tr>\n",
       "      <th>18</th>\n",
       "      <td>50</td>\n",
       "      <td>6.000000</td>\n",
       "      <td>0.462891</td>\n",
       "    </tr>\n",
       "  </tbody>\n",
       "</table>\n",
       "</div>"
      ],
      "text/plain": [
       "     E0       w_L  fig_of_merit\n",
       "28  100  6.390000      0.065370\n",
       "34  100  6.297198      0.160431\n",
       "35  100  6.372084      0.167946\n",
       "33  100  6.446970      0.168966\n",
       "19   50  6.390000      0.198423\n",
       "32  100  5.911186      0.205069\n",
       "24   50  6.446970      0.213586\n",
       "15   20  6.446970      0.226901\n",
       "30  100  5.986072      0.235576\n",
       "21   50  5.986072      0.241762\n",
       "17   20  6.372084      0.249680\n",
       "16   20  6.297198      0.256994\n",
       "12   20  5.986072      0.258794\n",
       "20   50  6.195000      0.259016\n",
       "31  100  5.836300      0.263372\n",
       "27  100  6.000000      0.283049\n",
       "23   50  5.911186      0.303629\n",
       "25   50  6.297198      0.318823\n",
       "22   50  5.836300      0.332047\n",
       "11   20  6.195000      0.343333\n",
       "14   20  5.911186      0.343964\n",
       "26   50  6.372084      0.349931\n",
       "13   20  5.836300      0.350191\n",
       "1     0  6.390000      0.351859\n",
       "6     0  6.446970      0.351859\n",
       "8     0  6.372084      0.351859\n",
       "5     0  5.911186      0.351859\n",
       "3     0  5.986072      0.351859\n",
       "2     0  6.195000      0.351859\n",
       "7     0  6.297198      0.351859\n",
       "0     0  6.000000      0.351859\n",
       "4     0  5.836300      0.351859\n",
       "9    20  6.000000      0.385437\n",
       "29  100  6.195000      0.396591\n",
       "10   20  6.390000      0.460018\n",
       "18   50  6.000000      0.462891"
      ]
     },
     "execution_count": 104,
     "metadata": {},
     "output_type": "execute_result"
    }
   ],
   "source": [
    "pulse = AnalyticalPulse('1freq_rwa', T, nt,\n",
    "            parameters={'E0': 0.0, 'T': T, 'w_L': wd, 'w_d': wd},\n",
    "            t0=0.0, time_unit='ns', ampl_unit='MHz', freq_unit='MHz', mode=\"complex\")\n",
    "systematic_variation(rf, pulse, vary=OrderedDict([\n",
    "            ('E0', [0.0, 20, 50, 100]), \n",
    "            ('w_L', [w1, w2, 0.5*(w1+w2),  \n",
    "                     w1_dressed0, w1_dressed1, 0.5*(w1_dressed0+w1_dressed1),\n",
    "                     w2_dressed0, w2_dressed1, 0.5*(w2_dressed0+w2_dressed1)])]),\n",
    "            fig_of_merit=F_avg_H_left, n_procs=40)"
   ]
  },
  {
   "cell_type": "code",
   "execution_count": 105,
   "metadata": {
    "collapsed": true,
    "level": 7
   },
   "outputs": [],
   "source": [
    "pulse = AnalyticalPulse('1freq_rwa', T, nt,\n",
    "            parameters={'E0': 50.0, 'T': T, 'w_L': 6.000000, 'w_d': 6.000000},\n",
    "            t0=0.0, time_unit='ns', ampl_unit='MHz', freq_unit='MHz', mode=\"complex\")\n",
    "pulse.write(join(rf, 'pulse_guess.json'))"
   ]
  },
  {
   "cell_type": "code",
   "execution_count": 106,
   "metadata": {
    "collapsed": false,
    "level": 7
   },
   "outputs": [
    {
     "name": "stdout",
     "output_type": "stream",
     "text": [
      "Concurrence: 0.147956\n",
      "Loss: 0.050370\n"
     ]
    }
   ],
   "source": [
    "U_guess = propagate(rf, 'pulse_guess.json', rwa=True, force=True)\n",
    "print(\"Concurrence: %f\" % U_guess.closest_unitary().concurrence())\n",
    "print(\"Loss: %f\" % U_guess.pop_loss())"
   ]
  },
  {
   "cell_type": "code",
   "execution_count": 107,
   "metadata": {
    "collapsed": false,
    "level": 7
   },
   "outputs": [
    {
     "data": {
      "image/png": "[encoded data removed]",
      "text/plain": [
       "<matplotlib.figure.Figure at 0x7f056c29ecd0>"
      ]
     },
     "metadata": {},
     "output_type": "display_data"
    }
   ],
   "source": [
    "U_guess.arrow_plot()"
   ]
  },
  {
   "cell_type": "code",
   "execution_count": 108,
   "metadata": {
    "collapsed": false,
    "level": 7
   },
   "outputs": [],
   "source": [
    "proc = system(\"./run_oct.py --rwa --pre-simplex='pulse_guess.json' {rf}\".format(rf=rf))"
   ]
  },
  {
   "cell_type": "code",
   "execution_count": 109,
   "metadata": {
    "collapsed": false,
    "level": 7
   },
   "outputs": [
    {
     "data": {
      "text/plain": [
       "<Process(Process-204, started)>"
      ]
     },
     "execution_count": 109,
     "metadata": {},
     "output_type": "execute_result"
    }
   ],
   "source": []
  },
  {
   "cell_type": "code",
   "execution_count": 99,
   "metadata": {
    "collapsed": false,
    "level": 7
   },
   "outputs": [
    {
     "ename": "TypeError",
     "evalue": "ufunc 'isnan' not supported for the input types, and the inputs could not be safely coerced to any supported types according to the casting rule ''safe''",
     "output_type": "error",
     "traceback": [
      "\u001b[0;31m---------------------------------------------------------------------------\u001b[0m",
      "\u001b[0;31mTypeError\u001b[0m                                 Traceback (most recent call last)",
      "\u001b[0;32m<ipython-input-99-314a0b3982c9>\u001b[0m in \u001b[0;36m<module>\u001b[0;34m()\u001b[0m\n\u001b[0;32m----> 1\u001b[0;31m \u001b[0mproc\u001b[0m\u001b[0;34m.\u001b[0m\u001b[0mjoin\u001b[0m\u001b[0;34m(\u001b[0m\u001b[0;34m)\u001b[0m\u001b[0;34m;\u001b[0m \u001b[0mU\u001b[0m \u001b[0;34m=\u001b[0m \u001b[0mpropagate\u001b[0m\u001b[0;34m(\u001b[0m\u001b[0mrf\u001b[0m\u001b[0;34m,\u001b[0m \u001b[0;34m'pulse.dat'\u001b[0m\u001b[0;34m,\u001b[0m \u001b[0mrwa\u001b[0m\u001b[0;34m=\u001b[0m\u001b[0mTrue\u001b[0m\u001b[0;34m,\u001b[0m \u001b[0mforce\u001b[0m\u001b[0;34m=\u001b[0m\u001b[0mTrue\u001b[0m\u001b[0;34m)\u001b[0m\u001b[0;34m;\u001b[0m\u001b[0;34m\u001b[0m\u001b[0m\n\u001b[0m\u001b[1;32m      2\u001b[0m \u001b[0mget_ipython\u001b[0m\u001b[0;34m(\u001b[0m\u001b[0;34m)\u001b[0m\u001b[0;34m.\u001b[0m\u001b[0msystem\u001b[0m\u001b[0;34m(\u001b[0m\u001b[0;34mu' tail {rf}/oct_iters.dat | cut -b 1-80'\u001b[0m\u001b[0;34m)\u001b[0m\u001b[0;34m\u001b[0m\u001b[0m\n",
      "\u001b[0;32m/data/goerz/jobs/ConstrainedTransmon/run_oct.py\u001b[0m in \u001b[0;36mpropagate\u001b[0;34m(runfolder, pulse_file, rwa, rho, rho_pop_plot, n_qubit, n_cavity, keep, force, target)\u001b[0m\n\u001b[1;32m    615\u001b[0m         \u001b[0;32mexcept\u001b[0m \u001b[0;34m(\u001b[0m\u001b[0mIOError\u001b[0m\u001b[0;34m,\u001b[0m \u001b[0mOSError\u001b[0m\u001b[0;34m)\u001b[0m \u001b[0;32mas\u001b[0m \u001b[0me\u001b[0m\u001b[0;34m:\u001b[0m\u001b[0;34m\u001b[0m\u001b[0m\n\u001b[1;32m    616\u001b[0m             \u001b[0mlogger\u001b[0m\u001b[0;34m.\u001b[0m\u001b[0merror\u001b[0m\u001b[0;34m(\u001b[0m\u001b[0me\u001b[0m\u001b[0;34m)\u001b[0m\u001b[0;34m\u001b[0m\u001b[0m\n\u001b[0;32m--> 617\u001b[0;31m     \u001b[0;32mif\u001b[0m \u001b[0mnp\u001b[0m\u001b[0;34m.\u001b[0m\u001b[0misnan\u001b[0m\u001b[0;34m(\u001b[0m\u001b[0mU\u001b[0m\u001b[0;34m)\u001b[0m\u001b[0;34m.\u001b[0m\u001b[0many\u001b[0m\u001b[0;34m(\u001b[0m\u001b[0;34m)\u001b[0m\u001b[0;34m:\u001b[0m\u001b[0;34m\u001b[0m\u001b[0m\n\u001b[0m\u001b[1;32m    618\u001b[0m         \u001b[0mlogger\u001b[0m\u001b[0;34m.\u001b[0m\u001b[0merror\u001b[0m\u001b[0;34m(\u001b[0m\u001b[0;34m\"gate %s contains NaN\"\u001b[0m\u001b[0;34m,\u001b[0m \u001b[0mgatefile\u001b[0m\u001b[0;34m)\u001b[0m\u001b[0;34m\u001b[0m\u001b[0m\n\u001b[1;32m    619\u001b[0m     \u001b[0;32mreturn\u001b[0m \u001b[0mU\u001b[0m\u001b[0;34m\u001b[0m\u001b[0m\n",
      "\u001b[0;31mTypeError\u001b[0m: ufunc 'isnan' not supported for the input types, and the inputs could not be safely coerced to any supported types according to the casting rule ''safe''"
     ]
    }
   ],
   "source": [
    "proc.join(); U = propagate(rf, 'pulse.dat', rwa=True, force=True);\n",
    "! tail {rf}/oct_iters.dat | cut -b 1-80"
   ]
  },
  {
   "cell_type": "code",
   "execution_count": null,
   "metadata": {
    "collapsed": false,
    "level": 7
   },
   "outputs": [],
   "source": [
    "U.concurrence() - U_guess.concurrence()"
   ]
  },
  {
   "cell_type": "code",
   "execution_count": null,
   "metadata": {
    "collapsed": true,
    "level": 7
   },
   "outputs": [],
   "source": []
  },
  {
   "cell_type": "markdown",
   "metadata": {
    "collapsed": true,
    "heading_collapsed": false,
    "level": 4
   },
   "source": [
    "#### $H_L$ at $T = 50$ ns"
   ]
  },
  {
   "cell_type": "code",
   "execution_count": 110,
   "metadata": {
    "collapsed": true,
    "level": 7
   },
   "outputs": [],
   "source": [
    "rf = join(root, '50ns_H_left'); mkdir(rf)\n",
    "wd = 0.5*(w1+w2)"
   ]
  },
  {
   "cell_type": "code",
   "execution_count": 111,
   "metadata": {
    "collapsed": false,
    "level": 7
   },
   "outputs": [
    {
     "data": {
      "text/plain": [
       "'./runs_zeta_detailed/w2_6390MHz_wc_6350MHz/50ns_H_left'"
      ]
     },
     "execution_count": 111,
     "metadata": {},
     "output_type": "execute_result"
    }
   ],
   "source": [
    "rf"
   ]
  },
  {
   "cell_type": "code",
   "execution_count": 116,
   "metadata": {
    "collapsed": false,
    "level": 7
   },
   "outputs": [],
   "source": [
    "T = 50\n",
    "nt = int(max(2000, 100 * w_max * T))\n",
    "write_target_gate_dat(rf, 'H_left')\n",
    "write_config(join(rf, 'config'), T, nt, wc, w2, wd=wd, gate=\"target_gate.dat\", J_T='SM', prop_guess='F')"
   ]
  },
  {
   "cell_type": "code",
   "execution_count": 113,
   "metadata": {
    "collapsed": false,
    "level": 7,
    "scrolled": false
   },
   "outputs": [
    {
     "data": {
      "text/html": [
       "<div>\n",
       "<table border=\"1\" class=\"dataframe\">\n",
       "  <thead>\n",
       "    <tr style=\"text-align: right;\">\n",
       "      <th></th>\n",
       "      <th>E0</th>\n",
       "      <th>w_L</th>\n",
       "      <th>fig_of_merit</th>\n",
       "    </tr>\n",
       "  </thead>\n",
       "  <tbody>\n",
       "    <tr>\n",
       "      <th>28</th>\n",
       "      <td>100</td>\n",
       "      <td>6.390000</td>\n",
       "      <td>0.046420</td>\n",
       "    </tr>\n",
       "    <tr>\n",
       "      <th>35</th>\n",
       "      <td>100</td>\n",
       "      <td>6.372084</td>\n",
       "      <td>0.096070</td>\n",
       "    </tr>\n",
       "    <tr>\n",
       "      <th>33</th>\n",
       "      <td>100</td>\n",
       "      <td>6.446970</td>\n",
       "      <td>0.132721</td>\n",
       "    </tr>\n",
       "    <tr>\n",
       "      <th>34</th>\n",
       "      <td>100</td>\n",
       "      <td>6.297198</td>\n",
       "      <td>0.143346</td>\n",
       "    </tr>\n",
       "    <tr>\n",
       "      <th>30</th>\n",
       "      <td>100</td>\n",
       "      <td>5.986072</td>\n",
       "      <td>0.155863</td>\n",
       "    </tr>\n",
       "    <tr>\n",
       "      <th>16</th>\n",
       "      <td>20</td>\n",
       "      <td>6.297198</td>\n",
       "      <td>0.169874</td>\n",
       "    </tr>\n",
       "    <tr>\n",
       "      <th>9</th>\n",
       "      <td>20</td>\n",
       "      <td>6.000000</td>\n",
       "      <td>0.210756</td>\n",
       "    </tr>\n",
       "    <tr>\n",
       "      <th>21</th>\n",
       "      <td>50</td>\n",
       "      <td>5.986072</td>\n",
       "      <td>0.213161</td>\n",
       "    </tr>\n",
       "    <tr>\n",
       "      <th>18</th>\n",
       "      <td>50</td>\n",
       "      <td>6.000000</td>\n",
       "      <td>0.215795</td>\n",
       "    </tr>\n",
       "    <tr>\n",
       "      <th>15</th>\n",
       "      <td>20</td>\n",
       "      <td>6.446970</td>\n",
       "      <td>0.215932</td>\n",
       "    </tr>\n",
       "    <tr>\n",
       "      <th>25</th>\n",
       "      <td>50</td>\n",
       "      <td>6.297198</td>\n",
       "      <td>0.220990</td>\n",
       "    </tr>\n",
       "    <tr>\n",
       "      <th>4</th>\n",
       "      <td>0</td>\n",
       "      <td>5.836300</td>\n",
       "      <td>0.224055</td>\n",
       "    </tr>\n",
       "    <tr>\n",
       "      <th>0</th>\n",
       "      <td>0</td>\n",
       "      <td>6.000000</td>\n",
       "      <td>0.224055</td>\n",
       "    </tr>\n",
       "    <tr>\n",
       "      <th>1</th>\n",
       "      <td>0</td>\n",
       "      <td>6.390000</td>\n",
       "      <td>0.224055</td>\n",
       "    </tr>\n",
       "    <tr>\n",
       "      <th>8</th>\n",
       "      <td>0</td>\n",
       "      <td>6.372084</td>\n",
       "      <td>0.224055</td>\n",
       "    </tr>\n",
       "    <tr>\n",
       "      <th>7</th>\n",
       "      <td>0</td>\n",
       "      <td>6.297198</td>\n",
       "      <td>0.224055</td>\n",
       "    </tr>\n",
       "    <tr>\n",
       "      <th>6</th>\n",
       "      <td>0</td>\n",
       "      <td>6.446970</td>\n",
       "      <td>0.224055</td>\n",
       "    </tr>\n",
       "    <tr>\n",
       "      <th>5</th>\n",
       "      <td>0</td>\n",
       "      <td>5.911186</td>\n",
       "      <td>0.224055</td>\n",
       "    </tr>\n",
       "    <tr>\n",
       "      <th>2</th>\n",
       "      <td>0</td>\n",
       "      <td>6.195000</td>\n",
       "      <td>0.224055</td>\n",
       "    </tr>\n",
       "    <tr>\n",
       "      <th>3</th>\n",
       "      <td>0</td>\n",
       "      <td>5.986072</td>\n",
       "      <td>0.224055</td>\n",
       "    </tr>\n",
       "    <tr>\n",
       "      <th>13</th>\n",
       "      <td>20</td>\n",
       "      <td>5.836300</td>\n",
       "      <td>0.224125</td>\n",
       "    </tr>\n",
       "    <tr>\n",
       "      <th>11</th>\n",
       "      <td>20</td>\n",
       "      <td>6.195000</td>\n",
       "      <td>0.224140</td>\n",
       "    </tr>\n",
       "    <tr>\n",
       "      <th>14</th>\n",
       "      <td>20</td>\n",
       "      <td>5.911186</td>\n",
       "      <td>0.224182</td>\n",
       "    </tr>\n",
       "    <tr>\n",
       "      <th>22</th>\n",
       "      <td>50</td>\n",
       "      <td>5.836300</td>\n",
       "      <td>0.224747</td>\n",
       "    </tr>\n",
       "    <tr>\n",
       "      <th>23</th>\n",
       "      <td>50</td>\n",
       "      <td>5.911186</td>\n",
       "      <td>0.225025</td>\n",
       "    </tr>\n",
       "    <tr>\n",
       "      <th>31</th>\n",
       "      <td>100</td>\n",
       "      <td>5.836300</td>\n",
       "      <td>0.227473</td>\n",
       "    </tr>\n",
       "    <tr>\n",
       "      <th>20</th>\n",
       "      <td>50</td>\n",
       "      <td>6.195000</td>\n",
       "      <td>0.228912</td>\n",
       "    </tr>\n",
       "    <tr>\n",
       "      <th>12</th>\n",
       "      <td>20</td>\n",
       "      <td>5.986072</td>\n",
       "      <td>0.229243</td>\n",
       "    </tr>\n",
       "    <tr>\n",
       "      <th>32</th>\n",
       "      <td>100</td>\n",
       "      <td>5.911186</td>\n",
       "      <td>0.230139</td>\n",
       "    </tr>\n",
       "    <tr>\n",
       "      <th>17</th>\n",
       "      <td>20</td>\n",
       "      <td>6.372084</td>\n",
       "      <td>0.231438</td>\n",
       "    </tr>\n",
       "    <tr>\n",
       "      <th>26</th>\n",
       "      <td>50</td>\n",
       "      <td>6.372084</td>\n",
       "      <td>0.232588</td>\n",
       "    </tr>\n",
       "    <tr>\n",
       "      <th>19</th>\n",
       "      <td>50</td>\n",
       "      <td>6.390000</td>\n",
       "      <td>0.232693</td>\n",
       "    </tr>\n",
       "    <tr>\n",
       "      <th>10</th>\n",
       "      <td>20</td>\n",
       "      <td>6.390000</td>\n",
       "      <td>0.235234</td>\n",
       "    </tr>\n",
       "    <tr>\n",
       "      <th>24</th>\n",
       "      <td>50</td>\n",
       "      <td>6.446970</td>\n",
       "      <td>0.238378</td>\n",
       "    </tr>\n",
       "    <tr>\n",
       "      <th>29</th>\n",
       "      <td>100</td>\n",
       "      <td>6.195000</td>\n",
       "      <td>0.246989</td>\n",
       "    </tr>\n",
       "    <tr>\n",
       "      <th>27</th>\n",
       "      <td>100</td>\n",
       "      <td>6.000000</td>\n",
       "      <td>0.327762</td>\n",
       "    </tr>\n",
       "  </tbody>\n",
       "</table>\n",
       "</div>"
      ],
      "text/plain": [
       "     E0       w_L  fig_of_merit\n",
       "28  100  6.390000      0.046420\n",
       "35  100  6.372084      0.096070\n",
       "33  100  6.446970      0.132721\n",
       "34  100  6.297198      0.143346\n",
       "30  100  5.986072      0.155863\n",
       "16   20  6.297198      0.169874\n",
       "9    20  6.000000      0.210756\n",
       "21   50  5.986072      0.213161\n",
       "18   50  6.000000      0.215795\n",
       "15   20  6.446970      0.215932\n",
       "25   50  6.297198      0.220990\n",
       "4     0  5.836300      0.224055\n",
       "0     0  6.000000      0.224055\n",
       "1     0  6.390000      0.224055\n",
       "8     0  6.372084      0.224055\n",
       "7     0  6.297198      0.224055\n",
       "6     0  6.446970      0.224055\n",
       "5     0  5.911186      0.224055\n",
       "2     0  6.195000      0.224055\n",
       "3     0  5.986072      0.224055\n",
       "13   20  5.836300      0.224125\n",
       "11   20  6.195000      0.224140\n",
       "14   20  5.911186      0.224182\n",
       "22   50  5.836300      0.224747\n",
       "23   50  5.911186      0.225025\n",
       "31  100  5.836300      0.227473\n",
       "20   50  6.195000      0.228912\n",
       "12   20  5.986072      0.229243\n",
       "32  100  5.911186      0.230139\n",
       "17   20  6.372084      0.231438\n",
       "26   50  6.372084      0.232588\n",
       "19   50  6.390000      0.232693\n",
       "10   20  6.390000      0.235234\n",
       "24   50  6.446970      0.238378\n",
       "29  100  6.195000      0.246989\n",
       "27  100  6.000000      0.327762"
      ]
     },
     "execution_count": 113,
     "metadata": {},
     "output_type": "execute_result"
    }
   ],
   "source": [
    "pulse = AnalyticalPulse('1freq_rwa', T, nt,\n",
    "            parameters={'E0': 0.0, 'T': T, 'w_L': wd, 'w_d': wd},\n",
    "            t0=0.0, time_unit='ns', ampl_unit='MHz', freq_unit='MHz', mode=\"complex\")\n",
    "systematic_variation(rf, pulse, vary=OrderedDict([\n",
    "            ('E0', [0.0, 20, 50, 100]), \n",
    "            ('w_L', [w1, w2, 0.5*(w1+w2),  \n",
    "                     w1_dressed0, w1_dressed1, 0.5*(w1_dressed0+w1_dressed1),\n",
    "                     w2_dressed0, w2_dressed1, 0.5*(w2_dressed0+w2_dressed1)])]),\n",
    "            fig_of_merit=F_avg_H_left, n_procs=40)"
   ]
  },
  {
   "cell_type": "code",
   "execution_count": 114,
   "metadata": {
    "collapsed": true,
    "level": 7
   },
   "outputs": [],
   "source": [
    "pulse = AnalyticalPulse('1freq_rwa', T, nt,\n",
    "            parameters={'E0': 100.0, 'T': T, 'w_L': 6.000000, 'w_d': 6.000000},\n",
    "            t0=0.0, time_unit='ns', ampl_unit='MHz', freq_unit='MHz', mode=\"complex\")\n",
    "pulse.write(join(rf, 'pulse_guess.json'))"
   ]
  },
  {
   "cell_type": "code",
   "execution_count": 115,
   "metadata": {
    "collapsed": false,
    "level": 7
   },
   "outputs": [
    {
     "name": "stdout",
     "output_type": "stream",
     "text": [
      "Concurrence: 0.998375\n",
      "Loss: 0.126678\n"
     ]
    }
   ],
   "source": [
    "U_guess = propagate(rf, 'pulse_guess.json', rwa=True, force=True)\n",
    "print(\"Concurrence: %f\" % U_guess.closest_unitary().concurrence())\n",
    "print(\"Loss: %f\" % U_guess.pop_loss())"
   ]
  },
  {
   "cell_type": "code",
   "execution_count": 117,
   "metadata": {
    "collapsed": false,
    "level": 7
   },
   "outputs": [],
   "source": [
    "proc2 = system(\"./run_oct.py --rwa --pre-simplex='pulse_guess.json' {rf}\".format(rf=rf))"
   ]
  },
  {
   "cell_type": "code",
   "execution_count": null,
   "metadata": {
    "collapsed": false,
    "level": 7
   },
   "outputs": [],
   "source": [
    "proc2.join();"
   ]
  },
  {
   "cell_type": "code",
   "execution_count": null,
   "metadata": {
    "collapsed": false,
    "level": 7
   },
   "outputs": [],
   "source": [
    "U = propagate(rf, 'pulse.dat', rwa=True, force=True);\n",
    "! tail {rf}/oct_iters.dat | cut -b 1-80"
   ]
  },
  {
   "cell_type": "code",
   "execution_count": null,
   "metadata": {
    "collapsed": false,
    "level": 7
   },
   "outputs": [],
   "source": [
    "U.concurrence() - U_guess.concurrence()"
   ]
  },
  {
   "cell_type": "code",
   "execution_count": null,
   "metadata": {
    "collapsed": true,
    "level": 7
   },
   "outputs": [],
   "source": []
  },
  {
   "cell_type": "markdown",
   "metadata": {
    "collapsed": true,
    "heading_collapsed": false,
    "level": 4
   },
   "source": [
    "#### $H_L$ at $T = 4 T_\\pi$ (freq domain)"
   ]
  },
  {
   "cell_type": "markdown",
   "metadata": {
    "level": 7
   },
   "source": [
    "We attempt to use a guess pulse that drives as precisely as possible exactly at both of the dressed left qubit frequencies."
   ]
  },
  {
   "cell_type": "code",
   "execution_count": 163,
   "metadata": {
    "collapsed": true,
    "level": 7
   },
   "outputs": [],
   "source": [
    "rf = join(root, '2cycle_freq_H_left'); mkdir(rf)\n",
    "wd = 0.5*(w1_dressed0 + w1_dressed1)"
   ]
  },
  {
   "cell_type": "code",
   "execution_count": 164,
   "metadata": {
    "collapsed": false,
    "level": 7
   },
   "outputs": [
    {
     "data": {
      "text/plain": [
       "'./runs_zeta_detailed/w2_6390MHz_wc_6350MHz/2cycle_freq_H_left'"
      ]
     },
     "execution_count": 164,
     "metadata": {},
     "output_type": "execute_result"
    }
   ],
   "source": [
    "rf"
   ]
  },
  {
   "cell_type": "code",
   "execution_count": 165,
   "metadata": {
    "collapsed": false,
    "level": 7
   },
   "outputs": [],
   "source": [
    "T = 4*T_entangling\n",
    "nt = int(max(2000, 100 * w_max * T))\n",
    "write_target_gate_dat(rf, 'H_left')\n",
    "write_config(join(rf, 'config'), T, nt, wc, w2, wd=wd, gate=\"target_gate.dat\", J_T='SM', prop_guess='F')"
   ]
  },
  {
   "cell_type": "code",
   "execution_count": 166,
   "metadata": {
    "collapsed": false,
    "level": 7
   },
   "outputs": [],
   "source": []
  },
  {
   "cell_type": "code",
   "execution_count": 167,
   "metadata": {
    "collapsed": false,
    "level": 7,
    "scrolled": false
   },
   "outputs": [],
   "source": [
    "pulse = AnalyticalPulse('2freq_rwa_box', T, nt,\n",
    "            parameters={'E0': 100.0, 'T': T, \n",
    "                        'freq_1': w1_dressed0, 'freq_2': w1_dressed1,\n",
    "                        'a_1': 1.0, 'a_2': 1.0, 'phi':0, 'w_d': wd},\n",
    "            t0=0.0, time_unit='ns', ampl_unit='MHz', freq_unit='MHz', mode=\"complex\")\n",
    "pulse.write(join(rf, 'pulse_guess.json'))"
   ]
  },
  {
   "cell_type": "code",
   "execution_count": 168,
   "metadata": {
    "collapsed": false,
    "level": 7
   },
   "outputs": [],
   "source": [
    "num_pulse = pulse.pulse()"
   ]
  },
  {
   "cell_type": "code",
   "execution_count": 169,
   "metadata": {
    "collapsed": false,
    "level": 7
   },
   "outputs": [
    {
     "data": {
      "image/png": "[encoded data removed]",
      "text/plain": [
       "<matplotlib.figure.Figure at 0x7f055027b450>"
      ]
     },
     "metadata": {},
     "output_type": "display_data"
    }
   ],
   "source": [
    "num_pulse.show(wmin=-200, wmax=200)"
   ]
  },
  {
   "cell_type": "code",
   "execution_count": 170,
   "metadata": {
    "collapsed": false,
    "level": 7
   },
   "outputs": [],
   "source": [
    "def zoom_into_spec(num_pulse):\n",
    "    import matplotlib.pyplot as plt\n",
    "    num_freq, num_spec = num_pulse.spectrum()\n",
    "    fig = plt.figure()\n",
    "    ax = fig.add_subplot(111)\n",
    "    ax.plot(num_freq, num_spec, marker='o')\n",
    "    ax.set_xlim([-200,200])"
   ]
  },
  {
   "cell_type": "code",
   "execution_count": 171,
   "metadata": {
    "collapsed": false,
    "level": 7
   },
   "outputs": [
    {
     "data": {
      "image/png": "[encoded data removed]",
      "text/plain": [
       "<matplotlib.figure.Figure at 0x7f05501f2650>"
      ]
     },
     "metadata": {},
     "output_type": "display_data"
    }
   ],
   "source": [
    "zoom_into_spec(num_pulse)"
   ]
  },
  {
   "cell_type": "code",
   "execution_count": 172,
   "metadata": {
    "collapsed": false,
    "level": 7
   },
   "outputs": [
    {
     "data": {
      "text/plain": [
       "74.88600000000001"
      ]
     },
     "execution_count": 172,
     "metadata": {},
     "output_type": "execute_result"
    }
   ],
   "source": [
    "num_pulse.dw()"
   ]
  },
  {
   "cell_type": "code",
   "execution_count": 173,
   "metadata": {
    "collapsed": false,
    "level": 7
   },
   "outputs": [
    {
     "name": "stdout",
     "output_type": "stream",
     "text": [
      "Concurrence: 0.448443\n",
      "Loss: 0.105406\n"
     ]
    }
   ],
   "source": [
    "U_guess = propagate(rf, 'pulse_guess.json', rwa=True, force=True)\n",
    "print(\"Concurrence: %f\" % U_guess.closest_unitary().concurrence())\n",
    "print(\"Loss: %f\" % U_guess.pop_loss())"
   ]
  },
  {
   "cell_type": "code",
   "execution_count": 174,
   "metadata": {
    "collapsed": false,
    "level": 7
   },
   "outputs": [
    {
     "data": {
      "text/plain": [
       "0.18112781754171117"
      ]
     },
     "execution_count": 174,
     "metadata": {},
     "output_type": "execute_result"
    }
   ],
   "source": [
    "U_guess.F_avg(H_left)"
   ]
  },
  {
   "cell_type": "code",
   "execution_count": 178,
   "metadata": {
    "collapsed": false,
    "level": 7
   },
   "outputs": [],
   "source": [
    "proc = system(\"./run_oct.py --rwa --pre-simplex='pulse_guess.json' {rf}\".format(rf=rf))"
   ]
  },
  {
   "cell_type": "code",
   "execution_count": null,
   "metadata": {
    "collapsed": true,
    "level": 7
   },
   "outputs": [],
   "source": [
    "proc.join()"
   ]
  },
  {
   "cell_type": "code",
   "execution_count": null,
   "metadata": {
    "collapsed": false,
    "level": 7
   },
   "outputs": [],
   "source": [
    "U = propagate(rf, 'pulse.dat', rwa=True, force=True);\n",
    "! tail {rf}/oct_iters.dat | cut -b 1-80"
   ]
  },
  {
   "cell_type": "code",
   "execution_count": null,
   "metadata": {
    "collapsed": false,
    "level": 7
   },
   "outputs": [],
   "source": [
    "U.F_avg(H_left)"
   ]
  }
 ],
 "metadata": {
  "kernelspec": {
   "display_name": "Python 2",
   "language": "python",
   "name": "python2"
  },
  "language_info": {
   "codemirror_mode": {
    "name": "ipython",
    "version": 2
   },
   "file_extension": ".py",
   "mimetype": "text/x-python",
   "name": "python",
   "nbconvert_exporter": "python",
   "pygments_lexer": "ipython2",
   "version": "2.7.11"
  },
  "toc": {
   "toc_cell": false,
   "toc_number_sections": true,
   "toc_threshold": 6,
   "toc_window_display": true
  },
  "toc_position": {
   "left": "1499.7px",
   "right": "20px",
   "top": "154px",
   "width": "282px"
  }
 },
 "nbformat": 4,
 "nbformat_minor": 0
}
