{
 "cells": [
  {
   "cell_type": "code",
   "execution_count": 1,
   "metadata": {
    "collapsed": true
   },
   "outputs": [],
   "source": [
    "import os\n",
    "from os.path import join\n",
    "import sys\n",
    "import numpy as np\n",
    "import matplotlib.pylab as plt\n",
    "import pandas as pd"
   ]
  },
  {
   "cell_type": "code",
   "execution_count": 2,
   "metadata": {
    "collapsed": true
   },
   "outputs": [],
   "source": [
    "%matplotlib inline"
   ]
  },
  {
   "cell_type": "code",
   "execution_count": 3,
   "metadata": {
    "collapsed": true
   },
   "outputs": [],
   "source": [
    "%reload_ext autoreload\n",
    "%autoreload 2"
   ]
  },
  {
   "cell_type": "code",
   "execution_count": 4,
   "metadata": {
    "collapsed": false
   },
   "outputs": [],
   "source": [
    "from notebook_utils import get_stage1_table, PlotGrid, plot_C_loss, plot_quality, get_Q_table, plot_C_loss\n",
    "from select_for_stage2 import select_for_stage2"
   ]
  },
  {
   "cell_type": "markdown",
   "metadata": {},
   "source": [
    "## T = 200 ns (RWA)"
   ]
  },
  {
   "cell_type": "code",
   "execution_count": 5,
   "metadata": {
    "collapsed": false,
    "scrolled": false
   },
   "outputs": [
    {
     "name": "stdout",
     "output_type": "stream",
     "text": [
      "ERROR: NaN in ./runs_200_RWA/w2_7500MHz_wc_7600MHz/stage1/1freq_2/E900/U.dat\n",
      "ERROR: increase of norm in ./runs_200_RWA/w2_6310MHz_wc_11100MHz/stage1/5freq_3/E010/U.dat\n",
      "ERROR: increase of norm in ./runs_200_RWA/w2_5000MHz_wc_11100MHz/stage1/1freq_5/E010/U.dat\n"
     ]
    }
   ],
   "source": [
    "stage1_table_200 = get_stage1_table('./runs_200_RWA')"
   ]
  },
  {
   "cell_type": "code",
   "execution_count": 6,
   "metadata": {
    "collapsed": false
   },
   "outputs": [],
   "source": [
    "with open('stage1_table_200_RWA.dat', 'w') as out_fh:\n",
    "    out_fh.write(stage1_table_200.to_string())"
   ]
  },
  {
   "cell_type": "code",
   "execution_count": 37,
   "metadata": {
    "collapsed": false
   },
   "outputs": [],
   "source": [
    "def plot_field_free_data(stage1_table, outfile=None):\n",
    "    \"\"\"Plot field-free concurrence\"\"\"\n",
    "    plots = PlotGrid()\n",
    "    table = stage1_table[stage1_table['category']=='field_free']\n",
    "    plots.add_cell(table['w2 [GHz]'], table['wc [GHz]'], table['C'],\n",
    "                   vmin=0.0, vmax=1.0, title='concurrence')\n",
    "    plots.add_cell(table['w2 [GHz]'], table['wc [GHz]'], table['max loss'],\n",
    "                   vmin=0.0, vmax=1.0, title='max population loss')\n",
    "    if outfile is None:\n",
    "        plots.plot(quiet=True, show=True)\n",
    "    else:\n",
    "        fig = plots.plot(quiet=True, show=False)\n",
    "        fig.savefig(outfile)\n",
    "        plt.close(fig)\n",
    "plot_field_free_data(stage1_table_200, outfile='field_free_200.png')"
   ]
  },
  {
   "cell_type": "code",
   "execution_count": 8,
   "metadata": {
    "collapsed": false
   },
   "outputs": [],
   "source": [
    "t_PE_200 = select_for_stage2(stage1_table_200, 'PE')\n",
    "t_SQ_200 = select_for_stage2(stage1_table_200, 'SQ')"
   ]
  },
  {
   "cell_type": "code",
   "execution_count": 38,
   "metadata": {
    "collapsed": false,
    "scrolled": false
   },
   "outputs": [],
   "source": [
    "plot_C_loss(t_PE_200, 'PE', loss_max=1.0, outfile='stage1_PE_C_loss_200.png')\n",
    "plot_C_loss(t_SQ_200, 'SQ', loss_max=1.0, outfile='stage1_SQ_C_loss_200.png')"
   ]
  },
  {
   "cell_type": "code",
   "execution_count": 39,
   "metadata": {
    "collapsed": false,
    "scrolled": false
   },
   "outputs": [],
   "source": [
    "plot_quality(t_PE_200, t_SQ_200, outfile='stage1_quality_200.png')"
   ]
  },
  {
   "cell_type": "code",
   "execution_count": null,
   "metadata": {
    "collapsed": true
   },
   "outputs": [],
   "source": []
  },
  {
   "cell_type": "markdown",
   "metadata": {},
   "source": [
    "## T = 100 ns (RWA)"
   ]
  },
  {
   "cell_type": "code",
   "execution_count": 11,
   "metadata": {
    "collapsed": false,
    "scrolled": false
   },
   "outputs": [
    {
     "name": "stdout",
     "output_type": "stream",
     "text": [
      "ERROR: increase of norm in ./runs_100_RWA/w2_7000MHz_wc_6100MHz/stage1/5freq_3/E010/U.dat\n",
      "ERROR: increase of norm in ./runs_100_RWA/w2_5000MHz_wc_11100MHz/stage1/1freq_7/E010/U.dat\n",
      "ERROR: increase of norm in ./runs_100_RWA/w2_6500MHz_wc_8600MHz/stage1/5freq_4/E010/U.dat\n"
     ]
    }
   ],
   "source": [
    "stage1_table_100 = get_stage1_table('./runs_100_RWA')"
   ]
  },
  {
   "cell_type": "code",
   "execution_count": 12,
   "metadata": {
    "collapsed": false
   },
   "outputs": [],
   "source": [
    "with open('stage1_table_100_RWA.dat', 'w') as out_fh:\n",
    "    out_fh.write(stage1_table_100.to_string())"
   ]
  },
  {
   "cell_type": "code",
   "execution_count": 40,
   "metadata": {
    "collapsed": true
   },
   "outputs": [],
   "source": [
    "plot_field_free_data(stage1_table_100, outfile='field_free_100.png')"
   ]
  },
  {
   "cell_type": "code",
   "execution_count": 41,
   "metadata": {
    "collapsed": false
   },
   "outputs": [],
   "source": [
    "t_PE_100 = select_for_stage2(stage1_table_100, 'PE')\n",
    "t_SQ_100 = select_for_stage2(stage1_table_100, 'SQ')"
   ]
  },
  {
   "cell_type": "code",
   "execution_count": 42,
   "metadata": {
    "collapsed": false,
    "scrolled": false
   },
   "outputs": [],
   "source": [
    "plot_C_loss(t_PE_100, 'PE', loss_max=1.0, outfile='stage1_PE_C_loss_100.png')\n",
    "plot_C_loss(t_SQ_100, 'SQ', loss_max=1.0, outfile='stage1_SQ_C_loss_100.png')"
   ]
  },
  {
   "cell_type": "code",
   "execution_count": 43,
   "metadata": {
    "collapsed": false,
    "scrolled": false
   },
   "outputs": [],
   "source": [
    "plot_quality(t_PE_100, t_SQ_100, outfile='stage1_quality_100.png')"
   ]
  },
  {
   "cell_type": "code",
   "execution_count": null,
   "metadata": {
    "collapsed": true
   },
   "outputs": [],
   "source": []
  }
 ],
 "metadata": {
  "kernelspec": {
   "display_name": "Python 2",
   "language": "python",
   "name": "python2"
  },
  "language_info": {
   "codemirror_mode": {
    "name": "ipython",
    "version": 2
   },
   "file_extension": ".py",
   "mimetype": "text/x-python",
   "name": "python",
   "nbconvert_exporter": "python",
   "pygments_lexer": "ipython2",
   "version": "2.7.10"
  }
 },
 "nbformat": 4,
 "nbformat_minor": 0
}
