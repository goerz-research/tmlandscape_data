{
 "cells": [
  {
   "cell_type": "markdown",
   "metadata": {
    "heading_collapsed": false,
    "level": 1
   },
   "source": [
    "# QuTiP optimization of single-qubit gate in transmon system"
   ]
  },
  {
   "cell_type": "markdown",
   "metadata": {
    "heading_collapsed": true,
    "level": 2
   },
   "source": [
    "## Environment"
   ]
  },
  {
   "cell_type": "code",
   "execution_count": 82,
   "metadata": {
    "collapsed": false,
    "level": 7
   },
   "outputs": [],
   "source": [
    "import qutip\n",
    "import qutip.control.pulseoptim as cpo\n",
    "from qutip.qip import hadamard_transform\n",
    "import numpy as np\n",
    "import sympy\n",
    "import sympy.physics.quantum\n",
    "from sympy import symbols\n",
    "from functools import partial\n",
    "import QDYN\n",
    "from analytical_pulses import ampl_1freq, ampl_1freq_rwa\n",
    "import matplotlib.pyplot as plt"
   ]
  },
  {
   "cell_type": "code",
   "execution_count": 2,
   "metadata": {
    "collapsed": true,
    "level": 7
   },
   "outputs": [],
   "source": [
    "sympy.init_printing()"
   ]
  },
  {
   "cell_type": "code",
   "execution_count": 3,
   "metadata": {
    "collapsed": true,
    "level": 7
   },
   "outputs": [],
   "source": [
    "%matplotlib inline"
   ]
  },
  {
   "cell_type": "code",
   "execution_count": 4,
   "metadata": {
    "collapsed": false,
    "level": 7
   },
   "outputs": [],
   "source": [
    "GHz    = 2 * np.pi\n",
    "ns     = 1"
   ]
  },
  {
   "cell_type": "code",
   "execution_count": 5,
   "metadata": {
    "collapsed": false,
    "level": 7
   },
   "outputs": [],
   "source": [
    "class QuTiPEnv():\n",
    "    \"\"\"Namespace for use of qutip\"\"\"\n",
    "    def __init__(self):\n",
    "        self.Sz     = qutip.sigmaz()\n",
    "        self.Sx     = qutip.sigmax()\n",
    "        self.Sy     = qutip.sigmay()\n",
    "        self.Id     = qutip.identity(2)\n",
    "        self.ket0   = qutip.basis(2, 0)\n",
    "        self.ket1   = qutip.basis(2, 1)\n",
    "        self.ket00  = qutip.tensor(self.ket0, self.ket0)\n",
    "        self.ket01  = qutip.tensor(self.ket0, self.ket1)\n",
    "        self.ket10  = qutip.tensor(self.ket1, self.ket0)\n",
    "        self.ket11  = qutip.tensor(self.ket1, self.ket1)\n",
    "        self.half   = 0.5\n",
    "        self.two_pi = 2 * np.pi\n",
    "    @staticmethod\n",
    "    def tensor(ob1, ob2):\n",
    "        return qutip.tensor(ob1, ob2)\n",
    "    @staticmethod\n",
    "    def overlap(psi1, psi2):\n",
    "        return psi1.overlap(psi2)\n",
    "qutip_env = QuTiPEnv()"
   ]
  },
  {
   "cell_type": "code",
   "execution_count": 6,
   "metadata": {
    "collapsed": false,
    "level": 7
   },
   "outputs": [],
   "source": [
    "class SympyEnv():\n",
    "    \"\"\"Namespace for use of symbolic algebra\"\"\"\n",
    "    def __init__(self):\n",
    "        self.Sz     = sympy.Matrix([[1, 0], [0, -1]])\n",
    "        self.Sx     = sympy.Matrix([[0, 1], [1, 0]])\n",
    "        self.Sy     = sympy.Matrix([[0, -sympy.I], [sympy.I, 0]])\n",
    "        self.Id     = sympy.Matrix([[1, 0], [0, 1]])\n",
    "        self.ket0   = sympy.Matrix([[1,], [0,]])\n",
    "        self.ket1   = sympy.Matrix([[0,], [1,]])\n",
    "        self.ket00  = sympy.physics.quantum.TensorProduct(self.ket0, self.ket0)\n",
    "        self.ket01  = sympy.physics.quantum.TensorProduct(self.ket0, self.ket1)\n",
    "        self.ket10  = sympy.physics.quantum.TensorProduct(self.ket1, self.ket0)\n",
    "        self.ket11  = sympy.physics.quantum.TensorProduct(self.ket1, self.ket1)\n",
    "        self.half   = sympy.Rational(1,2)\n",
    "        self.two_pi = 2 * sympy.pi\n",
    "    @staticmethod\n",
    "    def tensor(ob1, ob2):\n",
    "        return sympy.physics.quantum.TensorProduct(ob1, ob2)\n",
    "    @staticmethod\n",
    "    def overlap(psi1, psi2):\n",
    "        result = 0\n",
    "        for a,b in zip(psi1, psi2):\n",
    "            result += a*b\n",
    "        return result\n",
    "sympy_env = SympyEnv()"
   ]
  },
  {
   "cell_type": "markdown",
   "metadata": {
    "heading_collapsed": false,
    "level": 2
   },
   "source": [
    "## Propagation Routines"
   ]
  },
  {
   "cell_type": "code",
   "execution_count": 7,
   "metadata": {
    "collapsed": true,
    "level": 7
   },
   "outputs": [],
   "source": [
    "def propagate(psi0, H, times):\n",
    "    return qutip.mesolve(H, psi0, times, [], [])"
   ]
  },
  {
   "cell_type": "code",
   "execution_count": 8,
   "metadata": {
    "collapsed": false,
    "level": 7
   },
   "outputs": [],
   "source": [
    "def get_gate(psi, basis, overlap, cls=QDYN.gate2q.Gate2Q):\n",
    "    \"\"\"Construct U given psi = [U*ket for ket in basis]\n",
    "    \n",
    "    ``overlap(psi1, psi2)`` must evaluate the inner product\n",
    "    ``<psi1|psi2>``\n",
    "    \"\"\"\n",
    "    U = cls()\n",
    "    for i in range(4):\n",
    "        for j in range(4):\n",
    "            U[i,j] = overlap(basis[i], psi[j])\n",
    "    return U"
   ]
  },
  {
   "cell_type": "code",
   "execution_count": 9,
   "metadata": {
    "collapsed": true,
    "level": 7
   },
   "outputs": [],
   "source": [
    "def qutip_prop_gate(H, times):\n",
    "    \"\"\"Return a list of Gate2Q objects\"\"\"\n",
    "    e = qutip_env\n",
    "    ket = [e.ket00, e.ket01, e.ket10, e.ket11]\n",
    "    results = qutip.parallel_map(propagate, ket,\n",
    "              task_kwargs={'H':H, 'times':times})\n",
    "    states = [r.states for r in results]\n",
    "    U = []\n",
    "    for psi in zip(*states):\n",
    "       U.append(get_gate(psi, basis=ket, overlap=qutip_env.overlap)) \n",
    "    return U"
   ]
  },
  {
   "cell_type": "markdown",
   "metadata": {
    "heading_collapsed": false,
    "level": 2
   },
   "source": [
    "## Hamiltonian Setup"
   ]
  },
  {
   "cell_type": "code",
   "execution_count": 10,
   "metadata": {
    "collapsed": false,
    "level": 7
   },
   "outputs": [],
   "source": [
    "def H_drift(omega_1, omega_2, zeta, env_namespace):\n",
    "    e = env_namespace\n",
    "    half = e.half\n",
    "    hSz = half * e.Sz;\n",
    "    Id = e.Id\n",
    "    return (\n",
    "        - omega_1 * e.tensor(hSz, Id)\n",
    "        - omega_2 * e.tensor(Id,  hSz)\n",
    "        - zeta    * e.tensor(hSz, hSz)\n",
    "        + half * (omega_1 + omega_2 + half*zeta) * e.tensor(Id, Id)\n",
    "    )"
   ]
  },
  {
   "cell_type": "code",
   "execution_count": 11,
   "metadata": {
    "collapsed": true,
    "level": 7
   },
   "outputs": [],
   "source": [
    "def qutip_RWA_shift(w_d, H_d):\n",
    "    \"\"\"Shift the energies of the drift Hamiltonian into the rotating frame\"\"\"\n",
    "    return H_d - qutip.Qobj(np.diag([0, w_d, w_d, 2*w_d]), dims=H_d.dims)"
   ]
  },
  {
   "cell_type": "code",
   "execution_count": 12,
   "metadata": {
    "collapsed": true,
    "level": 7
   },
   "outputs": [],
   "source": [
    "def H_ctrl(lambda_1, lambda_2, lambda_1_2, lambda_2_1, env_namespace):\n",
    "    e = env_namespace\n",
    "    Sx = e.Sx; Sz = e.Sz; Id = e.Id\n",
    "    return (\n",
    "        lambda_1   * e.tensor(Sx, Id)\n",
    "      + lambda_2   * e.tensor(Id, Sx)\n",
    "      - lambda_1_2 * e.tensor(Sx, Sz)\n",
    "      - lambda_2_1 * e.tensor(Sz, Sx)\n",
    "    )"
   ]
  },
  {
   "cell_type": "markdown",
   "metadata": {
    "heading_collapsed": false,
    "level": 2
   },
   "source": [
    "## Exemplary field-free evolution"
   ]
  },
  {
   "cell_type": "code",
   "execution_count": 19,
   "metadata": {
    "collapsed": false,
    "level": 7
   },
   "outputs": [],
   "source": [
    "times = np.linspace(0, 10*ns, 100)\n",
    "\n",
    "U_of_t_ff = qutip_prop_gate(\n",
    "    H = H_drift(omega_1=  5.9112*GHz,\n",
    "                omega_2=  6.3721*GHz, \n",
    "                zeta   = -0.1498*GHz,\n",
    "                env_namespace = qutip_env),\n",
    "    times = times\n",
    ")"
   ]
  },
  {
   "cell_type": "code",
   "execution_count": 20,
   "metadata": {
    "collapsed": true,
    "level": 7
   },
   "outputs": [],
   "source": [
    "C_ff = [U.concurrence() for U in U_of_t_ff]"
   ]
  },
  {
   "cell_type": "code",
   "execution_count": 21,
   "metadata": {
    "collapsed": false,
    "level": 7
   },
   "outputs": [
    {
     "data": {
      "text/plain": [
       "[<matplotlib.lines.Line2D at 0x7efe4cfb1a58>]"
      ]
     },
     "execution_count": 21,
     "metadata": {},
     "output_type": "execute_result"
    },
    {
     "data": {
      "image/png": "[encoded data removed]",
      "text/plain": [
       "<matplotlib.figure.Figure at 0x7efe4cfa43c8>"
      ]
     },
     "metadata": {},
     "output_type": "display_data"
    }
   ],
   "source": [
    "plt.plot(times, C_ff)"
   ]
  },
  {
   "cell_type": "markdown",
   "metadata": {
    "heading_collapsed": false,
    "level": 2
   },
   "source": [
    "## Exemplary evolution in the lab frame"
   ]
  },
  {
   "cell_type": "code",
   "execution_count": 72,
   "metadata": {
    "code_folding": [],
    "collapsed": false,
    "level": 7
   },
   "outputs": [],
   "source": [
    "times = np.linspace(0, 10*ns, 500)\n",
    "w_d = (6.3721 - 0.5*0.1498)*GHz\n",
    "\n",
    "def epsilon(t, args):\n",
    "    # note that for frequencies, unit conversion is done inside ampl_1freq\n",
    "    return ampl_1freq(t, E0=100.0*1e-3*GHz, T=times[-1], w_L=w_d/GHz)\n",
    "\n",
    "U_of_t = qutip_prop_gate(\n",
    "    H = [\n",
    "        H_drift(omega_1=  5.9112*GHz,\n",
    "                omega_2=  6.3721*GHz, \n",
    "                zeta   = -0.1498*GHz,\n",
    "                env_namespace = qutip_env),\n",
    "        [H_ctrl(lambda_1   = 4.81e-1,\n",
    "                lambda_2   = 3.56e-1,\n",
    "                lambda_1_2 = -4.94e-2,\n",
    "                lambda_2_1 =  4.2e-2,\n",
    "                env_namespace = qutip_env),\n",
    "         epsilon]\n",
    "        ],\n",
    "    times = times\n",
    ")"
   ]
  },
  {
   "cell_type": "code",
   "execution_count": 73,
   "metadata": {
    "collapsed": false,
    "level": 7
   },
   "outputs": [
    {
     "name": "stdout",
     "output_type": "stream",
     "text": [
      "1 loop, best of 3: 21.9 s per loop\n"
     ]
    }
   ],
   "source": [
    "%%timeit\n",
    "qutip_prop_gate(\n",
    "    H = [\n",
    "        H_drift(omega_1=  5.9112*GHz,\n",
    "                omega_2=  6.3721*GHz, \n",
    "                zeta   = -0.1498*GHz,\n",
    "                env_namespace = qutip_env),\n",
    "        [H_ctrl(lambda_1   = 4.81e-1,\n",
    "                lambda_2   = 3.56e-1,\n",
    "                lambda_1_2 = -4.94e-2,\n",
    "                lambda_2_1 =  4.2e-2,\n",
    "                env_namespace = qutip_env),\n",
    "         epsilon]\n",
    "        ],\n",
    "    times = times\n",
    ")"
   ]
  },
  {
   "cell_type": "code",
   "execution_count": 67,
   "metadata": {
    "collapsed": true,
    "level": 7
   },
   "outputs": [],
   "source": [
    "C = [U.concurrence() for U in U_of_t]"
   ]
  },
  {
   "cell_type": "code",
   "execution_count": 68,
   "metadata": {
    "collapsed": false,
    "level": 7
   },
   "outputs": [
    {
     "data": {
      "text/plain": [
       "[<matplotlib.lines.Line2D at 0x7efe4c7c8c18>]"
      ]
     },
     "execution_count": 68,
     "metadata": {},
     "output_type": "execute_result"
    },
    {
     "data": {
      "image/png": "[encoded data removed]",
      "text/plain": [
       "<matplotlib.figure.Figure at 0x7efe4cde4860>"
      ]
     },
     "metadata": {},
     "output_type": "display_data"
    }
   ],
   "source": [
    "plt.plot(times, C)"
   ]
  },
  {
   "cell_type": "code",
   "execution_count": null,
   "metadata": {
    "collapsed": true,
    "level": 7
   },
   "outputs": [],
   "source": [
    "p = QDYN.pulse.Pulse(tgrid=QDYN.pulse.pulse_tgrid"
   ]
  },
  {
   "cell_type": "code",
   "execution_count": null,
   "metadata": {
    "collapsed": true,
    "level": 7
   },
   "outputs": [],
   "source": [
    "p = QDYN.pulse.Pulse"
   ]
  },
  {
   "cell_type": "markdown",
   "metadata": {
    "heading_collapsed": false,
    "level": 2
   },
   "source": [
    "## Derivation of the rotating frame"
   ]
  },
  {
   "cell_type": "code",
   "execution_count": 26,
   "metadata": {
    "collapsed": false,
    "level": 7
   },
   "outputs": [
    {
     "data": {
      "image/png": "[encoded data removed]",
      "text/latex": [
       "$$\\left[\\begin{matrix}0 & 0 & 0 & 0\\\\0 & \\omega_{2} + \\frac{\\zeta}{2} & 0 & 0\\\\0 & 0 & \\omega_{1} + \\frac{\\zeta}{2} & 0\\\\0 & 0 & 0 & \\omega_{1} + \\omega_{2}\\end{matrix}\\right]$$"
      ],
      "text/plain": [
       "⎡0         0                0                 0        ⎤\n",
       "⎢                                                      ⎥\n",
       "⎢             \\zeta                                    ⎥\n",
       "⎢0  \\omega₂ + ─────         0                 0        ⎥\n",
       "⎢               2                                      ⎥\n",
       "⎢                                                      ⎥\n",
       "⎢                              \\zeta                   ⎥\n",
       "⎢0         0         \\omega₁ + ─────          0        ⎥\n",
       "⎢                                2                     ⎥\n",
       "⎢                                                      ⎥\n",
       "⎣0         0                0         \\omega₁ + \\omega₂⎦"
      ]
     },
     "execution_count": 26,
     "metadata": {},
     "output_type": "execute_result"
    }
   ],
   "source": [
    "H0_sym = H_drift(omega_1 =  symbols(r'\\omega_1', real=True),\n",
    "        omega_2 =  symbols(r'\\omega_2', real=True), \n",
    "        zeta    =  symbols(r'\\zeta', real=True),\n",
    "        env_namespace = sympy_env)\n",
    "H0_sym"
   ]
  },
  {
   "cell_type": "code",
   "execution_count": 27,
   "metadata": {
    "collapsed": false,
    "level": 7
   },
   "outputs": [
    {
     "data": {
      "image/png": "[encoded data removed]",
      "text/latex": [
       "$$\\left[\\begin{matrix}0 & \\lambda_{2} - \\lambda^{{(1)}}_{2} & \\lambda_{1} - \\lambda^{{(2)}}_{1} & 0\\\\\\lambda_{2} - \\lambda^{{(1)}}_{2} & 0 & 0 & \\lambda_{1} + \\lambda^{{(2)}}_{1}\\\\\\lambda_{1} - \\lambda^{{(2)}}_{1} & 0 & 0 & \\lambda_{2} + \\lambda^{{(1)}}_{2}\\\\0 & \\lambda_{1} + \\lambda^{{(2)}}_{1} & \\lambda_{2} + \\lambda^{{(1)}}_{2} & 0\\end{matrix}\\right]$$"
      ],
      "text/plain": [
       "⎡             0               \\lambda₂ - \\lambda_2__{(1)}  \\lambda₁ - \\lambda_\n",
       "⎢                                                                             \n",
       "⎢\\lambda₂ - \\lambda_2__{(1)}               0                            0     \n",
       "⎢                                                                             \n",
       "⎢\\lambda₁ - \\lambda_1__{(2)}               0                            0     \n",
       "⎢                                                                             \n",
       "⎣             0               \\lambda₁ + \\lambda_1__{(2)}  \\lambda₂ + \\lambda_\n",
       "\n",
       "1__{(2)}               0             ⎤\n",
       "                                     ⎥\n",
       "          \\lambda₁ + \\lambda_1__{(2)}⎥\n",
       "                                     ⎥\n",
       "          \\lambda₂ + \\lambda_2__{(1)}⎥\n",
       "                                     ⎥\n",
       "2__{(1)}               0             ⎦"
      ]
     },
     "execution_count": 27,
     "metadata": {},
     "output_type": "execute_result"
    }
   ],
   "source": [
    "H1_sym = H_ctrl(lambda_1 = symbols(r'\\lambda_1', real=True),\n",
    "       lambda_2 = symbols(r'\\lambda_2', real=True),\n",
    "       lambda_1_2 = symbols(r'\\lambda_1^{(2)}', real=True),\n",
    "       lambda_2_1 = symbols(r'\\lambda_2^{(1)}', real=True),\n",
    "       env_namespace = sympy_env)\n",
    "H1_sym"
   ]
  },
  {
   "cell_type": "code",
   "execution_count": 28,
   "metadata": {
    "collapsed": false,
    "level": 7
   },
   "outputs": [],
   "source": [
    "def U_RWA(w_d, t):\n",
    "    \"\"\"The transformation to the rotating frame\"\"\"\n",
    "    return sympy.Matrix([\n",
    "            [1, 0, 0, 0],\n",
    "            [0, sympy.exp(sympy.I * w_d * t), 0, 0],\n",
    "            [0, 0, sympy.exp(sympy.I * w_d * t), 0],\n",
    "            [0, 0, 0, sympy.exp(2*sympy.I * w_d * t)]\n",
    "        ])"
   ]
  },
  {
   "cell_type": "code",
   "execution_count": 29,
   "metadata": {
    "collapsed": true,
    "level": 7
   },
   "outputs": [],
   "source": [
    "def rwa_approximate(expr, eps, w_d, t, S):\n",
    "    \"\"\"Perform the approximation eps*e^(-i*w_d*t) -> S/2\"\"\"\n",
    "    rwa_exp = sympy.exp(-sympy.I*w_d*t)\n",
    "    rwa_exp_dg = sympy.exp(sympy.I*w_d*t)\n",
    "    def rewrite_mul(*args):\n",
    "        has_eps = False\n",
    "        has_rwa_exp = False\n",
    "        new_args = [S/2, ]\n",
    "        for arg in args:\n",
    "            if arg == eps:\n",
    "                has_eps = True\n",
    "            elif (arg == rwa_exp) or (arg == rwa_exp_dg):\n",
    "                has_rwa_exp = True\n",
    "            else:\n",
    "                new_args.append(arg)\n",
    "        if has_eps and has_rwa_exp:\n",
    "            return sympy.Mul(*new_args)\n",
    "        else:\n",
    "            return sympy.Mul(*args)\n",
    "    return expr.replace(sympy.Mul, rewrite_mul)"
   ]
  },
  {
   "cell_type": "code",
   "execution_count": 30,
   "metadata": {
    "collapsed": true,
    "level": 7
   },
   "outputs": [],
   "source": [
    "def sympy_RWA(H0, H1, eps):\n",
    "    w_d, t, S = sympy.symbols([r'\\omega_d', 't', 'S(t)'], positive=True)\n",
    "    I = sympy.I\n",
    "    U = U_RWA(w_d, t)\n",
    "    H0_RWA = U * H0 * U.H\n",
    "    H1_RWA = eps * (U * H1 * U.H)\n",
    "    n = H1_RWA.shape[0]; assert H1_RWA.shape == (n, n)\n",
    "    for i in range(n):\n",
    "        for j in range(n):      \n",
    "            H1_RWA[i,j] = rwa_approximate(H1_RWA[i,j], eps, w_d, t, S)\n",
    "    shift = I * U.diff(t) * U.H \n",
    "    return (shift, H0_RWA, H1_RWA)"
   ]
  },
  {
   "cell_type": "code",
   "execution_count": 31,
   "metadata": {
    "collapsed": false,
    "level": 7
   },
   "outputs": [
    {
     "data": {
      "image/png": "[encoded data removed]",
      "text/latex": [
       "$$\\left ( \\left[\\begin{matrix}0 & 0 & 0 & 0\\\\0 & - \\omega_{d} & 0 & 0\\\\0 & 0 & - \\omega_{d} & 0\\\\0 & 0 & 0 & - 2 \\omega_{d}\\end{matrix}\\right], \\quad \\left[\\begin{matrix}0 & 0 & 0 & 0\\\\0 & \\omega_{2} + \\frac{\\zeta}{2} & 0 & 0\\\\0 & 0 & \\omega_{1} + \\frac{\\zeta}{2} & 0\\\\0 & 0 & 0 & \\omega_{1} + \\omega_{2}\\end{matrix}\\right], \\quad \\left[\\begin{matrix}0 & \\frac{S(t)}{2} \\left(\\lambda_{2} - \\lambda^{{(1)}}_{2}\\right) & \\frac{S(t)}{2} \\left(\\lambda_{1} - \\lambda^{{(2)}}_{1}\\right) & 0\\\\\\frac{S(t)}{2} \\left(\\lambda_{2} - \\lambda^{{(1)}}_{2}\\right) & 0 & 0 & \\frac{S(t)}{2} \\left(\\lambda_{1} + \\lambda^{{(2)}}_{1}\\right)\\\\\\frac{S(t)}{2} \\left(\\lambda_{1} - \\lambda^{{(2)}}_{1}\\right) & 0 & 0 & \\frac{S(t)}{2} \\left(\\lambda_{2} + \\lambda^{{(1)}}_{2}\\right)\\\\0 & \\frac{S(t)}{2} \\left(\\lambda_{1} + \\lambda^{{(2)}}_{1}\\right) & \\frac{S(t)}{2} \\left(\\lambda_{2} + \\lambda^{{(1)}}_{2}\\right) & 0\\end{matrix}\\right]\\right )$$"
      ],
      "text/plain": [
       "⎛                                                                             \n",
       "⎜⎡0      0          0           0     ⎤, ⎡0         0                0        \n",
       "⎜⎢                                    ⎥  ⎢                                    \n",
       "⎜⎢0  -\\omega_d      0           0     ⎥  ⎢             \\zeta                  \n",
       "⎜⎢                                    ⎥  ⎢0  \\omega₂ + ─────         0        \n",
       "⎜⎢0      0      -\\omega_d       0     ⎥  ⎢               2                    \n",
       "⎜⎢                                    ⎥  ⎢                                    \n",
       "⎜⎣0      0          0      -2⋅\\omega_d⎦  ⎢                              \\zeta \n",
       "⎜                                        ⎢0         0         \\omega₁ + ───── \n",
       "⎜                                        ⎢                                2   \n",
       "⎜                                        ⎢                                    \n",
       "⎜                                        ⎣0         0                0        \n",
       "⎜                                                                             \n",
       "⎜                                                                             \n",
       "⎝                                                                             \n",
       "\n",
       "                     ⎡                                    S(t)⋅(\\lambda₂ - \\la\n",
       "         0        ⎤, ⎢                0                   ────────────────────\n",
       "                  ⎥  ⎢                                                    2   \n",
       "                  ⎥  ⎢                                                        \n",
       "         0        ⎥  ⎢S(t)⋅(\\lambda₂ - \\lambda_2__{(1)})                      \n",
       "                  ⎥  ⎢──────────────────────────────────                  0   \n",
       "                  ⎥  ⎢                2                                       \n",
       "                  ⎥  ⎢                                                        \n",
       "         0        ⎥  ⎢S(t)⋅(\\lambda₁ - \\lambda_1__{(2)})                      \n",
       "                  ⎥  ⎢──────────────────────────────────                  0   \n",
       "                  ⎥  ⎢                2                                       \n",
       " \\omega₁ + \\omega₂⎦  ⎢                                                        \n",
       "                     ⎢                                    S(t)⋅(\\lambda₁ + \\la\n",
       "                     ⎢                0                   ────────────────────\n",
       "                     ⎣                                                    2   \n",
       "\n",
       "mbda_2__{(1)})  S(t)⋅(\\lambda₁ - \\lambda_1__{(2)})                            \n",
       "──────────────  ──────────────────────────────────                  0         \n",
       "                                2                                             \n",
       "                                                                              \n",
       "                                                    S(t)⋅(\\lambda₁ + \\lambda_1\n",
       "                                0                   ──────────────────────────\n",
       "                                                                    2         \n",
       "                                                                              \n",
       "                                                    S(t)⋅(\\lambda₂ + \\lambda_2\n",
       "                                0                   ──────────────────────────\n",
       "                                                                    2         \n",
       "                                                                              \n",
       "mbda_1__{(2)})  S(t)⋅(\\lambda₂ + \\lambda_2__{(1)})                            \n",
       "──────────────  ──────────────────────────────────                  0         \n",
       "                                2                                             \n",
       "\n",
       "        ⎤⎞\n",
       "        ⎥⎟\n",
       "        ⎥⎟\n",
       "        ⎥⎟\n",
       "__{(2)})⎥⎟\n",
       "────────⎥⎟\n",
       "        ⎥⎟\n",
       "        ⎥⎟\n",
       "__{(1)})⎥⎟\n",
       "────────⎥⎟\n",
       "        ⎥⎟\n",
       "        ⎥⎟\n",
       "        ⎥⎟\n",
       "        ⎥⎟\n",
       "        ⎦⎠"
      ]
     },
     "execution_count": 31,
     "metadata": {},
     "output_type": "execute_result"
    }
   ],
   "source": [
    "sympy_RWA(H0=H0_sym, H1=H1_sym, eps = sympy.symbols(r'\\epsilon(t)', real=True))"
   ]
  },
  {
   "cell_type": "markdown",
   "metadata": {
    "heading_collapsed": false,
    "level": 2
   },
   "source": [
    "## Exemplary evolution in the rotating frame"
   ]
  },
  {
   "cell_type": "code",
   "execution_count": 70,
   "metadata": {
    "collapsed": false,
    "level": 7
   },
   "outputs": [],
   "source": [
    "times = np.linspace(0, 10*ns, 500)\n",
    "\n",
    "w_d = (6.3721 - 0.5*0.1498)*GHz\n",
    "E0 = 100.0 # MHz (in the lab frame)\n",
    "\n",
    "def epsilon_RWA(t, args):\n",
    "    # note factor 1/2 in the pulse amplitude\n",
    "    return ampl_1freq_rwa(t, E0=0.5*E0*1e-3*GHz,\n",
    "                          T=times[-1],\n",
    "                          w_L=w_d, w_d=w_d)\n",
    "\n",
    "U_of_t_RWA = qutip_prop_gate(\n",
    "    H = [\n",
    "        qutip_RWA_shift(\n",
    "            w_d,\n",
    "            H_drift(omega_1 =  5.9112*GHz,\n",
    "                    omega_2 =  6.3721*GHz, \n",
    "                    zeta    = -0.1498*GHz,\n",
    "                    env_namespace = qutip_env)\n",
    "            ),\n",
    "        [H_ctrl(lambda_1   =  4.81e-1,\n",
    "                lambda_2   =  3.56e-1,\n",
    "                lambda_1_2 = -4.94e-2,\n",
    "                lambda_2_1 =  4.20e-2,\n",
    "                env_namespace = qutip_env),\n",
    "         # H_ctrl is identical to lab frame, factor 1/2\n",
    "         # is included in epsilon_RWA\n",
    "         epsilon_RWA]\n",
    "        ],\n",
    "    times = times\n",
    ")"
   ]
  },
  {
   "cell_type": "code",
   "execution_count": 71,
   "metadata": {
    "collapsed": false,
    "level": 7
   },
   "outputs": [
    {
     "name": "stdout",
     "output_type": "stream",
     "text": [
      "1 loop, best of 3: 15.4 s per loop\n"
     ]
    }
   ],
   "source": [
    "%%timeit\n",
    "qutip_prop_gate(\n",
    "    H = [\n",
    "        qutip_RWA_shift(\n",
    "            w_d,\n",
    "            H_drift(omega_1 =  5.9112*GHz,\n",
    "                    omega_2 =  6.3721*GHz, \n",
    "                    zeta    = -0.1498*GHz,\n",
    "                    env_namespace = qutip_env)\n",
    "            ),\n",
    "        [H_ctrl(lambda_1   =  4.81e-1,\n",
    "                lambda_2   =  3.56e-1,\n",
    "                lambda_1_2 = -4.94e-2,\n",
    "                lambda_2_1 =  4.20e-2,\n",
    "                env_namespace = qutip_env),\n",
    "         # H_ctrl is identical to lab frame, factor 1/2\n",
    "         # is included in epsilon_RWA\n",
    "         epsilon_RWA]\n",
    "        ],\n",
    "    times = times\n",
    ")"
   ]
  },
  {
   "cell_type": "code",
   "execution_count": 40,
   "metadata": {
    "collapsed": false,
    "level": 7
   },
   "outputs": [],
   "source": [
    "U_of_t_RWA_LAB = [QDYN.gate2q.Gate2Q(np.array((U_RWA(w_d, t).H) * U))\n",
    "                  for (U, t) in zip(U_of_t_RWA, times)]"
   ]
  },
  {
   "cell_type": "code",
   "execution_count": 41,
   "metadata": {
    "collapsed": false,
    "level": 7
   },
   "outputs": [
    {
     "data": {
      "text/plain": [
       "sympy.matrices.dense.MutableDenseMatrix"
      ]
     },
     "execution_count": 41,
     "metadata": {},
     "output_type": "execute_result"
    }
   ],
   "source": [
    "type(U_RWA(w_d, 0))"
   ]
  },
  {
   "cell_type": "code",
   "execution_count": 42,
   "metadata": {
    "collapsed": true,
    "level": 7
   },
   "outputs": [],
   "source": [
    "C_RWA = [U.concurrence() for U in U_of_t_RWA]"
   ]
  },
  {
   "cell_type": "code",
   "execution_count": 43,
   "metadata": {
    "collapsed": false,
    "level": 7
   },
   "outputs": [
    {
     "data": {
      "text/plain": [
       "[<matplotlib.lines.Line2D at 0x7efe4cebe0b8>]"
      ]
     },
     "execution_count": 43,
     "metadata": {},
     "output_type": "execute_result"
    },
    {
     "data": {
      "image/png": "[encoded data removed]",
      "text/plain": [
       "<matplotlib.figure.Figure at 0x7efe4cc9f0f0>"
      ]
     },
     "metadata": {},
     "output_type": "display_data"
    }
   ],
   "source": [
    "plt.plot(times, C_RWA)"
   ]
  },
  {
   "cell_type": "code",
   "execution_count": 44,
   "metadata": {
    "collapsed": false,
    "level": 7
   },
   "outputs": [],
   "source": [
    "C_RWA_LAB = [U.concurrence() for U in U_of_t_RWA_LAB]"
   ]
  },
  {
   "cell_type": "code",
   "execution_count": 45,
   "metadata": {
    "collapsed": false,
    "level": 7
   },
   "outputs": [
    {
     "data": {
      "text/plain": [
       "[<matplotlib.lines.Line2D at 0x7efe4c995240>]"
      ]
     },
     "execution_count": 45,
     "metadata": {},
     "output_type": "execute_result"
    },
    {
     "data": {
      "image/png": "[encoded data removed]",
      "text/plain": [
       "<matplotlib.figure.Figure at 0x7efe4ce6f400>"
      ]
     },
     "metadata": {},
     "output_type": "display_data"
    }
   ],
   "source": [
    "plt.plot(times, C_RWA_LAB)"
   ]
  },
  {
   "cell_type": "markdown",
   "metadata": {
    "heading_collapsed": false,
    "level": 2
   },
   "source": [
    "## Optimization"
   ]
  },
  {
   "cell_type": "code",
   "execution_count": 111,
   "metadata": {
    "collapsed": false,
    "level": 7
   },
   "outputs": [],
   "source": [
    "Hadamard = hadamard_transform(1)\n",
    "Id = qutip_env.Id\n",
    "tensor = qutip_env.tensor"
   ]
  },
  {
   "cell_type": "code",
   "execution_count": 87,
   "metadata": {
    "collapsed": false,
    "level": 7
   },
   "outputs": [],
   "source": [
    "w_d = (6.3721 - 0.5*0.1498)*GHz\n",
    "oct_result = cpo.optimize_pulse_unitary(\n",
    "    H_d = qutip_RWA_shift(\n",
    "            w_d,\n",
    "            H_drift(omega_1 =  5.9112*GHz,\n",
    "                    omega_2 =  6.3721*GHz, \n",
    "                    zeta    = -0.1498*GHz,\n",
    "                    env_namespace = qutip_env)\n",
    "        ),\n",
    "    H_c = [H_ctrl(lambda_1   =  4.81e-1,\n",
    "                  lambda_2   =  3.56e-1,\n",
    "                  lambda_1_2 = -4.94e-2,\n",
    "                  lambda_2_1 =  4.20e-2,\n",
    "                  env_namespace = qutip_env),],\n",
    "    U_0 = qutip_env.tensor(Id, Id),\n",
    "    U_targ = qutip_env.tensor(Hadamard, Id),\n",
    "    num_tslots = 1000, evo_time = 10*ns,\n",
    "    amp_lbound = 0.0, amp_ubound = 0.5*GHz\n",
    ")"
   ]
  },
  {
   "cell_type": "markdown",
   "metadata": {
    "level": 7
   },
   "source": [
    "The optimized pulse is:"
   ]
  },
  {
   "cell_type": "code",
   "execution_count": 101,
   "metadata": {
    "collapsed": true,
    "level": 7
   },
   "outputs": [],
   "source": [
    "oct_ampl = QDYN.linalg.vectorize(oct_result.final_amps)"
   ]
  },
  {
   "cell_type": "code",
   "execution_count": 102,
   "metadata": {
    "collapsed": false,
    "level": 7
   },
   "outputs": [
    {
     "data": {
      "text/plain": [
       "[<matplotlib.lines.Line2D at 0x7efe4c6ef5c0>]"
      ]
     },
     "execution_count": 102,
     "metadata": {},
     "output_type": "execute_result"
    },
    {
     "data": {
      "image/png": "[encoded data removed]",
      "text/plain": [
       "<matplotlib.figure.Figure at 0x7efe4c5cff28>"
      ]
     },
     "metadata": {},
     "output_type": "display_data"
    }
   ],
   "source": [
    "plt.plot(np.linspace(0,10,1000), oct_ampl)"
   ]
  },
  {
   "cell_type": "markdown",
   "metadata": {
    "level": 7
   },
   "source": [
    "The dynamics under the optimized pulse are:"
   ]
  },
  {
   "cell_type": "code",
   "execution_count": 104,
   "metadata": {
    "collapsed": false,
    "level": 7
   },
   "outputs": [],
   "source": [
    "times = np.linspace(0, 10*ns, 1000)\n",
    "\n",
    "w_d = (6.3721 - 0.5*0.1498)*GHz\n",
    "E0 = 100.0 # MHz (in the lab frame)\n",
    "\n",
    "def epsilon_opt(t, args):\n",
    "    i = np.digitize(t, times)\n",
    "    return oct_ampl[i-1]\n",
    "    \n",
    "\n",
    "U_of_t_opt = qutip_prop_gate(\n",
    "    H = [\n",
    "        qutip_RWA_shift(\n",
    "            w_d,\n",
    "            H_drift(omega_1 =  5.9112*GHz,\n",
    "                    omega_2 =  6.3721*GHz, \n",
    "                    zeta    = -0.1498*GHz,\n",
    "                    env_namespace = qutip_env)\n",
    "            ),\n",
    "        [H_ctrl(lambda_1   =  4.81e-1,\n",
    "                lambda_2   =  3.56e-1,\n",
    "                lambda_1_2 = -4.94e-2,\n",
    "                lambda_2_1 =  4.20e-2,\n",
    "                env_namespace = qutip_env),\n",
    "         epsilon_opt]\n",
    "        ],\n",
    "    times = times\n",
    ")"
   ]
  },
  {
   "cell_type": "code",
   "execution_count": 105,
   "metadata": {
    "collapsed": true,
    "level": 7
   },
   "outputs": [],
   "source": [
    "C_opt = [U.concurrence() for U in U_of_t_opt]"
   ]
  },
  {
   "cell_type": "code",
   "execution_count": 106,
   "metadata": {
    "collapsed": false,
    "level": 7
   },
   "outputs": [
    {
     "data": {
      "text/plain": [
       "[<matplotlib.lines.Line2D at 0x7efe4c724208>]"
      ]
     },
     "execution_count": 106,
     "metadata": {},
     "output_type": "execute_result"
    },
    {
     "data": {
      "image/png": "[encoded data removed]",
      "text/plain": [
       "<matplotlib.figure.Figure at 0x7efe4c720d68>"
      ]
     },
     "metadata": {},
     "output_type": "display_data"
    }
   ],
   "source": [
    "plt.plot(times, C_opt)"
   ]
  },
  {
   "cell_type": "code",
   "execution_count": 109,
   "metadata": {
    "collapsed": false,
    "level": 7
   },
   "outputs": [],
   "source": [
    "U = U_of_t_opt[-1]"
   ]
  },
  {
   "cell_type": "code",
   "execution_count": 110,
   "metadata": {
    "collapsed": false,
    "level": 7
   },
   "outputs": [
    {
     "data": {
      "image/png": "[encoded data removed]",
      "text/latex": [
       "$$0.384528163457$$"
      ],
      "text/plain": [
       "0.384528163457"
      ]
     },
     "execution_count": 110,
     "metadata": {},
     "output_type": "execute_result"
    }
   ],
   "source": [
    "U.concurrence()"
   ]
  },
  {
   "cell_type": "code",
   "execution_count": 121,
   "metadata": {
    "collapsed": false,
    "level": 7
   },
   "outputs": [
    {
     "data": {
      "image/png": "[encoded data removed]",
      "text/latex": [
       "$$0.971790271591$$"
      ],
      "text/plain": [
       "0.971790271591"
      ]
     },
     "execution_count": 121,
     "metadata": {},
     "output_type": "execute_result"
    }
   ],
   "source": [
    "U.F_avg(QDYN.gate2q.Gate2Q(tensor(Hadamard, Id).full()))"
   ]
  }
 ],
 "metadata": {
  "gist": {
   "data": {
    "description": "TransmonLandscape/QuTiP Transmon Exploration.ipynb",
    "public": false
   },
   "id": ""
  },
  "kernelspec": {
   "display_name": "goerz-QNET",
   "language": "python",
   "name": "goerz_qnet"
  },
  "language_info": {
   "codemirror_mode": {
    "name": "ipython",
    "version": 3
   },
   "file_extension": ".py",
   "mimetype": "text/x-python",
   "name": "python",
   "nbconvert_exporter": "python",
   "pygments_lexer": "ipython3",
   "version": "3.4.4"
  },
  "toc": {
   "toc_cell": false,
   "toc_number_sections": true,
   "toc_section_display": "block",
   "toc_threshold": 6,
   "toc_window_display": true
  },
  "toc_position": {
   "left": "1506.8px",
   "right": "20px",
   "top": "55px",
   "width": "330px"
  }
 },
 "nbformat": 4,
 "nbformat_minor": 0
}
