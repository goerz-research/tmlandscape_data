{
 "cells": [
  {
   "cell_type": "markdown",
   "metadata": {},
   "source": [
    "# Testing QuTiP for Rabi-Cycling in the TLS"
   ]
  },
  {
   "cell_type": "code",
   "execution_count": 1,
   "metadata": {
    "collapsed": false
   },
   "outputs": [],
   "source": [
    "import qutip\n",
    "import numpy as np\n",
    "import sympy\n",
    "import sympy.physics.quantum\n",
    "from sympy import symbols\n",
    "from functools import partial\n",
    "import QDYN\n",
    "from analytical_pulses import ampl_1freq, ampl_1freq_rwa\n",
    "import matplotlib.pyplot as plt"
   ]
  },
  {
   "cell_type": "code",
   "execution_count": 2,
   "metadata": {
    "collapsed": true
   },
   "outputs": [],
   "source": [
    "sympy.init_printing()"
   ]
  },
  {
   "cell_type": "code",
   "execution_count": 3,
   "metadata": {
    "collapsed": true
   },
   "outputs": [],
   "source": [
    "%matplotlib inline"
   ]
  },
  {
   "cell_type": "code",
   "execution_count": 4,
   "metadata": {
    "collapsed": false
   },
   "outputs": [],
   "source": [
    "GHz    = 2 * np.pi\n",
    "ns     = 1"
   ]
  },
  {
   "cell_type": "code",
   "execution_count": 5,
   "metadata": {
    "collapsed": false
   },
   "outputs": [],
   "source": [
    "class QuTiPEnv():\n",
    "    \"\"\"Namespace for use of qutip\"\"\"\n",
    "    def __init__(self):\n",
    "        self.Sz     = qutip.sigmaz()\n",
    "        self.Sx     = qutip.sigmax()\n",
    "        self.Sy     = qutip.sigmay()\n",
    "        self.Id     = qutip.identity(2)\n",
    "        self.ket0   = qutip.basis(2, 0)\n",
    "        self.ket1   = qutip.basis(2, 1)\n",
    "        self.half   = 0.5\n",
    "        self.two_pi = 2 * np.pi\n",
    "    @staticmethod\n",
    "    def tensor(ob1, ob2):\n",
    "        return qutip.tensor(ob1, ob2)\n",
    "    @staticmethod\n",
    "    def overlap(psi1, psi2):\n",
    "        return psi1.overlap(psi2)\n",
    "qutip_env = QuTiPEnv()\n",
    "ket0 = qutip_env.ket0"
   ]
  },
  {
   "cell_type": "code",
   "execution_count": 6,
   "metadata": {
    "collapsed": true
   },
   "outputs": [],
   "source": [
    "def propagate(psi0, H, times):\n",
    "    return qutip.mesolve(H, psi0, times, [], [])"
   ]
  },
  {
   "cell_type": "code",
   "execution_count": 7,
   "metadata": {
    "collapsed": false
   },
   "outputs": [],
   "source": [
    "def H_drift(omega, env_namespace):\n",
    "    half = env_namespace.half\n",
    "    return (half * omega * env_namespace.Sz)"
   ]
  },
  {
   "cell_type": "code",
   "execution_count": 8,
   "metadata": {
    "collapsed": true
   },
   "outputs": [],
   "source": [
    "def qutip_RWA_shift(w_d, H_d):\n",
    "    \"\"\"Shift the energies of the drift Hamiltonian into the rotating frame\"\"\"\n",
    "    return H_d - qutip.Qobj(np.diag([0.5*w_d, -0.5*w_d]), dims=H_d.dims)"
   ]
  },
  {
   "cell_type": "code",
   "execution_count": 9,
   "metadata": {
    "collapsed": true
   },
   "outputs": [],
   "source": [
    "def H_ctrl(env_namespace):\n",
    "    return (env_namespace.Sx)"
   ]
  },
  {
   "cell_type": "code",
   "execution_count": 10,
   "metadata": {
    "collapsed": true
   },
   "outputs": [],
   "source": [
    "def population(psi_of_t, state=0):\n",
    "    return [float(abs(psi[state]))**2 for psi in psi_of_t]"
   ]
  },
  {
   "cell_type": "markdown",
   "metadata": {},
   "source": [
    "## Evolution in the lab frame"
   ]
  },
  {
   "cell_type": "code",
   "execution_count": 19,
   "metadata": {
    "collapsed": false
   },
   "outputs": [],
   "source": [
    "times = np.linspace(0, 10*ns, 200)\n",
    "\n",
    "def epsilon(t, args):\n",
    "    return np.cos(6.0*GHz*t)\n",
    "\n",
    "psi_lab = propagate(\n",
    "    psi0 = ket0,\n",
    "    H = [H_drift(omega=6.0*GHz, env_namespace=qutip_env),\n",
    "         [H_ctrl(env_namespace=qutip_env),\n",
    "          epsilon]\n",
    "        ],\n",
    "    times = times\n",
    ").states"
   ]
  },
  {
   "cell_type": "code",
   "execution_count": 20,
   "metadata": {
    "collapsed": false
   },
   "outputs": [
    {
     "data": {
      "text/plain": [
       "[<matplotlib.lines.Line2D at 0x7fce00eb55f8>]"
      ]
     },
     "execution_count": 20,
     "metadata": {},
     "output_type": "execute_result"
    },
    {
     "data": {
      "image/png": "[encoded data removed]",
      "text/plain": [
       "<matplotlib.figure.Figure at 0x7fce0082dc18>"
      ]
     },
     "metadata": {},
     "output_type": "display_data"
    }
   ],
   "source": [
    "plt.plot(times, population(psi_lab))"
   ]
  },
  {
   "cell_type": "markdown",
   "metadata": {},
   "source": [
    "## Evolution in the rotating frame"
   ]
  },
  {
   "cell_type": "code",
   "execution_count": 21,
   "metadata": {
    "collapsed": false
   },
   "outputs": [],
   "source": [
    "times = np.linspace(0, 10*ns, 200)\n",
    "\n",
    "def epsilon(t, args):\n",
    "    return 0.5\n",
    "\n",
    "psi_rwa = propagate(\n",
    "    psi0 = ket0,\n",
    "    H = [qutip_RWA_shift(\n",
    "            w_d=6.0*GHz,\n",
    "            H_d=H_drift(omega=6.0*GHz, env_namespace=qutip_env)\n",
    "         ),\n",
    "         [H_ctrl(env_namespace=qutip_env),\n",
    "          epsilon]\n",
    "        ],\n",
    "    times = times\n",
    ").states"
   ]
  },
  {
   "cell_type": "code",
   "execution_count": 22,
   "metadata": {
    "collapsed": false
   },
   "outputs": [
    {
     "data": {
      "text/plain": [
       "[<matplotlib.lines.Line2D at 0x7fce00f15198>]"
      ]
     },
     "execution_count": 22,
     "metadata": {},
     "output_type": "execute_result"
    },
    {
     "data": {
      "image/png": "[encoded data removed]",
      "text/plain": [
       "<matplotlib.figure.Figure at 0x7fce00e40278>"
      ]
     },
     "metadata": {},
     "output_type": "display_data"
    }
   ],
   "source": [
    "plt.plot(times, population(psi_rwa))"
   ]
  },
  {
   "cell_type": "code",
   "execution_count": null,
   "metadata": {
    "collapsed": true
   },
   "outputs": [],
   "source": []
  }
 ],
 "metadata": {
  "kernelspec": {
   "display_name": "goerz-QNET",
   "language": "python",
   "name": "goerz_qnet"
  },
  "language_info": {
   "codemirror_mode": {
    "name": "ipython",
    "version": 3
   },
   "file_extension": ".py",
   "mimetype": "text/x-python",
   "name": "python",
   "nbconvert_exporter": "python",
   "pygments_lexer": "ipython3",
   "version": "3.4.4"
  }
 },
 "nbformat": 4,
 "nbformat_minor": 0
}
