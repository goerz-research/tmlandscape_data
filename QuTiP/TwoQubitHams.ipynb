{
 "cells": [
  {
   "cell_type": "markdown",
   "metadata": {
    "heading_collapsed": false,
    "level": 1
   },
   "source": [
    "# Two-Qubit Hamiltonians in Pauli-Matrix-Notation"
   ]
  },
  {
   "cell_type": "markdown",
   "metadata": {
    "level": 7
   },
   "source": [
    "$\n",
    "\\newcommand{\\Op}[1]{\\boldsymbol{\\mathsf{\\hat{#1}}}}\n",
    "\\newcommand{\\unity}{\\mathbb{I}}\n",
    "\\newcommand{\\Ket}[1]{\\left\\vert #1 \\right\\rangle}\n",
    "\\newcommand{\\Bra}[1]{\\left\\langle #1 \\right\\vert}\n",
    "$"
   ]
  },
  {
   "cell_type": "code",
   "execution_count": 11,
   "metadata": {
    "collapsed": false
   },
   "outputs": [],
   "source": [
    "import numpy as np\n",
    "from numpy import kron\n",
    "import sympy\n",
    "from IPython.display import Math, Latex, display, display_latex"
   ]
  },
  {
   "cell_type": "code",
   "execution_count": 12,
   "metadata": {
    "collapsed": true
   },
   "outputs": [],
   "source": [
    "sympy.init_printing()"
   ]
  },
  {
   "cell_type": "code",
   "execution_count": 13,
   "metadata": {
    "collapsed": false
   },
   "outputs": [],
   "source": [
    "def HS(M1, M2):\n",
    "    \"\"\"Hilbert-Schmidt-Product of two matrices M1, M2\"\"\"\n",
    "    return (np.dot(np.asarray(M1).conjugate().transpose(), np.asarray(M2))).trace()"
   ]
  },
  {
   "cell_type": "code",
   "execution_count": 14,
   "metadata": {
    "collapsed": false
   },
   "outputs": [],
   "source": [
    "def decompose(H, lhs=None, show=False, unity=False):\n",
    "    \"\"\"\n",
    "    Decompose Hermitian 4x4 matrix H into Pauli matrices\n",
    "\n",
    "    Arguments\n",
    "    =========\n",
    "\n",
    "    H  :  numpy 4 x 4 matrix\n",
    "        Hamiltonian to decompose\n",
    "    lhs:  string\n",
    "        Latex string describing H. If given, result will be an equation with\n",
    "        `lhs` on the left hand side.\n",
    "    show: boolean\n",
    "        If `True`, print the decomposition in the context of the IPython\n",
    "        notebook. Otherwise, a latex string will be returned\n",
    "    unity: boolean\n",
    "        If `True`, include terms proportional to unity in the decomposition\n",
    "    \"\"\"\n",
    "    from numpy import kron\n",
    "    sx = np.array([[0, 1],  [ 1, 0]], dtype=np.complex128)\n",
    "    sy = np.array([[0, -1j],[1j, 0]], dtype=np.complex128)\n",
    "    sz = np.array([[1, 0],  [0, -1]], dtype=np.complex128)\n",
    "    id = np.array([[1, 0],  [ 0, 1]], dtype=np.complex128)\n",
    "    S = [id, sx, sy, sz]\n",
    "    labels = [r'\\unity', r'\\Op{\\sigma}_x', r'\\Op{\\sigma}_y', r'\\Op{\\sigma}_z']\n",
    "    result = \"\"\n",
    "    n_terms = 0\n",
    "    sign = ''\n",
    "    for i in range(4):\n",
    "        for j in range(4):\n",
    "            if not unity:\n",
    "                if i == j == 0:\n",
    "                    continue # skip unity\n",
    "            if i > 0 and j == 0:\n",
    "                label = labels[i] + '^{(1)}'\n",
    "            elif i == 0 and j > 0:\n",
    "                label = labels[j] + '^{(2)}'\n",
    "            elif i == 0 and j == 0:\n",
    "                label = r'\\unity'\n",
    "            else:\n",
    "                label = labels[i] + '^{(1)}' + labels[j] + r'^{(2)}'\n",
    "            a_ij = 0.25 * HS(kron(S[i], S[j]), H)\n",
    "            if a_ij != 0.0:\n",
    "                if a_ij == 1.0:\n",
    "                    numstr = ''\n",
    "                else:\n",
    "                    numstr = sympy.latex(sympy.nsimplify(a_ij, tolerance=0.001,\n",
    "                                         rational=True))\n",
    "                if n_terms > 0:\n",
    "                    sign = '+'\n",
    "                if numstr.strip().startswith('-'):\n",
    "                    sign = ''\n",
    "                result += r'%s %s %s' % (sign, numstr, label)\n",
    "                n_terms += 1\n",
    "    if result == '':\n",
    "        result = '0'\n",
    "    if lhs is not None:\n",
    "        result = lhs + ' = ' + result\n",
    "    if show:\n",
    "        display(Math(result))\n",
    "    else:\n",
    "        return result"
   ]
  },
  {
   "cell_type": "code",
   "execution_count": 15,
   "metadata": {
    "collapsed": false
   },
   "outputs": [],
   "source": [
    "class ListTable(list):\n",
    "    \"\"\" Overridden list class which takes a 2-dimensional list of \n",
    "        the form [[1,2,3],[4,5,6]], and renders an HTML Table in \n",
    "        IPython Notebook. \"\"\"\n",
    "    def _repr_html_(self):\n",
    "        html = [\"<table>\"]\n",
    "        for row in self:\n",
    "            html.append(\"<tr>\")\n",
    "            for col in row:\n",
    "                html.append(\"<td>{0}</td>\".format(col))\n",
    "            html.append(\"</tr>\")\n",
    "        html.append(\"</table>\")\n",
    "        return ''.join(html)\n",
    "\n",
    "def decompose_ham_terms(ham_terms, unity=False):\n",
    "    table = ListTable()\n",
    "    table.append([\"Prefactor\", \"Original Term\", \"Truncated Term\"])\n",
    "    for (prefactor, term, operator) in ham_terms:\n",
    "        decomposition = decompose(operator, unity=unity)\n",
    "        table.append([\"$%s$\" % prefactor, \"$%s$\" % term, \"$%s$\" % decomposition])\n",
    "    return table"
   ]
  },
  {
   "cell_type": "markdown",
   "metadata": {
    "heading_collapsed": false,
    "level": 2
   },
   "source": [
    "## Transmon Landscape"
   ]
  },
  {
   "cell_type": "code",
   "execution_count": 16,
   "metadata": {
    "collapsed": true
   },
   "outputs": [],
   "source": [
    "H = np.matrix([[0,1,0,0],\n",
    "               [1,0,0,0],\n",
    "               [0,0,0,0],\n",
    "               [0,0,0,0]])"
   ]
  },
  {
   "cell_type": "code",
   "execution_count": 21,
   "metadata": {
    "collapsed": false
   },
   "outputs": [
    {
     "data": {
      "text/latex": [
       "$ \\frac{1}{2} \\Op{\\sigma}_x^{(2)}+ \\frac{1}{2} \\Op{\\sigma}_z^{(1)}\\Op{\\sigma}_x^{(2)}$"
      ],
      "text/plain": [
       "<IPython.core.display.Latex object>"
      ]
     },
     "metadata": {},
     "output_type": "display_data"
    }
   ],
   "source": [
    "display(Latex(\"$%s$\" % decompose(H)))"
   ]
  },
  {
   "cell_type": "code",
   "execution_count": 19,
   "metadata": {
    "collapsed": false
   },
   "outputs": [],
   "source": [
    "display_latex(decompose(H))"
   ]
  },
  {
   "cell_type": "markdown",
   "metadata": {
    "heading_collapsed": false,
    "level": 2
   },
   "source": [
    "## Transmon Hamiltonian"
   ]
  },
  {
   "cell_type": "markdown",
   "metadata": {},
   "source": [
    "The original term is given in terms of annihilation operators, which for a two-level system are"
   ]
  },
  {
   "cell_type": "code",
   "execution_count": 6,
   "metadata": {
    "collapsed": false
   },
   "outputs": [],
   "source": [
    "b = np.matrix([[0, 0], [1,0]], dtype=np.complex128) # b = b^\\dagger (relabel levels)"
   ]
  },
  {
   "cell_type": "markdown",
   "metadata": {},
   "source": [
    "Together with the identity"
   ]
  },
  {
   "cell_type": "code",
   "execution_count": 7,
   "metadata": {
    "collapsed": false
   },
   "outputs": [],
   "source": [
    "id = np.matrix([[1, 0], [0,1]], dtype=np.complex128)"
   ]
  },
  {
   "cell_type": "code",
   "execution_count": 8,
   "metadata": {
    "collapsed": false
   },
   "outputs": [],
   "source": [
    "transmon_ham_terms = [\n",
    "(r'\\omega_1 + \\frac{\\alpha}{2}', r'\\Op{b}_1^\\dagger \\Op{b}_1',                           kron(b.H*b, id)),\n",
    "(r'\\omega_2 + \\frac{\\alpha}{2}', r'\\Op{b}_2^\\dagger \\Op{b}_2',                           kron(id, b.H*b)),\n",
    "(r'-\\frac{\\alpha}{2}',           r'\\Op{b}_1^\\dagger \\Op{b}_1 \\Op{b}_1^\\dagger \\Op{b}_1', kron(b.H*b*b.H*b, id)),\n",
    "(r'-\\frac{\\alpha}{2}',           r'\\Op{b}_2^\\dagger \\Op{b}_2 \\Op{b}_2^\\dagger \\Op{b}_2', kron(id, b.H*b*b.H*b)),\n",
    "(r'J',                           r'\\Op{b}_1^\\dagger\\Op{b}_2 + \\Op{b}_1\\Op{b}_2^\\dagger', kron(b.H, b) + kron(b, b.H)),\n",
    "(r'\\Omega(t)',                   r'\\Op{b}_1 + \\Op{b}_1^\\dagger',                         kron(b + b.H, id)),\n",
    "(r'\\Omega(t)',                   r'\\lambda\\Op{b}_2 + \\lambda\\Op{b}_2^\\dagger',           kron(id, b + b.H))\n",
    "]"
   ]
  },
  {
   "cell_type": "code",
   "execution_count": 9,
   "metadata": {
    "collapsed": false
   },
   "outputs": [
    {
     "data": {
      "text/html": [
       "<table><tr><td>Prefactor</td><td>Original Term</td><td>Truncated Term</td></tr><tr><td>$\\omega_1 + \\frac{\\alpha}{2}$</td><td>$\\Op{b}_1^\\dagger \\Op{b}_1$</td><td>$ \\frac{1}{2} \\Op{\\sigma}_z^{(1)}$</td></tr><tr><td>$\\omega_2 + \\frac{\\alpha}{2}$</td><td>$\\Op{b}_2^\\dagger \\Op{b}_2$</td><td>$ \\frac{1}{2} \\Op{\\sigma}_z^{(2)}$</td></tr><tr><td>$-\\frac{\\alpha}{2}$</td><td>$\\Op{b}_1^\\dagger \\Op{b}_1 \\Op{b}_1^\\dagger \\Op{b}_1$</td><td>$ \\frac{1}{2} \\Op{\\sigma}_z^{(1)}$</td></tr><tr><td>$-\\frac{\\alpha}{2}$</td><td>$\\Op{b}_2^\\dagger \\Op{b}_2 \\Op{b}_2^\\dagger \\Op{b}_2$</td><td>$ \\frac{1}{2} \\Op{\\sigma}_z^{(2)}$</td></tr><tr><td>$J$</td><td>$\\Op{b}_1^\\dagger\\Op{b}_2 + \\Op{b}_1\\Op{b}_2^\\dagger$</td><td>$ \\frac{1}{2} \\Op{\\sigma}_x^{(1)}\\Op{\\sigma}_x^{(2)}+ \\frac{1}{2} \\Op{\\sigma}_y^{(1)}\\Op{\\sigma}_y^{(2)}$</td></tr><tr><td>$\\Omega(t)$</td><td>$\\Op{b}_1 + \\Op{b}_1^\\dagger$</td><td>$  \\Op{\\sigma}_x^{(1)}$</td></tr><tr><td>$\\Omega(t)$</td><td>$\\lambda\\Op{b}_2 + \\lambda\\Op{b}_2^\\dagger$</td><td>$  \\Op{\\sigma}_x^{(2)}$</td></tr></table>"
      ],
      "text/plain": [
       "[['Prefactor', 'Original Term', 'Truncated Term'],\n",
       " ['$\\\\omega_1 + \\\\frac{\\\\alpha}{2}$',\n",
       "  '$\\\\Op{b}_1^\\\\dagger \\\\Op{b}_1$',\n",
       "  '$ \\\\frac{1}{2} \\\\Op{\\\\sigma}_z^{(1)}$'],\n",
       " ['$\\\\omega_2 + \\\\frac{\\\\alpha}{2}$',\n",
       "  '$\\\\Op{b}_2^\\\\dagger \\\\Op{b}_2$',\n",
       "  '$ \\\\frac{1}{2} \\\\Op{\\\\sigma}_z^{(2)}$'],\n",
       " ['$-\\\\frac{\\\\alpha}{2}$',\n",
       "  '$\\\\Op{b}_1^\\\\dagger \\\\Op{b}_1 \\\\Op{b}_1^\\\\dagger \\\\Op{b}_1$',\n",
       "  '$ \\\\frac{1}{2} \\\\Op{\\\\sigma}_z^{(1)}$'],\n",
       " ['$-\\\\frac{\\\\alpha}{2}$',\n",
       "  '$\\\\Op{b}_2^\\\\dagger \\\\Op{b}_2 \\\\Op{b}_2^\\\\dagger \\\\Op{b}_2$',\n",
       "  '$ \\\\frac{1}{2} \\\\Op{\\\\sigma}_z^{(2)}$'],\n",
       " ['$J$',\n",
       "  '$\\\\Op{b}_1^\\\\dagger\\\\Op{b}_2 + \\\\Op{b}_1\\\\Op{b}_2^\\\\dagger$',\n",
       "  '$ \\\\frac{1}{2} \\\\Op{\\\\sigma}_x^{(1)}\\\\Op{\\\\sigma}_x^{(2)}+ \\\\frac{1}{2} \\\\Op{\\\\sigma}_y^{(1)}\\\\Op{\\\\sigma}_y^{(2)}$'],\n",
       " ['$\\\\Omega(t)$',\n",
       "  '$\\\\Op{b}_1 + \\\\Op{b}_1^\\\\dagger$',\n",
       "  '$  \\\\Op{\\\\sigma}_x^{(1)}$'],\n",
       " ['$\\\\Omega(t)$',\n",
       "  '$\\\\lambda\\\\Op{b}_2 + \\\\lambda\\\\Op{b}_2^\\\\dagger$',\n",
       "  '$  \\\\Op{\\\\sigma}_x^{(2)}$']]"
      ]
     },
     "execution_count": 9,
     "metadata": {},
     "output_type": "execute_result"
    }
   ],
   "source": [
    "decompose_ham_terms(transmon_ham_terms)"
   ]
  },
  {
   "cell_type": "markdown",
   "metadata": {
    "heading_collapsed": true,
    "level": 2
   },
   "source": [
    "## Charge Qubit Hamiltonian"
   ]
  },
  {
   "cell_type": "markdown",
   "metadata": {
    "level": 7
   },
   "source": [
    "The Hamiltonian is expressed in terms of projectors and jump operators"
   ]
  },
  {
   "cell_type": "code",
   "execution_count": 10,
   "metadata": {
    "collapsed": false,
    "level": 7
   },
   "outputs": [],
   "source": [
    "P0 = np.matrix([[1, 0], [0,0]]); P1 = np.matrix([[0, 0], [0,1]]);\n",
    "C01 = np.matrix([[0, 1], [0,0]]); C10 = np.matrix([[0, 0], [1,0]]); "
   ]
  },
  {
   "cell_type": "code",
   "execution_count": 11,
   "metadata": {
    "collapsed": false,
    "level": 7
   },
   "outputs": [],
   "source": [
    "charge_ham_terms = [\n",
    "  (r'E_C(0-n_g)^2',        r'\\Ket{0}\\Bra{0}_1',                    kron(P0, id)),\n",
    "  (r'E_C(1-n_g)^2',        r'\\Ket{1}\\Bra{1}_1',                    kron(P1, id)),\n",
    "  (r'E_C(0-n_g)^2',        r'\\Ket{0}\\Bra{0}_2',                    kron(id, P0)),\n",
    "  (r'E_C(1-n_g)^2',        r'\\Ket{1}\\Bra{1}_2',                    kron(id, P1)),\n",
    "  (r'-\\frac{E_J(t)}{2}',   r'\\Ket{0}\\Bra{1}_1 + \\Ket{1}\\Bra{0}_1', kron(C01+C10, id)),\n",
    "  (r'-\\frac{E_J(t)}{2}',   r'\\Ket{0}\\Bra{1}_2 + \\Ket{1}\\Bra{0}_2', kron(id, C01+C10)),\n",
    "  (r'\\frac{E_{JJ}(t)}{2}', r'\\Ket{01}\\Bra{10} + \\Ket{10}\\Bra{01}', kron(C01,C10) + kron(C10,C01))\n",
    "]"
   ]
  },
  {
   "cell_type": "code",
   "execution_count": 12,
   "metadata": {
    "collapsed": false,
    "level": 7
   },
   "outputs": [
    {
     "data": {
      "text/html": [
       "<table><tr><td>Prefactor</td><td>Original Term</td><td>Truncated Term</td></tr><tr><td>$E_C(0-n_g)^2$</td><td>$\\Ket{0}\\Bra{0}_1$</td><td>$ \\frac{1}{2} \\Op{\\sigma}_z^{(1)}$</td></tr><tr><td>$E_C(1-n_g)^2$</td><td>$\\Ket{1}\\Bra{1}_1$</td><td>$ - \\frac{1}{2} \\Op{\\sigma}_z^{(1)}$</td></tr><tr><td>$E_C(0-n_g)^2$</td><td>$\\Ket{0}\\Bra{0}_2$</td><td>$ \\frac{1}{2} \\Op{\\sigma}_z^{(2)}$</td></tr><tr><td>$E_C(1-n_g)^2$</td><td>$\\Ket{1}\\Bra{1}_2$</td><td>$ - \\frac{1}{2} \\Op{\\sigma}_z^{(2)}$</td></tr><tr><td>$-\\frac{E_J(t)}{2}$</td><td>$\\Ket{0}\\Bra{1}_1 + \\Ket{1}\\Bra{0}_1$</td><td>$  \\Op{\\sigma}_x^{(1)}$</td></tr><tr><td>$-\\frac{E_J(t)}{2}$</td><td>$\\Ket{0}\\Bra{1}_2 + \\Ket{1}\\Bra{0}_2$</td><td>$  \\Op{\\sigma}_x^{(2)}$</td></tr><tr><td>$\\frac{E_{JJ}(t)}{2}$</td><td>$\\Ket{01}\\Bra{10} + \\Ket{10}\\Bra{01}$</td><td>$ \\frac{1}{2} \\Op{\\sigma}_x^{(1)}\\Op{\\sigma}_x^{(2)}+ \\frac{1}{2} \\Op{\\sigma}_y^{(1)}\\Op{\\sigma}_y^{(2)}$</td></tr></table>"
      ],
      "text/plain": [
       "[['Prefactor', 'Original Term', 'Truncated Term'],\n",
       " ['$E_C(0-n_g)^2$',\n",
       "  '$\\\\Ket{0}\\\\Bra{0}_1$',\n",
       "  '$ \\\\frac{1}{2} \\\\Op{\\\\sigma}_z^{(1)}$'],\n",
       " ['$E_C(1-n_g)^2$',\n",
       "  '$\\\\Ket{1}\\\\Bra{1}_1$',\n",
       "  '$ - \\\\frac{1}{2} \\\\Op{\\\\sigma}_z^{(1)}$'],\n",
       " ['$E_C(0-n_g)^2$',\n",
       "  '$\\\\Ket{0}\\\\Bra{0}_2$',\n",
       "  '$ \\\\frac{1}{2} \\\\Op{\\\\sigma}_z^{(2)}$'],\n",
       " ['$E_C(1-n_g)^2$',\n",
       "  '$\\\\Ket{1}\\\\Bra{1}_2$',\n",
       "  '$ - \\\\frac{1}{2} \\\\Op{\\\\sigma}_z^{(2)}$'],\n",
       " ['$-\\\\frac{E_J(t)}{2}$',\n",
       "  '$\\\\Ket{0}\\\\Bra{1}_1 + \\\\Ket{1}\\\\Bra{0}_1$',\n",
       "  '$  \\\\Op{\\\\sigma}_x^{(1)}$'],\n",
       " ['$-\\\\frac{E_J(t)}{2}$',\n",
       "  '$\\\\Ket{0}\\\\Bra{1}_2 + \\\\Ket{1}\\\\Bra{0}_2$',\n",
       "  '$  \\\\Op{\\\\sigma}_x^{(2)}$'],\n",
       " ['$\\\\frac{E_{JJ}(t)}{2}$',\n",
       "  '$\\\\Ket{01}\\\\Bra{10} + \\\\Ket{10}\\\\Bra{01}$',\n",
       "  '$ \\\\frac{1}{2} \\\\Op{\\\\sigma}_x^{(1)}\\\\Op{\\\\sigma}_x^{(2)}+ \\\\frac{1}{2} \\\\Op{\\\\sigma}_y^{(1)}\\\\Op{\\\\sigma}_y^{(2)}$']]"
      ]
     },
     "execution_count": 12,
     "metadata": {},
     "output_type": "execute_result"
    }
   ],
   "source": [
    "decompose_ham_terms(charge_ham_terms)"
   ]
  },
  {
   "cell_type": "markdown",
   "metadata": {
    "heading_collapsed": true,
    "level": 2
   },
   "source": [
    "## Two-Qubit Gate Hamiltonians"
   ]
  },
  {
   "cell_type": "markdown",
   "metadata": {
    "level": 7
   },
   "source": [
    "The Hamiltonians generating the gates can be calculated using the `MatrixLog` function in Mathematica. Then, use `ExportString[%, \"MTX\"]` to export the result to a Matrix we can parse"
   ]
  },
  {
   "cell_type": "code",
   "execution_count": 13,
   "metadata": {
    "collapsed": false,
    "level": 7
   },
   "outputs": [],
   "source": [
    "def read_mathematica_mtx(mtx_str):\n",
    "    \"\"\"\n",
    "    Return matrix for multiline MTX string.\n",
    "    \"\"\"\n",
    "    from scipy.io import mmread\n",
    "    from StringIO import StringIO\n",
    "    a = mmread(StringIO(mtx_str.lstrip()))\n",
    "    return np.around(a, 4)"
   ]
  },
  {
   "cell_type": "markdown",
   "metadata": {
    "heading_collapsed": false,
    "level": 4
   },
   "source": [
    "#### CNOT"
   ]
  },
  {
   "cell_type": "code",
   "execution_count": 27,
   "metadata": {
    "collapsed": false,
    "level": 7
   },
   "outputs": [
    {
     "data": {
      "text/latex": [
       "$$ -1 \\unity+ 1 \\Op{\\sigma}_x^{(2)}+ 1 \\Op{\\sigma}_z^{(1)} -1 \\Op{\\sigma}_z^{(1)}\\Op{\\sigma}_x^{(2)}$$"
      ],
      "text/plain": [
       "<IPython.core.display.Math at 0x10bbfd210>"
      ]
     },
     "metadata": {},
     "output_type": "display_data"
    }
   ],
   "source": [
    "H_CNOT = read_mathematica_mtx(\"\"\"\n",
    "%%MatrixMarket matrix array complex symmetric\n",
    "%Created by Wolfram Mathematica 9.0 : www.wolfram.com\n",
    "4 4\n",
    "   0.0000000000000000E+00    0.0000000000000000E+00\n",
    "   0.0000000000000000E+00    0.0000000000000000E+00\n",
    "   0.0000000000000000E+00    0.0000000000000000E+00\n",
    "   0.0000000000000000E+00    0.0000000000000000E+00\n",
    "   0.0000000000000000E+00    0.0000000000000000E+00\n",
    "   0.0000000000000000E+00    0.0000000000000000E+00\n",
    "   0.0000000000000000E+00    0.0000000000000000E+00\n",
    "  -1.5707963267948963E+00   -2.7755575615628899E-16\n",
    "   1.5707963267948963E+00   -1.6653345369377343E-16\n",
    "  -1.5707963267948963E+00   -2.7755575615628914E-16\n",
    "\"\"\")\n",
    "decompose((685.0/538.0)*H_CNOT, lhs=None, show=True, unity=True)"
   ]
  },
  {
   "cell_type": "markdown",
   "metadata": {
    "heading_collapsed": false,
    "level": 4
   },
   "source": [
    "#### CPHASE"
   ]
  },
  {
   "cell_type": "code",
   "execution_count": 28,
   "metadata": {
    "collapsed": false,
    "level": 7
   },
   "outputs": [
    {
     "data": {
      "text/latex": [
       "$$ -1 \\unity+  \\Op{\\sigma}_z^{(2)}+  \\Op{\\sigma}_z^{(1)} -1 \\Op{\\sigma}_z^{(1)}\\Op{\\sigma}_z^{(2)}$$"
      ],
      "text/plain": [
       "<IPython.core.display.Math at 0x10bbfdc90>"
      ]
     },
     "metadata": {},
     "output_type": "display_data"
    }
   ],
   "source": [
    "H_CPHASE = np.matrix([[0, 0, 0, 0], [0, 0, 0, 0], [0, 0, 0, 0], [0,0,0,-1]])\n",
    "decompose(4*H_CPHASE, lhs=None, show=True, unity=True)"
   ]
  },
  {
   "cell_type": "markdown",
   "metadata": {
    "heading_collapsed": false,
    "level": 4
   },
   "source": [
    "#### DCNOT (iSWAP)"
   ]
  },
  {
   "cell_type": "code",
   "execution_count": 29,
   "metadata": {
    "collapsed": false,
    "level": 7
   },
   "outputs": [
    {
     "data": {
      "text/latex": [
       "$$ -1 \\Op{\\sigma}_x^{(1)}\\Op{\\sigma}_x^{(2)} -1 \\Op{\\sigma}_y^{(1)}\\Op{\\sigma}_y^{(2)}$$"
      ],
      "text/plain": [
       "<IPython.core.display.Math at 0x10bbfdd90>"
      ]
     },
     "metadata": {},
     "output_type": "display_data"
    }
   ],
   "source": [
    "H_DCNOT = read_mathematica_mtx(\"\"\"\n",
    "%%MatrixMarket matrix array complex general\n",
    "%Created by Wolfram Mathematica 9.0 : www.wolfram.com\n",
    "4 4\n",
    "   0.0000000000000000E+00    0.0000000000000000E+00\n",
    "   0.0000000000000000E+00    0.0000000000000000E+00\n",
    "   0.0000000000000000E+00    0.0000000000000000E+00\n",
    "   0.0000000000000000E+00    0.0000000000000000E+00\n",
    "   0.0000000000000000E+00    0.0000000000000000E+00\n",
    "   3.3306690738754696E-16   -3.3306690738754691E-16\n",
    "  -1.5707963267948963E+00    5.5511151231257852E-17\n",
    "   0.0000000000000000E+00    0.0000000000000000E+00\n",
    "   0.0000000000000000E+00    0.0000000000000000E+00\n",
    "  -1.5707963267948961E+00   -3.8857805861880479E-16\n",
    "   0.0000000000000000E+00    0.0000000000000000E+00\n",
    "   0.0000000000000000E+00    0.0000000000000000E+00\n",
    "   0.0000000000000000E+00    0.0000000000000000E+00\n",
    "   0.0000000000000000E+00    0.0000000000000000E+00\n",
    "   0.0000000000000000E+00    0.0000000000000000E+00\n",
    "   0.0000000000000000E+00    0.0000000000000000E+00\n",
    "\"\"\")\n",
    "decompose((685.0/538.0)*H_DCNOT, lhs=None, show=True, unity=True)"
   ]
  },
  {
   "cell_type": "markdown",
   "metadata": {
    "heading_collapsed": false,
    "level": 4
   },
   "source": [
    "#### SWAP"
   ]
  },
  {
   "cell_type": "code",
   "execution_count": 30,
   "metadata": {
    "collapsed": false,
    "level": 7
   },
   "outputs": [
    {
     "data": {
      "text/latex": [
       "$$ -1 \\unity+ 1 \\Op{\\sigma}_x^{(1)}\\Op{\\sigma}_x^{(2)}+ 1 \\Op{\\sigma}_y^{(1)}\\Op{\\sigma}_y^{(2)}+ 1 \\Op{\\sigma}_z^{(1)}\\Op{\\sigma}_z^{(2)}$$"
      ],
      "text/plain": [
       "<IPython.core.display.Math at 0x10bc0e750>"
      ]
     },
     "metadata": {},
     "output_type": "display_data"
    }
   ],
   "source": [
    "H_SWAP = read_mathematica_mtx(\"\"\"\n",
    "%%MatrixMarket matrix array complex symmetric\n",
    "%Created by Wolfram Mathematica 9.0 : www.wolfram.com\n",
    "4 4\n",
    "   0.0000000000000000E+00    0.0000000000000000E+00\n",
    "   0.0000000000000000E+00    0.0000000000000000E+00\n",
    "   0.0000000000000000E+00    0.0000000000000000E+00\n",
    "   0.0000000000000000E+00    0.0000000000000000E+00\n",
    "  -1.5707963267948963E+00   -2.7755575615628914E-16\n",
    "   1.5707963267948963E+00   -1.6653345369377341E-16\n",
    "   0.0000000000000000E+00    0.0000000000000000E+00\n",
    "  -1.5707963267948963E+00   -2.7755575615628899E-16\n",
    "   0.0000000000000000E+00    0.0000000000000000E+00\n",
    "   0.0000000000000000E+00    0.0000000000000000E+00\n",
    "\"\"\")\n",
    "decompose((685.0/538.0)*H_SWAP, lhs=None, show=True, unity=True)"
   ]
  },
  {
   "cell_type": "markdown",
   "metadata": {
    "heading_collapsed": false,
    "level": 4
   },
   "source": [
    "#### BGATE"
   ]
  },
  {
   "cell_type": "code",
   "execution_count": 31,
   "metadata": {
    "collapsed": false,
    "level": 7
   },
   "outputs": [
    {
     "data": {
      "text/latex": [
       "$$ -2 \\Op{\\sigma}_x^{(1)}\\Op{\\sigma}_x^{(2)}+ 0 \\Op{\\sigma}_y^{(1)}\\Op{\\sigma}_x^{(2)} -1 \\Op{\\sigma}_y^{(1)}\\Op{\\sigma}_y^{(2)}$$"
      ],
      "text/plain": [
       "<IPython.core.display.Math at 0x10bbe3b10>"
      ]
     },
     "metadata": {},
     "output_type": "display_data"
    }
   ],
   "source": [
    "H_BGATE = read_mathematica_mtx(\"\"\"\n",
    "%%MatrixMarket matrix array complex general\n",
    "%Created by Wolfram Mathematica 9.0 : www.wolfram.com\n",
    "4 4\n",
    "  -8.3266726846886741E-17   -2.9915653287919712E-13\n",
    "   0.0000000000000000E+00    0.0000000000000000E+00\n",
    "   0.0000000000000000E+00    0.0000000000000000E+00\n",
    "  -3.9269908169875112E-01    1.5959455974508420E-16\n",
    "   0.0000000000000000E+00    0.0000000000000000E+00\n",
    "   0.0000000000000000E+00   -2.9931612743896457E-13\n",
    "  -1.1780972450961458E+00   -2.2391027933793199E-26\n",
    "   0.0000000000000000E+00    0.0000000000000000E+00\n",
    "   0.0000000000000000E+00    0.0000000000000000E+00\n",
    "  -1.1780972450961453E+00   -2.2391027933793199E-26\n",
    "   1.1102230246251565E-16   -2.9931612743896462E-13\n",
    "   0.0000000000000000E+00    0.0000000000000000E+00\n",
    "  -3.9269908169875106E-01    6.2450045090408243E-17\n",
    "   0.0000000000000000E+00    0.0000000000000000E+00\n",
    "   0.0000000000000000E+00    0.0000000000000000E+00\n",
    "  -5.5511151231257827E-17   -2.9917041066700488E-13\n",
    "\"\"\")\n",
    "decompose((685.0/269.0)*H_BGATE, lhs=None, show=True, unity=True)"
   ]
  },
  {
   "cell_type": "markdown",
   "metadata": {
    "heading_collapsed": false,
    "level": 4
   },
   "source": [
    "#### SQRTSWAP"
   ]
  },
  {
   "cell_type": "code",
   "execution_count": 25,
   "metadata": {
    "collapsed": false,
    "level": 7
   },
   "outputs": [
    {
     "data": {
      "text/latex": [
       "$$ -1 \\unity+ 1 \\Op{\\sigma}_x^{(1)}\\Op{\\sigma}_x^{(2)}+ 1 \\Op{\\sigma}_y^{(1)}\\Op{\\sigma}_y^{(2)}+ 1 \\Op{\\sigma}_z^{(1)}\\Op{\\sigma}_z^{(2)}$$"
      ],
      "text/plain": [
       "<IPython.core.display.Math at 0x10bbffcd0>"
      ]
     },
     "metadata": {},
     "output_type": "display_data"
    }
   ],
   "source": [
    "H_SQRTSWAP = read_mathematica_mtx(\"\"\"\n",
    "%%MatrixMarket matrix array complex general\n",
    "%Created by Wolfram Mathematica 9.0 : www.wolfram.com\n",
    "4 4\n",
    "   0.0000000000000000E+00    0.0000000000000000E+00\n",
    "   0.0000000000000000E+00    0.0000000000000000E+00\n",
    "   0.0000000000000000E+00    0.0000000000000000E+00\n",
    "   0.0000000000000000E+00    0.0000000000000000E+00\n",
    "   0.0000000000000000E+00    0.0000000000000000E+00\n",
    "  -7.8539816339744783E-01   -5.5511151231257817E-16\n",
    "   7.8539816339744783E-01    4.1633363423443444E-17\n",
    "   0.0000000000000000E+00    0.0000000000000000E+00\n",
    "   0.0000000000000000E+00    0.0000000000000000E+00\n",
    "   7.8539816339744783E-01   -2.6367796834847463E-16\n",
    "  -7.8539816339744783E-01   -1.1102230246251560E-16\n",
    "   0.0000000000000000E+00    0.0000000000000000E+00\n",
    "   0.0000000000000000E+00    0.0000000000000000E+00\n",
    "   0.0000000000000000E+00    0.0000000000000000E+00\n",
    "   0.0000000000000000E+00    0.0000000000000000E+00\n",
    "   0.0000000000000000E+00    0.0000000000000000E+00\n",
    "\"\"\")\n",
    "decompose((685.0/269.0)*H_SQRTSWAP, lhs=None, show=True, unity=True)"
   ]
  },
  {
   "cell_type": "markdown",
   "metadata": {
    "heading_collapsed": false,
    "level": 4
   },
   "source": [
    "#### SQRTSWAP*"
   ]
  },
  {
   "cell_type": "code",
   "execution_count": 26,
   "metadata": {
    "collapsed": false,
    "level": 7
   },
   "outputs": [
    {
     "data": {
      "text/latex": [
       "$$ 1 \\unity -1 \\Op{\\sigma}_x^{(1)}\\Op{\\sigma}_x^{(2)} -1 \\Op{\\sigma}_y^{(1)}\\Op{\\sigma}_y^{(2)} -1 \\Op{\\sigma}_z^{(1)}\\Op{\\sigma}_z^{(2)}$$"
      ],
      "text/plain": [
       "<IPython.core.display.Math at 0x10bbefbd0>"
      ]
     },
     "metadata": {},
     "output_type": "display_data"
    }
   ],
   "source": [
    "H_SQRTSWAP2 = read_mathematica_mtx(\"\"\"\n",
    "%%MatrixMarket matrix array complex general\n",
    "%Created by Wolfram Mathematica 9.0 : www.wolfram.com\n",
    "4 4\n",
    "   0.0000000000000000E+00    0.0000000000000000E+00\n",
    "   0.0000000000000000E+00    0.0000000000000000E+00\n",
    "   0.0000000000000000E+00    0.0000000000000000E+00\n",
    "   0.0000000000000000E+00    0.0000000000000000E+00\n",
    "   0.0000000000000000E+00    0.0000000000000000E+00\n",
    "   7.8539816339744783E-01   -5.5511151231257817E-16\n",
    "  -7.8539816339744783E-01    4.1633363423443444E-17\n",
    "   0.0000000000000000E+00    0.0000000000000000E+00\n",
    "   0.0000000000000000E+00    0.0000000000000000E+00\n",
    "  -7.8539816339744783E-01   -2.6367796834847463E-16\n",
    "   7.8539816339744783E-01   -1.1102230246251560E-16\n",
    "   0.0000000000000000E+00    0.0000000000000000E+00\n",
    "   0.0000000000000000E+00    0.0000000000000000E+00\n",
    "   0.0000000000000000E+00    0.0000000000000000E+00\n",
    "   0.0000000000000000E+00    0.0000000000000000E+00\n",
    "   0.0000000000000000E+00    0.0000000000000000E+00\n",
    "\"\"\")\n",
    "decompose((685.0/269.0)*H_SQRTSWAP2, lhs=None, show=True, unity=True)"
   ]
  },
  {
   "cell_type": "markdown",
   "metadata": {
    "heading_collapsed": false,
    "level": 4
   },
   "source": [
    "#### SQRTiSWAP"
   ]
  },
  {
   "cell_type": "code",
   "execution_count": 32,
   "metadata": {
    "collapsed": false,
    "level": 7
   },
   "outputs": [
    {
     "data": {
      "text/latex": [
       "$$ -1 \\Op{\\sigma}_x^{(1)}\\Op{\\sigma}_x^{(2)} -1 \\Op{\\sigma}_y^{(1)}\\Op{\\sigma}_y^{(2)}$$"
      ],
      "text/plain": [
       "<IPython.core.display.Math at 0x10bbffe50>"
      ]
     },
     "metadata": {},
     "output_type": "display_data"
    }
   ],
   "source": [
    "H_SQRTiSWAP = read_mathematica_mtx(\"\"\"\n",
    "%%MatrixMarket matrix array complex general\n",
    "%Created by Wolfram Mathematica 9.0 : www.wolfram.com\n",
    "4 4\n",
    "   0.0000000000000000E+00    0.0000000000000000E+00\n",
    "   0.0000000000000000E+00    0.0000000000000000E+00\n",
    "   0.0000000000000000E+00    0.0000000000000000E+00\n",
    "   0.0000000000000000E+00    0.0000000000000000E+00\n",
    "   0.0000000000000000E+00    0.0000000000000000E+00\n",
    "   0.0000000000000000E+00    6.4004357369630036E-13\n",
    "  -7.8539816339744850E-01    2.7755575513291566E-17\n",
    "   0.0000000000000000E+00    0.0000000000000000E+00\n",
    "   0.0000000000000000E+00    0.0000000000000000E+00\n",
    "  -7.8539816339744839E-01    1.9428902920706505E-16\n",
    "  -1.1102230246251565E-16    6.4004357369630046E-13\n",
    "   0.0000000000000000E+00    0.0000000000000000E+00\n",
    "   0.0000000000000000E+00    0.0000000000000000E+00\n",
    "   0.0000000000000000E+00    0.0000000000000000E+00\n",
    "   0.0000000000000000E+00    0.0000000000000000E+00\n",
    "   0.0000000000000000E+00    0.0000000000000000E+00\n",
    "\"\"\")\n",
    "decompose((685.0/269.0)*H_SQRTiSWAP, lhs=None, show=True, unity=True)"
   ]
  },
  {
   "cell_type": "markdown",
   "metadata": {
    "heading_collapsed": false,
    "level": 4
   },
   "source": [
    "#### MGATE"
   ]
  },
  {
   "cell_type": "code",
   "execution_count": 103,
   "metadata": {
    "collapsed": false,
    "level": 7
   },
   "outputs": [
    {
     "data": {
      "text/latex": [
       "$$ 3 \\Op{\\sigma}_x^{(1)}\\Op{\\sigma}_x^{(2)}+ 0 \\Op{\\sigma}_y^{(1)}\\Op{\\sigma}_x^{(2)}+ 1 \\Op{\\sigma}_y^{(1)}\\Op{\\sigma}_y^{(2)}$$"
      ],
      "text/plain": [
       "<IPython.core.display.Math at 0x10e953490>"
      ]
     },
     "metadata": {},
     "output_type": "display_data"
    }
   ],
   "source": [
    "H_MGATE = read_mathematica_mtx(\"\"\"\n",
    "%%MatrixMarket matrix array complex general\n",
    "%Created by Wolfram Mathematica 9.0 : www.wolfram.com\n",
    "4 4\n",
    "  -1.1102230246251565E-16    6.4004357369630046E-13\n",
    "   0.0000000000000000E+00    0.0000000000000000E+00\n",
    "   0.0000000000000000E+00    0.0000000000000000E+00\n",
    "   7.8539816339744839E-01   -1.9428902920706505E-16\n",
    "   0.0000000000000000E+00    0.0000000000000000E+00\n",
    "   3.3306690738754696E-16   -3.3306690738754691E-16\n",
    "   1.5707963267948963E+00   -5.5511151231257852E-17\n",
    "   0.0000000000000000E+00    0.0000000000000000E+00\n",
    "   0.0000000000000000E+00    0.0000000000000000E+00\n",
    "   1.5707963267948961E+00    3.8857805861880479E-16\n",
    "   0.0000000000000000E+00    0.0000000000000000E+00\n",
    "   0.0000000000000000E+00    0.0000000000000000E+00\n",
    "   7.8539816339744850E-01   -2.7755575513291566E-17\n",
    "   0.0000000000000000E+00    0.0000000000000000E+00\n",
    "   0.0000000000000000E+00    0.0000000000000000E+00\n",
    "   0.0000000000000000E+00    6.4004357369630036E-13\n",
    "\"\"\")\n",
    "decompose((685.0/269.0)*H_MGATE, lhs=None, show=True, unity=True)"
   ]
  },
  {
   "cell_type": "markdown",
   "metadata": {
    "heading_collapsed": false,
    "level": 4
   },
   "source": [
    "#### RGATE"
   ]
  },
  {
   "cell_type": "code",
   "execution_count": 104,
   "metadata": {
    "collapsed": false,
    "level": 7
   },
   "outputs": [
    {
     "data": {
      "text/latex": [
       "$$ 2 \\Op{\\sigma}_x^{(1)}\\Op{\\sigma}_x^{(2)}+ 0 \\Op{\\sigma}_y^{(1)}\\Op{\\sigma}_x^{(2)}+ 1 \\Op{\\sigma}_y^{(1)}\\Op{\\sigma}_y^{(2)}+ 1 \\Op{\\sigma}_z^{(1)}\\Op{\\sigma}_z^{(2)}$$"
      ],
      "text/plain": [
       "<IPython.core.display.Math at 0x10e953b10>"
      ]
     },
     "metadata": {},
     "output_type": "display_data"
    }
   ],
   "source": [
    "H_RGATE = read_mathematica_mtx(\"\"\"\n",
    "%%MatrixMarket matrix array complex general\n",
    "%Created by Wolfram Mathematica 9.0 : www.wolfram.com\n",
    "4 4\n",
    "   3.9269908169872414E-01   -3.8733599661000540E-13\n",
    "   0.0000000000000000E+00    0.0000000000000000E+00\n",
    "   0.0000000000000000E+00    0.0000000000000000E+00\n",
    "   3.9269908169872403E-01   -3.8708619642946474E-13\n",
    "  -6.4575636497856742E-18   -3.6444979827435170E-17\n",
    "  -3.9269908169872403E-01   -3.8713476868679209E-13\n",
    "   1.1780972450961722E+00   -3.8727354656487023E-13\n",
    "   8.3092553553308263E-17   -3.1613759429798203E-17\n",
    "   1.9962442377007358E-17    4.1193509289984208E-18\n",
    "   1.1780972450961726E+00   -3.8719027983802334E-13\n",
    "  -3.9269908169872381E-01   -3.8699599080871394E-13\n",
    "   1.8787574132225411E-17   -8.3362540547744410E-17\n",
    "   3.9269908169872425E-01   -3.8697517412700222E-13\n",
    "   8.4402469687650765E-18   -4.8008156213507148E-17\n",
    "  -2.5320740906105866E-17    1.4402446864055480E-16\n",
    "   3.9269908169872414E-01   -3.8716252426240771E-13\n",
    "\"\"\")\n",
    "decompose((685.0/269.0)*H_RGATE, lhs=None, show=True, unity=True)"
   ]
  },
  {
   "cell_type": "markdown",
   "metadata": {
    "heading_collapsed": false,
    "level": 2
   },
   "source": [
    "## Finding the $\\sqrt{\\text{iSWAP}}$ gates"
   ]
  },
  {
   "cell_type": "code",
   "execution_count": 46,
   "metadata": {
    "collapsed": false
   },
   "outputs": [],
   "source": [
    "import QDYN"
   ]
  },
  {
   "cell_type": "code",
   "execution_count": 68,
   "metadata": {
    "collapsed": false
   },
   "outputs": [],
   "source": [
    "iSWAP = QDYN.local_invariants.iSWAP\n",
    "sqrt_iSWAP = QDYN.local_invariants.sqrt_iSWAP"
   ]
  },
  {
   "cell_type": "code",
   "execution_count": 67,
   "metadata": {
    "collapsed": false
   },
   "outputs": [],
   "source": [
    "S, V = np.linalg.eig(iSWAP)"
   ]
  },
  {
   "cell_type": "code",
   "execution_count": 69,
   "metadata": {
    "collapsed": false
   },
   "outputs": [],
   "source": [
    "SR = np.around(V.dot(np.diag(np.sqrt(S)).dot(V.conjugate().transpose())), 5)"
   ]
  },
  {
   "cell_type": "code",
   "execution_count": 71,
   "metadata": {
    "collapsed": false
   },
   "outputs": [
    {
     "name": "stdout",
     "output_type": "stream",
     "text": [
      "{ 1.00E+00,      0.0}(        0,        0)(        0,        0)(        0,        0)\n",
      "(        0,        0){ 7.07E-01,      0.0}(      0.0, 7.07E-01)(        0,        0)\n",
      "(        0,        0)(      0.0, 7.07E-01){ 7.07E-01,      0.0}(        0,        0)\n",
      "(        0,        0)(        0,        0)(        0,        0){ 1.00E+00,      0.0}\n"
     ]
    }
   ],
   "source": [
    "QDYN.io.print_matrix(SR)"
   ]
  },
  {
   "cell_type": "code",
   "execution_count": 72,
   "metadata": {
    "collapsed": false
   },
   "outputs": [
    {
     "name": "stdout",
     "output_type": "stream",
     "text": [
      "{ 1.00E+00,      0.0}(        0,        0)(        0,        0)(        0,        0)\n",
      "(        0,        0){ 7.07E-01,      0.0}(      0.0, 7.07E-01)(        0,        0)\n",
      "(        0,        0)(      0.0, 7.07E-01){ 7.07E-01,      0.0}(        0,        0)\n",
      "(        0,        0)(        0,        0)(        0,        0){ 1.00E+00,      0.0}\n"
     ]
    }
   ],
   "source": [
    "QDYN.io.print_matrix(sqrt_iSWAP)"
   ]
  },
  {
   "cell_type": "code",
   "execution_count": 100,
   "metadata": {
    "collapsed": false
   },
   "outputs": [],
   "source": [
    "def test_permutation(p):\n",
    "    SR = V.dot(np.diag(p*np.sqrt(S)).dot(V.conjugate().transpose()))\n",
    "    print \"P = \", p\n",
    "    print \"IS SQUARE ROOT: \", np.around(QDYN.linalg.norm(SR.dot(SR) - iSWAP), 12)\n",
    "    print \"c1, c2, c3 = \", np.around(np.array(QDYN.local_invariants.c1c2c3(SR)), 5)\n",
    "    print \"g1, g2, g3 = \", np.around(np.array(QDYN.local_invariants.g1g2g3(SR)), 5)\n",
    "    print \"\"\n",
    "    return SR"
   ]
  },
  {
   "cell_type": "code",
   "execution_count": 102,
   "metadata": {
    "collapsed": false
   },
   "outputs": [
    {
     "name": "stdout",
     "output_type": "stream",
     "text": [
      "P =  [1, 1, 1, 1]\n",
      "IS SQUARE ROOT:  0.0\n",
      "c1, c2, c3 =  [ 0.25  0.25  0.  ]\n",
      "g1, g2, g3 =  [ 0.25 -0.    1.  ]\n",
      "\n",
      "P =  [1, 1, 1, -1]\n",
      "IS SQUARE ROOT:  0.0\n",
      "c1, c2, c3 =  [ 0.5   0.25  0.25]\n",
      "g1, g2, g3 =  [-0.25 -0.   -1.  ]\n",
      "\n",
      "P =  [1, 1, -1, 1]\n",
      "IS SQUARE ROOT:  0.0\n",
      "c1, c2, c3 =  [ 0.5   0.25  0.25]\n",
      "g1, g2, g3 =  [-0.25 -0.   -1.  ]\n",
      "\n",
      "P =  [1, 1, -1, -1]\n",
      "IS SQUARE ROOT:  0.0\n",
      "c1, c2, c3 =  [ 0.25  0.25  0.  ]\n",
      "g1, g2, g3 =  [ 0.25 -0.    1.  ]\n",
      "\n",
      "P =  [1, -1, 1, 1]\n",
      "IS SQUARE ROOT:  0.0\n",
      "c1, c2, c3 =  [ 0.5   0.25  0.25]\n",
      "g1, g2, g3 =  [-0.25  0.   -1.  ]\n",
      "\n",
      "P =  [1, -1, 1, -1]\n",
      "IS SQUARE ROOT:  0.0\n",
      "c1, c2, c3 =  [ 0.25  0.25  0.  ]\n",
      "g1, g2, g3 =  [ 0.25  0.    1.  ]\n",
      "\n",
      "P =  [1, -1, -1, 1]\n",
      "IS SQUARE ROOT:  0.0\n",
      "c1, c2, c3 =  [ 0.25  0.25  0.  ]\n",
      "g1, g2, g3 =  [ 0.25  0.    1.  ]\n",
      "\n",
      "P =  [1, -1, -1, -1]\n",
      "IS SQUARE ROOT:  0.0\n",
      "c1, c2, c3 =  [ 0.5   0.25  0.25]\n",
      "g1, g2, g3 =  [-0.25  0.   -1.  ]\n",
      "\n",
      "P =  [-1, 1, 1, 1]\n",
      "IS SQUARE ROOT:  0.0\n",
      "c1, c2, c3 =  [ 0.5   0.25  0.25]\n",
      "g1, g2, g3 =  [-0.25  0.   -1.  ]\n",
      "\n",
      "P =  [-1, 1, 1, -1]\n",
      "IS SQUARE ROOT:  0.0\n",
      "c1, c2, c3 =  [ 0.25  0.25  0.  ]\n",
      "g1, g2, g3 =  [ 0.25  0.    1.  ]\n",
      "\n",
      "P =  [-1, 1, -1, 1]\n",
      "IS SQUARE ROOT:  0.0\n",
      "c1, c2, c3 =  [ 0.25  0.25  0.  ]\n",
      "g1, g2, g3 =  [ 0.25  0.    1.  ]\n",
      "\n",
      "P =  [-1, 1, -1, -1]\n",
      "IS SQUARE ROOT:  0.0\n",
      "c1, c2, c3 =  [ 0.5   0.25  0.25]\n",
      "g1, g2, g3 =  [-0.25  0.   -1.  ]\n",
      "\n",
      "P =  [-1, -1, 1, 1]\n",
      "IS SQUARE ROOT:  0.0\n",
      "c1, c2, c3 =  [ 0.25  0.25  0.  ]\n",
      "g1, g2, g3 =  [ 0.25 -0.    1.  ]\n",
      "\n",
      "P =  [-1, -1, 1, -1]\n",
      "IS SQUARE ROOT:  0.0\n",
      "c1, c2, c3 =  [ 0.5   0.25  0.25]\n",
      "g1, g2, g3 =  [-0.25 -0.   -1.  ]\n",
      "\n",
      "P =  [-1, -1, -1, 1]\n",
      "IS SQUARE ROOT:  0.0\n",
      "c1, c2, c3 =  [ 0.5   0.25  0.25]\n",
      "g1, g2, g3 =  [-0.25 -0.   -1.  ]\n",
      "\n",
      "P =  [-1, -1, -1, -1]\n",
      "IS SQUARE ROOT:  0.0\n",
      "c1, c2, c3 =  [ 0.25  0.25  0.  ]\n",
      "g1, g2, g3 =  [ 0.25 -0.    1.  ]\n",
      "\n"
     ]
    }
   ],
   "source": [
    "test_permutation([1, 1, 1, 1]);\n",
    "test_permutation([1, 1, 1, -1]);\n",
    "test_permutation([1, 1, -1, 1]);\n",
    "test_permutation([1, 1, -1, -1]);\n",
    "test_permutation([1, -1, 1, 1]);\n",
    "test_permutation([1, -1, 1, -1]);\n",
    "test_permutation([1, -1, -1, 1]);\n",
    "test_permutation([1, -1, -1, -1]);\n",
    "test_permutation([-1, 1, 1, 1]);\n",
    "test_permutation([-1, 1, 1, -1]);\n",
    "test_permutation([-1, 1, -1, 1]);\n",
    "test_permutation([-1, 1, -1, -1]);\n",
    "test_permutation([-1, -1, 1, 1]);\n",
    "test_permutation([-1, -1, 1, -1]);\n",
    "test_permutation([-1, -1, -1, 1]);\n",
    "test_permutation([-1, -1, -1, -1]);"
   ]
  },
  {
   "cell_type": "code",
   "execution_count": null,
   "metadata": {
    "collapsed": false
   },
   "outputs": [],
   "source": []
  }
 ],
 "metadata": {
  "kernelspec": {
   "display_name": "goerz-QNET",
   "language": "python",
   "name": "goerz_qnet"
  },
  "language_info": {
   "codemirror_mode": {
    "name": "ipython",
    "version": 3
   },
   "file_extension": ".py",
   "mimetype": "text/x-python",
   "name": "python",
   "nbconvert_exporter": "python",
   "pygments_lexer": "ipython3",
   "version": "3.4.4"
  },
  "toc": {
   "toc_cell": false,
   "toc_number_sections": true,
   "toc_section_display": "none",
   "toc_threshold": 6,
   "toc_window_display": true
  }
 },
 "nbformat": 4,
 "nbformat_minor": 0
}
