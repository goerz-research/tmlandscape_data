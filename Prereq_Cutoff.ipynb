{
 "cells": [
  {
   "cell_type": "markdown",
   "metadata": {},
   "source": [
    "#  Level-Cutoff through Strong Decay"
   ]
  },
  {
   "cell_type": "code",
   "execution_count": 69,
   "metadata": {
    "collapsed": true
   },
   "outputs": [],
   "source": [
    "%matplotlib inline"
   ]
  },
  {
   "cell_type": "code",
   "execution_count": 1,
   "metadata": {
    "collapsed": false
   },
   "outputs": [
    {
     "name": "stdout",
     "output_type": "stream",
     "text": [
      "3 engines available\n"
     ]
    }
   ],
   "source": [
    "from IPython.parallel import Client\n",
    "try:\n",
    "    cluster = Client()[:] # view on all cluster engines\n",
    "    print \"%d engines available\" % len(cluster)\n",
    "except IOError as e:\n",
    "    print e\n",
    "    print \"\\nDid you start any engines?\""
   ]
  },
  {
   "cell_type": "code",
   "execution_count": 44,
   "metadata": {
    "collapsed": true
   },
   "outputs": [],
   "source": [
    "from notebook_utils import cutoff_worker"
   ]
  },
  {
   "cell_type": "code",
   "execution_count": 81,
   "metadata": {
    "collapsed": true
   },
   "outputs": [],
   "source": [
    "import QDYN\n",
    "from pandas import DataFrame\n",
    "from copy import copy"
   ]
  },
  {
   "cell_type": "markdown",
   "metadata": {},
   "source": [
    "We take into account 4 qubit levels with realistic decay time [Peterer et al, Phys. Rev. Lett. 114, 010501 (2015)], and 5 cavity levels [A. W. Cross and J. M. Gambetta, Phys. Rev. A 91 032325 (2015)]. All remaining levels are set to a decay rate of 10 GHZ (corresponding to 0.1 ns) which effectively throws away any population in the higher levels."
   ]
  },
  {
   "cell_type": "markdown",
   "metadata": {},
   "source": [
    "## Does the decay ensure that levels can be cut off?"
   ]
  },
  {
   "cell_type": "markdown",
   "metadata": {},
   "source": [
    "Our hypothesis is that it is sufficient to include *one* extra level (5th qubit level, 6th cavity) level, to reach convergence w.r.t n_q, n_c, for any possible pulse.\n",
    "\n",
    "We test this by exploring the worst possible case: resonant driving of the qubits or the cavity.\n",
    "\n",
    "Note that an earlier attempt using a \"cutoff\" decay rate of 50 MHz instead of 10 GHz was not sufficient for convergence!"
   ]
  },
  {
   "cell_type": "code",
   "execution_count": 90,
   "metadata": {
    "collapsed": true
   },
   "outputs": [],
   "source": [
    "jobs = []\n",
    "for w_L in [6.0, 6.75, 10.1]:\n",
    "    for E_0 in [20.0, 50.0, 100.0, 200.0, 500.0]:\n",
    "        nt = int(w_L * 200 * 100)\n",
    "        jobs.append((w_L, E_0, nt, 5, 6))\n",
    "        jobs.append((w_L, E_0, nt, 6, 8))\n",
    "        jobs.append((w_L, E_0, nt, 7, 9))"
   ]
  },
  {
   "cell_type": "code",
   "execution_count": 91,
   "metadata": {
    "collapsed": false
   },
   "outputs": [
    {
     "data": {
      "text/plain": [
       "<AsyncMapResult: cutoff_worker>"
      ]
     },
     "execution_count": 91,
     "metadata": {},
     "output_type": "execute_result"
    }
   ],
   "source": [
    "cluster.map_async(cutoff_worker, jobs)"
   ]
  },
  {
   "cell_type": "code",
   "execution_count": 99,
   "metadata": {
    "collapsed": false
   },
   "outputs": [],
   "source": [
    "results = cluster.map(cutoff_worker, jobs).result"
   ]
  },
  {
   "cell_type": "code",
   "execution_count": 101,
   "metadata": {
    "collapsed": true
   },
   "outputs": [],
   "source": [
    "def tabulate_cutoff(jobs, results):\n",
    "    jobs_copy = copy(jobs)\n",
    "    results_copy = copy(results)\n",
    "    from QDYN.linalg import norm\n",
    "    table = {}\n",
    "    print \"%27s\\t%25s\\t%25s\" % ('pulse parameters', 'err(nq:5->6,nc:6->8)', 'err(nq:6->7,nc:8->9)')\n",
    "    while len(jobs_copy) > 0:\n",
    "        params1 = jobs_copy.pop(0)\n",
    "        params2 = jobs_copy.pop(0)\n",
    "        params3 = jobs_copy.pop(0)\n",
    "        U1 = results_copy.pop(0)\n",
    "        U2 = results_copy.pop(0)\n",
    "        U3 = results_copy.pop(0)\n",
    "        w_L, E_0, nt, __, __ = params1\n",
    "        label = \"wL = %4.1fGHz, E0 = %5.1fMHz\" % (w_L, E_0)\n",
    "        error2 = norm(U1-U2)\n",
    "        error3 = norm(U2-U3)\n",
    "        table[label] = (U1, U2, U3, error2, error3)\n",
    "        print \"%s\\t%25.16E\\t%25.16E\" % (label, error2, error3)\n",
    "    return table"
   ]
  },
  {
   "cell_type": "code",
   "execution_count": 102,
   "metadata": {
    "collapsed": false
   },
   "outputs": [
    {
     "name": "stdout",
     "output_type": "stream",
     "text": [
      "           pulse parameters\t     err(nq:5->6,nc:6->8)\t     err(nq:6->7,nc:8->9)\n",
      "wL =  6.0GHz, E0 =  20.0MHz\t   4.0062451167749215E-17\t   3.3090784177039762E-17\n",
      "wL =  6.0GHz, E0 =  50.0MHz\t   9.8994949075975646E-17\t   3.7416573537003100E-17\n",
      "wL =  6.0GHz, E0 = 100.0MHz\t   1.1224972214009976E-16\t   1.0816653803839229E-16\n",
      "wL =  6.0GHz, E0 = 200.0MHz\t   2.4899799217202957E-16\t   2.8319604992211923E-16\n",
      "wL =  6.0GHz, E0 = 500.0MHz\t   1.0100495005387845E-11\t   7.9586431131720069E-16\n",
      "wL =  6.8GHz, E0 =  20.0MHz\t   4.8774993576269751E-17\t   2.2847319313244030E-17\n",
      "wL =  6.8GHz, E0 =  50.0MHz\t   4.2426407060188678E-17\t   3.7416574200223053E-17\n",
      "wL =  6.8GHz, E0 = 100.0MHz\t   7.2801099756814860E-17\t   7.0000000518622357E-17\n",
      "wL =  6.8GHz, E0 = 200.0MHz\t   1.9235384233364862E-16\t   2.9137605034162621E-16\n",
      "wL =  6.8GHz, E0 = 500.0MHz\t   1.4317821422218171E-11\t   6.1644140210363847E-16\n",
      "wL = 10.1GHz, E0 =  20.0MHz\t   5.4691177814399148E-04\t   0.0000000000000000E+00\n",
      "wL = 10.1GHz, E0 =  50.0MHz\t   6.7209510032811826E-04\t   0.0000000000000000E+00\n",
      "wL = 10.1GHz, E0 = 100.0MHz\t   4.0284815422349864E-04\t   5.1971915519700630E-10\n",
      "wL = 10.1GHz, E0 = 200.0MHz\t   1.1610296744242238E-03\t   1.0134937968840690E-08\n",
      "wL = 10.1GHz, E0 = 500.0MHz\t   2.6186504438808036E-04\t   5.9616738254854571E-08\n"
     ]
    }
   ],
   "source": [
    "table = tabulate_cutoff(jobs, results)"
   ]
  },
  {
   "cell_type": "code",
   "execution_count": 103,
   "metadata": {
    "collapsed": false
   },
   "outputs": [],
   "source": [
    "U1, U2, U3, error2, error3 = table['wL = 10.1GHz, E0 = 500.0MHz']"
   ]
  },
  {
   "cell_type": "code",
   "execution_count": 104,
   "metadata": {
    "collapsed": false
   },
   "outputs": [
    {
     "name": "stdout",
     "output_type": "stream",
     "text": [
      "{ 3.07E-03, 2.99E-03}( 8.12E-06,-2.49E-05)( 6.64E-06,-2.03E-05)(-8.56E-07, 8.02E-07)\n",
      "( 8.12E-06,-2.49E-05){-1.09E-03,-1.87E-04}( 2.99E-07, 5.57E-06)( 7.87E-06, 4.74E-06)\n",
      "( 6.64E-06,-2.03E-05)( 2.99E-07, 5.57E-06){-1.41E-03, 2.74E-04}( 9.70E-06, 3.48E-06)\n",
      "(-8.56E-07, 8.02E-07)( 7.87E-06, 4.74E-06)( 9.70E-06, 3.48E-06){ 3.08E-04,-2.15E-04}\n"
     ]
    }
   ],
   "source": [
    "QDYN.io.print_matrix(U1)"
   ]
  },
  {
   "cell_type": "code",
   "execution_count": 105,
   "metadata": {
    "collapsed": false
   },
   "outputs": [
    {
     "name": "stdout",
     "output_type": "stream",
     "text": [
      "{ 3.27E-03, 3.09E-03}( 8.20E-06,-2.59E-05)( 6.71E-06,-2.12E-05)(-8.90E-07, 8.75E-07)\n",
      "( 8.20E-06,-2.59E-05){-1.16E-03,-1.44E-04}( 1.32E-07, 5.72E-06)( 8.41E-06, 4.66E-06)\n",
      "( 6.71E-06,-2.12E-05)( 1.32E-07, 5.72E-06){-1.47E-03, 3.49E-04}( 1.02E-05, 3.31E-06)\n",
      "(-8.90E-07, 8.75E-07)( 8.41E-06, 4.66E-06)( 1.02E-05, 3.31E-06){ 3.05E-04,-2.50E-04}\n"
     ]
    }
   ],
   "source": [
    "QDYN.io.print_matrix(U2)"
   ]
  },
  {
   "cell_type": "code",
   "execution_count": 106,
   "metadata": {
    "collapsed": true
   },
   "outputs": [],
   "source": [
    "from QDYN.linalg import norm"
   ]
  },
  {
   "cell_type": "code",
   "execution_count": 107,
   "metadata": {
    "collapsed": false
   },
   "outputs": [
    {
     "data": {
      "text/plain": [
       "4.5047930533830291e-11"
      ]
     },
     "execution_count": 107,
     "metadata": {},
     "output_type": "execute_result"
    }
   ],
   "source": [
    "U1.F_avg(U2)"
   ]
  },
  {
   "cell_type": "code",
   "execution_count": 108,
   "metadata": {
    "collapsed": false
   },
   "outputs": [
    {
     "data": {
      "text/plain": [
       "0.99963580261964413"
      ]
     },
     "execution_count": 108,
     "metadata": {},
     "output_type": "execute_result"
    }
   ],
   "source": [
    "U1.closest_unitary().F_avg(U2.closest_unitary())"
   ]
  },
  {
   "cell_type": "code",
   "execution_count": 109,
   "metadata": {
    "collapsed": false
   },
   "outputs": [
    {
     "data": {
      "text/plain": [
       "0.00026186504438808036"
      ]
     },
     "execution_count": 109,
     "metadata": {},
     "output_type": "execute_result"
    }
   ],
   "source": [
    "norm(U1-U2)"
   ]
  },
  {
   "cell_type": "markdown",
   "metadata": {},
   "source": [
    "## Is `nt` sufficiently large?"
   ]
  },
  {
   "cell_type": "markdown",
   "metadata": {},
   "source": [
    "Since we are not using the RWA, we must sample the time grid sufficiently densely to resolve the fast pulse oscillations."
   ]
  },
  {
   "cell_type": "code",
   "execution_count": 96,
   "metadata": {
    "collapsed": false
   },
   "outputs": [],
   "source": [
    "nt_jobs = []\n",
    "for w_L in [6.75, 10.1]:\n",
    "    for E_0 in [50.0, 100.0, 500.0]:\n",
    "        nt1 = int(w_L * 200 * 100)\n",
    "        nt2 = int(w_L * 200 * 500)\n",
    "        nt3 = int(w_L * 200 * 1000)\n",
    "        nt_jobs.append((w_L, E_0, nt1, 5, 6))\n",
    "        nt_jobs.append((w_L, E_0, nt2, 5, 6))\n",
    "        nt_jobs.append((w_L, E_0, nt3, 5, 6))"
   ]
  },
  {
   "cell_type": "code",
   "execution_count": 98,
   "metadata": {
    "collapsed": false
   },
   "outputs": [
    {
     "data": {
      "text/plain": [
       "<AsyncMapResult: cutoff_worker>"
      ]
     },
     "execution_count": 98,
     "metadata": {},
     "output_type": "execute_result"
    }
   ],
   "source": [
    "cluster.map_async(cutoff_worker, nt_jobs)"
   ]
  },
  {
   "cell_type": "code",
   "execution_count": 110,
   "metadata": {
    "collapsed": true
   },
   "outputs": [],
   "source": [
    "nt_results = cluster.map(cutoff_worker, nt_jobs).result"
   ]
  },
  {
   "cell_type": "code",
   "execution_count": 111,
   "metadata": {
    "collapsed": true
   },
   "outputs": [],
   "source": [
    "def tabulate_nt(nt_jobs, nt_results):\n",
    "    jobs_copy = copy(nt_jobs)\n",
    "    results_copy = copy(nt_results)\n",
    "    from QDYN.linalg import norm\n",
    "    table = {}\n",
    "    print \"%27s\\t%25s\\t%25s\" % ('pulse parameters', 'err(sampl:100->500)', 'err(sampl:500->1000)')\n",
    "    while len(jobs_copy) > 0:\n",
    "        params1 = jobs_copy.pop(0)\n",
    "        params2 = jobs_copy.pop(0)\n",
    "        params3 = jobs_copy.pop(0)\n",
    "        U1 = results_copy.pop(0)\n",
    "        U2 = results_copy.pop(0)\n",
    "        U3 = results_copy.pop(0)\n",
    "        w_L, E_0, nt, __, __ = params1\n",
    "        label = \"wL = %4.1fGHz, E0 = %5.1fMHz\" % (w_L, E_0)\n",
    "        error2 = norm(U1-U2)\n",
    "        error3 = norm(U2-U3)\n",
    "        table[label] = (U1, U2, U3, error2, error3)\n",
    "        print \"%s\\t%25.16E\\t%25.16E\" % (label, error2, error3)\n",
    "    return table"
   ]
  },
  {
   "cell_type": "code",
   "execution_count": 112,
   "metadata": {
    "collapsed": false
   },
   "outputs": [
    {
     "name": "stdout",
     "output_type": "stream",
     "text": [
      "           pulse parameters\t      err(sampl:100->500)\t     err(sampl:500->1000)\n",
      "wL =  6.8GHz, E0 =  50.0MHz\t   1.1615666551730736E-04\t   3.6302925271120581E-06\n",
      "wL =  6.8GHz, E0 = 100.0MHz\t   2.9799965616385195E-04\t   9.3127203708978428E-06\n",
      "wL =  6.8GHz, E0 = 500.0MHz\t   5.4321460830059733E-03\t   1.6976117453564501E-04\n",
      "wL = 10.1GHz, E0 =  50.0MHz\t   1.2348454657691468E-03\t   3.8648360731845470E-05\n",
      "wL = 10.1GHz, E0 = 100.0MHz\t   2.2539811350348726E-03\t   7.0595554757248491E-05\n",
      "wL = 10.1GHz, E0 = 500.0MHz\t   6.8729156185578426E-05\t   2.1571454157389204E-06\n"
     ]
    }
   ],
   "source": [
    "table_nt = tabulate_nt(nt_jobs, nt_results)"
   ]
  },
  {
   "cell_type": "code",
   "execution_count": 113,
   "metadata": {
    "collapsed": true
   },
   "outputs": [],
   "source": [
    "U1, U2, U3, error2, error3 = table_nt['wL =  6.8GHz, E0 = 500.0MHz']"
   ]
  },
  {
   "cell_type": "code",
   "execution_count": 123,
   "metadata": {
    "collapsed": false
   },
   "outputs": [
    {
     "data": {
      "text/plain": [
       "0.96521091950927518"
      ]
     },
     "execution_count": 123,
     "metadata": {},
     "output_type": "execute_result"
    }
   ],
   "source": [
    "U1.F_avg(U2)"
   ]
  },
  {
   "cell_type": "code",
   "execution_count": 116,
   "metadata": {
    "collapsed": false
   },
   "outputs": [
    {
     "data": {
      "text/plain": [
       "0.99999971378662256"
      ]
     },
     "execution_count": 116,
     "metadata": {},
     "output_type": "execute_result"
    }
   ],
   "source": [
    "U1.closest_unitary().F_avg(U2.closest_unitary())"
   ]
  },
  {
   "cell_type": "markdown",
   "metadata": {},
   "source": [
    "Propagation time for `nt=2020000` (sampling density 1000 for `wL = 10.1GH`) is on the order of 10 minutes"
   ]
  },
  {
   "cell_type": "code",
   "execution_count": 122,
   "metadata": {
    "collapsed": false
   },
   "outputs": [
    {
     "data": {
      "image/png": "[encoded data removed]",
      "text/plain": [
       "<matplotlib.figure.Figure at 0x7fd3e2642350>"
      ]
     },
     "metadata": {},
     "output_type": "display_data"
    }
   ],
   "source": [
    "import matplotlib.pylab as plt\n",
    "fig = plt.figure(figsize=(10,3))\n",
    "U1.arrow_plot(fig.add_subplot(131, aspect=1))\n",
    "U2.arrow_plot(fig.add_subplot(132, aspect=1))\n",
    "(U1-U2).arrow_plot(fig.add_subplot(133, aspect=1))"
   ]
  }
 ],
 "metadata": {
  "kernelspec": {
   "display_name": "Python 2",
   "language": "python",
   "name": "python2"
  },
  "language_info": {
   "codemirror_mode": {
    "name": "ipython",
    "version": 2
   },
   "file_extension": ".py",
   "mimetype": "text/x-python",
   "name": "python",
   "nbconvert_exporter": "python",
   "pygments_lexer": "ipython2",
   "version": "2.7.10"
  }
 },
 "nbformat": 4,
 "nbformat_minor": 0
}
