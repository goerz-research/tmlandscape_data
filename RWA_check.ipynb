{
 "cells": [
  {
   "cell_type": "markdown",
   "metadata": {},
   "source": [
    "# Are the pulses valid in the RWA? "
   ]
  },
  {
   "cell_type": "code",
   "execution_count": 1,
   "metadata": {
    "collapsed": true
   },
   "outputs": [],
   "source": [
    "import numpy as np\n",
    "import matplotlib.pylab as plt\n",
    "import pandas as pd"
   ]
  },
  {
   "cell_type": "code",
   "execution_count": 2,
   "metadata": {
    "collapsed": true
   },
   "outputs": [],
   "source": [
    "%matplotlib inline"
   ]
  },
  {
   "cell_type": "code",
   "execution_count": 3,
   "metadata": {
    "collapsed": true
   },
   "outputs": [],
   "source": [
    "%reload_ext autoreload\n",
    "%autoreload 2"
   ]
  },
  {
   "cell_type": "code",
   "execution_count": 4,
   "metadata": {
    "collapsed": false
   },
   "outputs": [],
   "source": [
    "from notebook_utils import get_stage2_table, get_RWA_table, compare_RWA_prop\n",
    "import QDYN"
   ]
  },
  {
   "cell_type": "markdown",
   "metadata": {},
   "source": [
    "## Reminder: RWA in a multilevel system"
   ]
  },
  {
   "cell_type": "code",
   "execution_count": 6,
   "metadata": {
    "collapsed": true
   },
   "outputs": [],
   "source": [
    "import sympy as sp\n",
    "from sympy import exp, pi, I\n",
    "from sympy import init_printing\n",
    "init_printing() "
   ]
  },
  {
   "cell_type": "code",
   "execution_count": 7,
   "metadata": {
    "collapsed": true
   },
   "outputs": [],
   "source": [
    "wc = sp.Symbol(r'\\omega_C', real=True)\n",
    "wd = sp.Symbol(r'\\omega_d', real=True)\n",
    "t = sp.Symbol('t', real=True)\n",
    "eps = sp.Symbol(r'\\epsilon', real=True)"
   ]
  },
  {
   "cell_type": "code",
   "execution_count": 8,
   "metadata": {
    "collapsed": false
   },
   "outputs": [
    {
     "data": {
      "image/png": "[encoded data removed]",
      "text/latex": [
       "$$\\left[\\begin{matrix}0 & 0 & 0\\\\0 & \\omega_{C} & 0\\\\0 & 0 & 2 \\omega_{C}\\end{matrix}\\right]$$"
      ],
      "text/plain": [
       "⎡0     0          0     ⎤\n",
       "⎢                       ⎥\n",
       "⎢0  \\omega_C      0     ⎥\n",
       "⎢                       ⎥\n",
       "⎣0     0      2⋅\\omega_C⎦"
      ]
     },
     "execution_count": 8,
     "metadata": {},
     "output_type": "execute_result"
    }
   ],
   "source": [
    "H0 = sp.eye(3); H0[0,0] = 0; H0[1,1] = wc; H0[2,2] = 2*wc; H0"
   ]
  },
  {
   "cell_type": "code",
   "execution_count": 9,
   "metadata": {
    "collapsed": false
   },
   "outputs": [
    {
     "data": {
      "image/png": "[encoded data removed]",
      "text/latex": [
       "$$\\left[\\begin{matrix}0 & \\epsilon & 0\\\\\\epsilon & 0 & \\epsilon\\\\0 & \\epsilon & 0\\end{matrix}\\right]$$"
      ],
      "text/plain": [
       "⎡   0      \\epsilon     0    ⎤\n",
       "⎢                            ⎥\n",
       "⎢\\epsilon     0      \\epsilon⎥\n",
       "⎢                            ⎥\n",
       "⎣   0      \\epsilon     0    ⎦"
      ]
     },
     "execution_count": 9,
     "metadata": {},
     "output_type": "execute_result"
    }
   ],
   "source": [
    "H1 = sp.zeros(3,3); H1[0,1] = eps; H1[1,2] = eps; H1 += H1.H; H1"
   ]
  },
  {
   "cell_type": "code",
   "execution_count": 10,
   "metadata": {
    "collapsed": false
   },
   "outputs": [
    {
     "data": {
      "image/png": "[encoded data removed]",
      "text/latex": [
       "$$\\left[\\begin{matrix}1 & 0 & 0\\\\0 & e^{i \\omega_{d} t} & 0\\\\0 & 0 & e^{2 i \\omega_{d} t}\\end{matrix}\\right]$$"
      ],
      "text/plain": [
       "⎡1        0               0       ⎤\n",
       "⎢                                 ⎥\n",
       "⎢    ⅈ⋅\\omega_d⋅t                 ⎥\n",
       "⎢0  ℯ                     0       ⎥\n",
       "⎢                                 ⎥\n",
       "⎢                   2⋅ⅈ⋅\\omega_d⋅t⎥\n",
       "⎣0        0        ℯ              ⎦"
      ]
     },
     "execution_count": 10,
     "metadata": {},
     "output_type": "execute_result"
    }
   ],
   "source": [
    "U = sp.eye(3); U[1,1] = exp(I*wd*t); U[2,2] = sp.exp(2*I*wd*t); U"
   ]
  },
  {
   "cell_type": "code",
   "execution_count": 11,
   "metadata": {
    "collapsed": true
   },
   "outputs": [],
   "source": [
    "def to_RWA(H, U):\n",
    "    return I * U.diff(t) * U.H + U * H * U.H"
   ]
  },
  {
   "cell_type": "code",
   "execution_count": 12,
   "metadata": {
    "collapsed": false
   },
   "outputs": [
    {
     "data": {
      "image/png": "[encoded data removed]",
      "text/latex": [
       "$$\\left[\\begin{matrix}0 & \\epsilon e^{- i \\omega_{d} t} & 0\\\\\\epsilon e^{i \\omega_{d} t} & \\omega_{C} - \\omega_{d} & \\epsilon e^{- i \\omega_{d} t}\\\\0 & \\epsilon e^{i \\omega_{d} t} & 2 \\omega_{C} - 2 \\omega_{d}\\end{matrix}\\right]$$"
      ],
      "text/plain": [
       "⎡                                  -ⅈ⋅\\omega_d⋅t                         ⎤\n",
       "⎢          0             \\epsilon⋅ℯ                          0           ⎥\n",
       "⎢                                                                        ⎥\n",
       "⎢          ⅈ⋅\\omega_d⋅t                                     -ⅈ⋅\\omega_d⋅t⎥\n",
       "⎢\\epsilon⋅ℯ                \\omega_C - \\omega_d    \\epsilon⋅ℯ             ⎥\n",
       "⎢                                                                        ⎥\n",
       "⎢                                  ⅈ⋅\\omega_d⋅t                          ⎥\n",
       "⎣          0             \\epsilon⋅ℯ               2⋅\\omega_C - 2⋅\\omega_d⎦"
      ]
     },
     "execution_count": 12,
     "metadata": {},
     "output_type": "execute_result"
    }
   ],
   "source": [
    "to_RWA(H0+H1, U)"
   ]
  },
  {
   "cell_type": "code",
   "execution_count": 13,
   "metadata": {
    "collapsed": false
   },
   "outputs": [
    {
     "data": {
      "image/png": "[encoded data removed]",
      "text/latex": [
       "$$\\left[\\begin{matrix}0 & \\epsilon e^{- i \\omega_{d} t} & 0\\\\\\epsilon e^{i \\omega_{d} t} & 0 & \\epsilon e^{- i \\omega_{d} t}\\\\0 & \\epsilon e^{i \\omega_{d} t} & 0\\end{matrix}\\right]$$"
      ],
      "text/plain": [
       "⎡                                  -ⅈ⋅\\omega_d⋅t                         ⎤\n",
       "⎢          0             \\epsilon⋅ℯ                          0           ⎥\n",
       "⎢                                                                        ⎥\n",
       "⎢          ⅈ⋅\\omega_d⋅t                                     -ⅈ⋅\\omega_d⋅t⎥\n",
       "⎢\\epsilon⋅ℯ                         0             \\epsilon⋅ℯ             ⎥\n",
       "⎢                                                                        ⎥\n",
       "⎢                                  ⅈ⋅\\omega_d⋅t                          ⎥\n",
       "⎣          0             \\epsilon⋅ℯ                          0           ⎦"
      ]
     },
     "execution_count": 13,
     "metadata": {},
     "output_type": "execute_result"
    }
   ],
   "source": [
    "U * H1 * U.H"
   ]
  },
  {
   "cell_type": "markdown",
   "metadata": {},
   "source": [
    "## Repropagating the stage2 results in the RWA"
   ]
  },
  {
   "cell_type": "markdown",
   "metadata": {
    "collapsed": true
   },
   "source": [
    "Make sure to have an iPython cluster running!"
   ]
  },
  {
   "cell_type": "code",
   "execution_count": null,
   "metadata": {
    "collapsed": false
   },
   "outputs": [],
   "source": [
    "from IPython.parallel import Client\n",
    "rc = Client()\n",
    "lview = rc.load_balanced_view()"
   ]
  },
  {
   "cell_type": "code",
   "execution_count": 6,
   "metadata": {
    "collapsed": false
   },
   "outputs": [],
   "source": [
    "stage2_table = get_stage2_table('./runs_200_LAB/')"
   ]
  },
  {
   "cell_type": "code",
   "execution_count": 7,
   "metadata": {
    "collapsed": true
   },
   "outputs": [],
   "source": [
    "def worker(rf):\n",
    "    from notebook_utils import prop_RWA\n",
    "    from os.path import join, isfile\n",
    "    config_file = join(rf, 'config')\n",
    "    pulse_json = join(rf, 'pulse_opt.json')\n",
    "    if isfile(config_file) and isfile(pulse_json):\n",
    "        prop_RWA(config_file, pulse_json, rf)"
   ]
  },
  {
   "cell_type": "code",
   "execution_count": 8,
   "metadata": {
    "collapsed": false
   },
   "outputs": [],
   "source": [
    "jobs = lview.map(worker, stage2_table.index)"
   ]
  },
  {
   "cell_type": "code",
   "execution_count": 38,
   "metadata": {
    "collapsed": false
   },
   "outputs": [
    {
     "name": "stdout",
     "output_type": "stream",
     "text": [
      "progress: 100.0% (1553/1553)\n"
     ]
    }
   ],
   "source": [
    "print \"progress: %.1f%% (%d/%d)\" % (100.0*float(jobs.progress)/len(jobs), jobs.progress, len(jobs))"
   ]
  },
  {
   "cell_type": "code",
   "execution_count": 39,
   "metadata": {
    "collapsed": false
   },
   "outputs": [],
   "source": [
    "jobs.wait()"
   ]
  },
  {
   "cell_type": "code",
   "execution_count": 5,
   "metadata": {
    "collapsed": false
   },
   "outputs": [
    {
     "name": "stdout",
     "output_type": "stream",
     "text": [
      "./runs_200_LAB/w2_7500MHz_wc_7600MHz/stage2/SQ_1freq_center/U_RWA.dat is invalid\n",
      "./runs_200_LAB/w2_7500MHz_wc_8600MHz/stage2/SQ_1freq_random/U_RWA.dat is invalid\n"
     ]
    }
   ],
   "source": [
    "RWA_table = get_RWA_table('./runs_200_LAB/')"
   ]
  },
  {
   "cell_type": "code",
   "execution_count": 13,
   "metadata": {
    "collapsed": false
   },
   "outputs": [],
   "source": [
    "combined_table = pd.concat([stage2_table, RWA_table], axis=1);\n",
    "combined_table['Delta loss'] = np.abs(combined_table['avg loss'] - combined_table['loss (RWA)'])\n",
    "combined_table['Delta C']   = np.abs(combined_table['C'] - combined_table['C (RWA)'])\n",
    "#combined_table = combined_table[combined_table['w2 [GHz]'] != combined_table['w1 [GHz]']]\n",
    "#combined_table = combined_table[(combined_table['category']=='1freq_random') | (combined_table['category']=='1freq_center')]\n",
    "#combined_table = combined_table[(combined_table['category']=='2freq_random') | (combined_table['category']=='2freq_resonant')]\n",
    "combined_table = combined_table[(combined_table['category'] !='5freq_random') ] # 5freq was buggy in this run\n",
    "combined_table = combined_table[(combined_table['avg loss'] < 0.1) ]\n",
    "combined_table.drop(['w1 [GHz]', 'w2 [GHz]', 'wc [GHz]', 'J_PE', 'J_SQ', 'target'], axis=1, inplace=True)\n",
    "combined_table.sort('Delta C', inplace=True, ascending=False)\n",
    "pd.options.display.max_colwidth = 100\n",
    "with open('combined_rwa_table.dat', 'w') as out_fh:\n",
    "     out_fh.write(combined_table.to_string())"
   ]
  },
  {
   "cell_type": "markdown",
   "metadata": {
    "collapsed": true
   },
   "source": [
    "See results in `combined_rwa_table.dat`. Propagations show pretty good agreement, except for some buggy runs, where the sampling rate was not good enough."
   ]
  },
  {
   "cell_type": "code",
   "execution_count": null,
   "metadata": {
    "collapsed": true
   },
   "outputs": [],
   "source": []
  }
 ],
 "metadata": {
  "kernelspec": {
   "display_name": "Python 2",
   "language": "python",
   "name": "python2"
  },
  "language_info": {
   "codemirror_mode": {
    "name": "ipython",
    "version": 2
   },
   "file_extension": ".py",
   "mimetype": "text/x-python",
   "name": "python",
   "nbconvert_exporter": "python",
   "pygments_lexer": "ipython2",
   "version": "2.7.10"
  }
 },
 "nbformat": 4,
 "nbformat_minor": 0
}
