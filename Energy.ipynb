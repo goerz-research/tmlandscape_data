{
 "cells": [
  {
   "cell_type": "markdown",
   "metadata": {},
   "source": [
    "# Analysis of Energy expectation values"
   ]
  },
  {
   "cell_type": "markdown",
   "metadata": {},
   "source": [
    "This notebook is in response to the following question.\n",
    "\n",
    "On 27 Jun 2016 04:54 -0700, Christiane Koch wrote:\n",
    "> Eine Frage zum QSL: Levitin und Toffoli haben gezeigt, dass für\n",
    "Zustände mit E=\\Delta E die QSL-Schranke erreicht wird (PRL 103,\n",
    "160502 (2009)). Kannst Du bitte E und \\Delta E für die Dynamik der\n",
    "logischen Zustände plotten? Wenn das für unsere Dynamik am QSL so\n",
    "eins zu eins zutrifft (und eben nicht zutrifft bei längeren\n",
    "Gatterdauern), wäre das noch ein schöner Beweis, dass wir das QSL\n",
    "tatsächlich identifiziert haben."
   ]
  },
  {
   "cell_type": "markdown",
   "metadata": {},
   "source": [
    "Note: This notebook relies on a more recent version of QDYN/qdynpylib than the rest of this project"
   ]
  },
  {
   "cell_type": "code",
   "execution_count": 1,
   "metadata": {
    "collapsed": true
   },
   "outputs": [],
   "source": [
    "from sh import qdyn_prop_traj"
   ]
  },
  {
   "cell_type": "code",
   "execution_count": 2,
   "metadata": {
    "collapsed": true
   },
   "outputs": [],
   "source": [
    "import matplotlib.pyplot as plt"
   ]
  },
  {
   "cell_type": "code",
   "execution_count": 3,
   "metadata": {
    "collapsed": true
   },
   "outputs": [],
   "source": [
    "%matplotlib inline"
   ]
  },
  {
   "cell_type": "code",
   "execution_count": 4,
   "metadata": {
    "collapsed": false
   },
   "outputs": [
    {
     "data": {
      "text/plain": [
       "QDYN 2.0dev revision 3cefb94e057b86ec51547043f6e69e4c5eb4d8ab (master)\n",
       "  features: no-check-cheby, no-check-newton, no-parallel-ham, no-parallel-oct, backtraces\n",
       "  compiled with gfortran on Mon Jul  4 16:02:04 2016 on host mlhpc2"
      ]
     },
     "execution_count": 4,
     "metadata": {},
     "output_type": "execute_result"
    }
   ],
   "source": [
    "qdyn_prop_traj('-v', _ok_code=[0,1])"
   ]
  },
  {
   "cell_type": "code",
   "execution_count": 5,
   "metadata": {
    "collapsed": true
   },
   "outputs": [],
   "source": [
    "rf_in = './propagate_universal/rho/H_L/'"
   ]
  },
  {
   "cell_type": "code",
   "execution_count": 32,
   "metadata": {
    "collapsed": true
   },
   "outputs": [],
   "source": [
    "rf_in = './liouville_prop/stage3/010/'"
   ]
  },
  {
   "cell_type": "markdown",
   "metadata": {},
   "source": [
    "## Construction of the model"
   ]
  },
  {
   "cell_type": "code",
   "execution_count": 33,
   "metadata": {
    "collapsed": true
   },
   "outputs": [],
   "source": [
    "import QDYN"
   ]
  },
  {
   "cell_type": "code",
   "execution_count": 34,
   "metadata": {
    "collapsed": true
   },
   "outputs": [],
   "source": [
    "import numpy as np"
   ]
  },
  {
   "cell_type": "code",
   "execution_count": 35,
   "metadata": {
    "collapsed": true
   },
   "outputs": [],
   "source": [
    "import re, os"
   ]
  },
  {
   "cell_type": "code",
   "execution_count": 36,
   "metadata": {
    "collapsed": true
   },
   "outputs": [],
   "source": [
    "import scipy.sparse"
   ]
  },
  {
   "cell_type": "code",
   "execution_count": 37,
   "metadata": {
    "collapsed": false
   },
   "outputs": [],
   "source": [
    "H0 = QDYN.io.read_indexed_matrix(rf_in+'/ham_drift.dat') # GHz"
   ]
  },
  {
   "cell_type": "code",
   "execution_count": 38,
   "metadata": {
    "collapsed": false
   },
   "outputs": [],
   "source": [
    "H0.data = np.real(H0.data) # get rid of the decay term"
   ]
  },
  {
   "cell_type": "code",
   "execution_count": 39,
   "metadata": {
    "collapsed": false
   },
   "outputs": [],
   "source": [
    "H1 = QDYN.io.read_indexed_matrix(rf_in+'/ham_ctrl.dat') # iu"
   ]
  },
  {
   "cell_type": "code",
   "execution_count": 40,
   "metadata": {
    "collapsed": false
   },
   "outputs": [],
   "source": [
    "pulse = QDYN.pulse.Pulse.read(rf_in+'/pulse.dat')"
   ]
  },
  {
   "cell_type": "code",
   "execution_count": 41,
   "metadata": {
    "collapsed": false
   },
   "outputs": [],
   "source": [
    "psi = {}\n",
    "psi['00'], psi['01'], psi['10'], psi['11'] = np.genfromtxt(rf_in+'/logical_states.dat', unpack=True, usecols=[0,1,2,3])"
   ]
  },
  {
   "cell_type": "code",
   "execution_count": 42,
   "metadata": {
    "collapsed": false
   },
   "outputs": [],
   "source": [
    "def get_w_d(config):\n",
    "    with open(config) as in_fh:\n",
    "        for line in in_fh:\n",
    "            if 'w_d' in line:\n",
    "                return QDYN.units.UnitFloat.from_str(\n",
    "                        re.findall('([\\d.Ee+-]+_\\w+)', line)[0]) \\\n",
    "                       .convert('GHz')\n"
   ]
  },
  {
   "cell_type": "code",
   "execution_count": 43,
   "metadata": {
    "collapsed": true
   },
   "outputs": [],
   "source": [
    "def get_rwa_vector(config):\n",
    "    from QDYN.config_conversion import read_old_config\n",
    "    n_qubit = read_old_config(config)['user_ints'][0]['n_qubit']\n",
    "    n_cavity = read_old_config(config)['user_ints'][0]['n_cavity']\n",
    "    w_d  = get_w_d(config)\n",
    "    n = n_qubit * n_qubit * n_cavity\n",
    "    rwa_vector = np.zeros(n)\n",
    "    for i in range(n_qubit):\n",
    "        for j in range(n_qubit):\n",
    "            for k in range(n_cavity):\n",
    "                level_index = i * n_qubit * n_cavity  + j * n_cavity + k\n",
    "                rwa_vector[level_index] = float(i+j+k) * float(w_d)\n",
    "    return rwa_vector, w_d.unit"
   ]
  },
  {
   "cell_type": "code",
   "execution_count": 44,
   "metadata": {
    "collapsed": true
   },
   "outputs": [],
   "source": [
    "rwa_vector, rwa_unit = get_rwa_vector(rf_in+'/config')"
   ]
  },
  {
   "cell_type": "code",
   "execution_count": 45,
   "metadata": {
    "collapsed": false
   },
   "outputs": [],
   "source": [
    "H0_LAB = H0 + scipy.sparse.diags(rwa_vector, 0) # GHZ"
   ]
  },
  {
   "cell_type": "code",
   "execution_count": 46,
   "metadata": {
    "collapsed": false
   },
   "outputs": [],
   "source": [
    "for state in ['00', '01', '10', '11']:\n",
    "    rf = './energy_run/%s' % state\n",
    "    model = QDYN.model.LevelModel()\n",
    "    model.add_ham(H0, op_unit='GHz', sparsity_model='indexed')\n",
    "    model.add_ham(H1, pulse=pulse, op_unit='iu', sparsity_model='indexed')\n",
    "    model.set_propagation(psi[state], T=pulse.T, nt=len(pulse.amplitude)+1,\n",
    "                          time_unit=pulse.T.unit, prop_method='newton')\n",
    "    model.add_observable(H0_LAB, 'energy.dat', 'GHz', 'ns', '<H0_LAB>', square='<H0_LAB^2>', is_real=True)\n",
    "    model.write_to_runfolder(rf)\n",
    "    np.savetxt(os.path.join(rf, 'rwa_vector.dat'), rwa_vector, header=('rwa_vector [%s]' % rwa_unit))"
   ]
  },
  {
   "cell_type": "markdown",
   "metadata": {},
   "source": [
    "## Propagation"
   ]
  },
  {
   "cell_type": "code",
   "execution_count": 47,
   "metadata": {
    "collapsed": true
   },
   "outputs": [],
   "source": [
    "from sh import qdyn_prop_traj"
   ]
  },
  {
   "cell_type": "code",
   "execution_count": 48,
   "metadata": {
    "collapsed": true
   },
   "outputs": [],
   "source": [
    "qdyn_prop_traj = qdyn_prop_traj.bake(debug=True)"
   ]
  },
  {
   "cell_type": "code",
   "execution_count": 49,
   "metadata": {
    "collapsed": false
   },
   "outputs": [],
   "source": [
    "for state in ['00', '01', '10', '11']:\n",
    "    rf = './energy_run/%s' % state\n",
    "    qdyn_prop_traj(rf)"
   ]
  },
  {
   "cell_type": "code",
   "execution_count": 50,
   "metadata": {
    "collapsed": true
   },
   "outputs": [],
   "source": [
    "def get_energy_exp(rf):\n",
    "    exp_vals = {}\n",
    "    exp_vals['time [ns]'], \\\n",
    "    exp_vals['<H0_LAB> [GHz]'], exp_vals['<H0_LAB^2> [GHz^2]'], \\\n",
    "    = np.genfromtxt(rf+'/energy.dat', unpack=True)\n",
    "    tgrid = exp_vals['time [ns]']\n",
    "    E = exp_vals['<H0_LAB> [GHz]']\n",
    "    varE = np.sqrt(exp_vals['<H0_LAB^2> [GHz^2]'] - E**2)\n",
    "    return tgrid, E, varE"
   ]
  },
  {
   "cell_type": "code",
   "execution_count": 51,
   "metadata": {
    "collapsed": false
   },
   "outputs": [
    {
     "data": {
      "image/png": "[encoded data removed]",
      "text/plain": [
       "<matplotlib.figure.Figure at 0x7f7c697cfbe0>"
      ]
     },
     "metadata": {},
     "output_type": "display_data"
    }
   ],
   "source": [
    "fig = plt.figure(figsize=(12,8))\n",
    "for i_ax, state in enumerate(['00', '01', '10', '11']):\n",
    "    rf = './energy_run/%s' % state\n",
    "    ax = fig.add_subplot(2,2,i_ax+1)\n",
    "    tgrid, E, varE = get_energy_exp(rf)\n",
    "    ax.plot(tgrid, E, label='<H>')\n",
    "    ax.plot(tgrid, varE, label='var(H)')\n",
    "    ax.legend(loc='upper right', title=state)\n",
    "    ax.set_xlabel(\"time (ns)\")\n",
    "    ax.set_ylabel(\"energy (GHz)\")"
   ]
  },
  {
   "cell_type": "code",
   "execution_count": null,
   "metadata": {
    "collapsed": true
   },
   "outputs": [],
   "source": []
  }
 ],
 "metadata": {
  "kernelspec": {
   "display_name": "goerz-QNET",
   "language": "python",
   "name": "goerz_qnet"
  },
  "language_info": {
   "codemirror_mode": {
    "name": "ipython",
    "version": 3
   },
   "file_extension": ".py",
   "mimetype": "text/x-python",
   "name": "python",
   "nbconvert_exporter": "python",
   "pygments_lexer": "ipython3",
   "version": "3.4.4"
  },
  "toc": {
   "toc_cell": false,
   "toc_number_sections": true,
   "toc_threshold": 6,
   "toc_window_display": true
  }
 },
 "nbformat": 4,
 "nbformat_minor": 0
}
